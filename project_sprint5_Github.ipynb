{
  "cells": [
    {
      "cell_type": "markdown",
      "metadata": {
        "id": "view-in-github",
        "colab_type": "text"
      },
      "source": [
        "<a href=\"https://colab.research.google.com/github/jhonmaldonado5454/Proyecto5_Tienda_Videojuegos/blob/main/project_sprint5_Github.ipynb\" target=\"_parent\"><img src=\"https://colab.research.google.com/assets/colab-badge.svg\" alt=\"Open In Colab\"/></a>"
      ]
    },
    {
      "cell_type": "markdown",
      "metadata": {
        "id": "gcozsamHyszu"
      },
      "source": [
        "# Análisis de patrones que determinan el éxito en la venta de videojuegos para la tienda online ICE"
      ]
    },
    {
      "cell_type": "markdown",
      "metadata": {
        "id": "_INP2XMHyszz",
        "toc": true
      },
      "source": [
        "<h1>Tabla de Contenidos<span class=\"tocSkip\"></span></h1>\n",
        "<div class=\"toc\"><ul class=\"toc-item\"><li><span><a href=\"#Introducción\" data-toc-modified-id=\"Introducción-1\"><span class=\"toc-item-num\">1&nbsp;&nbsp;</span>Introducción</a></span><ul class=\"toc-item\"><li><span><a href=\"#Objetivos\" data-toc-modified-id=\"Objetivos-1.1\"><span class=\"toc-item-num\">1.1&nbsp;&nbsp;</span>Objetivos</a></span></li><li><span><a href=\"#Hipótesis\" data-toc-modified-id=\"Hipótesis-1.2\"><span class=\"toc-item-num\">1.2&nbsp;&nbsp;</span>Hipótesis</a></span></li></ul></li><li><span><a href=\"#Inicialización\" data-toc-modified-id=\"Inicialización-2\"><span class=\"toc-item-num\">2&nbsp;&nbsp;</span>Inicialización</a></span><ul class=\"toc-item\"><li><span><a href=\"#Cargar-datos\" data-toc-modified-id=\"Cargar-datos-2.1\"><span class=\"toc-item-num\">2.1&nbsp;&nbsp;</span>Cargar datos</a></span></li><li><span><a href=\"#Explorar-datos-iniciales\" data-toc-modified-id=\"Explorar-datos-iniciales-2.2\"><span class=\"toc-item-num\">2.2&nbsp;&nbsp;</span>Explorar datos iniciales</a></span></li><li><span><a href=\"#Análisis-de-Valores-Ausentes\" data-toc-modified-id=\"Análisis-de-Valores-Ausentes-2.3\"><span class=\"toc-item-num\">2.3&nbsp;&nbsp;</span>Análisis de Valores Ausentes</a></span></li><li><span><a href=\"#Conclusiones\" data-toc-modified-id=\"Conclusiones-2.4\"><span class=\"toc-item-num\">2.4&nbsp;&nbsp;</span>Conclusiones</a></span></li></ul></li><li><span><a href=\"#Preprocesamiento-de-datos\" data-toc-modified-id=\"Preprocesamiento-de-datos-3\"><span class=\"toc-item-num\">3&nbsp;&nbsp;</span>Preprocesamiento de datos</a></span><ul class=\"toc-item\"><li><span><a href=\"#Corregir-nombres-de-columnas\" data-toc-modified-id=\"Corregir-nombres-de-columnas-3.1\"><span class=\"toc-item-num\">3.1&nbsp;&nbsp;</span>Corregir nombres de columnas</a></span></li><li><span><a href=\"#Corregir-datos-de-las-columna-name\" data-toc-modified-id=\"Corregir-datos-de-las-columna-name-3.2\"><span class=\"toc-item-num\">3.2&nbsp;&nbsp;</span>Corregir datos de las columna <code>name</code></a></span></li><li><span><a href=\"#Corregir-datos-de-la-columna-platform\" data-toc-modified-id=\"Corregir-datos-de-la-columna-platform-3.3\"><span class=\"toc-item-num\">3.3&nbsp;&nbsp;</span>Corregir datos de la columna <code>platform</code></a></span></li><li><span><a href=\"#Corregir-datos-de-la-columna-year_of_release.\" data-toc-modified-id=\"Corregir-datos-de-la-columna-year_of_release.-3.4\"><span class=\"toc-item-num\">3.4&nbsp;&nbsp;</span>Corregir datos de la columna <code>year_of_release</code>.</a></span></li><li><span><a href=\"#Corregir-datos-de-la-columna-genre\" data-toc-modified-id=\"Corregir-datos-de-la-columna-genre-3.5\"><span class=\"toc-item-num\">3.5&nbsp;&nbsp;</span>Corregir datos de la columna <code>genre</code></a></span></li><li><span><a href=\"#Corregir-datos-de-la-columna-critic_score\" data-toc-modified-id=\"Corregir-datos-de-la-columna-critic_score-3.6\"><span class=\"toc-item-num\">3.6&nbsp;&nbsp;</span>Corregir datos de la columna <code>critic_score</code></a></span></li><li><span><a href=\"#Corregir-datos-de-la-columna-user_score\" data-toc-modified-id=\"Corregir-datos-de-la-columna-user_score-3.7\"><span class=\"toc-item-num\">3.7&nbsp;&nbsp;</span>Corregir datos de la columna <code>user_score</code></a></span></li><li><span><a href=\"#Corregir-datos-de-la-columna-rating\" data-toc-modified-id=\"Corregir-datos-de-la-columna-rating-3.8\"><span class=\"toc-item-num\">3.8&nbsp;&nbsp;</span>Corregir datos de la columna <code>rating</code></a></span></li><li><span><a href=\"#Cálculo-de-ventas-totales\" data-toc-modified-id=\"Cálculo-de-ventas-totales-3.9\"><span class=\"toc-item-num\">3.9&nbsp;&nbsp;</span>Cálculo de ventas totales</a></span></li><li><span><a href=\"#Conclusiones\" data-toc-modified-id=\"Conclusiones-3.10\"><span class=\"toc-item-num\">3.10&nbsp;&nbsp;</span>Conclusiones</a></span></li></ul></li><li><span><a href=\"#Comprobar-datos-limpios\" data-toc-modified-id=\"Comprobar-datos-limpios-4\"><span class=\"toc-item-num\">4&nbsp;&nbsp;</span>Comprobar datos limpios</a></span></li><li><span><a href=\"#Análisis-de-datos\" data-toc-modified-id=\"Análisis-de-datos-5\"><span class=\"toc-item-num\">5&nbsp;&nbsp;</span>Análisis de datos</a></span><ul class=\"toc-item\"><li><span><a href=\"#Número-de-videojuegos-por-año\" data-toc-modified-id=\"Número-de-videojuegos-por-año-5.1\"><span class=\"toc-item-num\">5.1&nbsp;&nbsp;</span>Número de videojuegos por año</a></span></li><li><span><a href=\"#Ventas-anuales-de-videojuegos-por-plataforma\" data-toc-modified-id=\"Ventas-anuales-de-videojuegos-por-plataforma-5.2\"><span class=\"toc-item-num\">5.2&nbsp;&nbsp;</span>Ventas anuales de videojuegos por plataforma</a></span></li><li><span><a href=\"#Elección-del-período-de-ventas\" data-toc-modified-id=\"Elección-del-período-de-ventas-5.3\"><span class=\"toc-item-num\">5.3&nbsp;&nbsp;</span>Elección del período de ventas</a></span></li><li><span><a href=\"#Plataformas-potencialmente-rentables\" data-toc-modified-id=\"Plataformas-potencialmente-rentables-5.4\"><span class=\"toc-item-num\">5.4&nbsp;&nbsp;</span>Plataformas potencialmente rentables</a></span></li><li><span><a href=\"#Ventas-promedio-por-plataforma\" data-toc-modified-id=\"Ventas-promedio-por-plataforma-5.5\"><span class=\"toc-item-num\">5.5&nbsp;&nbsp;</span>Ventas promedio por plataforma</a></span></li><li><span><a href=\"#Correlación-entre-ventas-totales-y-reseñas\" data-toc-modified-id=\"Correlación-entre-ventas-totales-y-reseñas-5.6\"><span class=\"toc-item-num\">5.6&nbsp;&nbsp;</span>Correlación entre ventas totales y reseñas</a></span></li><li><span><a href=\"#Ventas-de-los-mismos-videojuegos-por-plataformas\" data-toc-modified-id=\"Ventas-de-los-mismos-videojuegos-por-plataformas-5.7\"><span class=\"toc-item-num\">5.7&nbsp;&nbsp;</span>Ventas de los mismos videojuegos por plataformas</a></span></li><li><span><a href=\"#Ventas-videojuegos-por-género\" data-toc-modified-id=\"Ventas-videojuegos-por-género-5.8\"><span class=\"toc-item-num\">5.8&nbsp;&nbsp;</span>Ventas videojuegos por género</a></span></li></ul></li><li><span><a href=\"#Perfil-de-usuario-por-región\" data-toc-modified-id=\"Perfil-de-usuario-por-región-6\"><span class=\"toc-item-num\">6&nbsp;&nbsp;</span>Perfil de usuario por región</a></span><ul class=\"toc-item\"><li><span><a href=\"#Norteamérica\" data-toc-modified-id=\"Norteamérica-6.1\"><span class=\"toc-item-num\">6.1&nbsp;&nbsp;</span>Norteamérica</a></span></li><li><span><a href=\"#Europa\" data-toc-modified-id=\"Europa-6.2\"><span class=\"toc-item-num\">6.2&nbsp;&nbsp;</span>Europa</a></span></li><li><span><a href=\"#Japón\" data-toc-modified-id=\"Japón-6.3\"><span class=\"toc-item-num\">6.3&nbsp;&nbsp;</span>Japón</a></span></li></ul></li><li><span><a href=\"#Prueba-de-hipótesis\" data-toc-modified-id=\"Prueba-de-hipótesis-7\"><span class=\"toc-item-num\">7&nbsp;&nbsp;</span>Prueba de hipótesis</a></span><ul class=\"toc-item\"><li><span><a href=\"#Hipótesis-1:-Las-calificaciones-promedio-de-los-usuarios-para-las-plataformas-Xbox-One-y-PC-son-las-mismas.\" data-toc-modified-id=\"Hipótesis-1:-Las-calificaciones-promedio-de-los-usuarios-para-las-plataformas-Xbox-One-y-PC-son-las-mismas.-7.1\"><span class=\"toc-item-num\">7.1&nbsp;&nbsp;</span>Hipótesis 1: Las calificaciones promedio de los usuarios para las plataformas Xbox One y PC son las mismas.</a></span></li><li><span><a href=\"#Hipótesis-2:-Las-calificaciones-promedio-de-los-usuarios-para-los-géneros-de-Acción-y-Deportes-son-diferentes.\" data-toc-modified-id=\"Hipótesis-2:-Las-calificaciones-promedio-de-los-usuarios-para-los-géneros-de-Acción-y-Deportes-son-diferentes.-7.2\"><span class=\"toc-item-num\">7.2&nbsp;&nbsp;</span>Hipótesis 2: Las calificaciones promedio de los usuarios para los géneros de Acción y Deportes son diferentes.</a></span></li></ul></li><li><span><a href=\"#Conclusiones-Generales\" data-toc-modified-id=\"Conclusiones-Generales-8\"><span class=\"toc-item-num\">8&nbsp;&nbsp;</span>Conclusiones Generales</a></span></li></ul></div>"
      ]
    },
    {
      "cell_type": "markdown",
      "metadata": {
        "id": "DVKxeIeZysz1"
      },
      "source": [
        "## Introducción\n",
        "\n",
        "Ice es una tienda en línea de videojuegos que ofrece servicios a nivel mundial. Su plataforma proporciona información completa sobre videojuegos, incluyendo reseñas de usuarios y expertos, géneros, plataformas (como Xbox o PlayStation) y datos históricos de ventas obtenidos de fuentes abiertas. Con el objetivo de identificar patrones determinantes del éxito de un videojuego, surge el interés por analizar esta información. El propósito es planificar campañas publicitarias efectivas y detectar proyectos prometedores que impulsen las ventas en el año 2017.\n",
        "\n",
        "Para lograrlo, se analizará una base de datos que abarca desde 2016 y se utilizará para pronosticar las ventas del próximo año. El enfoque estará en aquellos videojuegos que presenten características que generen mayores ingresos o ventas en la tienda en línea.\n",
        "\n",
        "### Objetivos\n",
        "\n",
        "1. Establecer aquellas plataformas potencialmente rentables con mayores ventas totales.\n",
        "2. Determinar cómo las reseñas de usuarios y profesionales afectan las ventas de las plataformas más populares.\n",
        "3. Definir qué generos de videojuegos son más rentables y generan mayores ventas a nuestra tienda online.\n",
        "4. Indicar las cinco plataformas principales, los cinco géneros principales y si las clasificaciones ESRB afectan las ventas en las regiones de Norteamérica, Europa y Japón, generando un perfil de usuario por cada región.\n",
        "\n",
        "### Hipótesis\n",
        "1. Establecer si las calificaciones promedio de los usuarios para las plataformas Xbox One y PC son las mismas.\n",
        "2. Establecer si las calificaciones promedio de los usuarios para los géneros de Acción y Deportes son diferentes."
      ]
    },
    {
      "cell_type": "markdown",
      "metadata": {
        "id": "YSd2wlzrysz1"
      },
      "source": [
        "## Inicialización\n",
        "\n",
        ""
      ]
    },
    {
      "cell_type": "code",
      "execution_count": null,
      "metadata": {
        "id": "zOM1lbucysz2"
      },
      "outputs": [],
      "source": [
        "import pandas as pd\n",
        "import numpy as np\n",
        "import matplotlib.pyplot as plt\n",
        "import seaborn as sns\n",
        "from scipy import stats as st\n",
        "from statistics import mode\n",
        "from scipy.stats import shapiro, normaltest\n",
        "from scipy.stats import levene\n",
        "from scipy.stats import ks_2samp\n",
        "\n",
        "#Cargando drive, ya que el proyecto fue realizado en Google Colab y el archivo se encuentra en Google Drive\n",
        "#from google.colab import drive\n",
        "#drive.mount('/content/gdrive')"
      ]
    },
    {
      "cell_type": "markdown",
      "metadata": {
        "id": "tRkNgWvRysz4"
      },
      "source": [
        "### Cargar datos\n",
        "\n"
      ]
    },
    {
      "cell_type": "code",
      "execution_count": null,
      "metadata": {
        "id": "QGE6wRj2ysz4"
      },
      "outputs": [],
      "source": [
        "# Carga el archivo de datos en un DataFrame\n",
        "try:\n",
        "  #leyendo mi archivo que se encuentra en Google Drive\n",
        "  game_data = pd.read_csv('gdrive/My Drive/Education/Practicum/Sprint 5/Project 5/games.csv')\n",
        "\n",
        "except:\n",
        "  #leyendo el archivo para el revisor de código de Practicum\n",
        "  game_data = pd.read_csv('/datasets/games.csv')\n"
      ]
    },
    {
      "cell_type": "markdown",
      "metadata": {
        "id": "xSO9GrHUysz4"
      },
      "source": [
        "### Explorar datos iniciales\n",
        "\n",
        "Después de importar las librerías necesarias y almacenar nuestro conjunto de datos en una variable, realizaremos una exploración inicial para identificar posibles problemas que deben corregirse durante el preprocesamiento de datos.\n",
        "\n",
        "Empezamos llamando a los métodos `shape`, `head` y `tail` en nuestro dataframe `game_data`."
      ]
    },
    {
      "cell_type": "code",
      "execution_count": null,
      "metadata": {
        "colab": {
          "base_uri": "https://localhost:8080/"
        },
        "id": "K5PCOE8cysz5",
        "outputId": "913af349-1451-42f8-d366-ded48a5d6e33"
      },
      "outputs": [
        {
          "data": {
            "text/plain": [
              "(16715, 11)"
            ]
          },
          "execution_count": 64,
          "metadata": {},
          "output_type": "execute_result"
        }
      ],
      "source": [
        "game_data.shape"
      ]
    },
    {
      "cell_type": "code",
      "execution_count": null,
      "metadata": {
        "colab": {
          "base_uri": "https://localhost:8080/",
          "height": 476
        },
        "id": "cOg8mr2qysz6",
        "outputId": "e3097fd7-3c6a-4f60-f818-4ebf41238bb6"
      },
      "outputs": [
        {
          "data": {
            "text/html": [
              "<div>\n",
              "<style scoped>\n",
              "    .dataframe tbody tr th:only-of-type {\n",
              "        vertical-align: middle;\n",
              "    }\n",
              "\n",
              "    .dataframe tbody tr th {\n",
              "        vertical-align: top;\n",
              "    }\n",
              "\n",
              "    .dataframe thead th {\n",
              "        text-align: right;\n",
              "    }\n",
              "</style>\n",
              "<table border=\"1\" class=\"dataframe\">\n",
              "  <thead>\n",
              "    <tr style=\"text-align: right;\">\n",
              "      <th></th>\n",
              "      <th>Name</th>\n",
              "      <th>Platform</th>\n",
              "      <th>Year_of_Release</th>\n",
              "      <th>Genre</th>\n",
              "      <th>NA_sales</th>\n",
              "      <th>EU_sales</th>\n",
              "      <th>JP_sales</th>\n",
              "      <th>Other_sales</th>\n",
              "      <th>Critic_Score</th>\n",
              "      <th>User_Score</th>\n",
              "      <th>Rating</th>\n",
              "    </tr>\n",
              "  </thead>\n",
              "  <tbody>\n",
              "    <tr>\n",
              "      <th>0</th>\n",
              "      <td>Wii Sports</td>\n",
              "      <td>Wii</td>\n",
              "      <td>2006.0</td>\n",
              "      <td>Sports</td>\n",
              "      <td>41.36</td>\n",
              "      <td>28.96</td>\n",
              "      <td>3.77</td>\n",
              "      <td>8.45</td>\n",
              "      <td>76.0</td>\n",
              "      <td>8</td>\n",
              "      <td>E</td>\n",
              "    </tr>\n",
              "    <tr>\n",
              "      <th>1</th>\n",
              "      <td>Super Mario Bros.</td>\n",
              "      <td>NES</td>\n",
              "      <td>1985.0</td>\n",
              "      <td>Platform</td>\n",
              "      <td>29.08</td>\n",
              "      <td>3.58</td>\n",
              "      <td>6.81</td>\n",
              "      <td>0.77</td>\n",
              "      <td>NaN</td>\n",
              "      <td>NaN</td>\n",
              "      <td>NaN</td>\n",
              "    </tr>\n",
              "    <tr>\n",
              "      <th>2</th>\n",
              "      <td>Mario Kart Wii</td>\n",
              "      <td>Wii</td>\n",
              "      <td>2008.0</td>\n",
              "      <td>Racing</td>\n",
              "      <td>15.68</td>\n",
              "      <td>12.76</td>\n",
              "      <td>3.79</td>\n",
              "      <td>3.29</td>\n",
              "      <td>82.0</td>\n",
              "      <td>8.3</td>\n",
              "      <td>E</td>\n",
              "    </tr>\n",
              "    <tr>\n",
              "      <th>3</th>\n",
              "      <td>Wii Sports Resort</td>\n",
              "      <td>Wii</td>\n",
              "      <td>2009.0</td>\n",
              "      <td>Sports</td>\n",
              "      <td>15.61</td>\n",
              "      <td>10.93</td>\n",
              "      <td>3.28</td>\n",
              "      <td>2.95</td>\n",
              "      <td>80.0</td>\n",
              "      <td>8</td>\n",
              "      <td>E</td>\n",
              "    </tr>\n",
              "    <tr>\n",
              "      <th>4</th>\n",
              "      <td>Pokemon Red/Pokemon Blue</td>\n",
              "      <td>GB</td>\n",
              "      <td>1996.0</td>\n",
              "      <td>Role-Playing</td>\n",
              "      <td>11.27</td>\n",
              "      <td>8.89</td>\n",
              "      <td>10.22</td>\n",
              "      <td>1.00</td>\n",
              "      <td>NaN</td>\n",
              "      <td>NaN</td>\n",
              "      <td>NaN</td>\n",
              "    </tr>\n",
              "    <tr>\n",
              "      <th>5</th>\n",
              "      <td>Tetris</td>\n",
              "      <td>GB</td>\n",
              "      <td>1989.0</td>\n",
              "      <td>Puzzle</td>\n",
              "      <td>23.20</td>\n",
              "      <td>2.26</td>\n",
              "      <td>4.22</td>\n",
              "      <td>0.58</td>\n",
              "      <td>NaN</td>\n",
              "      <td>NaN</td>\n",
              "      <td>NaN</td>\n",
              "    </tr>\n",
              "    <tr>\n",
              "      <th>6</th>\n",
              "      <td>New Super Mario Bros.</td>\n",
              "      <td>DS</td>\n",
              "      <td>2006.0</td>\n",
              "      <td>Platform</td>\n",
              "      <td>11.28</td>\n",
              "      <td>9.14</td>\n",
              "      <td>6.50</td>\n",
              "      <td>2.88</td>\n",
              "      <td>89.0</td>\n",
              "      <td>8.5</td>\n",
              "      <td>E</td>\n",
              "    </tr>\n",
              "    <tr>\n",
              "      <th>7</th>\n",
              "      <td>Wii Play</td>\n",
              "      <td>Wii</td>\n",
              "      <td>2006.0</td>\n",
              "      <td>Misc</td>\n",
              "      <td>13.96</td>\n",
              "      <td>9.18</td>\n",
              "      <td>2.93</td>\n",
              "      <td>2.84</td>\n",
              "      <td>58.0</td>\n",
              "      <td>6.6</td>\n",
              "      <td>E</td>\n",
              "    </tr>\n",
              "    <tr>\n",
              "      <th>8</th>\n",
              "      <td>New Super Mario Bros. Wii</td>\n",
              "      <td>Wii</td>\n",
              "      <td>2009.0</td>\n",
              "      <td>Platform</td>\n",
              "      <td>14.44</td>\n",
              "      <td>6.94</td>\n",
              "      <td>4.70</td>\n",
              "      <td>2.24</td>\n",
              "      <td>87.0</td>\n",
              "      <td>8.4</td>\n",
              "      <td>E</td>\n",
              "    </tr>\n",
              "    <tr>\n",
              "      <th>9</th>\n",
              "      <td>Duck Hunt</td>\n",
              "      <td>NES</td>\n",
              "      <td>1984.0</td>\n",
              "      <td>Shooter</td>\n",
              "      <td>26.93</td>\n",
              "      <td>0.63</td>\n",
              "      <td>0.28</td>\n",
              "      <td>0.47</td>\n",
              "      <td>NaN</td>\n",
              "      <td>NaN</td>\n",
              "      <td>NaN</td>\n",
              "    </tr>\n",
              "  </tbody>\n",
              "</table>\n",
              "</div>"
            ],
            "text/plain": [
              "                        Name Platform  Year_of_Release         Genre  \\\n",
              "0                 Wii Sports      Wii           2006.0        Sports   \n",
              "1          Super Mario Bros.      NES           1985.0      Platform   \n",
              "2             Mario Kart Wii      Wii           2008.0        Racing   \n",
              "3          Wii Sports Resort      Wii           2009.0        Sports   \n",
              "4   Pokemon Red/Pokemon Blue       GB           1996.0  Role-Playing   \n",
              "5                     Tetris       GB           1989.0        Puzzle   \n",
              "6      New Super Mario Bros.       DS           2006.0      Platform   \n",
              "7                   Wii Play      Wii           2006.0          Misc   \n",
              "8  New Super Mario Bros. Wii      Wii           2009.0      Platform   \n",
              "9                  Duck Hunt      NES           1984.0       Shooter   \n",
              "\n",
              "   NA_sales  EU_sales  JP_sales  Other_sales  Critic_Score User_Score Rating  \n",
              "0     41.36     28.96      3.77         8.45          76.0          8      E  \n",
              "1     29.08      3.58      6.81         0.77           NaN        NaN    NaN  \n",
              "2     15.68     12.76      3.79         3.29          82.0        8.3      E  \n",
              "3     15.61     10.93      3.28         2.95          80.0          8      E  \n",
              "4     11.27      8.89     10.22         1.00           NaN        NaN    NaN  \n",
              "5     23.20      2.26      4.22         0.58           NaN        NaN    NaN  \n",
              "6     11.28      9.14      6.50         2.88          89.0        8.5      E  \n",
              "7     13.96      9.18      2.93         2.84          58.0        6.6      E  \n",
              "8     14.44      6.94      4.70         2.24          87.0        8.4      E  \n",
              "9     26.93      0.63      0.28         0.47           NaN        NaN    NaN  "
            ]
          },
          "execution_count": 65,
          "metadata": {},
          "output_type": "execute_result"
        }
      ],
      "source": [
        "game_data.head(10)"
      ]
    },
    {
      "cell_type": "code",
      "execution_count": null,
      "metadata": {
        "colab": {
          "base_uri": "https://localhost:8080/",
          "height": 739
        },
        "id": "T1lAQZn7ysz6",
        "outputId": "aa06ec47-4241-46f8-9a3b-89d8778ae1e0"
      },
      "outputs": [
        {
          "data": {
            "text/html": [
              "<div>\n",
              "<style scoped>\n",
              "    .dataframe tbody tr th:only-of-type {\n",
              "        vertical-align: middle;\n",
              "    }\n",
              "\n",
              "    .dataframe tbody tr th {\n",
              "        vertical-align: top;\n",
              "    }\n",
              "\n",
              "    .dataframe thead th {\n",
              "        text-align: right;\n",
              "    }\n",
              "</style>\n",
              "<table border=\"1\" class=\"dataframe\">\n",
              "  <thead>\n",
              "    <tr style=\"text-align: right;\">\n",
              "      <th></th>\n",
              "      <th>Name</th>\n",
              "      <th>Platform</th>\n",
              "      <th>Year_of_Release</th>\n",
              "      <th>Genre</th>\n",
              "      <th>NA_sales</th>\n",
              "      <th>EU_sales</th>\n",
              "      <th>JP_sales</th>\n",
              "      <th>Other_sales</th>\n",
              "      <th>Critic_Score</th>\n",
              "      <th>User_Score</th>\n",
              "      <th>Rating</th>\n",
              "    </tr>\n",
              "  </thead>\n",
              "  <tbody>\n",
              "    <tr>\n",
              "      <th>16705</th>\n",
              "      <td>15 Days</td>\n",
              "      <td>PC</td>\n",
              "      <td>2009.0</td>\n",
              "      <td>Adventure</td>\n",
              "      <td>0.00</td>\n",
              "      <td>0.01</td>\n",
              "      <td>0.00</td>\n",
              "      <td>0.0</td>\n",
              "      <td>63.0</td>\n",
              "      <td>5.8</td>\n",
              "      <td>NaN</td>\n",
              "    </tr>\n",
              "    <tr>\n",
              "      <th>16706</th>\n",
              "      <td>Men in Black II: Alien Escape</td>\n",
              "      <td>GC</td>\n",
              "      <td>2003.0</td>\n",
              "      <td>Shooter</td>\n",
              "      <td>0.01</td>\n",
              "      <td>0.00</td>\n",
              "      <td>0.00</td>\n",
              "      <td>0.0</td>\n",
              "      <td>NaN</td>\n",
              "      <td>tbd</td>\n",
              "      <td>T</td>\n",
              "    </tr>\n",
              "    <tr>\n",
              "      <th>16707</th>\n",
              "      <td>Aiyoku no Eustia</td>\n",
              "      <td>PSV</td>\n",
              "      <td>2014.0</td>\n",
              "      <td>Misc</td>\n",
              "      <td>0.00</td>\n",
              "      <td>0.00</td>\n",
              "      <td>0.01</td>\n",
              "      <td>0.0</td>\n",
              "      <td>NaN</td>\n",
              "      <td>NaN</td>\n",
              "      <td>NaN</td>\n",
              "    </tr>\n",
              "    <tr>\n",
              "      <th>16708</th>\n",
              "      <td>Woody Woodpecker in Crazy Castle 5</td>\n",
              "      <td>GBA</td>\n",
              "      <td>2002.0</td>\n",
              "      <td>Platform</td>\n",
              "      <td>0.01</td>\n",
              "      <td>0.00</td>\n",
              "      <td>0.00</td>\n",
              "      <td>0.0</td>\n",
              "      <td>NaN</td>\n",
              "      <td>NaN</td>\n",
              "      <td>NaN</td>\n",
              "    </tr>\n",
              "    <tr>\n",
              "      <th>16709</th>\n",
              "      <td>SCORE International Baja 1000: The Official Game</td>\n",
              "      <td>PS2</td>\n",
              "      <td>2008.0</td>\n",
              "      <td>Racing</td>\n",
              "      <td>0.00</td>\n",
              "      <td>0.00</td>\n",
              "      <td>0.00</td>\n",
              "      <td>0.0</td>\n",
              "      <td>NaN</td>\n",
              "      <td>NaN</td>\n",
              "      <td>NaN</td>\n",
              "    </tr>\n",
              "    <tr>\n",
              "      <th>16710</th>\n",
              "      <td>Samurai Warriors: Sanada Maru</td>\n",
              "      <td>PS3</td>\n",
              "      <td>2016.0</td>\n",
              "      <td>Action</td>\n",
              "      <td>0.00</td>\n",
              "      <td>0.00</td>\n",
              "      <td>0.01</td>\n",
              "      <td>0.0</td>\n",
              "      <td>NaN</td>\n",
              "      <td>NaN</td>\n",
              "      <td>NaN</td>\n",
              "    </tr>\n",
              "    <tr>\n",
              "      <th>16711</th>\n",
              "      <td>LMA Manager 2007</td>\n",
              "      <td>X360</td>\n",
              "      <td>2006.0</td>\n",
              "      <td>Sports</td>\n",
              "      <td>0.00</td>\n",
              "      <td>0.01</td>\n",
              "      <td>0.00</td>\n",
              "      <td>0.0</td>\n",
              "      <td>NaN</td>\n",
              "      <td>NaN</td>\n",
              "      <td>NaN</td>\n",
              "    </tr>\n",
              "    <tr>\n",
              "      <th>16712</th>\n",
              "      <td>Haitaka no Psychedelica</td>\n",
              "      <td>PSV</td>\n",
              "      <td>2016.0</td>\n",
              "      <td>Adventure</td>\n",
              "      <td>0.00</td>\n",
              "      <td>0.00</td>\n",
              "      <td>0.01</td>\n",
              "      <td>0.0</td>\n",
              "      <td>NaN</td>\n",
              "      <td>NaN</td>\n",
              "      <td>NaN</td>\n",
              "    </tr>\n",
              "    <tr>\n",
              "      <th>16713</th>\n",
              "      <td>Spirits &amp; Spells</td>\n",
              "      <td>GBA</td>\n",
              "      <td>2003.0</td>\n",
              "      <td>Platform</td>\n",
              "      <td>0.01</td>\n",
              "      <td>0.00</td>\n",
              "      <td>0.00</td>\n",
              "      <td>0.0</td>\n",
              "      <td>NaN</td>\n",
              "      <td>NaN</td>\n",
              "      <td>NaN</td>\n",
              "    </tr>\n",
              "    <tr>\n",
              "      <th>16714</th>\n",
              "      <td>Winning Post 8 2016</td>\n",
              "      <td>PSV</td>\n",
              "      <td>2016.0</td>\n",
              "      <td>Simulation</td>\n",
              "      <td>0.00</td>\n",
              "      <td>0.00</td>\n",
              "      <td>0.01</td>\n",
              "      <td>0.0</td>\n",
              "      <td>NaN</td>\n",
              "      <td>NaN</td>\n",
              "      <td>NaN</td>\n",
              "    </tr>\n",
              "  </tbody>\n",
              "</table>\n",
              "</div>"
            ],
            "text/plain": [
              "                                                   Name Platform  \\\n",
              "16705                                           15 Days       PC   \n",
              "16706                     Men in Black II: Alien Escape       GC   \n",
              "16707                                  Aiyoku no Eustia      PSV   \n",
              "16708                Woody Woodpecker in Crazy Castle 5      GBA   \n",
              "16709  SCORE International Baja 1000: The Official Game      PS2   \n",
              "16710                     Samurai Warriors: Sanada Maru      PS3   \n",
              "16711                                  LMA Manager 2007     X360   \n",
              "16712                           Haitaka no Psychedelica      PSV   \n",
              "16713                                  Spirits & Spells      GBA   \n",
              "16714                               Winning Post 8 2016      PSV   \n",
              "\n",
              "       Year_of_Release       Genre  NA_sales  EU_sales  JP_sales  Other_sales  \\\n",
              "16705           2009.0   Adventure      0.00      0.01      0.00          0.0   \n",
              "16706           2003.0     Shooter      0.01      0.00      0.00          0.0   \n",
              "16707           2014.0        Misc      0.00      0.00      0.01          0.0   \n",
              "16708           2002.0    Platform      0.01      0.00      0.00          0.0   \n",
              "16709           2008.0      Racing      0.00      0.00      0.00          0.0   \n",
              "16710           2016.0      Action      0.00      0.00      0.01          0.0   \n",
              "16711           2006.0      Sports      0.00      0.01      0.00          0.0   \n",
              "16712           2016.0   Adventure      0.00      0.00      0.01          0.0   \n",
              "16713           2003.0    Platform      0.01      0.00      0.00          0.0   \n",
              "16714           2016.0  Simulation      0.00      0.00      0.01          0.0   \n",
              "\n",
              "       Critic_Score User_Score Rating  \n",
              "16705          63.0        5.8    NaN  \n",
              "16706           NaN        tbd      T  \n",
              "16707           NaN        NaN    NaN  \n",
              "16708           NaN        NaN    NaN  \n",
              "16709           NaN        NaN    NaN  \n",
              "16710           NaN        NaN    NaN  \n",
              "16711           NaN        NaN    NaN  \n",
              "16712           NaN        NaN    NaN  \n",
              "16713           NaN        NaN    NaN  \n",
              "16714           NaN        NaN    NaN  "
            ]
          },
          "execution_count": 66,
          "metadata": {},
          "output_type": "execute_result"
        }
      ],
      "source": [
        "game_data.tail(10)"
      ]
    },
    {
      "cell_type": "markdown",
      "metadata": {
        "id": "0D7pxO9kysz6"
      },
      "source": [
        "Nuestro dataset cuenta con 16715 filas y 11 columnas. Cada fila de nuestro dataframe corresponde a un videojuego de nuestra tienda online, y para cada uno de estos se puede encontrar la siguiente información en cada columna:\n",
        "\n",
        "- `Name` — nombre del videojuego\n",
        "- `Platform` — plataforma a la que pertenece\n",
        "- `Year_of_Release` — año de lanzamiento\n",
        "- `Genre` — género del videojuego\n",
        "- `NA_sales` — ventas en Norteamérica en millones de dólares estadounidenses\n",
        "- `EU_sales` — ventas en Europa en millones de dólares estadounidenses\n",
        "- `JP_sales` — ventas en Japón en millones de dólares estadounidenses\n",
        "- `Other_sales` — ventas en otros países en millones de dólares estadounidenses\n",
        "- `Critic_Score` — calificación de los críticos, máximo de 100\n",
        "- `User_Score` — calificación del usuario, máximo de 10\n",
        "- `Rating` — clasificación de acuerdo a The Entertainment Software Rating Board (la Junta de clasificación de software de entretenimiento) evalúa el contenido de un juego y asigna una clasificación de edad como Adolescente o Adulto\n",
        "\n",
        "Al examinar las primeras y últimas diez filas del dataframe, se identifican algunos problemas en los datos. Por ejemplo, los nombres de las columnas están en mayúsculas, lo cual no cumple con las convenciones de estilo de programación que sugieren el uso de minúsculas. Además, se observan valores faltantes en las columnas `Critic_Score`, `User_Score` y `Rating`, y aparentemente la columna que indica el año de lanzamiento está en formato float. Para verificar esto, se utilizará el método `info` en el dataframe `game_data`."
      ]
    },
    {
      "cell_type": "code",
      "execution_count": null,
      "metadata": {
        "colab": {
          "base_uri": "https://localhost:8080/"
        },
        "id": "9H9B5vNDysz7",
        "outputId": "930f8314-52fc-401a-a1e8-3feb20dec461"
      },
      "outputs": [
        {
          "name": "stdout",
          "output_type": "stream",
          "text": [
            "<class 'pandas.core.frame.DataFrame'>\n",
            "RangeIndex: 16715 entries, 0 to 16714\n",
            "Data columns (total 11 columns):\n",
            " #   Column           Non-Null Count  Dtype  \n",
            "---  ------           --------------  -----  \n",
            " 0   Name             16713 non-null  object \n",
            " 1   Platform         16715 non-null  object \n",
            " 2   Year_of_Release  16446 non-null  float64\n",
            " 3   Genre            16713 non-null  object \n",
            " 4   NA_sales         16715 non-null  float64\n",
            " 5   EU_sales         16715 non-null  float64\n",
            " 6   JP_sales         16715 non-null  float64\n",
            " 7   Other_sales      16715 non-null  float64\n",
            " 8   Critic_Score     8137 non-null   float64\n",
            " 9   User_Score       10014 non-null  object \n",
            " 10  Rating           9949 non-null   object \n",
            "dtypes: float64(6), object(5)\n",
            "memory usage: 1.4+ MB\n"
          ]
        }
      ],
      "source": [
        "game_data.info()"
      ]
    },
    {
      "cell_type": "markdown",
      "metadata": {
        "id": "QMeR5YsSysz7"
      },
      "source": [
        "La columna 'Year_of_Release' se encuentra en formato float y se identifica otra columna con tipo de dato incorrecto: 'User_Score' está en formato objeto en lugar de float, a pesar de contener valores numéricos para calificar los videojuegos.\n",
        "\n",
        "Además de las columnas 'Critic_Score', 'User_Score' y 'Rating', se encuentran valores faltantes en las columnas 'Name', 'Year_of_Release' y 'Genre'. Estos valores NaN serán analizados más detalladamente posteriormente.\n",
        "\n",
        "A continuación, se realizará un análisis de los valores únicos en las columnas con variables categóricas utilizando el método 'unique' a través de un bucle for. En el caso de la columna 'User_Score', que está en formato objeto, no se realizará una descripción numérica, sino que se explorarán únicamente los valores únicos."
      ]
    },
    {
      "cell_type": "code",
      "execution_count": null,
      "metadata": {
        "colab": {
          "base_uri": "https://localhost:8080/"
        },
        "id": "rm0YslCPysz7",
        "outputId": "650eacbc-2ad6-40ef-b4bd-e9de666a8305"
      },
      "outputs": [
        {
          "name": "stdout",
          "output_type": "stream",
          "text": [
            "['Wii Sports' 'Super Mario Bros.' 'Mario Kart Wii' ...\n",
            " 'Woody Woodpecker in Crazy Castle 5' 'LMA Manager 2007'\n",
            " 'Haitaka no Psychedelica']\n",
            "Número de valores únicos: 11560\n",
            "['Wii' 'NES' 'GB' 'DS' 'X360' 'PS3' 'PS2' 'SNES' 'GBA' 'PS4' '3DS' 'N64'\n",
            " 'PS' 'XB' 'PC' '2600' 'PSP' 'XOne' 'WiiU' 'GC' 'GEN' 'DC' 'PSV' 'SAT'\n",
            " 'SCD' 'WS' 'NG' 'TG16' '3DO' 'GG' 'PCFX']\n",
            "Número de valores únicos: 31\n",
            "['Sports' 'Platform' 'Racing' 'Role-Playing' 'Puzzle' 'Misc' 'Shooter'\n",
            " 'Simulation' 'Action' 'Fighting' 'Adventure' 'Strategy' nan]\n",
            "Número de valores únicos: 13\n",
            "['E' nan 'M' 'T' 'E10+' 'K-A' 'AO' 'EC' 'RP']\n",
            "Número de valores únicos: 9\n",
            "['8' nan '8.3' '8.5' '6.6' '8.4' '8.6' '7.7' '6.3' '7.4' '8.2' '9' '7.9'\n",
            " '8.1' '8.7' '7.1' '3.4' '5.3' '4.8' '3.2' '8.9' '6.4' '7.8' '7.5' '2.6'\n",
            " '7.2' '9.2' '7' '7.3' '4.3' '7.6' '5.7' '5' '9.1' '6.5' 'tbd' '8.8' '6.9'\n",
            " '9.4' '6.8' '6.1' '6.7' '5.4' '4' '4.9' '4.5' '9.3' '6.2' '4.2' '6' '3.7'\n",
            " '4.1' '5.8' '5.6' '5.5' '4.4' '4.6' '5.9' '3.9' '3.1' '2.9' '5.2' '3.3'\n",
            " '4.7' '5.1' '3.5' '2.5' '1.9' '3' '2.7' '2.2' '2' '9.5' '2.1' '3.6' '2.8'\n",
            " '1.8' '3.8' '0' '1.6' '9.6' '2.4' '1.7' '1.1' '0.3' '1.5' '0.7' '1.2'\n",
            " '2.3' '0.5' '1.3' '0.2' '0.6' '1.4' '0.9' '1' '9.7']\n",
            "Número de valores únicos: 97\n"
          ]
        }
      ],
      "source": [
        "cualitative_columns = game_data[['Name', 'Platform', 'Genre', 'Rating', 'User_Score']]\n",
        "\n",
        "for column in cualitative_columns:\n",
        "    print(cualitative_columns[column].unique())\n",
        "    print('Número de valores únicos:', len(cualitative_columns[column].unique()))"
      ]
    },
    {
      "cell_type": "markdown",
      "metadata": {
        "id": "ExiM0vnmysz8"
      },
      "source": [
        "La columna 'Name' contiene un total de 11,560 valores únicos, lo que significa que hay información de 11,560 juegos en el dataset. La columna 'Platform' tiene 31 valores únicos, que representan 31 plataformas o consolas diferentes en la base de datos. En cuanto a la columna 'Genre', hay 13 valores únicos, incluyendo los valores faltantes, lo que indica que hay 12 valores únicos para el género del videojuego. Por último, la columna 'Rating' tiene 9 valores únicos, incluyendo los valores NaN. En realidad, hay 8 valores únicos que corresponden a las categorías de clasificación de contenido de los juegos.\n",
        "\n",
        " - `E`: Everyone o apto para todas las edades.\n",
        " - `M`: Mature o para mayores de 17 años.\n",
        " - `T`: Teen o para mayores de 13 años.\n",
        " - `E10+`: Everyone 10 and up o para mayores de 10 años.\n",
        " - `K-A`: Kids to Adults o todo público, utilizado hasta 1998 y luego reemplazado por la clasificación E.\n",
        " - `AO`: Adults Only o para mayores de 18 años.\n",
        " - `EC`: Early Childhood o primera infancia, niños entre 3 a 5 años.\n",
        " - `RP`: Rating Pending o clasificación de contenido pendiente.\n",
        "\n",
        "Se identifica que existen nombres de videojuegos escritos con letras mayúsculas y minúsculas, por lo que es necesario convertir todo a minúsculas. En la columna 'User_Score', se observa la presencia del registro 'tdb' (to be determined), lo cual hace que la columna se registre como tipo objeto en lugar de tipo numérico. Estos valores 'tdb' indican que la calificación de esos videojuegos está pendiente de determinarse y necesitan ser reemplazados.\n",
        "\n",
        "A continuación, se realizará un análisis de las variables cuantitativas en el dataset utilizando el método 'describe' aplicado a 'game_data'.\n",
        ""
      ]
    },
    {
      "cell_type": "code",
      "execution_count": null,
      "metadata": {
        "colab": {
          "base_uri": "https://localhost:8080/",
          "height": 300
        },
        "id": "FaV3y4P_ysz8",
        "outputId": "b61c6a87-074e-4a2b-f189-ec5aa924cc81"
      },
      "outputs": [
        {
          "data": {
            "text/html": [
              "<div>\n",
              "<style scoped>\n",
              "    .dataframe tbody tr th:only-of-type {\n",
              "        vertical-align: middle;\n",
              "    }\n",
              "\n",
              "    .dataframe tbody tr th {\n",
              "        vertical-align: top;\n",
              "    }\n",
              "\n",
              "    .dataframe thead th {\n",
              "        text-align: right;\n",
              "    }\n",
              "</style>\n",
              "<table border=\"1\" class=\"dataframe\">\n",
              "  <thead>\n",
              "    <tr style=\"text-align: right;\">\n",
              "      <th></th>\n",
              "      <th>Year_of_Release</th>\n",
              "      <th>NA_sales</th>\n",
              "      <th>EU_sales</th>\n",
              "      <th>JP_sales</th>\n",
              "      <th>Other_sales</th>\n",
              "      <th>Critic_Score</th>\n",
              "    </tr>\n",
              "  </thead>\n",
              "  <tbody>\n",
              "    <tr>\n",
              "      <th>count</th>\n",
              "      <td>16446.000000</td>\n",
              "      <td>16715.000000</td>\n",
              "      <td>16715.000000</td>\n",
              "      <td>16715.000000</td>\n",
              "      <td>16715.000000</td>\n",
              "      <td>8137.000000</td>\n",
              "    </tr>\n",
              "    <tr>\n",
              "      <th>mean</th>\n",
              "      <td>2006.484616</td>\n",
              "      <td>0.263377</td>\n",
              "      <td>0.145060</td>\n",
              "      <td>0.077617</td>\n",
              "      <td>0.047342</td>\n",
              "      <td>68.967679</td>\n",
              "    </tr>\n",
              "    <tr>\n",
              "      <th>std</th>\n",
              "      <td>5.877050</td>\n",
              "      <td>0.813604</td>\n",
              "      <td>0.503339</td>\n",
              "      <td>0.308853</td>\n",
              "      <td>0.186731</td>\n",
              "      <td>13.938165</td>\n",
              "    </tr>\n",
              "    <tr>\n",
              "      <th>min</th>\n",
              "      <td>1980.000000</td>\n",
              "      <td>0.000000</td>\n",
              "      <td>0.000000</td>\n",
              "      <td>0.000000</td>\n",
              "      <td>0.000000</td>\n",
              "      <td>13.000000</td>\n",
              "    </tr>\n",
              "    <tr>\n",
              "      <th>25%</th>\n",
              "      <td>2003.000000</td>\n",
              "      <td>0.000000</td>\n",
              "      <td>0.000000</td>\n",
              "      <td>0.000000</td>\n",
              "      <td>0.000000</td>\n",
              "      <td>60.000000</td>\n",
              "    </tr>\n",
              "    <tr>\n",
              "      <th>50%</th>\n",
              "      <td>2007.000000</td>\n",
              "      <td>0.080000</td>\n",
              "      <td>0.020000</td>\n",
              "      <td>0.000000</td>\n",
              "      <td>0.010000</td>\n",
              "      <td>71.000000</td>\n",
              "    </tr>\n",
              "    <tr>\n",
              "      <th>75%</th>\n",
              "      <td>2010.000000</td>\n",
              "      <td>0.240000</td>\n",
              "      <td>0.110000</td>\n",
              "      <td>0.040000</td>\n",
              "      <td>0.030000</td>\n",
              "      <td>79.000000</td>\n",
              "    </tr>\n",
              "    <tr>\n",
              "      <th>max</th>\n",
              "      <td>2016.000000</td>\n",
              "      <td>41.360000</td>\n",
              "      <td>28.960000</td>\n",
              "      <td>10.220000</td>\n",
              "      <td>10.570000</td>\n",
              "      <td>98.000000</td>\n",
              "    </tr>\n",
              "  </tbody>\n",
              "</table>\n",
              "</div>"
            ],
            "text/plain": [
              "       Year_of_Release      NA_sales      EU_sales      JP_sales  \\\n",
              "count     16446.000000  16715.000000  16715.000000  16715.000000   \n",
              "mean       2006.484616      0.263377      0.145060      0.077617   \n",
              "std           5.877050      0.813604      0.503339      0.308853   \n",
              "min        1980.000000      0.000000      0.000000      0.000000   \n",
              "25%        2003.000000      0.000000      0.000000      0.000000   \n",
              "50%        2007.000000      0.080000      0.020000      0.000000   \n",
              "75%        2010.000000      0.240000      0.110000      0.040000   \n",
              "max        2016.000000     41.360000     28.960000     10.220000   \n",
              "\n",
              "        Other_sales  Critic_Score  \n",
              "count  16715.000000   8137.000000  \n",
              "mean       0.047342     68.967679  \n",
              "std        0.186731     13.938165  \n",
              "min        0.000000     13.000000  \n",
              "25%        0.000000     60.000000  \n",
              "50%        0.010000     71.000000  \n",
              "75%        0.030000     79.000000  \n",
              "max       10.570000     98.000000  "
            ]
          },
          "execution_count": 69,
          "metadata": {},
          "output_type": "execute_result"
        }
      ],
      "source": [
        "game_data.describe()"
      ]
    },
    {
      "cell_type": "markdown",
      "metadata": {
        "id": "zWJFiMe4ysz8"
      },
      "source": [
        "Al llamar al método describe en nuestro dataset nos encontramos con datos que van desde el año 1980 hasta el año 2016 en la columna `Year_of_Relese`, con un promedio de 2006 y la mediana de 2007. En el caso de la columna `NA_sales`, el promedio de ventas es de 0.26 millones o 263377 dólares, con una mediana de 80000 dólares, pudiendo establecer un sesgo hacia la derecha en nuestros datos. Para la variable `EU_sales` nos encontramos con un promedio de ventas de 145060 dólares, y una mediana de 20000 dólares, por lo que igualmente registramos una asimetría positiva con una desviación estándar de 503339 dólares.\n",
        "\n",
        "En la columna `JP_sales` nos encontramos con un promedio de ventas de 77671 dólares y una mediana de cero, por lo que tenemos un marcado sesgo hacia la derecha de nuestros datos, lo que se evidencia con la alta desviación estándar de 308853. La variable `Other_sales` evidencia igualmente un sesgo hacia la derecha o asimetría positiva con una media de 47342 dólares y una mediana de 10000, además de una alta desviación estándar. Finalmente, en la columna `Critic_Score` nos encontramos con valores desde 13 a 81, con un promedio de 68.96 y una mediana de 71, indicando una asimetría negativa.\n",
        "\n",
        "### Análisis de Valores Ausentes\n",
        "\n",
        "Al aplicar el método info a nuestro dataframe nos encontramos con seis columnas con valores ausentes. Vamos a llamar al método isna y sum para establecer el número de valores ausentes, y posteriormente estableceremos el porcentaje de valores ausentes en nuestro dataset."
      ]
    },
    {
      "cell_type": "code",
      "execution_count": null,
      "metadata": {
        "id": "NPYg26IWysz8",
        "outputId": "9a42b756-8546-4406-947f-b653b83f4767"
      },
      "outputs": [
        {
          "data": {
            "text/plain": [
              "Name                  2\n",
              "Platform              0\n",
              "Year_of_Release     269\n",
              "Genre                 2\n",
              "NA_sales              0\n",
              "EU_sales              0\n",
              "JP_sales              0\n",
              "Other_sales           0\n",
              "Critic_Score       8578\n",
              "User_Score         6701\n",
              "Rating             6766\n",
              "dtype: int64"
            ]
          },
          "execution_count": 70,
          "metadata": {},
          "output_type": "execute_result"
        }
      ],
      "source": [
        "game_data.isna().sum()"
      ]
    },
    {
      "cell_type": "code",
      "execution_count": null,
      "metadata": {
        "id": "QPW6S8Gjysz8",
        "outputId": "33c2cba9-fe1d-4d22-aefb-3c9e260a4920"
      },
      "outputs": [
        {
          "data": {
            "text/plain": [
              "Name                0.011965\n",
              "Platform            0.000000\n",
              "Year_of_Release     1.609333\n",
              "Genre               0.011965\n",
              "NA_sales            0.000000\n",
              "EU_sales            0.000000\n",
              "JP_sales            0.000000\n",
              "Other_sales         0.000000\n",
              "Critic_Score       51.319174\n",
              "User_Score         40.089740\n",
              "Rating             40.478612\n",
              "dtype: float64"
            ]
          },
          "execution_count": 71,
          "metadata": {},
          "output_type": "execute_result"
        }
      ],
      "source": [
        "game_data.isna().sum()*100/len(game_data)"
      ]
    },
    {
      "cell_type": "markdown",
      "metadata": {
        "id": "0q-X3Oxkysz9"
      },
      "source": [
        "Para las columnas `Name` y `Genre` se registra un 0.01% de valores ausentes, en la columna `Year_of_Release` un 1.60%, las columnas con mayor porcentaje de valores ausentes corresponden a `User_Score` y `Rating` con el 40% de valores ausentes, y la columna `Critic_Score` con más del 50% de valores ausentes. Vamos a analizar más a fondo si existe un patrón subyacente en los valores ausentes de nuestro dataset, para esto compararemos las frecuencias relativas de nuestro dataset completo con valores ausentes `game_data` y nuestro dataset sin valores ausentes en aquellas columnas con un porcentaje alto de valores NaN. No consideraremos a las columnas con el nombre y género, ya que el porcentaje de valores ausentes es mínimo 0.01%.\n",
        "\n",
        "Empecemos comparando nuestro dataframe completo con la columna `Year_of_Release` sin valores ausentes `year_no_missing_values`."
      ]
    },
    {
      "cell_type": "code",
      "execution_count": null,
      "metadata": {
        "id": "R_66aJWmysz9",
        "outputId": "ccc2a46e-64ec-4e86-af27-d251d56909ba"
      },
      "outputs": [
        {
          "name": "stdout",
          "output_type": "stream",
          "text": [
            "Need for Speed: Most Wanted                                    0.000718\n",
            "Madden NFL 07                                                  0.000538\n",
            "FIFA 14                                                        0.000538\n",
            "LEGO Marvel Super Heroes                                       0.000538\n",
            "Ratatouille                                                    0.000538\n",
            "                                                                 ...   \n",
            "Mechanic Master 2                                              0.000060\n",
            "Cartoon Network Collection: Game Boy Advance Video Volume 1    0.000060\n",
            "Sorcery                                                        0.000060\n",
            "Coded Soul: Uke Keigareshi Idea                                0.000060\n",
            "SWAT: Target Liberty                                           0.000060\n",
            "Name: Name, Length: 11560, dtype: float64\n",
            "PS2     0.129285\n",
            "DS      0.128687\n",
            "PS3     0.079629\n",
            "Wii     0.078971\n",
            "X360    0.075501\n",
            "PSP     0.072330\n",
            "PS      0.071612\n",
            "PC      0.058271\n",
            "XB      0.049297\n",
            "GBA     0.049177\n",
            "GC      0.033264\n",
            "3DS     0.031110\n",
            "PSV     0.025725\n",
            "PS4     0.023452\n",
            "N64     0.019085\n",
            "XOne    0.014777\n",
            "SNES    0.014299\n",
            "SAT     0.010350\n",
            "WiiU    0.008794\n",
            "2600    0.007957\n",
            "GB      0.005863\n",
            "NES     0.005863\n",
            "DC      0.003111\n",
            "GEN     0.001735\n",
            "NG      0.000718\n",
            "SCD     0.000359\n",
            "WS      0.000359\n",
            "3DO     0.000179\n",
            "TG16    0.000120\n",
            "PCFX    0.000060\n",
            "GG      0.000060\n",
            "Name: Platform, dtype: float64\n",
            "2008.0    0.085372\n",
            "2009.0    0.085313\n",
            "2010.0    0.075082\n",
            "2007.0    0.071612\n",
            "2011.0    0.067963\n",
            "2006.0    0.060185\n",
            "2005.0    0.056177\n",
            "2002.0    0.049596\n",
            "2003.0    0.046366\n",
            "2004.0    0.045588\n",
            "2012.0    0.039067\n",
            "2015.0    0.036255\n",
            "2014.0    0.034759\n",
            "2013.0    0.032546\n",
            "2016.0    0.030033\n",
            "2001.0    0.028836\n",
            "1998.0    0.022674\n",
            "2000.0    0.020939\n",
            "1999.0    0.020221\n",
            "1997.0    0.017290\n",
            "NaN       0.016093\n",
            "1996.0    0.015734\n",
            "1995.0    0.013102\n",
            "1994.0    0.007239\n",
            "1993.0    0.003709\n",
            "1981.0    0.002752\n",
            "1992.0    0.002573\n",
            "1991.0    0.002453\n",
            "1982.0    0.002154\n",
            "1986.0    0.001256\n",
            "1983.0    0.001017\n",
            "1989.0    0.001017\n",
            "1990.0    0.000957\n",
            "1987.0    0.000957\n",
            "1988.0    0.000897\n",
            "1984.0    0.000838\n",
            "1985.0    0.000838\n",
            "1980.0    0.000538\n",
            "Name: Year_of_Release, dtype: float64\n",
            "Action          0.201555\n",
            "Sports          0.140473\n",
            "Misc            0.104696\n",
            "Role-Playing    0.089620\n",
            "Shooter         0.079150\n",
            "Adventure       0.077954\n",
            "Racing          0.074723\n",
            "Platform        0.053126\n",
            "Simulation      0.052229\n",
            "Fighting        0.050793\n",
            "Strategy        0.040862\n",
            "Puzzle          0.034699\n",
            "NaN             0.000120\n",
            "Name: Genre, dtype: float64\n",
            "0.00    0.269698\n",
            "0.02    0.034460\n",
            "0.03    0.033563\n",
            "0.04    0.032845\n",
            "0.01    0.032605\n",
            "          ...   \n",
            "4.12    0.000060\n",
            "8.41    0.000060\n",
            "1.97    0.000060\n",
            "3.70    0.000060\n",
            "3.43    0.000060\n",
            "Name: NA_sales, Length: 402, dtype: float64\n",
            "0.00    0.351182\n",
            "0.01    0.089381\n",
            "0.02    0.078253\n",
            "0.03    0.055399\n",
            "0.04    0.042417\n",
            "          ...   \n",
            "9.14    0.000060\n",
            "1.92    0.000060\n",
            "3.86    0.000060\n",
            "2.59    0.000060\n",
            "3.87    0.000060\n",
            "Name: EU_sales, Length: 307, dtype: float64\n",
            "0.00    0.629016\n",
            "0.02    0.044331\n",
            "0.01    0.042238\n",
            "0.03    0.032665\n",
            "0.04    0.023751\n",
            "          ...   \n",
            "3.84    0.000060\n",
            "1.17    0.000060\n",
            "3.03    0.000060\n",
            "2.66    0.000060\n",
            "1.71    0.000060\n",
            "Name: JP_sales, Length: 244, dtype: float64\n",
            "0.00    0.394915\n",
            "0.01    0.207239\n",
            "0.02    0.096799\n",
            "0.03    0.055399\n",
            "0.04    0.039127\n",
            "          ...   \n",
            "0.72    0.000060\n",
            "2.11    0.000060\n",
            "0.96    0.000060\n",
            "1.48    0.000060\n",
            "3.96    0.000060\n",
            "Name: Other_sales, Length: 155, dtype: float64\n",
            "NaN     0.513192\n",
            "70.0    0.015316\n",
            "71.0    0.015196\n",
            "75.0    0.014657\n",
            "78.0    0.014358\n",
            "          ...   \n",
            "29.0    0.000179\n",
            "21.0    0.000060\n",
            "22.0    0.000060\n",
            "13.0    0.000060\n",
            "17.0    0.000060\n",
            "Name: Critic_Score, Length: 83, dtype: float64\n",
            "NaN    0.400897\n",
            "tbd    0.145019\n",
            "7.8    0.019384\n",
            "8      0.017350\n",
            "8.2    0.016871\n",
            "         ...   \n",
            "1.5    0.000120\n",
            "0.6    0.000120\n",
            "0.7    0.000120\n",
            "0      0.000060\n",
            "9.7    0.000060\n",
            "Name: User_Score, Length: 97, dtype: float64\n",
            "NaN     0.404786\n",
            "E       0.238708\n",
            "T       0.177146\n",
            "M       0.093509\n",
            "E10+    0.084954\n",
            "EC      0.000479\n",
            "K-A     0.000179\n",
            "RP      0.000179\n",
            "AO      0.000060\n",
            "Name: Rating, dtype: float64\n"
          ]
        }
      ],
      "source": [
        "for column in game_data:\n",
        "    print(game_data[column].value_counts(dropna=False, normalize=True))"
      ]
    },
    {
      "cell_type": "code",
      "execution_count": null,
      "metadata": {
        "id": "kThsubdGysz9",
        "outputId": "f8dc1e82-1e69-4c53-e3eb-df85878bd945"
      },
      "outputs": [
        {
          "name": "stdout",
          "output_type": "stream",
          "text": [
            "Need for Speed: Most Wanted                   0.000730\n",
            "LEGO Marvel Super Heroes                      0.000547\n",
            "FIFA 14                                       0.000547\n",
            "Ratatouille                                   0.000547\n",
            "FIFA 15                                       0.000486\n",
            "                                                ...   \n",
            "TwinBee                                       0.000061\n",
            "Skeleton Warriors                             0.000061\n",
            "Wario Land 3                                  0.000061\n",
            "Prinny 2: Dawn of Operation Panties, Dood!    0.000061\n",
            "Touch the Dead                                0.000061\n",
            "Name: Name, Length: 11427, dtype: float64\n",
            "PS2     0.129332\n",
            "DS      0.128968\n",
            "PS3     0.079411\n",
            "Wii     0.078195\n",
            "X360    0.074912\n",
            "PSP     0.072540\n",
            "PS      0.072358\n",
            "PC      0.058190\n",
            "GBA     0.049313\n",
            "XB      0.048826\n",
            "GC      0.032956\n",
            "3DS     0.031132\n",
            "PSV     0.026085\n",
            "PS4     0.023836\n",
            "N64     0.019214\n",
            "XOne    0.015019\n",
            "SNES    0.014532\n",
            "SAT     0.010519\n",
            "WiiU    0.008938\n",
            "2600    0.007053\n",
            "NES     0.005959\n",
            "GB      0.005898\n",
            "DC      0.003162\n",
            "GEN     0.001763\n",
            "NG      0.000730\n",
            "SCD     0.000365\n",
            "WS      0.000365\n",
            "3DO     0.000182\n",
            "TG16    0.000122\n",
            "PCFX    0.000061\n",
            "GG      0.000061\n",
            "Name: Platform, dtype: float64\n",
            "2008.0    0.086769\n",
            "2009.0    0.086708\n",
            "2010.0    0.076310\n",
            "2007.0    0.072784\n",
            "2011.0    0.069075\n",
            "2006.0    0.061170\n",
            "2005.0    0.057096\n",
            "2002.0    0.050407\n",
            "2003.0    0.047124\n",
            "2004.0    0.046333\n",
            "2012.0    0.039706\n",
            "2015.0    0.036848\n",
            "2014.0    0.035328\n",
            "2013.0    0.033078\n",
            "2016.0    0.030524\n",
            "2001.0    0.029308\n",
            "1998.0    0.023045\n",
            "2000.0    0.021282\n",
            "1999.0    0.020552\n",
            "1997.0    0.017573\n",
            "1996.0    0.015992\n",
            "1995.0    0.013316\n",
            "1994.0    0.007357\n",
            "1993.0    0.003770\n",
            "1981.0    0.002797\n",
            "1992.0    0.002615\n",
            "1991.0    0.002493\n",
            "1982.0    0.002189\n",
            "1986.0    0.001277\n",
            "1989.0    0.001034\n",
            "1983.0    0.001034\n",
            "1987.0    0.000973\n",
            "1990.0    0.000973\n",
            "1988.0    0.000912\n",
            "1984.0    0.000851\n",
            "1985.0    0.000851\n",
            "1980.0    0.000547\n",
            "Name: Year_of_Release, dtype: float64\n",
            "Action          0.201082\n",
            "Sports          0.140216\n",
            "Misc            0.104646\n",
            "Role-Playing    0.090052\n",
            "Shooter         0.078803\n",
            "Adventure       0.078621\n",
            "Racing          0.074547\n",
            "Platform        0.053387\n",
            "Simulation      0.052110\n",
            "Fighting        0.050894\n",
            "Strategy        0.040922\n",
            "Puzzle          0.034598\n",
            "NaN             0.000122\n",
            "Name: Genre, dtype: float64\n",
            "0.00     0.270583\n",
            "0.02     0.034172\n",
            "0.03     0.033686\n",
            "0.04     0.033017\n",
            "0.05     0.032592\n",
            "           ...   \n",
            "14.44    0.000061\n",
            "13.96    0.000061\n",
            "2.35     0.000061\n",
            "2.96     0.000061\n",
            "4.40     0.000061\n",
            "Name: NA_sales, Length: 401, dtype: float64\n",
            "0.00    0.350663\n",
            "0.01    0.089201\n",
            "0.02    0.078439\n",
            "0.03    0.055393\n",
            "0.04    0.042685\n",
            "          ...   \n",
            "9.14    0.000061\n",
            "1.92    0.000061\n",
            "3.86    0.000061\n",
            "2.59    0.000061\n",
            "3.87    0.000061\n",
            "Name: EU_sales, Length: 307, dtype: float64\n",
            "0.00    0.626353\n",
            "0.02    0.044570\n",
            "0.01    0.042381\n",
            "0.03    0.032896\n",
            "0.04    0.023775\n",
            "          ...   \n",
            "3.84    0.000061\n",
            "1.17    0.000061\n",
            "3.03    0.000061\n",
            "2.66    0.000061\n",
            "1.71    0.000061\n",
            "Name: JP_sales, Length: 244, dtype: float64\n",
            "0.00    0.394807\n",
            "0.01    0.206616\n",
            "0.02    0.097045\n",
            "0.03    0.055333\n",
            "0.04    0.038976\n",
            "          ...   \n",
            "0.72    0.000061\n",
            "2.11    0.000061\n",
            "0.96    0.000061\n",
            "1.48    0.000061\n",
            "3.96    0.000061\n",
            "Name: Other_sales, Length: 155, dtype: float64\n",
            "NaN     0.514593\n",
            "70.0    0.015323\n",
            "71.0    0.015080\n",
            "75.0    0.014593\n",
            "80.0    0.014289\n",
            "          ...   \n",
            "20.0    0.000182\n",
            "29.0    0.000182\n",
            "21.0    0.000061\n",
            "17.0    0.000061\n",
            "13.0    0.000061\n",
            "Name: Critic_Score, Length: 82, dtype: float64\n",
            "NaN    0.401739\n",
            "tbd    0.144473\n",
            "7.8    0.019579\n",
            "8      0.017329\n",
            "8.2    0.016782\n",
            "         ...   \n",
            "1.9    0.000122\n",
            "2.3    0.000122\n",
            "0.7    0.000122\n",
            "9.7    0.000061\n",
            "0      0.000061\n",
            "Name: User_Score, Length: 97, dtype: float64\n",
            "NaN     0.406056\n",
            "E       0.238417\n",
            "T       0.176639\n",
            "M       0.093397\n",
            "E10+    0.084701\n",
            "EC      0.000486\n",
            "K-A     0.000182\n",
            "AO      0.000061\n",
            "RP      0.000061\n",
            "Name: Rating, dtype: float64\n"
          ]
        }
      ],
      "source": [
        "year_no_missing_values = game_data.dropna(subset=['Year_of_Release'])\n",
        "\n",
        "for column in year_no_missing_values:\n",
        "    print(year_no_missing_values[column].value_counts(dropna=False, normalize=True))"
      ]
    },
    {
      "cell_type": "markdown",
      "metadata": {
        "id": "7lNqfJFCysz9"
      },
      "source": [
        "Al comparar `game_data` con nuestro dataset sin valores ausentes en la columna del año de lanzamiento del videojuego `year_no_missing_values`, nos encontramos con diferencia poco significativas en aquellas columnas sin valores NaN, por ejemplo para las columnas plataforma y género encontramos la misma distribución de frecuencias, por lo que podemos concluir que no existe un patrón subyacente que influya en los valores ausentes de la columna `Year_of_Release`.\n",
        "\n",
        "Ahora comparemos la columna `Critic_Score` sin valores ausentes con nuestro dataset completo con valores ausentes incluídos."
      ]
    },
    {
      "cell_type": "code",
      "execution_count": null,
      "metadata": {
        "id": "RLZBmcMzysz9",
        "outputId": "9872d440-d0bc-4379-bca7-34a78459319d"
      },
      "outputs": [
        {
          "name": "stdout",
          "output_type": "stream",
          "text": [
            "Madden NFL 07                                0.001106\n",
            "Need for Speed: Most Wanted                  0.000983\n",
            "Madden NFL 08                                0.000983\n",
            "LEGO Star Wars II: The Original Trilogy      0.000983\n",
            "Cars                                         0.000983\n",
            "                                               ...   \n",
            "Ducati World Racing Challenge                0.000123\n",
            "Stronghold Crusader Extreme                  0.000123\n",
            "Evil Dead: Hail to the King                  0.000123\n",
            "Mystery Case Files: The Malgrave Incident    0.000123\n",
            "Donkey Kong Country                          0.000123\n",
            "Name: Name, Length: 5085, dtype: float64\n",
            "PS2     0.159518\n",
            "X360    0.112572\n",
            "PS3     0.100774\n",
            "XB      0.089099\n",
            "DS      0.088116\n",
            "PC      0.087870\n",
            "Wii     0.071894\n",
            "PSP     0.056778\n",
            "GC      0.055057\n",
            "GBA     0.053828\n",
            "PS4     0.030970\n",
            "PS      0.024579\n",
            "XOne    0.020769\n",
            "3DS     0.020646\n",
            "PSV     0.014747\n",
            "WiiU    0.011061\n",
            "DC      0.001721\n",
            "Name: Platform, dtype: float64\n",
            "2008.0    0.087870\n",
            "2007.0    0.085044\n",
            "2005.0    0.080496\n",
            "2009.0    0.080005\n",
            "2002.0    0.077055\n",
            "2006.0    0.076195\n",
            "2003.0    0.071894\n",
            "2004.0    0.068944\n",
            "2010.0    0.061448\n",
            "2011.0    0.061448\n",
            "2001.0    0.040064\n",
            "2012.0    0.039449\n",
            "2013.0    0.033550\n",
            "2014.0    0.032076\n",
            "2016.0    0.028512\n",
            "2015.0    0.027651\n",
            "NaN       0.018926\n",
            "2000.0    0.017574\n",
            "1999.0    0.004793\n",
            "1998.0    0.003441\n",
            "1997.0    0.002089\n",
            "1996.0    0.000983\n",
            "1988.0    0.000123\n",
            "1992.0    0.000123\n",
            "1994.0    0.000123\n",
            "1985.0    0.000123\n",
            "Name: Year_of_Release, dtype: float64\n",
            "Action          0.232272\n",
            "Sports          0.146737\n",
            "Shooter         0.116013\n",
            "Racing          0.091188\n",
            "Role-Playing    0.090574\n",
            "Misc            0.064274\n",
            "Platform        0.061079\n",
            "Fighting        0.050264\n",
            "Simulation      0.043259\n",
            "Adventure       0.039695\n",
            "Strategy        0.037114\n",
            "Puzzle          0.027529\n",
            "Name: Genre, dtype: float64\n",
            "0.00    0.077547\n",
            "0.05    0.038220\n",
            "0.03    0.038098\n",
            "0.04    0.037729\n",
            "0.07    0.037360\n",
            "          ...   \n",
            "3.42    0.000123\n",
            "3.66    0.000123\n",
            "2.17    0.000123\n",
            "3.04    0.000123\n",
            "2.22    0.000123\n",
            "Name: NA_sales, Length: 352, dtype: float64\n",
            "0.00    0.158781\n",
            "0.01    0.108517\n",
            "0.02    0.096473\n",
            "0.03    0.069682\n",
            "0.04    0.053582\n",
            "          ...   \n",
            "1.73    0.000123\n",
            "9.18    0.000123\n",
            "4.82    0.000123\n",
            "3.48    0.000123\n",
            "3.64    0.000123\n",
            "Name: EU_sales, Length: 274, dtype: float64\n",
            "0.00    0.742657\n",
            "0.01    0.040801\n",
            "0.02    0.026791\n",
            "0.03    0.020155\n",
            "0.04    0.015854\n",
            "          ...   \n",
            "2.33    0.000123\n",
            "1.32    0.000123\n",
            "1.93    0.000123\n",
            "2.49    0.000123\n",
            "2.54    0.000123\n",
            "Name: JP_sales, Length: 157, dtype: float64\n",
            "0.01    0.233378\n",
            "0.00    0.224161\n",
            "0.02    0.118471\n",
            "0.03    0.068944\n",
            "0.04    0.049650\n",
            "          ...   \n",
            "1.74    0.000123\n",
            "1.32    0.000123\n",
            "1.37    0.000123\n",
            "1.23    0.000123\n",
            "3.96    0.000123\n",
            "Name: Other_sales, Length: 144, dtype: float64\n",
            "70.0    0.031461\n",
            "71.0    0.031215\n",
            "75.0    0.030109\n",
            "78.0    0.029495\n",
            "73.0    0.029249\n",
            "          ...   \n",
            "20.0    0.000369\n",
            "17.0    0.000123\n",
            "21.0    0.000123\n",
            "13.0    0.000123\n",
            "22.0    0.000123\n",
            "Name: Critic_Score, Length: 82, dtype: float64\n",
            "tbd    0.132973\n",
            "7.8    0.036623\n",
            "8.2    0.032813\n",
            "8      0.032813\n",
            "8.5    0.030109\n",
            "         ...   \n",
            "1.9    0.000246\n",
            "1.3    0.000123\n",
            "0.7    0.000123\n",
            "0.9    0.000123\n",
            "0.6    0.000123\n",
            "Name: User_Score, Length: 91, dtype: float64\n",
            "E       0.345090\n",
            "T       0.324444\n",
            "M       0.182254\n",
            "E10+    0.137397\n",
            "NaN     0.010200\n",
            "RP      0.000369\n",
            "AO      0.000123\n",
            "K-A     0.000123\n",
            "Name: Rating, dtype: float64\n"
          ]
        }
      ],
      "source": [
        "critic_no_missing_values = game_data.dropna(subset=['Critic_Score'])\n",
        "\n",
        "for column in critic_no_missing_values:\n",
        "    print(critic_no_missing_values[column].value_counts(dropna=False, normalize=True))"
      ]
    },
    {
      "cell_type": "markdown",
      "metadata": {
        "id": "0TXQs6Asysz-"
      },
      "source": [
        "Al eliminar los valores ausentes de la columna `Critic_Score` y comparar las frecuencias relativas de este dataset `critic_no_missing_values` con nuestro dataframe completo, se pueden evidenciar algunos cambios en la distribución de frecuencias pero estos cambios no son tan significativos. Por ejemplo, para la columna `Platform` nos encontramos con un diferencia de 0.03%, PS2 sigue siendo la plataforma con mayor frecuencia, sin embargo observamos un cambio ya que X360 pasa a ocupar el segundo lugar en las plataformas más utilizadas. Esta diferencia de 0.03% se observa a su vez en la columna `Genre`, pero Action y Sports siguen siendo las plataformas con frecuencias más altas. Si bien se observa un cambio, ya que esta columna presenta el porcentaje más elevado de valores ausentes (51%), estos cambios no son tan significativos como para declarar un patrón subyacente responsable.\n",
        "\n",
        "Ahora comparemos a `game_data` con valores ausentes y a la columna `User_Score` sin valores ausentes."
      ]
    },
    {
      "cell_type": "code",
      "execution_count": null,
      "metadata": {
        "id": "ywQNYJYfysz-",
        "outputId": "3a14e024-fbdf-4545-8c3d-6483c8a297ab"
      },
      "outputs": [
        {
          "name": "stdout",
          "output_type": "stream",
          "text": [
            "Madden NFL 07                                 0.000899\n",
            "Need for Speed: Most Wanted                   0.000899\n",
            "Lego Batman 3: Beyond Gotham                  0.000799\n",
            "FIFA 15                                       0.000799\n",
            "LEGO Marvel Super Heroes                      0.000799\n",
            "                                                ...   \n",
            "Metroid Prime: Trilogy                        0.000100\n",
            "Star Wars Rogue Squadron III: Rebel Strike    0.000100\n",
            "MechAssault 2: Lone Wolf                      0.000100\n",
            "Mystery Case Files: MillionHeir               0.000100\n",
            "Imagine: Artist                               0.000100\n",
            "Name: Name, Length: 6119, dtype: float64\n",
            "PS2     0.147893\n",
            "DS      0.127022\n",
            "X360    0.104853\n",
            "Wii     0.099860\n",
            "PS3     0.096265\n",
            "PC      0.081786\n",
            "XB      0.073497\n",
            "PSP     0.054324\n",
            "GBA     0.051628\n",
            "GC      0.046834\n",
            "PS4     0.026263\n",
            "3DS     0.022968\n",
            "PS      0.020671\n",
            "XOne    0.019273\n",
            "PSV     0.014979\n",
            "WiiU    0.010485\n",
            "DC      0.001398\n",
            "Name: Platform, dtype: float64\n",
            "2009.0    0.101758\n",
            "2008.0    0.098562\n",
            "2007.0    0.081985\n",
            "2010.0    0.079688\n",
            "2011.0    0.071700\n",
            "2005.0    0.070302\n",
            "2006.0    0.067505\n",
            "2002.0    0.065508\n",
            "2003.0    0.061015\n",
            "2004.0    0.059517\n",
            "2012.0    0.036249\n",
            "2014.0    0.034951\n",
            "2001.0    0.033853\n",
            "2015.0    0.033453\n",
            "2013.0    0.031855\n",
            "2016.0    0.029559\n",
            "NaN       0.017476\n",
            "2000.0    0.014979\n",
            "1999.0    0.003895\n",
            "1998.0    0.003096\n",
            "1997.0    0.001897\n",
            "1996.0    0.000799\n",
            "1994.0    0.000100\n",
            "1985.0    0.000100\n",
            "1988.0    0.000100\n",
            "1992.0    0.000100\n",
            "Name: Year_of_Release, dtype: float64\n",
            "Action          0.220292\n",
            "Sports          0.151388\n",
            "Shooter         0.102157\n",
            "Misc            0.088676\n",
            "Racing          0.087278\n",
            "Role-Playing    0.077192\n",
            "Simulation      0.058019\n",
            "Platform        0.056621\n",
            "Adventure       0.045836\n",
            "Fighting        0.043739\n",
            "Strategy        0.034951\n",
            "Puzzle          0.033853\n",
            "Name: Genre, dtype: float64\n",
            "0.00    0.081486\n",
            "0.05    0.041442\n",
            "0.03    0.040943\n",
            "0.02    0.040443\n",
            "0.04    0.040144\n",
            "          ...   \n",
            "2.67    0.000100\n",
            "1.42    0.000100\n",
            "2.05    0.000100\n",
            "2.21    0.000100\n",
            "8.52    0.000100\n",
            "Name: NA_sales, Length: 354, dtype: float64\n",
            "0.00    0.213601\n",
            "0.01    0.107949\n",
            "0.02    0.093669\n",
            "0.03    0.067006\n",
            "0.04    0.050030\n",
            "          ...   \n",
            "3.42    0.000100\n",
            "5.14    0.000100\n",
            "4.51    0.000100\n",
            "1.60    0.000100\n",
            "1.92    0.000100\n",
            "Name: EU_sales, Length: 276, dtype: float64\n",
            "0.00    0.780208\n",
            "0.01    0.035950\n",
            "0.02    0.023168\n",
            "0.03    0.017476\n",
            "0.04    0.013481\n",
            "          ...   \n",
            "2.06    0.000100\n",
            "3.60    0.000100\n",
            "3.61    0.000100\n",
            "2.47    0.000100\n",
            "0.67    0.000100\n",
            "Name: JP_sales, Length: 158, dtype: float64\n",
            "0.01    0.250449\n",
            "0.00    0.240863\n",
            "0.02    0.118334\n",
            "0.03    0.068404\n",
            "0.04    0.048332\n",
            "          ...   \n",
            "0.98    0.000100\n",
            "1.69    0.000100\n",
            "1.90    0.000100\n",
            "1.68    0.000100\n",
            "3.96    0.000100\n",
            "Name: Other_sales, Length: 145, dtype: float64\n",
            "NaN     0.191232\n",
            "70.0    0.025564\n",
            "71.0    0.025364\n",
            "75.0    0.024466\n",
            "78.0    0.023966\n",
            "          ...   \n",
            "20.0    0.000300\n",
            "13.0    0.000100\n",
            "17.0    0.000100\n",
            "21.0    0.000100\n",
            "22.0    0.000100\n",
            "Name: Critic_Score, Length: 83, dtype: float64\n",
            "tbd    0.242061\n",
            "7.8    0.032355\n",
            "8      0.028959\n",
            "8.2    0.028161\n",
            "8.3    0.025364\n",
            "         ...   \n",
            "1      0.000200\n",
            "2.3    0.000200\n",
            "1.5    0.000200\n",
            "9.7    0.000100\n",
            "0      0.000100\n",
            "Name: User_Score, Length: 96, dtype: float64\n",
            "E       0.394448\n",
            "T       0.293689\n",
            "M       0.155782\n",
            "E10+    0.141102\n",
            "NaN     0.013581\n",
            "EC      0.000799\n",
            "K-A     0.000300\n",
            "RP      0.000200\n",
            "AO      0.000100\n",
            "Name: Rating, dtype: float64\n"
          ]
        }
      ],
      "source": [
        "user_no_missing_values = game_data.dropna(subset=['User_Score'])\n",
        "\n",
        "for column in user_no_missing_values:\n",
        "    print(user_no_missing_values[column].value_counts(dropna=False, normalize=True))"
      ]
    },
    {
      "cell_type": "markdown",
      "metadata": {
        "id": "OORXb3rCysz-"
      },
      "source": [
        "Comparando nuestro dataset completo con nuestro dataset sin valores ausentes en la columna `User_Score` no encontramos diferencias significativas que puedan establecer un patrón subyacente responsable de estos valores NaN. Es así que para la columna `Platform` solo se encuentra una diferencia porcentual de 0.02% y PS2 sigue siendo la plataforma con una mayor frecuencia relativa. Así mismo, para el género nos encontramos con una diferencia de 0.02%, siendo Action y Sports los género con mayor frecuencia.\n",
        "\n",
        "Finalmente analicemos las frecuencias relativas de nuestro dataset completo y nuestro dataset filtrado sin valores ausentes en la columna `Rating`."
      ]
    },
    {
      "cell_type": "code",
      "execution_count": null,
      "metadata": {
        "id": "NFcd7VTfysz-",
        "outputId": "ab2e47de-2602-474e-eb11-0573e375ff88"
      },
      "outputs": [
        {
          "name": "stdout",
          "output_type": "stream",
          "text": [
            "Need for Speed: Most Wanted          0.000905\n",
            "Madden NFL 07                        0.000905\n",
            "Cars                                 0.000804\n",
            "Terraria                             0.000804\n",
            "LEGO Harry Potter: Years 5-7         0.000804\n",
            "                                       ...   \n",
            "Ship Simulator Extremes              0.000101\n",
            "Guilty Gear Isuka                    0.000101\n",
            "Short Track Racing: Trading Paint    0.000101\n",
            "River City Ransom EX                 0.000101\n",
            "Imagine: Artist                      0.000101\n",
            "Name: Name, Length: 6066, dtype: float64\n",
            "PS2     0.148859\n",
            "DS      0.127953\n",
            "X360    0.105739\n",
            "Wii     0.100714\n",
            "PS3     0.095688\n",
            "PC      0.077797\n",
            "XB      0.073676\n",
            "PSP     0.054679\n",
            "GBA     0.052468\n",
            "GC      0.047140\n",
            "PS4     0.025631\n",
            "3DS     0.022917\n",
            "PS      0.020907\n",
            "XOne    0.018695\n",
            "PSV     0.015177\n",
            "WiiU    0.010554\n",
            "DC      0.001407\n",
            "Name: Platform, dtype: float64\n",
            "2009.0    0.101618\n",
            "2008.0    0.098603\n",
            "2007.0    0.082521\n",
            "2010.0    0.080310\n",
            "2005.0    0.070962\n",
            "2011.0    0.070660\n",
            "2006.0    0.068148\n",
            "2002.0    0.065836\n",
            "2003.0    0.061614\n",
            "2004.0    0.060107\n",
            "2012.0    0.035682\n",
            "2014.0    0.034677\n",
            "2001.0    0.034074\n",
            "2013.0    0.031762\n",
            "2015.0    0.031661\n",
            "2016.0    0.028144\n",
            "NaN       0.018193\n",
            "2000.0    0.014876\n",
            "1999.0    0.004222\n",
            "1998.0    0.003216\n",
            "1997.0    0.001910\n",
            "1996.0    0.000704\n",
            "1992.0    0.000201\n",
            "1994.0    0.000101\n",
            "1985.0    0.000101\n",
            "1988.0    0.000101\n",
            "Name: Year_of_Release, dtype: float64\n",
            "Action          0.219922\n",
            "Sports          0.151674\n",
            "Shooter         0.102422\n",
            "Misc            0.088652\n",
            "Racing          0.087647\n",
            "Role-Playing    0.078098\n",
            "Platform        0.057192\n",
            "Simulation      0.057091\n",
            "Adventure       0.044829\n",
            "Fighting        0.044025\n",
            "Puzzle          0.034375\n",
            "Strategy        0.034074\n",
            "Name: Genre, dtype: float64\n",
            "0.00     0.077998\n",
            "0.03     0.041210\n",
            "0.05     0.041009\n",
            "0.04     0.040507\n",
            "0.02     0.040507\n",
            "           ...   \n",
            "14.44    0.000101\n",
            "2.34     0.000101\n",
            "1.57     0.000101\n",
            "2.24     0.000101\n",
            "15.68    0.000101\n",
            "Name: NA_sales, Length: 354, dtype: float64\n",
            "0.00    0.214393\n",
            "0.01    0.107347\n",
            "0.02    0.093477\n",
            "0.03    0.066338\n",
            "0.04    0.050256\n",
            "          ...   \n",
            "3.42    0.000101\n",
            "5.14    0.000101\n",
            "3.45    0.000101\n",
            "1.60    0.000101\n",
            "1.15    0.000101\n",
            "Name: EU_sales, Length: 277, dtype: float64\n",
            "0.00    0.778571\n",
            "0.01    0.035984\n",
            "0.02    0.023419\n",
            "0.03    0.017590\n",
            "0.04    0.013569\n",
            "          ...   \n",
            "3.60    0.000101\n",
            "3.61    0.000101\n",
            "2.47    0.000101\n",
            "3.63    0.000101\n",
            "0.67    0.000101\n",
            "Name: JP_sales, Length: 158, dtype: float64\n",
            "0.01    0.250678\n",
            "0.00    0.239924\n",
            "0.02    0.117700\n",
            "0.03    0.068449\n",
            "0.04    0.048246\n",
            "          ...   \n",
            "0.98    0.000101\n",
            "1.69    0.000101\n",
            "1.90    0.000101\n",
            "1.68    0.000101\n",
            "3.96    0.000101\n",
            "Name: Other_sales, Length: 145, dtype: float64\n",
            "NaN     0.190471\n",
            "71.0    0.025329\n",
            "70.0    0.025329\n",
            "75.0    0.024224\n",
            "78.0    0.024023\n",
            "          ...   \n",
            "20.0    0.000302\n",
            "13.0    0.000101\n",
            "17.0    0.000101\n",
            "21.0    0.000101\n",
            "22.0    0.000101\n",
            "Name: Critic_Score, Length: 83, dtype: float64\n",
            "tbd    0.238617\n",
            "7.8    0.032365\n",
            "8      0.028747\n",
            "8.2    0.027943\n",
            "8.5    0.025329\n",
            "         ...   \n",
            "1.1    0.000201\n",
            "1      0.000201\n",
            "0.3    0.000201\n",
            "9.7    0.000101\n",
            "0      0.000101\n",
            "Name: User_Score, Length: 97, dtype: float64\n",
            "E       0.401045\n",
            "T       0.297618\n",
            "M       0.157101\n",
            "E10+    0.142728\n",
            "EC      0.000804\n",
            "RP      0.000302\n",
            "K-A     0.000302\n",
            "AO      0.000101\n",
            "Name: Rating, dtype: float64\n"
          ]
        }
      ],
      "source": [
        "rating_no_missing_values = game_data.dropna(subset=['Rating'])\n",
        "\n",
        "for column in rating_no_missing_values:\n",
        "    print(rating_no_missing_values[column].value_counts(dropna=False, normalize=True))"
      ]
    },
    {
      "cell_type": "markdown",
      "metadata": {
        "id": "aKkvTpwWysz-"
      },
      "source": [
        "En el caso de la columna rating sin valores ausentes `rating_no_missing_values`, no se observaron cambios significativos al compararla con nuestro dataset completo, se observa una diferencia mínima de 0.02% para la columna Platform, pero PS2 sigue siendo la plataforma con la frecuencia más alta, seguida de DS. En el caso del género la diferencia sigue siendo mínima de 0.01%, siendo Action y Sports los géneros predominantes. Considerando esto, no existe un patrón subyacente para los valores ausentes de esta columna.\n",
        "\n",
        "### Conclusiones\n",
        "\n",
        "Al realizar una exploración inicial del dataset `game_data` nos encontramos con algunos problemas y errores que requieren ser correctamente arreglados:\n",
        "\n",
        "- Los nombres de las columnas se encuentran en mayúsculas, por lo que necesitarán ser transformados en minúsculas para cumplir con las reglas del buen estilo en programación.\n",
        "- En las columnas `Year_of_Release` y `User_Score` se encontraron tipos de datos inadecuados, por lo que se necesitará transformalos a los tipos correctos, tanto tipo entero para el año como tipo float para la calificación del usuario. Hay que destacar que en la columna `User_Score` se registró el valor tbd, que hace referencia a aquellos videojuegos cuya calificación está por ser determinada, razón por la cual la columna se presenta como tipo objeto.\n",
        "- Al analizar los valores únicos de las variables categóricas se encontraron 11560 valores para la columna `Name`, 31 valores para `Platform` o el tipo de consola, 12 géneros diferentes en la columna `Genre` y 8 categorías para la clasificación del contenido en la columna `Rating`.\n",
        "- Se registraron seis columnas con valores ausentes, siendo las columnas `User_Score`, `Critic_Score` y `Rating` las que presentaron los porcentajes más altos de valores ausentes, más del 40%. En tanto las columnas `Name` y `Genre` registraron un porcentaje bajo de 0.01%. La columna `Year_of_Release` registró un 1.60% de valores NaN. Después de realizar un análisis comparativo de frecuencias relativas entre dataset con y sin valores ausentes no se encontraron patrones subyacentes que influyen en la presencia de valores NaN, pero se podría tomar en consideración el género y la plataforma para rellenar estos valores posteriormente."
      ]
    },
    {
      "cell_type": "markdown",
      "metadata": {
        "id": "eNqvwe72ysz-"
      },
      "source": [
        "## Preprocesamiento de datos\n",
        "\n",
        "En base a las conclusiones de la exploración inicial de datos, vamos a corregir los errores encontrados en cada una de las columnas.\n",
        "\n",
        "### Corregir nombres de columnas\n",
        "\n",
        "Al llamar al método head y tail en nuestro dataset `game_data` nos encontramos con nombres de columnas en mayúsculas, cuando lo recomendable es mantener estos nombres en minúsculas, esto siguiendo las reglas del buen estilo en programación. Así que vamos a cambiar los nombre de las columnas a minúsculas a través del métod str.lower().\n",
        "\n",
        "Primero comprobemos los nombres de las columnas llamando al atributo columns."
      ]
    },
    {
      "cell_type": "code",
      "execution_count": null,
      "metadata": {
        "id": "Bd167tKYysz-",
        "outputId": "f2194b90-40f2-4e17-8c6d-9717da550dcb"
      },
      "outputs": [
        {
          "data": {
            "text/plain": [
              "Index(['Name', 'Platform', 'Year_of_Release', 'Genre', 'NA_sales', 'EU_sales',\n",
              "       'JP_sales', 'Other_sales', 'Critic_Score', 'User_Score', 'Rating'],\n",
              "      dtype='object')"
            ]
          },
          "execution_count": 77,
          "metadata": {},
          "output_type": "execute_result"
        }
      ],
      "source": [
        "game_data.columns"
      ]
    },
    {
      "cell_type": "markdown",
      "metadata": {
        "id": "9HoZ8tiCysz_"
      },
      "source": [
        "Podemos observar nombres en mayúsculas y minúsculas, ahora apliquemos el método str.lower()"
      ]
    },
    {
      "cell_type": "code",
      "execution_count": null,
      "metadata": {
        "id": "D9IRBuzsysz_"
      },
      "outputs": [],
      "source": [
        "game_data.columns = game_data.columns.str.lower()"
      ]
    },
    {
      "cell_type": "markdown",
      "metadata": {
        "id": "kb5saCvSysz_"
      },
      "source": [
        "Comprobemos que los nombres de las columnas se hayan cambiado correctamente a minúsculas, para esto volvamos a llamar al atributo columns en nuestro dataset."
      ]
    },
    {
      "cell_type": "code",
      "execution_count": null,
      "metadata": {
        "id": "kHcPUbxLysz_",
        "outputId": "c743e367-3c3c-4d13-d2d4-f0fd03763d14"
      },
      "outputs": [
        {
          "data": {
            "text/plain": [
              "Index(['name', 'platform', 'year_of_release', 'genre', 'na_sales', 'eu_sales',\n",
              "       'jp_sales', 'other_sales', 'critic_score', 'user_score', 'rating'],\n",
              "      dtype='object')"
            ]
          },
          "execution_count": 79,
          "metadata": {},
          "output_type": "execute_result"
        }
      ],
      "source": [
        "game_data.columns"
      ]
    },
    {
      "cell_type": "markdown",
      "metadata": {
        "id": "XZlKMZgWysz_"
      },
      "source": [
        "### Corregir datos de las columna `name`"
      ]
    },
    {
      "cell_type": "markdown",
      "metadata": {
        "id": "A3wXAjW9ysz_"
      },
      "source": [
        "En la columna `name` nos encontramos con valores ausentes, pero el porcentaje fue bajo de un 0.01%, lo que corresponde a tan solo dos valores ausentes. En este caso vamos a analizar estas dos valores ausentes para establecer con qué rellenarlos. Filtremos estas dos filas con valores ausentes en la columna `name`, para esto utilizaremos el método query."
      ]
    },
    {
      "cell_type": "code",
      "execution_count": null,
      "metadata": {
        "id": "9LDzB_uSysz_",
        "outputId": "c031dcd6-2ded-45f5-aadf-6a4ec0ceefd1"
      },
      "outputs": [
        {
          "data": {
            "text/html": [
              "<div>\n",
              "<style scoped>\n",
              "    .dataframe tbody tr th:only-of-type {\n",
              "        vertical-align: middle;\n",
              "    }\n",
              "\n",
              "    .dataframe tbody tr th {\n",
              "        vertical-align: top;\n",
              "    }\n",
              "\n",
              "    .dataframe thead th {\n",
              "        text-align: right;\n",
              "    }\n",
              "</style>\n",
              "<table border=\"1\" class=\"dataframe\">\n",
              "  <thead>\n",
              "    <tr style=\"text-align: right;\">\n",
              "      <th></th>\n",
              "      <th>name</th>\n",
              "      <th>platform</th>\n",
              "      <th>year_of_release</th>\n",
              "      <th>genre</th>\n",
              "      <th>na_sales</th>\n",
              "      <th>eu_sales</th>\n",
              "      <th>jp_sales</th>\n",
              "      <th>other_sales</th>\n",
              "      <th>critic_score</th>\n",
              "      <th>user_score</th>\n",
              "      <th>rating</th>\n",
              "    </tr>\n",
              "  </thead>\n",
              "  <tbody>\n",
              "    <tr>\n",
              "      <th>659</th>\n",
              "      <td>NaN</td>\n",
              "      <td>GEN</td>\n",
              "      <td>1993.0</td>\n",
              "      <td>NaN</td>\n",
              "      <td>1.78</td>\n",
              "      <td>0.53</td>\n",
              "      <td>0.00</td>\n",
              "      <td>0.08</td>\n",
              "      <td>NaN</td>\n",
              "      <td>NaN</td>\n",
              "      <td>NaN</td>\n",
              "    </tr>\n",
              "    <tr>\n",
              "      <th>14244</th>\n",
              "      <td>NaN</td>\n",
              "      <td>GEN</td>\n",
              "      <td>1993.0</td>\n",
              "      <td>NaN</td>\n",
              "      <td>0.00</td>\n",
              "      <td>0.00</td>\n",
              "      <td>0.03</td>\n",
              "      <td>0.00</td>\n",
              "      <td>NaN</td>\n",
              "      <td>NaN</td>\n",
              "      <td>NaN</td>\n",
              "    </tr>\n",
              "  </tbody>\n",
              "</table>\n",
              "</div>"
            ],
            "text/plain": [
              "      name platform  year_of_release genre  na_sales  eu_sales  jp_sales  \\\n",
              "659    NaN      GEN           1993.0   NaN      1.78      0.53      0.00   \n",
              "14244  NaN      GEN           1993.0   NaN      0.00      0.00      0.03   \n",
              "\n",
              "       other_sales  critic_score user_score rating  \n",
              "659           0.08           NaN        NaN    NaN  \n",
              "14244         0.00           NaN        NaN    NaN  "
            ]
          },
          "execution_count": 80,
          "metadata": {},
          "output_type": "execute_result"
        }
      ],
      "source": [
        "game_data.query('name.isna()')"
      ]
    },
    {
      "cell_type": "markdown",
      "metadata": {
        "id": "S_1HgiVWys0F"
      },
      "source": [
        "Al analizar más a fondo los dos valores ausentes de la columna `name` nos encontramos que no solo no cuentan con el nombre del videojuego sino también con el género, la calificación de críticos, calificación de usuarios y  el rating. Además parece ser que los dos valores ausentes de la columna `genre` coinciden con los valores NaN de la columna `name`. Filtremos nuestro dataset por los valores ausentes de las dos columnas y comprobémoslo."
      ]
    },
    {
      "cell_type": "code",
      "execution_count": null,
      "metadata": {
        "id": "skSI0oGSys0F",
        "outputId": "a0e28798-a0e4-4c7c-d582-2fdbf85e4798"
      },
      "outputs": [
        {
          "data": {
            "text/html": [
              "<div>\n",
              "<style scoped>\n",
              "    .dataframe tbody tr th:only-of-type {\n",
              "        vertical-align: middle;\n",
              "    }\n",
              "\n",
              "    .dataframe tbody tr th {\n",
              "        vertical-align: top;\n",
              "    }\n",
              "\n",
              "    .dataframe thead th {\n",
              "        text-align: right;\n",
              "    }\n",
              "</style>\n",
              "<table border=\"1\" class=\"dataframe\">\n",
              "  <thead>\n",
              "    <tr style=\"text-align: right;\">\n",
              "      <th></th>\n",
              "      <th>name</th>\n",
              "      <th>platform</th>\n",
              "      <th>year_of_release</th>\n",
              "      <th>genre</th>\n",
              "      <th>na_sales</th>\n",
              "      <th>eu_sales</th>\n",
              "      <th>jp_sales</th>\n",
              "      <th>other_sales</th>\n",
              "      <th>critic_score</th>\n",
              "      <th>user_score</th>\n",
              "      <th>rating</th>\n",
              "    </tr>\n",
              "  </thead>\n",
              "  <tbody>\n",
              "    <tr>\n",
              "      <th>659</th>\n",
              "      <td>NaN</td>\n",
              "      <td>GEN</td>\n",
              "      <td>1993.0</td>\n",
              "      <td>NaN</td>\n",
              "      <td>1.78</td>\n",
              "      <td>0.53</td>\n",
              "      <td>0.00</td>\n",
              "      <td>0.08</td>\n",
              "      <td>NaN</td>\n",
              "      <td>NaN</td>\n",
              "      <td>NaN</td>\n",
              "    </tr>\n",
              "    <tr>\n",
              "      <th>14244</th>\n",
              "      <td>NaN</td>\n",
              "      <td>GEN</td>\n",
              "      <td>1993.0</td>\n",
              "      <td>NaN</td>\n",
              "      <td>0.00</td>\n",
              "      <td>0.00</td>\n",
              "      <td>0.03</td>\n",
              "      <td>0.00</td>\n",
              "      <td>NaN</td>\n",
              "      <td>NaN</td>\n",
              "      <td>NaN</td>\n",
              "    </tr>\n",
              "  </tbody>\n",
              "</table>\n",
              "</div>"
            ],
            "text/plain": [
              "      name platform  year_of_release genre  na_sales  eu_sales  jp_sales  \\\n",
              "659    NaN      GEN           1993.0   NaN      1.78      0.53      0.00   \n",
              "14244  NaN      GEN           1993.0   NaN      0.00      0.00      0.03   \n",
              "\n",
              "       other_sales  critic_score user_score rating  \n",
              "659           0.08           NaN        NaN    NaN  \n",
              "14244         0.00           NaN        NaN    NaN  "
            ]
          },
          "execution_count": 81,
          "metadata": {},
          "output_type": "execute_result"
        }
      ],
      "source": [
        "game_data.query('name.isna() & genre.isna()')"
      ]
    },
    {
      "cell_type": "markdown",
      "metadata": {
        "id": "RvVI-Ab5ys0F"
      },
      "source": [
        "Efectivamente los valores ausentes coinciden, ya que estas dos filas solo representan el 0.01% de nuestro dataset vamos a eliminarlas ya que no es posible acceder al nombre y el género del videojuego, información que va a ser importante para el análisis de datos posterior. A través de drop vamos a eliminar estas dos filas y llamamos a info para comprobar que ya no contamos con valores ausentes en estas dos columnas"
      ]
    },
    {
      "cell_type": "code",
      "execution_count": null,
      "metadata": {
        "id": "q5I8Qkfnys0F",
        "outputId": "b1c78dbc-38f1-4add-b632-1b3f3d1d1217"
      },
      "outputs": [
        {
          "name": "stdout",
          "output_type": "stream",
          "text": [
            "<class 'pandas.core.frame.DataFrame'>\n",
            "RangeIndex: 16713 entries, 0 to 16712\n",
            "Data columns (total 11 columns):\n",
            " #   Column           Non-Null Count  Dtype  \n",
            "---  ------           --------------  -----  \n",
            " 0   name             16713 non-null  object \n",
            " 1   platform         16713 non-null  object \n",
            " 2   year_of_release  16444 non-null  float64\n",
            " 3   genre            16713 non-null  object \n",
            " 4   na_sales         16713 non-null  float64\n",
            " 5   eu_sales         16713 non-null  float64\n",
            " 6   jp_sales         16713 non-null  float64\n",
            " 7   other_sales      16713 non-null  float64\n",
            " 8   critic_score     8137 non-null   float64\n",
            " 9   user_score       10014 non-null  object \n",
            " 10  rating           9949 non-null   object \n",
            "dtypes: float64(6), object(5)\n",
            "memory usage: 1.4+ MB\n"
          ]
        }
      ],
      "source": [
        "game_data = game_data.drop(index=[659,14244], axis=0).reset_index(drop=True)\n",
        "game_data.info()"
      ]
    },
    {
      "cell_type": "markdown",
      "metadata": {
        "id": "9eWU06Tjys0G"
      },
      "source": [
        "También cambiaremos los nombre de videojuegos a un solo estilo en minúscula a través del método str.lower() y verificamos los cambios con el método unique()."
      ]
    },
    {
      "cell_type": "code",
      "execution_count": null,
      "metadata": {
        "id": "FK8ZTG29ys0G",
        "outputId": "2f682902-651d-4910-e19f-6b17b88e29e2"
      },
      "outputs": [
        {
          "data": {
            "text/plain": [
              "array(['wii sports', 'super mario bros.', 'mario kart wii', ...,\n",
              "       'woody woodpecker in crazy castle 5', 'lma manager 2007',\n",
              "       'haitaka no psychedelica'], dtype=object)"
            ]
          },
          "execution_count": 83,
          "metadata": {},
          "output_type": "execute_result"
        }
      ],
      "source": [
        "game_data['name'] =  game_data['name'].str.lower()\n",
        "game_data['name'].unique()"
      ]
    },
    {
      "cell_type": "markdown",
      "metadata": {
        "id": "0DjD5rbWys0G"
      },
      "source": [
        "### Corregir datos de la columna `platform`\n",
        "\n",
        "En el caso de la columna `platform` no se registraron valores ausentes ni artefactos extraños, lo único que se transformará es en minúsculas el nombre de cada categoría a través del método str.lower()."
      ]
    },
    {
      "cell_type": "code",
      "execution_count": null,
      "metadata": {
        "id": "j7zc-X1Vys0G"
      },
      "outputs": [],
      "source": [
        "game_data['platform'] = game_data['platform'].str.lower()"
      ]
    },
    {
      "cell_type": "markdown",
      "metadata": {
        "id": "Gsu_Reeuys0G"
      },
      "source": [
        "Comprobamos que los nombres de plataformas hayan sido correctament transformados."
      ]
    },
    {
      "cell_type": "code",
      "execution_count": null,
      "metadata": {
        "id": "sezywLxdys0G",
        "outputId": "0c86bc45-0d48-4f80-90fe-d1191b58f33d"
      },
      "outputs": [
        {
          "data": {
            "text/plain": [
              "array(['wii', 'nes', 'gb', 'ds', 'x360', 'ps3', 'ps2', 'snes', 'gba',\n",
              "       'ps4', '3ds', 'n64', 'ps', 'xb', 'pc', '2600', 'psp', 'xone',\n",
              "       'wiiu', 'gc', 'gen', 'dc', 'psv', 'sat', 'scd', 'ws', 'ng', 'tg16',\n",
              "       '3do', 'gg', 'pcfx'], dtype=object)"
            ]
          },
          "execution_count": 85,
          "metadata": {},
          "output_type": "execute_result"
        }
      ],
      "source": [
        "game_data['platform'].unique()"
      ]
    },
    {
      "cell_type": "markdown",
      "metadata": {
        "id": "wDJEGz_qys0H"
      },
      "source": [
        "### Corregir datos de la columna `year_of_release`.\n",
        "\n",
        "En la columna `year_of_release` nos encontramos con dos problemas, en primer lugar la columna se encuentra como tipo float cuando debería encontrarse como tipo entero y además, nos encontramos con 269 valores ausentes que corresponden al 1.60% de datos.\n",
        "\n",
        "Al no ser un porcentaje tan grande, decido dejar los valores nulos."
      ]
    },
    {
      "cell_type": "markdown",
      "metadata": {
        "id": "EAAQSL0Eys0I"
      },
      "source": [
        "Verificamos que todos los cambios se hayan guardado correctamente llamando al método info."
      ]
    },
    {
      "cell_type": "code",
      "execution_count": null,
      "metadata": {
        "id": "Roq7R0Lkys0I",
        "outputId": "54124f7c-066f-48ad-88fe-f2309e2c09b8"
      },
      "outputs": [
        {
          "name": "stdout",
          "output_type": "stream",
          "text": [
            "<class 'pandas.core.frame.DataFrame'>\n",
            "RangeIndex: 16713 entries, 0 to 16712\n",
            "Data columns (total 11 columns):\n",
            " #   Column           Non-Null Count  Dtype  \n",
            "---  ------           --------------  -----  \n",
            " 0   name             16713 non-null  object \n",
            " 1   platform         16713 non-null  object \n",
            " 2   year_of_release  16444 non-null  float64\n",
            " 3   genre            16713 non-null  object \n",
            " 4   na_sales         16713 non-null  float64\n",
            " 5   eu_sales         16713 non-null  float64\n",
            " 6   jp_sales         16713 non-null  float64\n",
            " 7   other_sales      16713 non-null  float64\n",
            " 8   critic_score     8137 non-null   float64\n",
            " 9   user_score       10014 non-null  object \n",
            " 10  rating           9949 non-null   object \n",
            "dtypes: float64(6), object(5)\n",
            "memory usage: 1.4+ MB\n"
          ]
        }
      ],
      "source": [
        "game_data.info()"
      ]
    },
    {
      "cell_type": "markdown",
      "metadata": {
        "id": "oJG7GSWcys0I"
      },
      "source": [
        "### Corregir datos de la columna `genre`\n",
        "\n",
        "Los valores ausentes de la columna `genre` fueron eliminados ya que solo representaban el 0.01% del dataset y además coincidían con los valores ausentes de la columna `name`, así que no iba a ser posible rellenar el nombre del videojuego ni obtener la información del género.\n",
        "\n",
        "En esta columna solo vamos a tranformar los nombres de los géneros a minúsculas con el método str.lower() y comprobaremos los cambios llamando al método unique()"
      ]
    },
    {
      "cell_type": "code",
      "execution_count": null,
      "metadata": {
        "id": "3SZtm973ys0J"
      },
      "outputs": [],
      "source": [
        "game_data['genre'] = game_data['genre'].str.lower()"
      ]
    },
    {
      "cell_type": "code",
      "execution_count": null,
      "metadata": {
        "id": "zVdgbQETys0J",
        "outputId": "e4c8cfe2-59ee-4a2e-f6a8-a0b8d01e8c3c"
      },
      "outputs": [
        {
          "data": {
            "text/plain": [
              "array(['sports', 'platform', 'racing', 'role-playing', 'puzzle', 'misc',\n",
              "       'shooter', 'simulation', 'action', 'fighting', 'adventure',\n",
              "       'strategy'], dtype=object)"
            ]
          },
          "execution_count": 88,
          "metadata": {},
          "output_type": "execute_result"
        }
      ],
      "source": [
        "game_data['genre'].unique()"
      ]
    },
    {
      "cell_type": "markdown",
      "metadata": {
        "id": "a3iMEFtQys0J"
      },
      "source": [
        "### Corregir datos de la columna `critic_score`\n",
        "\n",
        "La columna `critic_score` presenta el porcentaje más alto de valores ausentes, cerca del 50%. Estos valores pueden estar relacionados simplemente con la falta de acceso a esa información, el crítico puede haber olvidado calificar el videojuego o el videojuego es muy viejo como para tener una calificación, ya que plataformas antiguas no eran ranqueadas en línea. Por ejemplo, la plataforma NES se remonta al año 1985 y la plataforma GEN a los años 90s, por lo que no van a exitir calificaciones de críticos, ya que no existía una tienda en línea para calificar estas consolas. También puede estar relacionado con que al crítico no le gustó el videojuego y decidió no calificarlo.\n",
        "\n",
        "Considerando que plataformas antiguas no tienen datos sobre calificaciones de críticos, no podemos utilizar la columna `platform` o `year_of_release` para rellenar los valores ausentes, ya que videojuegos antiguos no tienen esta información. Así que decidimos mantener los valores ausentes de la columna `critic_score`, ya que no existe un valor real con cual se pueda rellenar este dato, la calificación va a depender de la opinión del crítico y esto es algo que no se puede reemplazar con la media o mediana, ya que obtendríamos resultados irreales.\n"
      ]
    },
    {
      "cell_type": "markdown",
      "metadata": {
        "id": "lZxwRiSLys0J"
      },
      "source": [
        "### Corregir datos de la columna `user_score`\n",
        "\n",
        "La columna `user_score` se presenta como tipo objeto debido a la presencia de la categoría `tbd` para los videojuegos cuyo calificación de usuario está por ser determinada, por lo que en realidad no contamos con esa calificación, así que vamos a reemplazar estos valores con NaN, para lo cual utilizaremos la función replace.\n",
        "\n",
        "Empecemos comprobando el número total de valores `tbd` en la columna `user_score`."
      ]
    },
    {
      "cell_type": "code",
      "execution_count": null,
      "metadata": {
        "id": "3EBIHYPLys0J",
        "outputId": "5680ac88-4277-4211-eb44-cf1d46945266"
      },
      "outputs": [
        {
          "name": "stdout",
          "output_type": "stream",
          "text": [
            "Número de valores tbd en user_score: 2424\n"
          ]
        }
      ],
      "source": [
        "tbd = game_data.query('user_score == \"tbd\"')\n",
        "print('Número de valores tbd en user_score:', len(tbd))"
      ]
    },
    {
      "cell_type": "markdown",
      "metadata": {
        "id": "7FLVdsGqys0J"
      },
      "source": [
        "Se registran un total de 2424 valores tbd en la columna `user_score`, ahora aplicaremos la función replace a la columna y comprobaremos que ya no existen estos valores a través de query."
      ]
    },
    {
      "cell_type": "code",
      "execution_count": null,
      "metadata": {
        "id": "ZiPyy3nSys0J",
        "outputId": "e41bb182-283e-47ca-a04b-c67edf98bb03"
      },
      "outputs": [
        {
          "data": {
            "text/html": [
              "<div>\n",
              "<style scoped>\n",
              "    .dataframe tbody tr th:only-of-type {\n",
              "        vertical-align: middle;\n",
              "    }\n",
              "\n",
              "    .dataframe tbody tr th {\n",
              "        vertical-align: top;\n",
              "    }\n",
              "\n",
              "    .dataframe thead th {\n",
              "        text-align: right;\n",
              "    }\n",
              "</style>\n",
              "<table border=\"1\" class=\"dataframe\">\n",
              "  <thead>\n",
              "    <tr style=\"text-align: right;\">\n",
              "      <th></th>\n",
              "      <th>name</th>\n",
              "      <th>platform</th>\n",
              "      <th>year_of_release</th>\n",
              "      <th>genre</th>\n",
              "      <th>na_sales</th>\n",
              "      <th>eu_sales</th>\n",
              "      <th>jp_sales</th>\n",
              "      <th>other_sales</th>\n",
              "      <th>critic_score</th>\n",
              "      <th>user_score</th>\n",
              "      <th>rating</th>\n",
              "    </tr>\n",
              "  </thead>\n",
              "  <tbody>\n",
              "  </tbody>\n",
              "</table>\n",
              "</div>"
            ],
            "text/plain": [
              "Empty DataFrame\n",
              "Columns: [name, platform, year_of_release, genre, na_sales, eu_sales, jp_sales, other_sales, critic_score, user_score, rating]\n",
              "Index: []"
            ]
          },
          "execution_count": 90,
          "metadata": {},
          "output_type": "execute_result"
        }
      ],
      "source": [
        "game_data['user_score'] = game_data['user_score'].replace('tbd', np.nan)\n",
        "\n",
        "game_data.query('user_score == \"tbd\"')"
      ]
    },
    {
      "cell_type": "markdown",
      "metadata": {
        "id": "yOX4B2RQys0K"
      },
      "source": [
        "Se comprueba que no existen valores ausentes en la columna `user_score`, ahora verificamos el nuevo número de valores ausentes registrados en la columna a través del método isna y sum, también calcularemos el porcentaje."
      ]
    },
    {
      "cell_type": "code",
      "execution_count": null,
      "metadata": {
        "id": "t3ahr0SJys0K",
        "outputId": "d3955e14-57b8-4046-936b-9c3f642385b5"
      },
      "outputs": [
        {
          "name": "stdout",
          "output_type": "stream",
          "text": [
            "Número de valores ausente en user_score: 9123\n",
            "Porcentaje de valores ausente en user_score: 54.586250224376236\n"
          ]
        }
      ],
      "source": [
        "print('Número de valores ausente en user_score:', game_data['user_score'].isna().sum())\n",
        "print('Porcentaje de valores ausente en user_score:', game_data['user_score'].isna().sum()*100/len(game_data))"
      ]
    },
    {
      "cell_type": "markdown",
      "metadata": {
        "id": "PhkKPmtoys0K"
      },
      "source": [
        "Verificado el nuevo número de valores ausentes en la columna, vamos a transformar el tipo de dato a float para esto utilizaremos el método pd.to_numeric y comprobaremos el nuevo tipo de dato a través del atributo dtypes."
      ]
    },
    {
      "cell_type": "code",
      "execution_count": null,
      "metadata": {
        "id": "XHoNQEpSys0K",
        "outputId": "b79c8818-1cee-43a9-c342-805a1bdbe7d6"
      },
      "outputs": [
        {
          "name": "stdout",
          "output_type": "stream",
          "text": [
            "float64\n"
          ]
        }
      ],
      "source": [
        "game_data['user_score'] = pd.to_numeric(game_data['user_score'])\n",
        "print(game_data['user_score'].dtypes)"
      ]
    },
    {
      "cell_type": "markdown",
      "metadata": {
        "id": "C6dbJIMoys0K"
      },
      "source": [
        "Una vez reemplazados los valores tbd a NaN y transformado el tipo de dato a float, ahora los valores ausentes representan el 54% del dataset. Al igual que en la columna `critic_score` los valores ausentes pueden estar relacionados a que el cliente no brindó esa información a la tienda online o el videojuego es muy antiguo como para tener registros de las calificaciones de usuarios. También podría deberse a que el usuario decidió no calificar el videojuego ya que simplemente no fue de su gusto.\n",
        "\n",
        "Al igual que con la columna `user_score` decidimos mantener los valores ausentes de esta columna, ya que rellenarlos con la media o mediana no sería un dato cercano a la realidad, la calificación depende del gusto del usuario y eso es un dato que no puede ser rellenado en base a otras variables de nuestro dataset."
      ]
    },
    {
      "cell_type": "markdown",
      "metadata": {
        "id": "Gz-g1ld6ys0K"
      },
      "source": [
        "### Corregir datos de la columna `rating`\n",
        "\n",
        "Antes de rellenar los valores ausentes de la columna `rating` vamos a revisar el recuento de valores únicos ya que durante la exploración se registró ciertas categorías que pertenecían a juegos antiguos y que ahora fueron cambiadas, llamemos al método value_counts().\n"
      ]
    },
    {
      "cell_type": "code",
      "execution_count": null,
      "metadata": {
        "id": "jDArvN8Bys0K",
        "outputId": "7abb8ba6-9e5f-4097-9548-cb2d018a014c"
      },
      "outputs": [
        {
          "data": {
            "text/plain": [
              "NaN     6764\n",
              "E       3990\n",
              "T       2961\n",
              "M       1563\n",
              "E10+    1420\n",
              "EC         8\n",
              "K-A        3\n",
              "RP         3\n",
              "AO         1\n",
              "Name: rating, dtype: int64"
            ]
          },
          "execution_count": 93,
          "metadata": {},
          "output_type": "execute_result"
        }
      ],
      "source": [
        "game_data['rating'].value_counts(dropna=False)"
      ]
    },
    {
      "cell_type": "markdown",
      "metadata": {
        "id": "Bw1622Cqys0L"
      },
      "source": [
        "La columna presenta dos valores que necesitan ser corregidos, K-A es la categoría Kids to Adults que se utilizaba en el pasado para clasificar el contenido que ahora se conoce como todo público, la reemplazaremos con la categoría E."
      ]
    },
    {
      "cell_type": "code",
      "execution_count": null,
      "metadata": {
        "id": "cbp5AWgRys0L",
        "outputId": "fd7d3c7f-c303-46f9-8082-8d1c1ed50c72"
      },
      "outputs": [
        {
          "data": {
            "text/plain": [
              "NaN     6764\n",
              "E       3993\n",
              "T       2961\n",
              "M       1563\n",
              "E10+    1420\n",
              "EC         8\n",
              "RP         3\n",
              "AO         1\n",
              "Name: rating, dtype: int64"
            ]
          },
          "execution_count": 94,
          "metadata": {},
          "output_type": "execute_result"
        }
      ],
      "source": [
        "game_data['rating'] = game_data['rating'].replace('K-A', 'E')\n",
        "\n",
        "game_data['rating'].value_counts(dropna=False)"
      ]
    },
    {
      "cell_type": "markdown",
      "metadata": {
        "id": "Udzb5WB3ys0L"
      },
      "source": [
        "En la columna `rating` nos encontramos con cerca de un 40% de valores ausentes, estos valores pueden estar relacionados con la falta de información sobre la clasificación de contenido del videojuego ya que The Entertainment Software Rating Board fue creado en 1994, puede ser que videojuegos antiguos no fueron clasificados o que simplemente no se tiene acceso a esta información. Tomando esto en consideración, no será correcto rellenar estos valores en función de una variable y lo mejor será reemplazar todos los valores ausentes con la categoría RP 'rating pending', para esto utilizaremos la función reeplace."
      ]
    },
    {
      "cell_type": "code",
      "execution_count": null,
      "metadata": {
        "id": "ZKu748uPys0L"
      },
      "outputs": [],
      "source": [
        "game_data['rating'] = game_data['rating'].replace(np.nan, 'RP')"
      ]
    },
    {
      "cell_type": "markdown",
      "metadata": {
        "id": "0F0ld3Zdys0L"
      },
      "source": [
        "Comprobamos que los valores se hayan reemplazado correctamente con el método value_counts y el argumento dropna=False para verificar si los valores ausentes han sido rellenados."
      ]
    },
    {
      "cell_type": "code",
      "execution_count": null,
      "metadata": {
        "id": "v7948KIAys0L",
        "outputId": "2eb33fd9-13c6-44b0-db59-846e65bb9708"
      },
      "outputs": [
        {
          "data": {
            "text/plain": [
              "RP      6767\n",
              "E       3993\n",
              "T       2961\n",
              "M       1563\n",
              "E10+    1420\n",
              "EC         8\n",
              "AO         1\n",
              "Name: rating, dtype: int64"
            ]
          },
          "execution_count": 96,
          "metadata": {},
          "output_type": "execute_result"
        }
      ],
      "source": [
        "game_data['rating'].value_counts(dropna=False)"
      ]
    },
    {
      "cell_type": "markdown",
      "metadata": {
        "id": "umlQ-witys0L"
      },
      "source": [
        "Llamamos al método info para realizar una última verificación."
      ]
    },
    {
      "cell_type": "code",
      "execution_count": null,
      "metadata": {
        "id": "GBtC409Pys0M",
        "outputId": "d0740417-4e5d-4037-b473-8cf1c0ca09bc"
      },
      "outputs": [
        {
          "name": "stdout",
          "output_type": "stream",
          "text": [
            "<class 'pandas.core.frame.DataFrame'>\n",
            "RangeIndex: 16713 entries, 0 to 16712\n",
            "Data columns (total 11 columns):\n",
            " #   Column           Non-Null Count  Dtype  \n",
            "---  ------           --------------  -----  \n",
            " 0   name             16713 non-null  object \n",
            " 1   platform         16713 non-null  object \n",
            " 2   year_of_release  16444 non-null  float64\n",
            " 3   genre            16713 non-null  object \n",
            " 4   na_sales         16713 non-null  float64\n",
            " 5   eu_sales         16713 non-null  float64\n",
            " 6   jp_sales         16713 non-null  float64\n",
            " 7   other_sales      16713 non-null  float64\n",
            " 8   critic_score     8137 non-null   float64\n",
            " 9   user_score       7590 non-null   float64\n",
            " 10  rating           16713 non-null  object \n",
            "dtypes: float64(7), object(4)\n",
            "memory usage: 1.4+ MB\n"
          ]
        }
      ],
      "source": [
        "game_data.info()"
      ]
    },
    {
      "cell_type": "markdown",
      "metadata": {
        "id": "udMMj2r4ys0M"
      },
      "source": [
        "Antes de continuar es necesario guardar las equivalencias de cada categoría de contenido en un diccionario para futuras referencias, para esto creamos la función `rating_categories` que devolverá los valores equivalentes de cada sigla de clasificación de contenido a través del condicional if. Luego crearemos una nueva columna `rating_esrb`, a la cual aplicaremos la función que hemos creado. Comprobamos que la función trabaje correctamente llamando al método value_counts en la nueva columna `rating_esrb`."
      ]
    },
    {
      "cell_type": "code",
      "execution_count": null,
      "metadata": {
        "id": "r8XuChl3ys0M",
        "outputId": "ec657a59-c8c0-41cb-844b-43466b4d9135"
      },
      "outputs": [
        {
          "data": {
            "text/plain": [
              "rating pending        6767\n",
              "everyone              3993\n",
              "teen                  2961\n",
              "mature                1563\n",
              "everyone 10 and up    1420\n",
              "early childhood          8\n",
              "adults only              1\n",
              "Name: rating_esrb, dtype: int64"
            ]
          },
          "execution_count": 98,
          "metadata": {},
          "output_type": "execute_result"
        }
      ],
      "source": [
        "def rating_categories(rating):\n",
        "\n",
        "    if rating == 'E':\n",
        "        return 'everyone'\n",
        "    if rating == 'M':\n",
        "        return 'mature'\n",
        "    if rating == 'T':\n",
        "        return 'teen'\n",
        "    if rating == 'E10+':\n",
        "        return 'everyone 10 and up'\n",
        "    if rating == 'AO':\n",
        "        return 'adults only'\n",
        "    if rating == 'EC':\n",
        "        return 'early childhood'\n",
        "    if rating == 'RP':\n",
        "        return 'rating pending'\n",
        "\n",
        "\n",
        "game_data['rating_esrb'] = game_data['rating'].apply(rating_categories)\n",
        "game_data['rating_esrb'].value_counts(dropna=False)"
      ]
    },
    {
      "cell_type": "markdown",
      "metadata": {
        "id": "i_0Qtj25ys0M"
      },
      "source": [
        "Se generaron los equivalentes de categorías correctamente, ahora a partir de la nueva columna generaremos un diccionario que guarde las equivalencias para futuras referencias, en este caso lo llamaremos `rating_dict`, este diccionario se formará a partir de un dataslice con las columnas rating y rating_esrb, al cual eliminaremos duplicados y utilizaremos el método reset_index."
      ]
    },
    {
      "cell_type": "code",
      "execution_count": null,
      "metadata": {
        "id": "SZpfb0UEys0M",
        "outputId": "63662355-256a-47de-f819-bd6bce7e6755"
      },
      "outputs": [
        {
          "data": {
            "text/html": [
              "<div>\n",
              "<style scoped>\n",
              "    .dataframe tbody tr th:only-of-type {\n",
              "        vertical-align: middle;\n",
              "    }\n",
              "\n",
              "    .dataframe tbody tr th {\n",
              "        vertical-align: top;\n",
              "    }\n",
              "\n",
              "    .dataframe thead th {\n",
              "        text-align: right;\n",
              "    }\n",
              "</style>\n",
              "<table border=\"1\" class=\"dataframe\">\n",
              "  <thead>\n",
              "    <tr style=\"text-align: right;\">\n",
              "      <th></th>\n",
              "      <th>rating</th>\n",
              "      <th>rating_esrb</th>\n",
              "    </tr>\n",
              "  </thead>\n",
              "  <tbody>\n",
              "    <tr>\n",
              "      <th>0</th>\n",
              "      <td>E</td>\n",
              "      <td>everyone</td>\n",
              "    </tr>\n",
              "    <tr>\n",
              "      <th>1</th>\n",
              "      <td>RP</td>\n",
              "      <td>rating pending</td>\n",
              "    </tr>\n",
              "    <tr>\n",
              "      <th>2</th>\n",
              "      <td>M</td>\n",
              "      <td>mature</td>\n",
              "    </tr>\n",
              "    <tr>\n",
              "      <th>3</th>\n",
              "      <td>T</td>\n",
              "      <td>teen</td>\n",
              "    </tr>\n",
              "    <tr>\n",
              "      <th>4</th>\n",
              "      <td>E10+</td>\n",
              "      <td>everyone 10 and up</td>\n",
              "    </tr>\n",
              "    <tr>\n",
              "      <th>5</th>\n",
              "      <td>AO</td>\n",
              "      <td>adults only</td>\n",
              "    </tr>\n",
              "    <tr>\n",
              "      <th>6</th>\n",
              "      <td>EC</td>\n",
              "      <td>early childhood</td>\n",
              "    </tr>\n",
              "  </tbody>\n",
              "</table>\n",
              "</div>"
            ],
            "text/plain": [
              "  rating         rating_esrb\n",
              "0      E            everyone\n",
              "1     RP      rating pending\n",
              "2      M              mature\n",
              "3      T                teen\n",
              "4   E10+  everyone 10 and up\n",
              "5     AO         adults only\n",
              "6     EC     early childhood"
            ]
          },
          "execution_count": 99,
          "metadata": {},
          "output_type": "execute_result"
        }
      ],
      "source": [
        "rating_dict = game_data[['rating', 'rating_esrb']]\n",
        "\n",
        "rating_dict = rating_dict.drop_duplicates().reset_index(drop=True)\n",
        "\n",
        "rating_dict"
      ]
    },
    {
      "cell_type": "markdown",
      "metadata": {
        "id": "2XvoPWv9ys0M"
      },
      "source": [
        "### Cálculo de ventas totales\n",
        "\n"
      ]
    },
    {
      "cell_type": "markdown",
      "metadata": {
        "id": "hzHy4yFhys0N"
      },
      "source": [
        "Ahora es necesario añadir una columna que contenga el valor de ventas totales por cada videojuego, para esto vamos a crear la columna `total_sales` que será igual a la suma de ventas en Norteamérica `na_sales`, Europa `eu_sales`, Japón `jp_sales` y en otros países `other_sales`."
      ]
    },
    {
      "cell_type": "code",
      "execution_count": null,
      "metadata": {
        "id": "saZ4dL4Oys0N"
      },
      "outputs": [],
      "source": [
        "game_data['total_sales'] = (game_data['na_sales'] +\n",
        "                           game_data['eu_sales'] +\n",
        "                           game_data['jp_sales'] +\n",
        "                           game_data['other_sales'])"
      ]
    },
    {
      "cell_type": "markdown",
      "metadata": {
        "id": "Zvd2THHhys0N"
      },
      "source": [
        "Llamamos al método head y comprobamos que se haya generado la nueva columna con las ventas totales."
      ]
    },
    {
      "cell_type": "code",
      "execution_count": null,
      "metadata": {
        "id": "WrscNLDuys0N",
        "outputId": "cbadd0e7-728f-45ce-9f9a-a2f12d4ddb9e"
      },
      "outputs": [
        {
          "data": {
            "text/html": [
              "<div>\n",
              "<style scoped>\n",
              "    .dataframe tbody tr th:only-of-type {\n",
              "        vertical-align: middle;\n",
              "    }\n",
              "\n",
              "    .dataframe tbody tr th {\n",
              "        vertical-align: top;\n",
              "    }\n",
              "\n",
              "    .dataframe thead th {\n",
              "        text-align: right;\n",
              "    }\n",
              "</style>\n",
              "<table border=\"1\" class=\"dataframe\">\n",
              "  <thead>\n",
              "    <tr style=\"text-align: right;\">\n",
              "      <th></th>\n",
              "      <th>name</th>\n",
              "      <th>platform</th>\n",
              "      <th>year_of_release</th>\n",
              "      <th>genre</th>\n",
              "      <th>na_sales</th>\n",
              "      <th>eu_sales</th>\n",
              "      <th>jp_sales</th>\n",
              "      <th>other_sales</th>\n",
              "      <th>critic_score</th>\n",
              "      <th>user_score</th>\n",
              "      <th>rating</th>\n",
              "      <th>rating_esrb</th>\n",
              "      <th>total_sales</th>\n",
              "    </tr>\n",
              "  </thead>\n",
              "  <tbody>\n",
              "    <tr>\n",
              "      <th>0</th>\n",
              "      <td>wii sports</td>\n",
              "      <td>wii</td>\n",
              "      <td>2006.0</td>\n",
              "      <td>sports</td>\n",
              "      <td>41.36</td>\n",
              "      <td>28.96</td>\n",
              "      <td>3.77</td>\n",
              "      <td>8.45</td>\n",
              "      <td>76.0</td>\n",
              "      <td>8.0</td>\n",
              "      <td>E</td>\n",
              "      <td>everyone</td>\n",
              "      <td>82.54</td>\n",
              "    </tr>\n",
              "    <tr>\n",
              "      <th>1</th>\n",
              "      <td>super mario bros.</td>\n",
              "      <td>nes</td>\n",
              "      <td>1985.0</td>\n",
              "      <td>platform</td>\n",
              "      <td>29.08</td>\n",
              "      <td>3.58</td>\n",
              "      <td>6.81</td>\n",
              "      <td>0.77</td>\n",
              "      <td>NaN</td>\n",
              "      <td>NaN</td>\n",
              "      <td>RP</td>\n",
              "      <td>rating pending</td>\n",
              "      <td>40.24</td>\n",
              "    </tr>\n",
              "    <tr>\n",
              "      <th>2</th>\n",
              "      <td>mario kart wii</td>\n",
              "      <td>wii</td>\n",
              "      <td>2008.0</td>\n",
              "      <td>racing</td>\n",
              "      <td>15.68</td>\n",
              "      <td>12.76</td>\n",
              "      <td>3.79</td>\n",
              "      <td>3.29</td>\n",
              "      <td>82.0</td>\n",
              "      <td>8.3</td>\n",
              "      <td>E</td>\n",
              "      <td>everyone</td>\n",
              "      <td>35.52</td>\n",
              "    </tr>\n",
              "    <tr>\n",
              "      <th>3</th>\n",
              "      <td>wii sports resort</td>\n",
              "      <td>wii</td>\n",
              "      <td>2009.0</td>\n",
              "      <td>sports</td>\n",
              "      <td>15.61</td>\n",
              "      <td>10.93</td>\n",
              "      <td>3.28</td>\n",
              "      <td>2.95</td>\n",
              "      <td>80.0</td>\n",
              "      <td>8.0</td>\n",
              "      <td>E</td>\n",
              "      <td>everyone</td>\n",
              "      <td>32.77</td>\n",
              "    </tr>\n",
              "    <tr>\n",
              "      <th>4</th>\n",
              "      <td>pokemon red/pokemon blue</td>\n",
              "      <td>gb</td>\n",
              "      <td>1996.0</td>\n",
              "      <td>role-playing</td>\n",
              "      <td>11.27</td>\n",
              "      <td>8.89</td>\n",
              "      <td>10.22</td>\n",
              "      <td>1.00</td>\n",
              "      <td>NaN</td>\n",
              "      <td>NaN</td>\n",
              "      <td>RP</td>\n",
              "      <td>rating pending</td>\n",
              "      <td>31.38</td>\n",
              "    </tr>\n",
              "  </tbody>\n",
              "</table>\n",
              "</div>"
            ],
            "text/plain": [
              "                       name platform  year_of_release         genre  na_sales  \\\n",
              "0                wii sports      wii           2006.0        sports     41.36   \n",
              "1         super mario bros.      nes           1985.0      platform     29.08   \n",
              "2            mario kart wii      wii           2008.0        racing     15.68   \n",
              "3         wii sports resort      wii           2009.0        sports     15.61   \n",
              "4  pokemon red/pokemon blue       gb           1996.0  role-playing     11.27   \n",
              "\n",
              "   eu_sales  jp_sales  other_sales  critic_score  user_score rating  \\\n",
              "0     28.96      3.77         8.45          76.0         8.0      E   \n",
              "1      3.58      6.81         0.77           NaN         NaN     RP   \n",
              "2     12.76      3.79         3.29          82.0         8.3      E   \n",
              "3     10.93      3.28         2.95          80.0         8.0      E   \n",
              "4      8.89     10.22         1.00           NaN         NaN     RP   \n",
              "\n",
              "      rating_esrb  total_sales  \n",
              "0        everyone        82.54  \n",
              "1  rating pending        40.24  \n",
              "2        everyone        35.52  \n",
              "3        everyone        32.77  \n",
              "4  rating pending        31.38  "
            ]
          },
          "execution_count": 101,
          "metadata": {},
          "output_type": "execute_result"
        }
      ],
      "source": [
        "game_data.head()"
      ]
    },
    {
      "cell_type": "markdown",
      "metadata": {
        "id": "abe6f5xIys0N"
      },
      "source": [
        "### Conclusiones\n",
        "\n",
        "- Se cambiaron los nombres de las columnas por sus equivalentes en letras minúsculas.\n",
        "- Se decidió eliminar los valores ausentes de las columnas `name` y `genre` ya que representaban solo el 0.01% del dataset y contenían información a la cual no se puede tener acceso por lo que va a ser difícil rellenar estos valores.\n",
        "- En la columnas `platform`, `genre` y `name` se cambiaron los valores por minúsculas siguiendo las reglas del buen estilo de programación, es mejor mantener todo en minúsculas.\n",
        "- Los valores ausentes de la columna `year_of_release` fueron rellenados con la moda de acuerdo a la plataforma del videojuego, ya que existen consolas que fueron lanzadas en ciertos períodos de tiempo, y se cambió el tipo de valor a entero.\n",
        "- En la columna `critic_score` se decidió mantener los valores ausentes, ya que no existe un valor real o cercano con el cual pueda ser reemplazado y la calificación depende del gusto o no del crítico, por lo que no existe una variable a partir de la cual se puedan rellenar estos valores. Estos valores ausentes pueden estar relacionados con que el crítico olvidó colocar su calificación o el videojuego fue presentado antes de tener un sistema de calificaciones para videojuegos.\n",
        "- En la columna `user_score` se cambiaron los valores tdb por NaN ya que son videojuegos de los cuales no se tiene una calificación y no se puede reemplazar este valor porque cambiaría los datos de la columna. A su vez, se decidió mantener los valores ausentes ya que la calificación de un usuario depende de la experiencia que tuvo con el videojuego y no de otras variables, si rellenamos con la media o mediana crearemos patrones irreales en los datos.\n",
        "- Finalmente, para la columna `rating` se generó un diccionario con los equivalentes de cada categoría de contenido, y se reemplazaron los valores ausentes por la categoría RP, ya que no existe un variable fiable para rellenar estos valores, esto considerando que la clasificación ESRB se crea en los 90s.\n",
        "\n",
        "\n",
        "## Comprobar datos limpios\n",
        "\n",
        "Ahora vamos a comprobar que nuestro dataset `game_data` no contenga valores ausentes y los tipos de dato sean los correctos, llamemos entonces al método info."
      ]
    },
    {
      "cell_type": "code",
      "execution_count": null,
      "metadata": {
        "id": "MzD13bC5ys0N",
        "outputId": "363344d4-d6ba-4afb-9914-6e8770d229cf"
      },
      "outputs": [
        {
          "name": "stdout",
          "output_type": "stream",
          "text": [
            "<class 'pandas.core.frame.DataFrame'>\n",
            "RangeIndex: 16713 entries, 0 to 16712\n",
            "Data columns (total 13 columns):\n",
            " #   Column           Non-Null Count  Dtype  \n",
            "---  ------           --------------  -----  \n",
            " 0   name             16713 non-null  object \n",
            " 1   platform         16713 non-null  object \n",
            " 2   year_of_release  16444 non-null  float64\n",
            " 3   genre            16713 non-null  object \n",
            " 4   na_sales         16713 non-null  float64\n",
            " 5   eu_sales         16713 non-null  float64\n",
            " 6   jp_sales         16713 non-null  float64\n",
            " 7   other_sales      16713 non-null  float64\n",
            " 8   critic_score     8137 non-null   float64\n",
            " 9   user_score       7590 non-null   float64\n",
            " 10  rating           16713 non-null  object \n",
            " 11  rating_esrb      16713 non-null  object \n",
            " 12  total_sales      16713 non-null  float64\n",
            "dtypes: float64(8), object(5)\n",
            "memory usage: 1.7+ MB\n"
          ]
        }
      ],
      "source": [
        "game_data.info()"
      ]
    },
    {
      "cell_type": "markdown",
      "metadata": {
        "id": "Qo9diXkLys0N"
      },
      "source": [
        "Nuestro dataset ahora cuenta con 16713 filas y 13 columnas, se eliminaron dos filas que presentaban valores ausentes que no podían ser correctamente rellenados por falta de información. Se generaron dos nuevas columnas `rating_esrb` que contiene el equivalente categórico para cada sigla de clasificación de contenido ESRB. También se generó una nueva columna con los valores de ventas totales de las cuatro regiones que se encuentran en este análisis.\n",
        "\n",
        "Finalmente comprobaremos si existen valores duplicados en nuestro dataset."
      ]
    },
    {
      "cell_type": "code",
      "execution_count": null,
      "metadata": {
        "id": "5G-lR5vvys0O",
        "outputId": "98d29ce2-2f44-4169-9a19-e66cf49f6118"
      },
      "outputs": [
        {
          "data": {
            "text/plain": [
              "0"
            ]
          },
          "execution_count": 103,
          "metadata": {},
          "output_type": "execute_result"
        }
      ],
      "source": [
        "game_data.duplicated().sum()"
      ]
    },
    {
      "cell_type": "markdown",
      "metadata": {
        "id": "zFCB8Sy7ys0O"
      },
      "source": [
        "Nuestro dataset no presenta valores duplicados, valores ausentes y los tipos de datos son correctos, vamos a seguir con el análisis de datos.\n",
        "\n",
        "## Análisis de datos\n",
        "\n"
      ]
    },
    {
      "cell_type": "markdown",
      "metadata": {
        "id": "28ed5VRVys0O"
      },
      "source": [
        "### Número de videojuegos por año\n",
        "\n",
        "Empecemos analizando el número de videojuegos que fueron lanzados durante cada año, para esto crearemos la tabla dinámica `games_by_year` que agrupará a los videojuegos por año y contará los valores correspodientes en la columna `name` a través del método count."
      ]
    },
    {
      "cell_type": "code",
      "execution_count": null,
      "metadata": {
        "id": "u2En7eoGys0O",
        "outputId": "251bf020-1507-4dce-e1b7-a152fe3ded16"
      },
      "outputs": [
        {
          "data": {
            "text/html": [
              "<div>\n",
              "<style scoped>\n",
              "    .dataframe tbody tr th:only-of-type {\n",
              "        vertical-align: middle;\n",
              "    }\n",
              "\n",
              "    .dataframe tbody tr th {\n",
              "        vertical-align: top;\n",
              "    }\n",
              "\n",
              "    .dataframe thead th {\n",
              "        text-align: right;\n",
              "    }\n",
              "</style>\n",
              "<table border=\"1\" class=\"dataframe\">\n",
              "  <thead>\n",
              "    <tr style=\"text-align: right;\">\n",
              "      <th></th>\n",
              "      <th>name</th>\n",
              "    </tr>\n",
              "    <tr>\n",
              "      <th>year_of_release</th>\n",
              "      <th></th>\n",
              "    </tr>\n",
              "  </thead>\n",
              "  <tbody>\n",
              "    <tr>\n",
              "      <th>1980.0</th>\n",
              "      <td>9</td>\n",
              "    </tr>\n",
              "    <tr>\n",
              "      <th>1981.0</th>\n",
              "      <td>46</td>\n",
              "    </tr>\n",
              "    <tr>\n",
              "      <th>1982.0</th>\n",
              "      <td>36</td>\n",
              "    </tr>\n",
              "    <tr>\n",
              "      <th>1983.0</th>\n",
              "      <td>17</td>\n",
              "    </tr>\n",
              "    <tr>\n",
              "      <th>1984.0</th>\n",
              "      <td>14</td>\n",
              "    </tr>\n",
              "    <tr>\n",
              "      <th>1985.0</th>\n",
              "      <td>14</td>\n",
              "    </tr>\n",
              "    <tr>\n",
              "      <th>1986.0</th>\n",
              "      <td>21</td>\n",
              "    </tr>\n",
              "    <tr>\n",
              "      <th>1987.0</th>\n",
              "      <td>16</td>\n",
              "    </tr>\n",
              "    <tr>\n",
              "      <th>1988.0</th>\n",
              "      <td>15</td>\n",
              "    </tr>\n",
              "    <tr>\n",
              "      <th>1989.0</th>\n",
              "      <td>17</td>\n",
              "    </tr>\n",
              "    <tr>\n",
              "      <th>1990.0</th>\n",
              "      <td>16</td>\n",
              "    </tr>\n",
              "    <tr>\n",
              "      <th>1991.0</th>\n",
              "      <td>41</td>\n",
              "    </tr>\n",
              "    <tr>\n",
              "      <th>1992.0</th>\n",
              "      <td>43</td>\n",
              "    </tr>\n",
              "    <tr>\n",
              "      <th>1993.0</th>\n",
              "      <td>60</td>\n",
              "    </tr>\n",
              "    <tr>\n",
              "      <th>1994.0</th>\n",
              "      <td>121</td>\n",
              "    </tr>\n",
              "    <tr>\n",
              "      <th>1995.0</th>\n",
              "      <td>219</td>\n",
              "    </tr>\n",
              "    <tr>\n",
              "      <th>1996.0</th>\n",
              "      <td>263</td>\n",
              "    </tr>\n",
              "    <tr>\n",
              "      <th>1997.0</th>\n",
              "      <td>289</td>\n",
              "    </tr>\n",
              "    <tr>\n",
              "      <th>1998.0</th>\n",
              "      <td>379</td>\n",
              "    </tr>\n",
              "    <tr>\n",
              "      <th>1999.0</th>\n",
              "      <td>338</td>\n",
              "    </tr>\n",
              "    <tr>\n",
              "      <th>2000.0</th>\n",
              "      <td>350</td>\n",
              "    </tr>\n",
              "    <tr>\n",
              "      <th>2001.0</th>\n",
              "      <td>482</td>\n",
              "    </tr>\n",
              "    <tr>\n",
              "      <th>2002.0</th>\n",
              "      <td>829</td>\n",
              "    </tr>\n",
              "    <tr>\n",
              "      <th>2003.0</th>\n",
              "      <td>775</td>\n",
              "    </tr>\n",
              "    <tr>\n",
              "      <th>2004.0</th>\n",
              "      <td>762</td>\n",
              "    </tr>\n",
              "    <tr>\n",
              "      <th>2005.0</th>\n",
              "      <td>939</td>\n",
              "    </tr>\n",
              "    <tr>\n",
              "      <th>2006.0</th>\n",
              "      <td>1006</td>\n",
              "    </tr>\n",
              "    <tr>\n",
              "      <th>2007.0</th>\n",
              "      <td>1197</td>\n",
              "    </tr>\n",
              "    <tr>\n",
              "      <th>2008.0</th>\n",
              "      <td>1427</td>\n",
              "    </tr>\n",
              "    <tr>\n",
              "      <th>2009.0</th>\n",
              "      <td>1426</td>\n",
              "    </tr>\n",
              "    <tr>\n",
              "      <th>2010.0</th>\n",
              "      <td>1255</td>\n",
              "    </tr>\n",
              "    <tr>\n",
              "      <th>2011.0</th>\n",
              "      <td>1136</td>\n",
              "    </tr>\n",
              "    <tr>\n",
              "      <th>2012.0</th>\n",
              "      <td>653</td>\n",
              "    </tr>\n",
              "    <tr>\n",
              "      <th>2013.0</th>\n",
              "      <td>544</td>\n",
              "    </tr>\n",
              "    <tr>\n",
              "      <th>2014.0</th>\n",
              "      <td>581</td>\n",
              "    </tr>\n",
              "    <tr>\n",
              "      <th>2015.0</th>\n",
              "      <td>606</td>\n",
              "    </tr>\n",
              "    <tr>\n",
              "      <th>2016.0</th>\n",
              "      <td>502</td>\n",
              "    </tr>\n",
              "  </tbody>\n",
              "</table>\n",
              "</div>"
            ],
            "text/plain": [
              "                 name\n",
              "year_of_release      \n",
              "1980.0              9\n",
              "1981.0             46\n",
              "1982.0             36\n",
              "1983.0             17\n",
              "1984.0             14\n",
              "1985.0             14\n",
              "1986.0             21\n",
              "1987.0             16\n",
              "1988.0             15\n",
              "1989.0             17\n",
              "1990.0             16\n",
              "1991.0             41\n",
              "1992.0             43\n",
              "1993.0             60\n",
              "1994.0            121\n",
              "1995.0            219\n",
              "1996.0            263\n",
              "1997.0            289\n",
              "1998.0            379\n",
              "1999.0            338\n",
              "2000.0            350\n",
              "2001.0            482\n",
              "2002.0            829\n",
              "2003.0            775\n",
              "2004.0            762\n",
              "2005.0            939\n",
              "2006.0           1006\n",
              "2007.0           1197\n",
              "2008.0           1427\n",
              "2009.0           1426\n",
              "2010.0           1255\n",
              "2011.0           1136\n",
              "2012.0            653\n",
              "2013.0            544\n",
              "2014.0            581\n",
              "2015.0            606\n",
              "2016.0            502"
            ]
          },
          "execution_count": 104,
          "metadata": {},
          "output_type": "execute_result"
        }
      ],
      "source": [
        "games_by_year =  game_data.pivot_table(index='year_of_release', values='name', aggfunc='count')\n",
        "games_by_year"
      ]
    },
    {
      "cell_type": "markdown",
      "metadata": {
        "id": "bk7TUPlmys0O"
      },
      "source": [
        "Graficamos estos resultados utilizando la función plot en nuestra tabla dinámica `games_by_year`, para esto utilizaremos un gráfico de barras."
      ]
    },
    {
      "cell_type": "code",
      "execution_count": null,
      "metadata": {
        "id": "fvH8cBRHys0O",
        "outputId": "70102e94-0325-44c3-eb8c-d2d34f825478"
      },
      "outputs": [
        {
          "data": {
            "image/png": "[encoded data removed]",
            "text/plain": [
              "<Figure size 1080x576 with 1 Axes>"
            ]
          },
          "metadata": {
            "needs_background": "light"
          },
          "output_type": "display_data"
        }
      ],
      "source": [
        "games_by_year.plot(kind='bar', figsize=(15,8))\n",
        "plt.ylabel('number_of_videogames')\n",
        "plt.title('Número de videojuegos lanzados al año')\n",
        "plt.show()"
      ]
    },
    {
      "cell_type": "markdown",
      "metadata": {
        "id": "seZ-Omadys0O"
      },
      "source": [
        "En el gráfico `Número de videojuegos lanzados por año` se puede observar que desde 1980 hasta 1994 se lanzaban menos de 200 videojuegos al año, a partir de 1995 este patrón cambia, y se observa un incremento en el número de videojuegos lanzados, con un número aproximado de 200 a 400 videojuegos al año, desde 1995 hasta el 2000. En el año 2001 se lanzan más de 400 videojuegos, y en el año 2002 se observa un cambio significativo, con cerca de 900 videojuegos promocionados en un solo año. Hay una ligera disminución en los años 2003 y 2004, pero esto cambia en el año 2005, a partir del cual se observa un incremento gradual del número de videojuego lanzados, por encima de los 900 anuales; hasta llegar a los picos más altos registrados que corresponden a los años 2008 y 2009, los cuales registran más de 1400 videojuegos lanzados. Finalemente, a partir del 2010, disminuye gradualmente el número de videojuegos hasta llegar al 2016, que registró un total de cerca de 500 videojuegos lanzados en ese año.\n",
        "\n",
        "### Ventas anuales de videojuegos por plataforma"
      ]
    },
    {
      "cell_type": "markdown",
      "metadata": {
        "id": "s6bhzM9wys0O"
      },
      "source": [
        "Ahora observemos como se comportan las ventas entre las diferentes plataformas. Para esto vamos a crear la tabla dinámica `platform_by_total_sales` que agrupará las ventas totales en función de cada plataforma y calculará la suma total de ventas. También trazaremos un gráfico de barras con la función plot de pandas. A partir de estos valores, escogeremos las cinco principales plataformas con mayores ventas totales."
      ]
    },
    {
      "cell_type": "code",
      "execution_count": null,
      "metadata": {
        "id": "NZE83kwEys0P",
        "outputId": "de7461b4-ac63-41c7-bf21-e1fa1a82bf87"
      },
      "outputs": [
        {
          "data": {
            "text/html": [
              "<div>\n",
              "<style scoped>\n",
              "    .dataframe tbody tr th:only-of-type {\n",
              "        vertical-align: middle;\n",
              "    }\n",
              "\n",
              "    .dataframe tbody tr th {\n",
              "        vertical-align: top;\n",
              "    }\n",
              "\n",
              "    .dataframe thead th {\n",
              "        text-align: right;\n",
              "    }\n",
              "</style>\n",
              "<table border=\"1\" class=\"dataframe\">\n",
              "  <thead>\n",
              "    <tr style=\"text-align: right;\">\n",
              "      <th></th>\n",
              "      <th>total_sales</th>\n",
              "    </tr>\n",
              "    <tr>\n",
              "      <th>platform</th>\n",
              "      <th></th>\n",
              "    </tr>\n",
              "  </thead>\n",
              "  <tbody>\n",
              "    <tr>\n",
              "      <th>ps2</th>\n",
              "      <td>1255.77</td>\n",
              "    </tr>\n",
              "    <tr>\n",
              "      <th>x360</th>\n",
              "      <td>971.42</td>\n",
              "    </tr>\n",
              "    <tr>\n",
              "      <th>ps3</th>\n",
              "      <td>939.65</td>\n",
              "    </tr>\n",
              "    <tr>\n",
              "      <th>wii</th>\n",
              "      <td>907.51</td>\n",
              "    </tr>\n",
              "    <tr>\n",
              "      <th>ds</th>\n",
              "      <td>806.12</td>\n",
              "    </tr>\n",
              "    <tr>\n",
              "      <th>ps</th>\n",
              "      <td>730.86</td>\n",
              "    </tr>\n",
              "    <tr>\n",
              "      <th>gba</th>\n",
              "      <td>317.85</td>\n",
              "    </tr>\n",
              "    <tr>\n",
              "      <th>ps4</th>\n",
              "      <td>314.14</td>\n",
              "    </tr>\n",
              "    <tr>\n",
              "      <th>psp</th>\n",
              "      <td>294.05</td>\n",
              "    </tr>\n",
              "    <tr>\n",
              "      <th>pc</th>\n",
              "      <td>259.52</td>\n",
              "    </tr>\n",
              "  </tbody>\n",
              "</table>\n",
              "</div>"
            ],
            "text/plain": [
              "          total_sales\n",
              "platform             \n",
              "ps2           1255.77\n",
              "x360           971.42\n",
              "ps3            939.65\n",
              "wii            907.51\n",
              "ds             806.12\n",
              "ps             730.86\n",
              "gba            317.85\n",
              "ps4            314.14\n",
              "psp            294.05\n",
              "pc             259.52"
            ]
          },
          "execution_count": 106,
          "metadata": {},
          "output_type": "execute_result"
        }
      ],
      "source": [
        "platform_by_total_sales = game_data.pivot_table(index='platform', values='total_sales', aggfunc='sum')\n",
        "platform_by_total_sales = platform_by_total_sales.sort_values(by='total_sales', ascending=False)\n",
        "platform_by_total_sales.head(10)"
      ]
    },
    {
      "cell_type": "code",
      "execution_count": null,
      "metadata": {
        "id": "LkdoEj-vys0P",
        "outputId": "4e43b033-b2c7-4c3f-d157-982f860ed6e2"
      },
      "outputs": [
        {
          "data": {
            "image/png": "[encoded data removed]",
            "text/plain": [
              "<Figure size 1080x720 with 1 Axes>"
            ]
          },
          "metadata": {
            "needs_background": "light"
          },
          "output_type": "display_data"
        }
      ],
      "source": [
        "platform_by_total_sales.plot(kind='bar', figsize=(15,10))\n",
        "plt.title('Ventas totales por plataforma')\n",
        "plt.ylabel('total_sales')\n",
        "plt.show()"
      ]
    },
    {
      "cell_type": "markdown",
      "metadata": {
        "id": "FXF7wPvMys0P"
      },
      "source": [
        "En nuestra tabla dinámica podemos observar las plataformas que generan más ventas: `ps2`, `x360`, `ps3`, `wii` y `ds`. Siendo ps2 la que genera la mayor cantidad de ventas con 1255 millones de dólares totales. Las siguientes cuatro plataformas generan todas más de 900 millones en ventas. En base a estas cinco plataformas, vamos a construir distribuciones basadas en cada año, y determinaremos el tiempo de popularidad de cada plataforma, estableciendo cuánto tardan generalmente las nuevas plataformas en aparecer y las antiguas en desaparecer.\n",
        "\n",
        "Para lograr esto, vamos a generar gráficos de barras de las ventas totales por años de las cinco plataformas mencionadas, por lo cual construiremos la función `platform_func` que filtrará nuestro dataset `game_data` por cada plataforma, y creará una tabla dinámica que agrupe cada plataforma por sus ventas totales al año, en base a esto trazará un gráfico de barras a través de la función plot de pandas. Los argumentos que presentará la función son los siguientes:\n",
        "\n",
        "- `df`: nombre del dataset\n",
        "- `platform`: nombre de la plataforma"
      ]
    },
    {
      "cell_type": "code",
      "execution_count": null,
      "metadata": {
        "id": "PGnoDI8vys0P"
      },
      "outputs": [],
      "source": [
        "def platform_func(df, platform):\n",
        "    platform_filtered = df.query('platform == @platform')\n",
        "\n",
        "    platform_by_year = platform_filtered.pivot_table(index='year_of_release', values='total_sales', aggfunc='sum')\n",
        "\n",
        "    platform_by_year.plot(kind='bar', figsize=(10,5), title=f'{platform} sales', color='mediumseagreen')\n",
        "    plt.ylabel('total_sales')\n",
        "    plt.show()"
      ]
    },
    {
      "cell_type": "markdown",
      "metadata": {
        "id": "89u4FLsoys0P"
      },
      "source": [
        "Ahora aplicaremos la función `platform_func` a las plataformas ps2, x360, ps3, wii y ds, y estableceremos patrones de ventas a lo largo de los años."
      ]
    },
    {
      "cell_type": "code",
      "execution_count": null,
      "metadata": {
        "id": "lAV9vd-iys0P",
        "outputId": "ef62e9c2-ae32-495e-fdd9-af98ce98ac2f"
      },
      "outputs": [
        {
          "data": {
            "image/png": "[encoded data removed]",
            "text/plain": [
              "<Figure size 720x360 with 1 Axes>"
            ]
          },
          "metadata": {
            "needs_background": "light"
          },
          "output_type": "display_data"
        }
      ],
      "source": [
        "platform_func(game_data, 'ps2')"
      ]
    },
    {
      "cell_type": "markdown",
      "metadata": {
        "id": "T0H6Ppg4ys0Q"
      },
      "source": [
        "La plataforma ps2 o PlayStation 2 aparece en el año 2000, alcanzando su mayor pico de ventas en el año 2002. Sus ventas totales se mantienen por encima de los 150 millones de dólares hasta el año 2005, a partir del año 2006 sus ventas bajan gradualmente hasta que sus ventas se vuelven cercanas a cero o desaparecen en el año 2011. A esta plataforma le tomó tres años volverse popular, mantuvo durante cinco años sus ventas por encima de 150 millones, y después de 10 años sus ventas empezaron a decaer."
      ]
    },
    {
      "cell_type": "code",
      "execution_count": null,
      "metadata": {
        "id": "GpjPFsC1ys0Q",
        "outputId": "11e5a770-2e7a-4756-81b4-142e37b78d56"
      },
      "outputs": [
        {
          "data": {
            "image/png": "[encoded data removed]",
            "text/plain": [
              "<Figure size 720x360 with 1 Axes>"
            ]
          },
          "metadata": {
            "needs_background": "light"
          },
          "output_type": "display_data"
        }
      ],
      "source": [
        "platform_func(game_data, 'x360')"
      ]
    },
    {
      "cell_type": "markdown",
      "metadata": {
        "id": "yHKLc9Jgys0Q"
      },
      "source": [
        "Para la plataforma x360, conocida como Xbox360, aparece en el mercado en el año 2005, sus ventas empiezan a incrementar gradualmente hasta que en el año 2010 se registran ventas por encima de los 160 millones de dólares. Después del 2010, sus ventas bajan gradualmente hasta que a partir del 2015 sus ventas se encuentran por debajo de los 20 millones de dólares. A esta plataforma, le tomó seis años posicionarse en el mercado de videojuegos, mantuvo durante cuatro años ventas por encima de los 100 millones de dólares, y le tomó 10 años alcanzar ventas bajas."
      ]
    },
    {
      "cell_type": "code",
      "execution_count": null,
      "metadata": {
        "id": "pyJj9lB8ys0Q",
        "outputId": "439ea7b4-b169-45ec-e3f8-41523f40fa65"
      },
      "outputs": [
        {
          "data": {
            "image/png": "[encoded data removed]",
            "text/plain": [
              "<Figure size 720x360 with 1 Axes>"
            ]
          },
          "metadata": {
            "needs_background": "light"
          },
          "output_type": "display_data"
        }
      ],
      "source": [
        "platform_func(game_data, 'ps3')"
      ]
    },
    {
      "cell_type": "markdown",
      "metadata": {
        "id": "7rEoaRipys0Q"
      },
      "source": [
        "La plataforma ps3 o PlayStation 3 se posiciona en el mercado de entretenimiento en el año 2006, y alcanza su pico máximo de ventas en el año 2011, con más de 160 millones de dólares en ventas. A partir del año 2012 sus ventas decaen a 100 millones de dólares, y a partir del año 2013 sus ventas caen gradualemente hasta alcanzar menos de 20 millones de dólares en ventas en el año 2006. A esta plataforma le tomaron 6 años posicionarse en el mercado, mantuvo durante seis años ventas superiores a los 100 millones, y le tomó 10 años desaparecer por bajas en sus ventas totales."
      ]
    },
    {
      "cell_type": "code",
      "execution_count": null,
      "metadata": {
        "id": "l0bg59iEys0Q",
        "outputId": "47d7df21-bdc3-43f9-97a6-02fe644d5a09"
      },
      "outputs": [
        {
          "data": {
            "image/png": "[encoded data removed]",
            "text/plain": [
              "<Figure size 720x360 with 1 Axes>"
            ]
          },
          "metadata": {
            "needs_background": "light"
          },
          "output_type": "display_data"
        }
      ],
      "source": [
        "platform_func(game_data, 'wii')"
      ]
    },
    {
      "cell_type": "markdown",
      "metadata": {
        "id": "IVHvusosys0Q"
      },
      "source": [
        "Para el año 2006 la plataforma Nintendo Wii aparece en el mercado con ventas superiores a los 100 millones de dólares en el primer año, estas ventas se mantiene hasta alcanzar el pico más alto en 2009, con más de 200 millones de dólares en ventas. Luego se produce una caída en las ventas para el año 2010, y a partir del año 2012 las ventas decaen significativamente hasta desaperecer en el año 2015. Wii empezó con un buen posicionamiento en el mercado y le tomó cuatro años alcanzar la máxima popularidad en ventas, estas se mantuvieron por encima de los 100 millones durante cinco años, pero después de 8 años las ventas empiezan a bajar hasta desaperecer para el año 2015."
      ]
    },
    {
      "cell_type": "code",
      "execution_count": null,
      "metadata": {
        "id": "bAN1rwCHys0Q",
        "outputId": "0199c684-b414-412a-8371-4430b2987b94"
      },
      "outputs": [
        {
          "data": {
            "image/png": "[encoded data removed]",
            "text/plain": [
              "<Figure size 720x360 with 1 Axes>"
            ]
          },
          "metadata": {
            "needs_background": "light"
          },
          "output_type": "display_data"
        }
      ],
      "source": [
        "platform_func(game_data, 'ds')"
      ]
    },
    {
      "cell_type": "markdown",
      "metadata": {
        "id": "cec8FmIvys0R"
      },
      "source": [
        "En el caso de Nintendo DS, aparece en el mercado en el año 2004, para el año 2005 sus ventas sobrepasan los 120 millones de dólares, y durantes los años 2007 y 2008 llega a más de 140 millones en ventas, a partir de 2009 sus ventas disminuyen gradualmente, y desaparece para el año 2013. A DS le tomó cuatro años alcanzar ventas altas, se mantuvo durante cinco años con ventas superiores a los 100 millones, y después de diez años su popularidad disminuyó y sus ventas bajaron.\n",
        "\n",
        "En base a los gráficos de barras para las cinco plataformas con mayores ventas totales, podemos concluir que a una plataforma nueva le toma de 4 a 6 años posicionarse en el mercado y alcanzar los picos más altos de venta, exceptuando los casos de PlayStation 2 o Wii que tuvieron ventas altas a los pocos años de aparecer. Por otro lado, entre a los 8 a 10 años disminuye la popularidad de los videojuegos y sus ventas disminuyen hasta desaparecer del mercado.\n",
        "\n",
        "Finalmente, determinaremos los videojuegos que fueron populares pero ahora no tienen ventas, para esto crearemos una tabla dinámica `sales_year_platform` que agrupe las ventas totales por plataforma y año, a partir de la cual trazaremos un heatmap o mapa de calor, a través de la función heatmap de la librería seaborn."
      ]
    },
    {
      "cell_type": "code",
      "execution_count": null,
      "metadata": {
        "id": "YfbY4V_ays0R",
        "outputId": "e6be0f0f-cbd4-4a65-e23a-0757b7c77290"
      },
      "outputs": [
        {
          "data": {
            "image/png": "[encoded data removed]",
            "text/plain": [
              "<Figure size 1080x720 with 2 Axes>"
            ]
          },
          "metadata": {
            "needs_background": "light"
          },
          "output_type": "display_data"
        }
      ],
      "source": [
        "sales_year_platform = (game_data.pivot_table(index='platform',\n",
        "                                             columns='year_of_release',\n",
        "                                             values='total_sales',\n",
        "                                             aggfunc='sum').fillna(0))\n",
        "\n",
        "plt.figure(figsize=(15,10))\n",
        "sns.heatmap(sales_year_platform, cmap='YlGnBu')\n",
        "plt.title('Ventas totales por plataforma al año')\n",
        "plt.show()"
      ]
    },
    {
      "cell_type": "markdown",
      "metadata": {
        "id": "Brh15weYys0R"
      },
      "source": [
        "Un mapa de calor nos permite una fácil visualización de un fenómeno en dos dimensiones, en este caso en el eje x tenemos el año de lanzamiento, en el eje y la plataforma y los colores varían dependiendo de las ventas totales en cada año, un azul más pálido representa ventas bajas entre 0 a 50 millones; un azul oscuro, ventas altas de más de 150 millones. Es así que podemos observar aquellas plataformas que fueron populares pero ya no lo son, como la consola nes, 2600, gb, snes, xb, ps, sat, gen o pcfx. Las plataformas que llegan a generar ventas elevadas son dc, ps, ps2, ps3, ps4, wii, x360 y xb. Se confirma que la popularidad de un videojuego dura 10 años, y alcanza su pico de ventas más alto alrededor de los 4 a 6 años."
      ]
    },
    {
      "cell_type": "markdown",
      "metadata": {
        "id": "TzXNtxypys0R"
      },
      "source": [
        "### Elección del período de ventas\n",
        "\n",
        "Previamente determinamos que a partir del año 2000 incrementa el número de videojuego lanzados por año, estableciéndose por encima de los 400 videojuegos anuales. Este valor alcanzó su pico máximo en los años 2008 y 2009, con más de 1400 videojuegos lanzados en cada año. A su vez, se pudo comprobar que a un videojuego le toma un período de 4 a 6 años posicionarse en el mercado y de 8 a 10 años desaparecer. Considerando todo esto, vamos a trabajar con el período comprendido entre el año 2011 hasta el 2016, para generar predicciones del año 2017. De esta manera, podemos detectar aquellos videojuegos que están entrando en un declive de ventas, ya que están cumpliendo 10 años en el mercado. También podremos detectar videojuegos en el pico de sus ventas o que están empezando a alcanzar popularidad generando ventas más elevadas.\n",
        "\n",
        "En base a esto, vamos a generar un dataset con el período de ventas comprendido entre 2006 hasta 2016, aplicaremos un query con esta condición y lo guardaremos en la variable `relevant_games`."
      ]
    },
    {
      "cell_type": "code",
      "execution_count": null,
      "metadata": {
        "id": "x_LOUVNWys0R",
        "scrolled": false
      },
      "outputs": [],
      "source": [
        "relevant_games = game_data.query('year_of_release >= 2006')"
      ]
    },
    {
      "cell_type": "code",
      "execution_count": null,
      "metadata": {
        "id": "c60zSMedys0R",
        "outputId": "f14d7a90-7810-498e-8f50-a0d6c8335d8d"
      },
      "outputs": [
        {
          "name": "stdout",
          "output_type": "stream",
          "text": [
            "<class 'pandas.core.frame.DataFrame'>\n",
            "Int64Index: 10333 entries, 0 to 16712\n",
            "Data columns (total 13 columns):\n",
            " #   Column           Non-Null Count  Dtype  \n",
            "---  ------           --------------  -----  \n",
            " 0   name             10333 non-null  object \n",
            " 1   platform         10333 non-null  object \n",
            " 2   year_of_release  10333 non-null  float64\n",
            " 3   genre            10333 non-null  object \n",
            " 4   na_sales         10333 non-null  float64\n",
            " 5   eu_sales         10333 non-null  float64\n",
            " 6   jp_sales         10333 non-null  float64\n",
            " 7   other_sales      10333 non-null  float64\n",
            " 8   critic_score     4990 non-null   float64\n",
            " 9   user_score       4955 non-null   float64\n",
            " 10  rating           10333 non-null  object \n",
            " 11  rating_esrb      10333 non-null  object \n",
            " 12  total_sales      10333 non-null  float64\n",
            "dtypes: float64(8), object(5)\n",
            "memory usage: 1.1+ MB\n"
          ]
        }
      ],
      "source": [
        "relevant_games.info()"
      ]
    },
    {
      "cell_type": "markdown",
      "metadata": {
        "id": "0qNr-LTBys0R"
      },
      "source": [
        "### Plataformas potencialmente rentables\n",
        "\n",
        "En base a nuestro dataslice `relevant_games` con los períodos de tiempo más importantes desde 2006 hasta 2016, vamos a establecer las plataformas potencialmente rentables que generarán ventas en el año 2017. Para esto crearemos la tabla dinámica `platform_by_year`, que agrupará las ventas totales en función del año y la plataforma."
      ]
    },
    {
      "cell_type": "code",
      "execution_count": null,
      "metadata": {
        "id": "D4cZm7uWys0S"
      },
      "outputs": [],
      "source": [
        "platform_by_year = (relevant_games.pivot_table(index='year_of_release',\n",
        "                                               columns='platform',\n",
        "                                               values='total_sales',\n",
        "                                               aggfunc='sum'\n",
        "                                              ))\n",
        "platform_by_year"
      ]
    },
    {
      "cell_type": "markdown",
      "metadata": {
        "id": "w_Dvdbl_ys0S"
      },
      "source": [
        "En base a esta tabla dinámica vamos a generar gráficos de líneas que nos permitan distinguir las fluctuaciones de ventas a lo largo de estos 10 años en cada plataforma. Para esto utilizaremos la función plot de pandas, y generaremos dos gráficos para una mejor visualización de las diferencias entre plataformas. Agruparemos las ocho primeras plataformas en la variable `first_group` y las restantes en la variable `second_group`."
      ]
    },
    {
      "cell_type": "code",
      "execution_count": null,
      "metadata": {
        "id": "VhghiiL0ys0S"
      },
      "outputs": [],
      "source": [
        "first_group = platform_by_year[['3ds', 'dc', 'ds', 'gba', 'gc', 'pc', 'ps2', 'ps3']]\n",
        "\n",
        "first_group.plot(kind='line', figsize=(12,6), grid=True, colormap='Dark2')\n",
        "plt.ylabel('total_sales')\n",
        "plt.title('Ventas anuales por plataforma 1')\n",
        "plt.show()"
      ]
    },
    {
      "cell_type": "markdown",
      "metadata": {
        "id": "2EhwBLxsys0S"
      },
      "source": [
        "En el primer gráfico de líneas podemos observar que ps3 es la plataforma que genera mayor cantidad de ventas pero para el año 2016 sus ventas disminuyen sustancialmente. Las plataformas ds y ps2 generan ingresos altos pero sus ventas decaen y desaparecen antes de llegar a 2014. A su vez, gc, gba y dc están en el período de reducción de ventas, y para el año 2008 no generan más ingresos.\n",
        "\n",
        "Se pueden distinguir dos plataformas que pueden ser rentables, la plataforma pc mantiene ventas constantes a lo largo de los 10 años, siendo su pico más alto en el año 2011, pero no se observa una reducción drástica de sus ventas hasta desaparecer. Otra plataforma rentable sería 3ds ya que aparece en el año 2011, y considerando que a una plataforma le toma hasta seis años llegar al pico de ventas, quizás todavía habría oportunidad de incrementar sus ventas, ya que es relativamente nueva."
      ]
    },
    {
      "cell_type": "code",
      "execution_count": null,
      "metadata": {
        "id": "wcwG4I4Pys0S"
      },
      "outputs": [],
      "source": [
        "second_group = platform_by_year[['ps4', 'psp', 'psv', 'wii', 'wiiu', 'x360', 'xb', 'xone']]\n",
        "\n",
        "second_group.plot(kind='line', figsize=(12,6), grid=True, colormap='Dark2')\n",
        "plt.ylabel('total_sales')\n",
        "plt.title('Ventas anuales por plataforma 2')\n",
        "plt.show()"
      ]
    },
    {
      "cell_type": "markdown",
      "metadata": {
        "id": "Mpvpx-voys0S"
      },
      "source": [
        "En el segundo gráfico nos encontramos con las plataformas wii y x360, las cuales tienen los picos más altos de ventas anuales totales, sin embargo para el año 2016 estas ventas se reducen, lo que coindice con el período promedio de 10 años de una plataforma en desaparecer. La plataforma xb parece estar en los últimos años de popularidad en ventas, a su vez psp presenta el patrón de ventas de una plataforma que está desapareciendo, con ventas en cero a partir de 2014. Se observan plataformas recientes como psv y wiiu, que surgen a inicios de los 2010s, encontrándonse en sus primeros años de ventas, antes de poder alcanzar el pico más alto  y faltan varios años para que se produzca un declive en ventas.\n",
        "\n",
        "También se puede observar dos plataformas altamente rentables ps4 y xone, que aparecen en el año 2013, son plataformas recientes de tan solo cuatro años, por lo que para el año 2017 podrían generar más ventas y alcanzar el pico más alto en los próximos años. La disminución de ventas en el año 2016 puede estar relacionado a que no se tiene datos de ventas completas realizadas para este año, por lo que esta bajada en ventas puede ser simplemente la falta de información.\n",
        "\n",
        "Podemos concluir que existen cinco plataformas potencialmente rentables: `3ds`, `ps4`, `xone`, `wiiu` y `psv`. Son plataformas nuevas que aparecen en el mercado en el año 2011, todavía no alcanzan su pico máximo, por lo que generarían ventas en el año 2017. También se podría considerar la plataforma pc ya que mantiene ventas a lo largo de los 10 años, sin presentar una reducción tan marcada.\n",
        "\n",
        "Antes de tomar una decisión vamos a analizar más de cerca las distribuciones de las seis plataformas para esto generaremos seis gráficos de barras, a partir de un slice de la tabla dinámica `platform_by_year` que contenga las seis plataformas de interés. Posteriormente vamos a generar gráficos a través de la función subplots de pyplot y plot de pandas."
      ]
    },
    {
      "cell_type": "code",
      "execution_count": null,
      "metadata": {
        "id": "hnMruIMQys0T"
      },
      "outputs": [],
      "source": [
        "profit_platforms = platform_by_year[['3ds', 'ps4', 'xone', 'wiiu', 'psv', 'pc']]"
      ]
    },
    {
      "cell_type": "code",
      "execution_count": null,
      "metadata": {
        "id": "QG0qE30qys0T"
      },
      "outputs": [],
      "source": [
        "# Determinamos el número de filas y columnas para graficar los seis gráficos de barra\n",
        "fig, axes = plt.subplots(3, 2, figsize=(20, 20))\n",
        "\n",
        "#Trazamos los seis gráficos especificando los ejes y eliminando ausentes para mostrar solo el período de interés\n",
        "profit_platforms['3ds'].dropna().plot(kind='bar', ax=axes[0, 0]).set_title('3ds')\n",
        "profit_platforms['ps4'].dropna().plot(kind='bar', ax=axes[0, 1]).set_title('ps4')\n",
        "profit_platforms['xone'].dropna().plot(kind='bar', ax=axes[1, 0]).set_title('xone')\n",
        "profit_platforms['wiiu'].dropna().plot(kind='bar', ax=axes[1, 1]).set_title('wiiu')\n",
        "profit_platforms['psv'].dropna().plot(kind='bar', ax=axes[2, 0]).set_title('psv')\n",
        "profit_platforms['pc'].dropna().plot(kind='bar', ax=axes[2, 1]).set_title('pc')\n",
        "\n",
        "#Bucle for para establecer los nombres de los ejes x, y\n",
        "for ax in axes.flat:\n",
        "    ax.set(xlabel='year_of_release', ylabel='total_sales')\n",
        "\n",
        "plt.show()"
      ]
    },
    {
      "cell_type": "markdown",
      "metadata": {
        "id": "BDQSCVS6ys0T"
      },
      "source": [
        "Observamos que las plataformas `ps4`, `xone` y `wiiu` son las más rentables ya que tienen pocos años en el mercado, entre 4 a 5 años, por lo que se encuentran cerca de llegar a su pico máximo de ventas totales. De estas tres plataformas, la que genera más ingresos es la plataforma ps4, con cerca de 120 millones para el año 2015. Para las plataformas `psv` y `3ds`, se observar una reducción de ventas desde el año 2013 en adelante, pero son plataformas relativamente nuevas por lo que se considerarán rentables hasta que pasen el período de 10 años. En el caso de pc, sus ventas se mantienen a lo largo de los años, así que lo consideraremos como una plataforma rentable para este análisis.\n",
        "\n",
        "Finalmente revisemos las plataformas que han alcanzado ventas elevadas para el año 2015 y que generarán ingresos potenciales en el 2017, y comparemos esto con las plataformas del período que consideramos relevante 2006-2016. Trazaremos tablas dinámicas y gráficos de barras para establacer las diferencias."
      ]
    },
    {
      "cell_type": "code",
      "execution_count": null,
      "metadata": {
        "id": "FtHA_MI7ys0T"
      },
      "outputs": [],
      "source": [
        "#Ventas totales por plataforma para el período de 2006-2016\n",
        "(relevant_games.pivot_table(index='platform', values='total_sales', aggfunc='sum')\n",
        " .sort_values(by='total_sales')\n",
        " .plot(kind='bar',\n",
        "       ylabel='total_sales',\n",
        "       title= 'Ventas totales por plataforma 2006-2016',\n",
        "       figsize=(8,5),\n",
        "       grid=True,\n",
        "       color='teal')\n",
        ")\n",
        "plt.show()\n",
        "\n",
        "#Dataslice con los videojuegos del 2015\n",
        "games_2015 = relevant_games.query('year_of_release == 2015')\n",
        "\n",
        "#Ventas totales por plataforma para el año 2015\n",
        "(games_2015.pivot_table(index='platform', values='total_sales', aggfunc='sum')\n",
        " .sort_values(by='total_sales')\n",
        " .plot(kind='bar',\n",
        "       ylabel='total_sales',\n",
        "       title= 'Ventas totales por plataforma 2015',\n",
        "       figsize=(8,5),\n",
        "       grid=True,\n",
        "       color='rebeccapurple')\n",
        ")\n",
        "plt.show()"
      ]
    },
    {
      "cell_type": "markdown",
      "metadata": {
        "id": "mUKhjwykys0T"
      },
      "source": [
        "Al comparar las ventas totales entre 2006-2016 y el año 2015, podemos observar que plataformas como wii, ps3 y x360 son las que generan más ingresos pero, como ya lo visualizamos con gráficos de líneas anteriormente, estas tres plataformas están en un declive de ventas para el año 2015, por lo que no pueden ser consideradas rentables. Por otro lado, las plataformas `ps4`, `xone`, `3ds`, `wiiu` y `psv`, son plataformas recientes que están apareciendo en el mercado o tienen pocos años en el mismo, por lo que para el año 2017 generarían más ingresos y son más rentables para la plataforma web. También la plataforma `pc` se considera rentable ya que presenta ventas constantes a lo largo de los años.\n",
        "\n",
        "Considerando que a partir del 2011 aparecen nuevas plataformas y que las plataformas más rentables son `ps4`, `xone`, `3ds`, `wiiu`, `psv` y `pc`. Vamos a crear un dataset que considere el período de 2011 a 2016 y nuestras seis plataformas, a partir del cual realizaremos los análisis posteriores, el perfil de usuario y prueba de hipótesis. Aplicaremos los cambios y los guardaremos en la misma variable `relevant_games`. Realizamos este cambio en el período de tiempo, considerando que videojuegos populares 10 años atrás como ps3 o x360, ya no son relevantes en la actualidad, y construir nuestro modelo predictivo en base a este período no sería lo correcto."
      ]
    },
    {
      "cell_type": "code",
      "execution_count": null,
      "metadata": {
        "id": "kBa_HOafys0T"
      },
      "outputs": [],
      "source": [
        "relevant_games = game_data.query('year_of_release >= 2011 & platform in(\"ps4\", \"xone\", \"3ds\", \"wiiu\", \"psv\", \"pc\")')\n",
        "relevant_games.info()"
      ]
    },
    {
      "cell_type": "markdown",
      "metadata": {
        "id": "ntGDRobhys0T"
      },
      "source": [
        "### Ventas promedio por plataforma\n",
        "\n",
        "Ahora determinaremos las ventas globales de todos los juegos desglosados por plataforma, para esto trazaremos diagramas de caja que nos permitan establecer diferencias significativas en las ventas y patrones en las ventas promedio en varias plataformas. Primero a través de groupby por plataforma vamos a obtener las descripciones numéricas de cada plataforma, para esto utilizaremos el método describe.\n",
        "\n",
        "Posteriormente trazaremos un diagrama de cajas a través de la función boxplot que nos permita observar los cambios en las ventas promedio por plataforma en nuestro dataset filtrado desde el año 2011 con las seis plataformas `ps4`, `xone`, `3ds`, `wiiu`, `psv` y `pc`."
      ]
    },
    {
      "cell_type": "code",
      "execution_count": null,
      "metadata": {
        "id": "yOSwfk_Rys0U"
      },
      "outputs": [],
      "source": [
        "relevant_games.groupby('platform')['total_sales'].describe()"
      ]
    },
    {
      "cell_type": "code",
      "execution_count": null,
      "metadata": {
        "id": "q2GG1O6fys0U"
      },
      "outputs": [],
      "source": [
        "relevant_games.boxplot(column='total_sales', by='platform', figsize=(15,7))\n",
        "plt.title('Ventas promedio por plataforma rentable 2011-2016')\n",
        "plt.ylim(-0.5,3)\n",
        "plt.show()"
      ]
    },
    {
      "cell_type": "markdown",
      "metadata": {
        "id": "2EZ0kSj7ys0U"
      },
      "source": [
        "La mediana de ventas entre las seis plataformas rentables se mantiene en el rango de 0 a 500.000 dólares, siendo ps4, xone y wiiu los que presentan el promedio de ventas más altas. Las plataformas psv, 3ds y pc presentan los promedios más bajos, sin embargo no podemos establecer diferencias significativas entre plataformas ya que sus valores se mantienen dentro del mismo rango de ventas. Las medias son mayores a las medianas en todas las distribuciones, por lo que podemos determinar una asimetría positiva o un sesgo hacia la derecha, esto se comprueba en nuestro diagrama de cajas con una mayor distancia entre la mediana y el cuartil tres Q3."
      ]
    },
    {
      "cell_type": "markdown",
      "metadata": {
        "id": "qQBzJ3Wqys0U"
      },
      "source": [
        "### Correlación entre ventas totales y reseñas"
      ]
    },
    {
      "cell_type": "markdown",
      "metadata": {
        "id": "iOIt336rys0U"
      },
      "source": [
        "Pudimos establecer que la plataforma que genera más ventas promedio fue ps4, así que ahora estableceremos la correlación entre el puntaje de críticos con las ventas totales en esta plataforma. Primero crearemos el dataslice `ps4_data` que guardará los videojuegos que se lanzaron en ps4."
      ]
    },
    {
      "cell_type": "code",
      "execution_count": null,
      "metadata": {
        "id": "4Gc8Ql-cys0U"
      },
      "outputs": [],
      "source": [
        "ps4_data =  relevant_games.query('platform == \"ps4\"')\n",
        "ps4_data.info()"
      ]
    },
    {
      "cell_type": "markdown",
      "metadata": {
        "id": "N-GGqFPZys0V"
      },
      "source": [
        "A partir de este dataslice estableceremos la correlación entre el puntaje de críticos y las ventas totales para la plataforma Play Station 4. Para esto trazaremos un gráfico de dispersión a través de la función plot de pandas, y estableceremos el coeficiente de correlación de Pearson entre las dos variables."
      ]
    },
    {
      "cell_type": "code",
      "execution_count": null,
      "metadata": {
        "id": "vaAXXTLjys0V"
      },
      "outputs": [],
      "source": [
        "ps4_data.plot(x='critic_score', y='total_sales', kind='scatter', color='teal', figsize=(8,5))\n",
        "plt.title('Gráfico de dispersión puntaje críticos y ventas')\n",
        "plt.show()\n",
        "\n",
        "print('Coeficiente de correlación de Pearson:', ps4_data['critic_score'].corr(ps4_data['total_sales']))"
      ]
    },
    {
      "cell_type": "markdown",
      "metadata": {
        "id": "UPiZJ2AOys0V"
      },
      "source": [
        "Al analizar el gráfico de dispersión podemos observar que a más alto el puntaje del crítico mayor será el total de ventas para un videojuego de la plataforma ps4. Esto se confirma al obtener el coeficiente de correlación de Pearson de 0.406, lo que indica una correlación positiva moderada entre ambas variables.\n",
        "\n",
        "Ahora analicemos si existe una correlación entre el puntaje de los usuarios y las ventas totales. Para esto, utilizaremos el mismo método anterior con la función plot de pandas."
      ]
    },
    {
      "cell_type": "code",
      "execution_count": null,
      "metadata": {
        "id": "TCg8KLkuys0V"
      },
      "outputs": [],
      "source": [
        "ps4_data.plot(x='user_score', y='total_sales', kind='scatter', color='teal', figsize=(8,5))\n",
        "plt.title('Gráfico de dispersión puntaje usuarios y ventas')\n",
        "plt.show()\n",
        "print('Coeficiente de correlación de Pearson:', ps4_data['user_score'].corr(ps4_data['total_sales']))"
      ]
    },
    {
      "cell_type": "markdown",
      "metadata": {
        "id": "T5OpEkGGys0V"
      },
      "source": [
        "Al analizar el gráfico de correlación observamos puntos dispersos que no indican una correlación, y esto se confirma con el coeficiente de correlación de Pearson de -0.03, lo que indica una correlación negativa cercana a cero, por lo que las variables pueden tener una correlación pero su cercanía a cero indica que no es un tipo de correlación lineal.\n",
        "\n",
        "Se concluye que existe una correlación entre las ventas y el puntaje de los críticos, pero el puntaje de usuarios no presenta una correlación lineal con el total de ventas para la plataforma ps4."
      ]
    },
    {
      "cell_type": "markdown",
      "metadata": {
        "id": "0YT8VItBys0W"
      },
      "source": [
        "### Ventas de los mismos videojuegos por plataformas\n",
        "\n",
        "Ahora vamos a analizar las ventas de los mismos videojuegos por plataforma para esto analizaremos los 10 videojuegos más vendidos en nuestro dataset `relevant_games`. Agruparemos nuestro dataset por el nombre del videojuego y obtendremos las ventas totales, guardaremos esta información en la variable `games_most_sales`."
      ]
    },
    {
      "cell_type": "code",
      "execution_count": null,
      "metadata": {
        "id": "hOelz2J0ys0W"
      },
      "outputs": [],
      "source": [
        "games_most_sales = (relevant_games.pivot_table(index='name',\n",
        "                                               values='total_sales',\n",
        "                                               aggfunc='sum')\n",
        "                    .reset_index()\n",
        "                    .sort_values(by='total_sales', ascending=False)).head(10)\n",
        "games_most_sales"
      ]
    },
    {
      "cell_type": "markdown",
      "metadata": {
        "id": "bchPjEgMys0W"
      },
      "source": [
        "Una vez establecidos los 10 videojuegos con más ventas, vamos a generar una tabla dinámica con la información de ventas totales de cada videojuego por plataforma, guardaremos esto en `games_by_platform`."
      ]
    },
    {
      "cell_type": "code",
      "execution_count": null,
      "metadata": {
        "id": "yM3g7OSZys0W"
      },
      "outputs": [],
      "source": [
        "games_by_platform = relevant_games.pivot_table(index='name', columns='platform', values='total_sales', aggfunc='sum')\n",
        "games_by_platform = games_by_platform.sort_values(by='ps4', ascending=False).fillna(0).reset_index()\n",
        "\n",
        "games_by_platform"
      ]
    },
    {
      "cell_type": "markdown",
      "metadata": {
        "id": "MFw2wRpiys0W"
      },
      "source": [
        "Para obtener las ventas totales por plataforma en los 10 principales videojuegos, vamos a aplicar un merge entre los datasets `games_most_sales` y `games_by_platform` en la columna name, utilizaremos el parámetro left para quedarnos solo con los valores de los diez videojuegos con más ventas."
      ]
    },
    {
      "cell_type": "code",
      "execution_count": null,
      "metadata": {
        "id": "v2ROxyH2ys0W"
      },
      "outputs": [],
      "source": [
        "games_final_sales = games_most_sales.merge(games_by_platform, on='name', how='left').drop(columns='total_sales')\n",
        "games_final_sales"
      ]
    },
    {
      "cell_type": "markdown",
      "metadata": {
        "id": "zhCTKUMJys0W"
      },
      "source": [
        "Trazaremos un gráfico de barras apilado que nos muestre las ventas totales por cada uno de los diez videojuegos agrupado por plataformas, para esto utilizaremos la función plot de pandas con el argumento stacked en True."
      ]
    },
    {
      "cell_type": "code",
      "execution_count": null,
      "metadata": {
        "id": "Hbecn9noys0X"
      },
      "outputs": [],
      "source": [
        "games_final_sales.plot(x='name', kind='bar', stacked=True,title='Ventas en principales videojuegos por plataforma', figsize=(15,6))\n",
        "plt.ylabel('total_sales')\n",
        "plt.xticks(rotation=90)\n",
        "plt.show()"
      ]
    },
    {
      "cell_type": "markdown",
      "metadata": {
        "id": "13egJkjqys0X"
      },
      "source": [
        "Se puede observar que para los diez videojuegos con mayores ventas totales, la mayoría de ventas se realizan en las plataformas Play Station 4 y XboxOne. Videojuegos como pokemon y mario kart generan ventas elevadas pero pertenencen a plataformas únicas, en este caso a Nintendo 3ds. El porcentaje de ventas en pc por videojuego es baja y para psv no se registran estos videojuegos. En el caso de wiiu, solo se registró un videojuego con ventas altas en esta plataforma."
      ]
    },
    {
      "cell_type": "markdown",
      "metadata": {
        "id": "x7oTINbzys0X"
      },
      "source": [
        "### Ventas videojuegos por género\n",
        "\n"
      ]
    },
    {
      "cell_type": "markdown",
      "metadata": {
        "id": "QNHvj-jays0X"
      },
      "source": [
        "Ahora echaremos un vistazo a las ventas de videojuegos por género. Para esto crearemos la tabla dinámica `games_by_genre` que agrupará las ventas totales de las plataformas más rentables en función del género. Después utilizaremos la función barplot de la librería seaborn para trazar estos resultados en un gráfico de barras."
      ]
    },
    {
      "cell_type": "code",
      "execution_count": null,
      "metadata": {
        "id": "hpDoCjAgys0X"
      },
      "outputs": [],
      "source": [
        "games_by_genre = relevant_games.pivot_table(index='genre', values='total_sales', aggfunc=['sum', 'count']).reset_index()\n",
        "games_by_genre.columns = ['genre', 'total_sales', 'total_number']\n",
        "games_by_genre"
      ]
    },
    {
      "cell_type": "code",
      "execution_count": null,
      "metadata": {
        "id": "SkAELnWSys0X"
      },
      "outputs": [],
      "source": [
        "plt.figure(figsize=(15,7))\n",
        "sns.barplot(x='genre', y='total_sales', data=games_by_genre)\n",
        "plt.title('Ventas totales de videojuegos por género')\n",
        "plt.show()"
      ]
    },
    {
      "cell_type": "code",
      "execution_count": null,
      "metadata": {
        "id": "HDvamyquys0X"
      },
      "outputs": [],
      "source": [
        "plt.figure(figsize=(15,7))\n",
        "sns.barplot(x='genre', y='total_number', data=games_by_genre)\n",
        "plt.title('Número de videojuegos por género')\n",
        "plt.show()"
      ]
    },
    {
      "cell_type": "markdown",
      "metadata": {
        "id": "VXn3zN8gys0Y"
      },
      "source": [
        "Los géneros más rentables son acción, shooter, rol, deportes y plataformas, con ventas superiores a los 100 millones, destacando acción con 248 millones. Los géneros menos rentables son puzzle, aventura y estrategia, con ventas inferiores a los 20 millones. En cuanto al número de juegos lanzados, acción y rol lideran con más de 700 y 287 juegos respectivamente. Para nuestras campañas de marketing y publicidad, debemos enfocarnos en acción, rol y shooter, ya que son los géneros más lucrativos y tienen mayor presencia en el mercado."
      ]
    },
    {
      "cell_type": "markdown",
      "metadata": {
        "id": "bvl7hCrkys0Y"
      },
      "source": [
        "## Perfil de usuario por región\n",
        "\n",
        "Vamos a establecer un perfil de usuario por cada una de las tres regiones que se registran en esta análisis. Para esto estableceremos las cinco plataformas principales, los cinco géneros principales y las ventas regionales en función de las clasficaciones ESRB.\n",
        "\n",
        "Para realizar esto vamos a crear la función `user_profile` que agrupará las columnas platform, genre y rating en función de las ventas de cada región, y nos devolverá un gráfico circular con los porcentajes de las cinco principales categorías de cada región. La función contará con tres argumentos:\n",
        "- `df`: nombre del dataframe\n",
        "- `region`: nombre de la columna con las ventas totales por región\n",
        "- `name`: nombre de la región para el título de nuestro gráfico"
      ]
    },
    {
      "cell_type": "code",
      "execution_count": null,
      "metadata": {
        "id": "Lgh4PWsjys0Y"
      },
      "outputs": [],
      "source": [
        "def user_profile(df, region, name):\n",
        "\n",
        "    platforms = df.pivot_table(index='platform', values=region, aggfunc='sum')\n",
        "    platforms_five = platforms.sort_values(by=region, ascending=False).head()\n",
        "    print(platforms_five)\n",
        "    platforms_five.plot(kind='pie', y=region, figsize=(8,8),  autopct='%1.0f%%')\n",
        "    plt.title(f'Plataformas principales en {name}')\n",
        "    plt.show()\n",
        "\n",
        "    genre = relevant_games.pivot_table(index='genre', values=region, aggfunc='sum')\n",
        "    genre_five = genre.sort_values(by=region, ascending=False).head()\n",
        "    print(genre_five)\n",
        "    genre_five.plot(kind='pie', y=region, figsize=(8,8),  autopct='%1.0f%%')\n",
        "    plt.title(f'Géneros principales en {name}')\n",
        "    plt.show()\n",
        "\n",
        "    rating = relevant_games.pivot_table(index='rating', values=region, aggfunc='sum')\n",
        "    rating_list = rating.sort_values(by=region, ascending=False)\n",
        "    print(rating_list)\n",
        "    rating_list.plot(kind='pie', y=region, figsize=(8,8),  autopct='%1.0f%%')\n",
        "    plt.title(f'Rating principales en {name}')\n",
        "    plt.show()"
      ]
    },
    {
      "cell_type": "markdown",
      "metadata": {
        "id": "mTWvVtI5ys0Y"
      },
      "source": [
        "### Norteamérica\n",
        "\n",
        "Utilizamos la función `user_profile` para determinar las cinco principales plataformas, géneros y categorías de rating en la región de Norteamérica."
      ]
    },
    {
      "cell_type": "code",
      "execution_count": null,
      "metadata": {
        "id": "1o1DVgzmys0Y"
      },
      "outputs": [],
      "source": [
        "user_profile(relevant_games, 'na_sales', 'Norteamérica')"
      ]
    },
    {
      "cell_type": "markdown",
      "metadata": {
        "id": "nLKb8a8tys0Y"
      },
      "source": [
        "En Norteamérica, las cinco plataformas principales son PS4, XONE, 3DS, Wii U y PC. PS4 lidera con el 31% de las ventas, seguida de XONE con el 26% y 3DS con el 24%. PC y Wii U están por debajo del 15% de las ventas. Los géneros más vendidos son acción, shooter, rol, deportes y plataformas. Acción representa el 32% de las ventas, seguido de shooter con el 28% y rol con el 18%. Los géneros menos vendidos son deportes y plataformas con menos del 15% de las ventas. Las clasificaciones de maduro (Mature) y para todos (Everyone) son las más populares en Norteamérica, siendo la clasificación M la que genera más ventas con el 31%. Existen varios videojuegos sin clasificación (RP), lo que representa el 22% de las ventas. En Norteamérica, el enfoque estará en las plataformas PS4, XONE y 3DS, los géneros de acción, shooter y rol, y los videojuegos con clasificación maduro y para todos. Algunos ejemplos de videojuegos que cumplen con este perfil son Grand Theft Auto y Watch Dogs, a los cuales se deberá dirigir las estrategias de marketing."
      ]
    },
    {
      "cell_type": "code",
      "execution_count": null,
      "metadata": {
        "id": "fVF2HVz8ys0Z"
      },
      "outputs": [],
      "source": [
        "na_games = relevant_games.query('platform == \"ps4\" and genre == \"action\"  and rating == \"M\"').head()\n",
        "na_games"
      ]
    },
    {
      "cell_type": "markdown",
      "metadata": {
        "id": "rnZiadiOys0Z"
      },
      "source": [
        "### Europa\n",
        "\n",
        "Vamos a crear el perfil de usuario para la región de Europa, para esto aplicamos la función `user_profile` a la columna `eu_sales` en nuestro dataset con plataformas relevantes `relevant_games`"
      ]
    },
    {
      "cell_type": "code",
      "execution_count": null,
      "metadata": {
        "id": "Yd6FVq-Vys0Z"
      },
      "outputs": [],
      "source": [
        "user_profile(relevant_games, 'eu_sales', 'Europa')"
      ]
    },
    {
      "cell_type": "markdown",
      "metadata": {
        "id": "-vMPiozfys0Z"
      },
      "source": [
        "En Europa, las plataformas más exitosas son PS4, 3DS, PC, XONE y Wii U. PS4 lidera con el 42% de las ventas, seguida de 3DS con el 18% y PC con el 17%. Xbox One y Wii U tienen menos del 15% de ventas cada una. Los géneros más vendidos son acción, shooter, deportes, rol y plataformas. Acción representa el 33%, shooter el 27% y deportes el 16%. Los videojuegos maduros y para todos son los más populares en Europa. Además, el perfil de usuario se enfoca en juegos de PS4, 3DS y PC, en los géneros acción, shooter y deportes, con clasificaciones maduras y para todos."
      ]
    },
    {
      "cell_type": "code",
      "execution_count": null,
      "metadata": {
        "id": "oASWd1N9ys0Z"
      },
      "outputs": [],
      "source": [
        "eu_games = relevant_games.query('platform == \"pc\" and genre == \"action\"  and rating == \"M\"').head()\n",
        "eu_games"
      ]
    },
    {
      "cell_type": "markdown",
      "metadata": {
        "id": "HiU6pCnDys0Z"
      },
      "source": [
        "### Japón\n",
        "\n",
        "Apliquemos nuestra función `user_profile` para la región de Japón."
      ]
    },
    {
      "cell_type": "code",
      "execution_count": null,
      "metadata": {
        "id": "lGmD-kDPys0Z"
      },
      "outputs": [],
      "source": [
        "user_profile(relevant_games, 'jp_sales', 'Japón')"
      ]
    },
    {
      "cell_type": "markdown",
      "metadata": {
        "id": "ZxcevoHIys0a"
      },
      "source": [
        "En Japón encontramos un perfil de usuarios completamente diferente a Norteamérica y Europa. Las plataformas con mayores ventas son 3ds, psv, ps4, wiiu y xone. Siendo 3ds la plataforma con el registro más alto de ventas que representan el 66%. Las plataformas psv, ps4, wiiu y xone tiene menos del 15% en ventas.\n",
        "\n",
        "Los géneros de videojuegos con ventas más altas son role-playing, action, platform, misc y simulation. El género de mayor preferencia es role-playing con el 44% de ventas; seguido de action, con el 30%; las plataformas misc, platform y simulation generan el 9% de ventas respectivamente.\n",
        "\n",
        "En el caso de la clasificación se tiene un alto porcentaje de videojuegos en la categoría RP, el 58% de valores no presentan una categorización de contenido, lo que nos lleva a cuestionarnos si el rating servirá como un parámetro confiable para centrar nuestras estrategias de marketing, si existen tanto juegos sin ser correctamente clasificados. Las categorías que podrías servir como referencia serían Everyone y Teens, que reúnen el 20% y 11% de ventas en Japón.\n",
        "\n",
        "El perfil de usuario de Japón se centra en aquellos videojuegos de plataformas 3ds, del género role-playing, en el caso de la clasificación se registra un alto porcentaje de videojuegos sin rating, y solo se podría usar como referencia las categorías Everyone y Teens. Ahora busquemos algunos de los videojuegos dentro de esta categoría. Al parecer, nuestro equipo de marketing tendrá que enfocarse en juegos como pokemon o monster hunter en Japón."
      ]
    },
    {
      "cell_type": "code",
      "execution_count": null,
      "metadata": {
        "id": "RgdPRLa4ys0a"
      },
      "outputs": [],
      "source": [
        "jp_games = relevant_games.query('platform == \"3ds\" and genre == \"role-playing\"  and rating == \"T\"').head()\n",
        "jp_games"
      ]
    },
    {
      "cell_type": "markdown",
      "metadata": {
        "id": "5x3JoCpyys0a"
      },
      "source": [
        "## Prueba de hipótesis\n",
        "\n",
        "### Hipótesis 1: Las calificaciones promedio de los usuarios para las plataformas Xbox One y PC son las mismas.\n",
        "\n",
        "Nuestra primera hipótesis busca determinar si las calificaciones promedio de los usarios para las paltaformas xone y pc son las mismas. Empezamos filtrando nuestro dataset por la plataforma xone y pc, para esto utilizaremos query, y guardaremos este dataslice en las variables `xone_data` y `pc_data`."
      ]
    },
    {
      "cell_type": "code",
      "execution_count": null,
      "metadata": {
        "id": "4WCOpOvLys0a"
      },
      "outputs": [],
      "source": [
        "xone_data = relevant_games.query('platform == \"xone\"')\n",
        "xone_data.info()"
      ]
    },
    {
      "cell_type": "code",
      "execution_count": null,
      "metadata": {
        "id": "iwuzYxsEys0b"
      },
      "outputs": [],
      "source": [
        "pc_data = relevant_games.query('platform == \"pc\"')\n",
        "pc_data.info()"
      ]
    },
    {
      "cell_type": "markdown",
      "metadata": {
        "id": "MsGt2JnFys0b"
      },
      "source": [
        "Ahora vamos a establecer si nuestras muestras presentan distribuciones similares, para esto realizaremos el test de Kolmogorov-Smirnov para dos muestras, estableceremos un nivel de significancia de 0.05. La hipótesis nula establece que las distribuciones son similares y la alternativa que no lo son, si el valor p es superior a 0,05 no podremos rechazar la hipótesis nula y las distribuciones son similares, y si el valor p es inferor a 0,05 aceptaremos la hipótesis alternativa. Para esto utilizaremos la función ks_2samp de la librería scipy."
      ]
    },
    {
      "cell_type": "code",
      "execution_count": null,
      "metadata": {
        "id": "ihefyQLSys0b"
      },
      "outputs": [],
      "source": [
        "st.ks_2samp(xone_data['user_score'].dropna(), pc_data['user_score'].dropna())"
      ]
    },
    {
      "cell_type": "markdown",
      "metadata": {
        "id": "i3HWh7Afys0b"
      },
      "source": [
        "El valor p es superior a nuestro nivel de significancia, por lo que aceptamos la hipótesis nula y nuestras muestras presentan una distribución similar. Ahora comprobemos si la distribución que presentan nuestras muestras es normal o no para esto utilizaremos el test de Shapiro-Wilk con un nivel de significancia de 0.05, si el valor p es superior a 0.05 se acepta nuestra hipótesis nula y las muestras siguen una distribución normal, y si el valor p es inferior a 0.05, se rechaza la hipótesis nula y las muestras no presentan normalidad."
      ]
    },
    {
      "cell_type": "code",
      "execution_count": null,
      "metadata": {
        "id": "EirXz7z2ys0b"
      },
      "outputs": [],
      "source": [
        "shapiro(xone_data['user_score'].dropna())"
      ]
    },
    {
      "cell_type": "code",
      "execution_count": null,
      "metadata": {
        "id": "IbmX9Yi1ys0c"
      },
      "outputs": [],
      "source": [
        "shapiro(pc_data['user_score'].dropna())"
      ]
    },
    {
      "cell_type": "markdown",
      "metadata": {
        "id": "dGlfIRr_ys0c"
      },
      "source": [
        "El valor p para ambas muestras es inferior a 0.05, por lo que no presentan normalidad. Para nuestra prueba de hipótesis vamos a trabajar con muestras con distribuciones similares pero que no presentan normalidad. Ahora vamos a revisar si existe diferencia en las varianzas de muestras, para esto utilizaremos el test de Levene para homogeneidad de varianzas con un nivel de significancia de 0.05. Si el valor p es mayor a 0.05 no rechazamos la hipótesis nula y las muestras presentan varianzas iguales, y si el valor p es menor a 0.05, las varianzas de las muestras son diferentes."
      ]
    },
    {
      "cell_type": "code",
      "execution_count": null,
      "metadata": {
        "id": "MbAFFT0Kys0c"
      },
      "outputs": [],
      "source": [
        "print('Varianza calificación usuarios XboxOne:', np.var(xone_data['user_score']))\n",
        "print('Varianza calificación usuarios PC:', np.var(pc_data['user_score']))"
      ]
    },
    {
      "cell_type": "code",
      "execution_count": null,
      "metadata": {
        "id": "jwPgAdOnys0c"
      },
      "outputs": [],
      "source": [
        "levene(xone_data['user_score'].dropna(), pc_data['user_score'].dropna())"
      ]
    },
    {
      "cell_type": "markdown",
      "metadata": {
        "id": "nQ7K9kQ3ys0d"
      },
      "source": [
        "La varianza para la calificación de usuarios de xone es 1.89 y para pc es 2.56, parecería que no existe mucha diferencia entre varianzas, pero al realizar un test de levene se obtuvo un valor de p inferior a 0.05, por lo que las muestras no presentan homogeneidad de varianzas.\n",
        "\n",
        "En base a muestras con distribuciones similares, que no presentan normalidad ni homogeneidad de varianzas, vamos a establecer nuestras dos hipótesis en base a las calificaciones promedio de los usuarios:\n",
        "\n",
        "- H0 = *Las calificaciones promedio de los usuarios para las plataformas Xbox One y PC son las mismas.*\n",
        "- H1 = *Las calificaciones promedio de los usuarios para las plataformas Xbox One y PC difieren.*\n",
        "\n",
        "Realizaremos una prueba de hipótesis utilizando la prueba t de Student para comparar las medias de dos muestras. El objetivo es determinar si las medias son iguales o diferentes. Utilizaremos un nivel de significancia de 0.05, conocido como alpha.\n",
        "\n",
        "Utilizaremos la función st.ttest_ind de la librería scipy.stats, que requiere las dos muestras a comparar: sample_1, que representa las calificaciones de usuarios de la plataforma Xone, y sample_2, que representa las calificaciones de usuarios de la plataforma PC. Dado que las varianzas de las poblaciones son diferentes, según el test de Levene, estableceremos el argumento equal_var en False.\n"
      ]
    },
    {
      "cell_type": "code",
      "execution_count": null,
      "metadata": {
        "id": "hdqLU2S0ys0d"
      },
      "outputs": [],
      "source": [
        "print('Calificación de usuarios promedio XboxOne:', xone_data['user_score'].mean())\n",
        "print('Calificación de usuarios promedio PC:', pc_data['user_score'].mean())"
      ]
    },
    {
      "cell_type": "code",
      "execution_count": null,
      "metadata": {
        "id": "Iz9Rt0f9ys0d"
      },
      "outputs": [],
      "source": [
        "sample_1 = xone_data['user_score'].dropna()\n",
        "sample_2 = pc_data['user_score'].dropna()\n",
        "alpha = 0.05\n",
        "\n",
        "results = st.ttest_ind(sample_1, sample_2, equal_var=False)\n",
        "\n",
        "print('pvalue:', results.pvalue)\n",
        "\n",
        "if results.pvalue < alpha:\n",
        "    print(\"Rechazamos la hipótesis nula\")\n",
        "else:\n",
        "    print(\"No rechazamos la hipótesis nula\")"
      ]
    },
    {
      "cell_type": "markdown",
      "metadata": {
        "id": "CucNdFmMys0d"
      },
      "source": [
        "El valor p es de 0.71, mayor a nuestro valor alpha de 0.05, por lo que no podemos rechazar la hipótesis nula y las calificaciones promedio de los usuarios de xone y pc son similares.\n",
        "\n",
        "### Hipótesis 2: Las calificaciones promedio de los usuarios para los géneros de Acción y Deportes son diferentes.\n",
        "\n",
        "Nuestra segundo hipótesis establece que las calificaciones promedio de usuarios para los géneros de Acción y Deportes son diferentes, vamos a empezar creando dos dataslices que contengan los videojuegos del género acción `action_data` y del género deportes `sports_data`."
      ]
    },
    {
      "cell_type": "code",
      "execution_count": null,
      "metadata": {
        "id": "BA9F-g3Gys0e"
      },
      "outputs": [],
      "source": [
        "action_data =  relevant_games.query('genre == \"action\"')\n",
        "action_data.info()"
      ]
    },
    {
      "cell_type": "code",
      "execution_count": null,
      "metadata": {
        "id": "9Ao8Nq28ys0e"
      },
      "outputs": [],
      "source": [
        "sports_data =  relevant_games.query('genre == \"sports\"')\n",
        "sports_data.info()"
      ]
    },
    {
      "cell_type": "markdown",
      "metadata": {
        "id": "UWLrFCTxys0f"
      },
      "source": [
        "Empezamos estableciendo si nuestras muestras presentan una misma distribución a través del test Kolmogorov Smirnoff para dos muestras. Como lo especificamos anteriormente, estableceremos un nivel de significancia de 0.05, si el valor p es superior a 0.05, se acepta la hipótesis nula y la muestras presentan una distribución similar, y si el valor de p es inferior a 0.05, se rechaza la hipótesis nula y las muestras no presentan una distribución similar."
      ]
    },
    {
      "cell_type": "code",
      "execution_count": null,
      "metadata": {
        "id": "bs6l0Yydys0f"
      },
      "outputs": [],
      "source": [
        "st.ks_2samp(action_data['user_score'].dropna(), sports_data['user_score'].dropna())"
      ]
    },
    {
      "cell_type": "markdown",
      "metadata": {
        "id": "dWG4HqPHys0f"
      },
      "source": [
        "El valor p es inferior a 0.05 por lo que la distribución de puntajes de usuarios entre los géneros de acción y deportes no presentan distribuciones similares. A su vez vamos a analizar si las muestras siguen una distribución normal a través del test de Shapiro-Wilk, con un nivel de significancia o alpha de 0.05, si el valor p es superior a alpha entonces se acepta la hipótesis nula y las muestras son normales, sino se acepta la hipótesis alternativa y no presentan normalidad."
      ]
    },
    {
      "cell_type": "code",
      "execution_count": null,
      "metadata": {
        "id": "zNhmmSSQys0f"
      },
      "outputs": [],
      "source": [
        "shapiro(action_data['user_score'].dropna())"
      ]
    },
    {
      "cell_type": "code",
      "execution_count": null,
      "metadata": {
        "id": "HVICricKys0g"
      },
      "outputs": [],
      "source": [
        "shapiro(sports_data['user_score'].dropna())"
      ]
    },
    {
      "cell_type": "markdown",
      "metadata": {
        "id": "dydySWyPys0g"
      },
      "source": [
        "El valor p es inferior a 0.05 en ambas muestras por lo que no presentan normalidad.\n",
        "\n",
        "En base a estos resultados, vamos a trabajar con muestras con distribuciones diferentes que no presentan normalidad. Ahora revisemos las varianzas de cada muestra, para esto utilizaremos el test de Levene con un nivel de significancia de 0.05, como ya lo establecimos anteriormente."
      ]
    },
    {
      "cell_type": "code",
      "execution_count": null,
      "metadata": {
        "id": "cTk-iAu0ys0g"
      },
      "outputs": [],
      "source": [
        "print('Varianza calificación usuarios Acción:', np.var(action_data['user_score']))\n",
        "print('Varianza calificación usuarios Deportes:', np.var(sports_data['user_score']))"
      ]
    },
    {
      "cell_type": "code",
      "execution_count": null,
      "metadata": {
        "id": "Ag0Fc_0lys0g"
      },
      "outputs": [],
      "source": [
        "levene(action_data['user_score'].dropna(), sports_data['user_score'].dropna())"
      ]
    },
    {
      "cell_type": "markdown",
      "metadata": {
        "id": "e9It78Ywys0g"
      },
      "source": [
        "El valor p para la prueba de homogeneidad de varianzas es 0.019, inferior a 0.05, por lo que se rechaza la hipótesis nula y se acepta la hipótesis alternativa de que las varianzas de las muestras son diferentes.\n",
        "\n",
        "Para nuestra prueba de hipótesis trabajaremos con muestras con distribuciones diferentes, no normales y que no presentan homogeneidad de varianzas. Considerando esto, vamos a establecer nuestra hipótesis nula y alternativa:\n",
        "\n",
        "- H0 = *Las calificaciones promedio de los usuarios para los géneros de Acción y Deportes son iguales.*\n",
        "- H1 = *Las calificaciones promedio de los usuarios para los géneros de Acción y Deportes son diferentes.*\n",
        "\n",
        "Se realizará una prueba de hipótesis para comparar las calificaciones de usuarios en los géneros de acción y deportes. Se utilizará una prueba t-student con un nivel de significancia de 0.05. Si el valor p de la prueba t es mayor que el nivel de significancia, se aceptará la hipótesis nula de que las medias son iguales. Si el valor p es menor, se rechazará la hipótesis nula, lo que indica que las medias difieren entre las dos muestras.\n",
        "\n",
        "Se utilizará la función st.ttest_ind de la librería scipy.stats, pasando como argumentos las muestras de calificaciones promedio de usuarios en los géneros de acción y deportes. Debido a que el test de Levene mostró varianzas desiguales, se establecerá el argumento equal_var en False. Se construirá un bloque if/else para aceptar o rechazar la hipótesis."
      ]
    },
    {
      "cell_type": "code",
      "execution_count": null,
      "metadata": {
        "id": "clUWbJiiys0g"
      },
      "outputs": [],
      "source": [
        "print('Calificación de usuarios promedio Acción:', action_data['user_score'].mean())\n",
        "print('Calificación de usuarios promedio Deportes:', sports_data['user_score'].mean())"
      ]
    },
    {
      "cell_type": "code",
      "execution_count": null,
      "metadata": {
        "id": "gK2Njg1Eys0g"
      },
      "outputs": [],
      "source": [
        "sample_1 = action_data['user_score'].dropna()\n",
        "sample_2 = sports_data['user_score'].dropna()\n",
        "alpha = 0.05\n",
        "\n",
        "results = st.ttest_ind(sample_1, sample_2, equal_var=False)\n",
        "\n",
        "print('pvalue:', results.pvalue)\n",
        "\n",
        "if results.pvalue < alpha:\n",
        "    print(\"Rechazamos la hipótesis nula\")\n",
        "else:\n",
        "    print(\"No rechazamos la hipótesis nula\")"
      ]
    },
    {
      "cell_type": "markdown",
      "metadata": {
        "id": "XbgdEz-Ays0h"
      },
      "source": [
        "El valor p registrado es inferior a 0.05, por lo que rechazamos la hipótesis nula y las calificaciones promedio de usuarios es diferente entre los géneros de Acción y Deportes, presentando una calificación promedio más alta el género de acción."
      ]
    },
    {
      "cell_type": "markdown",
      "metadata": {
        "id": "kaZU0KF5ys0h"
      },
      "source": [
        "## Conclusiones Generales\n",
        "\n"
      ]
    },
    {
      "cell_type": "markdown",
      "metadata": {
        "id": "VvA1xYdmys0h"
      },
      "source": [
        "*Conclusiones Análisis de Datos*\n",
        "\n",
        "- A partir del año 2000, se observa un aumento en el número de videojuegos lanzados anualmente, alcanzando su punto máximo en los años 2008-2009, con más de 1400 juegos lanzados cada año.\n",
        "- Las plataformas más exitosas en términos de ventas son `ps2`, `x360`, `ps3`, `wii` y `ds`, abarcando el período desde 1980 hasta 2016. Un análisis más detallado de estas plataformas revela que el tiempo promedio para que un videojuego alcance su punto máximo de ventas es de 4 a 6 años, mientras que tarda aproximadamente 10 años en perder popularidad y experimentar una reducción en las ventas.\n",
        "- Basándose en estos hallazgos, se decide enfocar el análisis en el período de 2006-2016. Sin embargo, al trazar gráficos de líneas y comparar las ventas por plataformas a lo largo de los años, se observa que este período incluye varias plataformas que ya no son populares. Considerando la evolución del mercado y las preferencias cambiantes de los usuarios, se opta por trabajar únicamente con el período 2011-2016, que comprende seis plataformas rentables y en ascenso: `ps4`, `xone`, `3ds`, `wiiu`, `psv`, y también se incluye la plataforma `pc` debido a su popularidad constante a lo largo del tiempo.\n",
        "- Se encuentra que las plataformas `xone`, `ps4` y `wiiu` generan ventas promedio más altas por plataforma, con una distribución sesgada hacia valores más altos.\n",
        "- Se observa que no existe una correlación entre las calificaciones de los usuarios y las ventas totales para la plataforma ps4. Sin embargo, se registra una correlación moderada positiva entre las calificaciones de los críticos y las ventas totales.\n",
        "- Al analizar las ventas de los diez videojuegos más populares, se concluye que la mayoría se concentra en las plataformas XboxOne y PlayStation 4, aunque también existen juegos exclusivos para las plataformas 3ds y wiiu.\n",
        "- Los géneros de acción y role-playing tienen un mayor número de lanzamientos de videojuegos, y los géneros que generan más ventas son acción, shooter y role-playing."
      ]
    },
    {
      "cell_type": "markdown",
      "metadata": {
        "id": "XYyBHpF9ys0h"
      },
      "source": [
        "*Conclusiones prueba de hipótesis*\n",
        "\n",
        "- Las calificaciones promedio de usuarios no presentan diferencias significativas entre las plataformas XboxOne y PC, lo que implica que la experiencia de juego para los usuarios en ambas plataformas será similar. Por lo tanto, es posible promocionar videojuegos en cualquiera de las dos plataformas sin preferencias claras.\n",
        "- Por otro lado, las calificaciones promedio de usuarios varían entre los géneros de Acción y Deportes, mostrando un promedio más alto para el género de Acción. Esto indica que la experiencia de juego en videojuegos de acción tiende a ser mejor en comparación con los videojuegos de deportes. En consecuencia, se recomienda enfocar los esfuerzos de marketing en el género de Acción para maximizar el impacto y satisfacción de los usuarios.\n"
      ]
    },
    {
      "cell_type": "markdown",
      "metadata": {
        "id": "uu49h7N3ys0h"
      },
      "source": [
        "*Modelo Predictivo para el año 2017*\n",
        "\n",
        "En el año 2017, las campañas de marketing de la tienda online ICE se centrarán en las plataformas ps4, xone, 3ds, wiiu, psv y pc, enfocándose en los géneros de acción, role-playing y deportes. Se dará importancia a las calificaciones de críticos y se buscará fomentar las calificaciones de los usuarios. Las estrategias de marketing se adaptarán a diferentes regiones: Norteamérica (ps4, xone, 3ds, wiiu, pc), Europa (ps4, 3ds, pc, xone, wiiu) y Japón (3ds, psv). Se considerará el alto porcentaje de videojuegos sin clasificación, optando por buscar la información o no tenerla en cuenta en las estrategias de marketing."
      ]
    },
    {
      "cell_type": "code",
      "execution_count": null,
      "metadata": {
        "id": "82auMrMeNfWx"
      },
      "outputs": [],
      "source": []
    }
  ],
  "metadata": {
    "ExecuteTimeLog": [
      {
        "duration": 372,
        "start_time": "2022-08-26T02:21:09.723Z"
      },
      {
        "duration": 98,
        "start_time": "2022-08-26T02:22:04.872Z"
      },
      {
        "duration": 102,
        "start_time": "2022-08-26T02:22:16.008Z"
      },
      {
        "duration": 7,
        "start_time": "2022-08-26T02:22:40.597Z"
      },
      {
        "duration": 24,
        "start_time": "2022-08-26T02:22:48.830Z"
      },
      {
        "duration": 22,
        "start_time": "2022-08-26T02:23:14.727Z"
      },
      {
        "duration": 16,
        "start_time": "2022-08-26T02:24:08.322Z"
      },
      {
        "duration": 5,
        "start_time": "2022-08-26T02:45:03.854Z"
      },
      {
        "duration": 12,
        "start_time": "2022-08-26T02:45:08.881Z"
      },
      {
        "duration": 1241,
        "start_time": "2022-08-27T21:51:13.173Z"
      },
      {
        "duration": 89,
        "start_time": "2022-08-27T21:55:11.718Z"
      },
      {
        "duration": 19,
        "start_time": "2022-08-27T21:57:08.086Z"
      },
      {
        "duration": 15,
        "start_time": "2022-08-27T21:57:23.598Z"
      },
      {
        "duration": 4,
        "start_time": "2022-08-27T21:57:55.362Z"
      },
      {
        "duration": 16,
        "start_time": "2022-08-27T22:10:05.074Z"
      },
      {
        "duration": 13,
        "start_time": "2022-08-27T22:19:05.035Z"
      },
      {
        "duration": 9,
        "start_time": "2022-08-27T23:33:15.157Z"
      },
      {
        "duration": 64,
        "start_time": "2022-08-27T23:35:41.288Z"
      },
      {
        "duration": 100,
        "start_time": "2022-08-27T23:35:47.116Z"
      },
      {
        "duration": 11,
        "start_time": "2022-08-27T23:35:50.806Z"
      },
      {
        "duration": 900,
        "start_time": "2022-08-27T23:38:17.204Z"
      },
      {
        "duration": 49,
        "start_time": "2022-08-27T23:38:25.588Z"
      },
      {
        "duration": 5,
        "start_time": "2022-08-27T23:38:29.211Z"
      },
      {
        "duration": 5,
        "start_time": "2022-08-27T23:38:43.440Z"
      },
      {
        "duration": 22,
        "start_time": "2022-08-27T23:41:43.235Z"
      },
      {
        "duration": 51,
        "start_time": "2022-08-27T23:42:30.291Z"
      },
      {
        "duration": 15,
        "start_time": "2022-08-27T23:42:33.656Z"
      },
      {
        "duration": 28,
        "start_time": "2022-08-28T00:07:53.767Z"
      },
      {
        "duration": 17,
        "start_time": "2022-08-28T02:15:10.025Z"
      },
      {
        "duration": 19,
        "start_time": "2022-08-28T02:15:34.746Z"
      },
      {
        "duration": 16,
        "start_time": "2022-08-28T02:23:53.505Z"
      },
      {
        "duration": 11,
        "start_time": "2022-08-28T02:29:27.532Z"
      },
      {
        "duration": 11,
        "start_time": "2022-08-28T02:29:54.137Z"
      },
      {
        "duration": 10,
        "start_time": "2022-08-28T02:31:02.503Z"
      },
      {
        "duration": 10,
        "start_time": "2022-08-28T02:33:23.739Z"
      },
      {
        "duration": 8,
        "start_time": "2022-08-28T02:33:56.029Z"
      },
      {
        "duration": 46,
        "start_time": "2022-08-28T02:46:11.328Z"
      },
      {
        "duration": 39,
        "start_time": "2022-08-28T02:46:15.800Z"
      },
      {
        "duration": 33,
        "start_time": "2022-08-28T02:46:31.614Z"
      },
      {
        "duration": 10,
        "start_time": "2022-08-28T02:47:37.261Z"
      },
      {
        "duration": 10,
        "start_time": "2022-08-28T02:48:04.825Z"
      },
      {
        "duration": 27,
        "start_time": "2022-08-28T02:48:15.528Z"
      },
      {
        "duration": 9,
        "start_time": "2022-08-28T02:52:55.186Z"
      },
      {
        "duration": 22,
        "start_time": "2022-08-28T02:53:00.445Z"
      },
      {
        "duration": 30,
        "start_time": "2022-08-28T02:53:42.963Z"
      },
      {
        "duration": 46,
        "start_time": "2022-08-28T20:57:23.282Z"
      },
      {
        "duration": 1200,
        "start_time": "2022-08-28T20:57:31.212Z"
      },
      {
        "duration": 95,
        "start_time": "2022-08-28T20:57:32.413Z"
      },
      {
        "duration": 6,
        "start_time": "2022-08-28T20:57:32.510Z"
      },
      {
        "duration": 31,
        "start_time": "2022-08-28T20:57:32.518Z"
      },
      {
        "duration": 28,
        "start_time": "2022-08-28T20:57:32.551Z"
      },
      {
        "duration": 22,
        "start_time": "2022-08-28T20:57:32.581Z"
      },
      {
        "duration": 26,
        "start_time": "2022-08-28T20:57:32.604Z"
      },
      {
        "duration": 28,
        "start_time": "2022-08-28T20:57:32.632Z"
      },
      {
        "duration": 9,
        "start_time": "2022-08-28T20:57:32.663Z"
      },
      {
        "duration": 22,
        "start_time": "2022-08-28T20:57:32.674Z"
      },
      {
        "duration": 37,
        "start_time": "2022-08-28T20:57:32.697Z"
      },
      {
        "duration": 8,
        "start_time": "2022-08-28T20:57:32.735Z"
      },
      {
        "duration": 44,
        "start_time": "2022-08-28T20:57:32.745Z"
      },
      {
        "duration": 9,
        "start_time": "2022-08-28T20:57:32.790Z"
      },
      {
        "duration": 33,
        "start_time": "2022-08-28T20:57:32.801Z"
      },
      {
        "duration": 4,
        "start_time": "2022-08-28T20:57:32.835Z"
      },
      {
        "duration": 5,
        "start_time": "2022-08-28T20:57:50.022Z"
      },
      {
        "duration": 99,
        "start_time": "2022-08-28T20:59:37.518Z"
      },
      {
        "duration": 8,
        "start_time": "2022-08-28T20:59:41.231Z"
      },
      {
        "duration": 18,
        "start_time": "2022-08-28T21:00:26.630Z"
      },
      {
        "duration": 9,
        "start_time": "2022-08-28T21:00:44.292Z"
      },
      {
        "duration": 36,
        "start_time": "2022-08-28T21:00:49.220Z"
      },
      {
        "duration": 7,
        "start_time": "2022-08-28T21:01:58.246Z"
      },
      {
        "duration": 38,
        "start_time": "2022-08-28T21:02:00.087Z"
      },
      {
        "duration": 6,
        "start_time": "2022-08-28T21:04:19.186Z"
      },
      {
        "duration": 29,
        "start_time": "2022-08-28T21:04:19.915Z"
      },
      {
        "duration": 6,
        "start_time": "2022-08-28T21:09:25.567Z"
      },
      {
        "duration": 35,
        "start_time": "2022-08-28T21:09:27.598Z"
      },
      {
        "duration": 6,
        "start_time": "2022-08-28T21:14:54.704Z"
      },
      {
        "duration": 35,
        "start_time": "2022-08-28T21:14:56.488Z"
      },
      {
        "duration": 6,
        "start_time": "2022-08-28T21:16:28.700Z"
      },
      {
        "duration": 35,
        "start_time": "2022-08-28T21:16:30.129Z"
      },
      {
        "duration": 37,
        "start_time": "2022-08-28T21:24:19.421Z"
      },
      {
        "duration": 5,
        "start_time": "2022-08-28T21:24:52.546Z"
      },
      {
        "duration": 28,
        "start_time": "2022-08-28T21:25:41.895Z"
      },
      {
        "duration": 35,
        "start_time": "2022-08-28T21:37:55.430Z"
      },
      {
        "duration": 31,
        "start_time": "2022-08-28T21:45:33.750Z"
      },
      {
        "duration": 4,
        "start_time": "2022-08-28T22:15:22.504Z"
      },
      {
        "duration": 3,
        "start_time": "2022-08-28T22:16:35.958Z"
      },
      {
        "duration": 7,
        "start_time": "2022-08-28T22:16:41.020Z"
      },
      {
        "duration": 8,
        "start_time": "2022-08-28T22:16:51.178Z"
      },
      {
        "duration": 8,
        "start_time": "2022-08-28T22:17:50.175Z"
      },
      {
        "duration": 8,
        "start_time": "2022-08-28T22:17:56.905Z"
      },
      {
        "duration": 8,
        "start_time": "2022-08-28T22:18:43.349Z"
      },
      {
        "duration": 1069,
        "start_time": "2022-08-28T22:18:59.663Z"
      },
      {
        "duration": 61,
        "start_time": "2022-08-28T22:19:00.734Z"
      },
      {
        "duration": 6,
        "start_time": "2022-08-28T22:19:00.797Z"
      },
      {
        "duration": 30,
        "start_time": "2022-08-28T22:19:00.805Z"
      },
      {
        "duration": 21,
        "start_time": "2022-08-28T22:19:00.837Z"
      },
      {
        "duration": 18,
        "start_time": "2022-08-28T22:19:00.860Z"
      },
      {
        "duration": 20,
        "start_time": "2022-08-28T22:19:00.880Z"
      },
      {
        "duration": 35,
        "start_time": "2022-08-28T22:19:00.901Z"
      },
      {
        "duration": 9,
        "start_time": "2022-08-28T22:19:00.938Z"
      },
      {
        "duration": 28,
        "start_time": "2022-08-28T22:19:00.949Z"
      },
      {
        "duration": 49,
        "start_time": "2022-08-28T22:19:00.978Z"
      },
      {
        "duration": 49,
        "start_time": "2022-08-28T22:19:01.029Z"
      },
      {
        "duration": 38,
        "start_time": "2022-08-28T22:19:01.080Z"
      },
      {
        "duration": 34,
        "start_time": "2022-08-28T22:19:01.120Z"
      },
      {
        "duration": 56,
        "start_time": "2022-08-28T22:19:01.155Z"
      },
      {
        "duration": 4,
        "start_time": "2022-08-28T22:19:01.213Z"
      },
      {
        "duration": 16,
        "start_time": "2022-08-28T22:19:01.218Z"
      },
      {
        "duration": 4,
        "start_time": "2022-08-28T22:19:12.897Z"
      },
      {
        "duration": 15,
        "start_time": "2022-08-28T22:30:44.599Z"
      },
      {
        "duration": 89,
        "start_time": "2022-08-28T22:36:47.860Z"
      },
      {
        "duration": 5,
        "start_time": "2022-08-28T22:36:55.047Z"
      },
      {
        "duration": 5,
        "start_time": "2022-08-28T22:40:09.109Z"
      },
      {
        "duration": 708,
        "start_time": "2022-08-28T23:10:58.495Z"
      },
      {
        "duration": 9,
        "start_time": "2022-08-28T23:11:05.562Z"
      },
      {
        "duration": 5,
        "start_time": "2022-08-28T23:12:05.223Z"
      },
      {
        "duration": 14,
        "start_time": "2022-08-28T23:37:39.067Z"
      },
      {
        "duration": 17,
        "start_time": "2022-08-28T23:37:47.371Z"
      },
      {
        "duration": 1026,
        "start_time": "2022-08-28T23:40:10.202Z"
      },
      {
        "duration": 52,
        "start_time": "2022-08-28T23:40:11.230Z"
      },
      {
        "duration": 5,
        "start_time": "2022-08-28T23:40:11.283Z"
      },
      {
        "duration": 22,
        "start_time": "2022-08-28T23:40:11.290Z"
      },
      {
        "duration": 14,
        "start_time": "2022-08-28T23:40:11.314Z"
      },
      {
        "duration": 19,
        "start_time": "2022-08-28T23:40:11.329Z"
      },
      {
        "duration": 17,
        "start_time": "2022-08-28T23:40:11.350Z"
      },
      {
        "duration": 46,
        "start_time": "2022-08-28T23:40:11.368Z"
      },
      {
        "duration": 21,
        "start_time": "2022-08-28T23:40:11.416Z"
      },
      {
        "duration": 11,
        "start_time": "2022-08-28T23:40:11.440Z"
      },
      {
        "duration": 45,
        "start_time": "2022-08-28T23:40:11.453Z"
      },
      {
        "duration": 38,
        "start_time": "2022-08-28T23:40:11.500Z"
      },
      {
        "duration": 48,
        "start_time": "2022-08-28T23:40:11.539Z"
      },
      {
        "duration": 31,
        "start_time": "2022-08-28T23:40:11.589Z"
      },
      {
        "duration": 34,
        "start_time": "2022-08-28T23:40:11.622Z"
      },
      {
        "duration": 30,
        "start_time": "2022-08-28T23:40:11.658Z"
      },
      {
        "duration": 9,
        "start_time": "2022-08-28T23:40:11.690Z"
      },
      {
        "duration": 8,
        "start_time": "2022-08-28T23:40:11.701Z"
      },
      {
        "duration": 21,
        "start_time": "2022-08-28T23:40:11.710Z"
      },
      {
        "duration": 11,
        "start_time": "2022-08-28T23:40:11.733Z"
      },
      {
        "duration": 5,
        "start_time": "2022-08-28T23:40:11.746Z"
      },
      {
        "duration": 18,
        "start_time": "2022-08-28T23:43:59.338Z"
      },
      {
        "duration": 5,
        "start_time": "2022-08-28T23:46:26.434Z"
      },
      {
        "duration": 94,
        "start_time": "2022-08-28T23:46:37.873Z"
      },
      {
        "duration": 989,
        "start_time": "2022-08-28T23:46:44.244Z"
      },
      {
        "duration": 51,
        "start_time": "2022-08-28T23:46:45.235Z"
      },
      {
        "duration": 5,
        "start_time": "2022-08-28T23:46:45.288Z"
      },
      {
        "duration": 18,
        "start_time": "2022-08-28T23:46:45.295Z"
      },
      {
        "duration": 13,
        "start_time": "2022-08-28T23:46:45.315Z"
      },
      {
        "duration": 16,
        "start_time": "2022-08-28T23:46:45.330Z"
      },
      {
        "duration": 40,
        "start_time": "2022-08-28T23:46:45.347Z"
      },
      {
        "duration": 27,
        "start_time": "2022-08-28T23:46:45.389Z"
      },
      {
        "duration": 8,
        "start_time": "2022-08-28T23:46:45.417Z"
      },
      {
        "duration": 14,
        "start_time": "2022-08-28T23:46:45.427Z"
      },
      {
        "duration": 51,
        "start_time": "2022-08-28T23:46:45.443Z"
      },
      {
        "duration": 36,
        "start_time": "2022-08-28T23:46:45.496Z"
      },
      {
        "duration": 29,
        "start_time": "2022-08-28T23:46:45.533Z"
      },
      {
        "duration": 51,
        "start_time": "2022-08-28T23:46:45.564Z"
      },
      {
        "duration": 29,
        "start_time": "2022-08-28T23:46:45.617Z"
      },
      {
        "duration": 3,
        "start_time": "2022-08-28T23:46:45.647Z"
      },
      {
        "duration": 6,
        "start_time": "2022-08-28T23:46:45.652Z"
      },
      {
        "duration": 28,
        "start_time": "2022-08-28T23:46:45.659Z"
      },
      {
        "duration": 15,
        "start_time": "2022-08-28T23:46:45.689Z"
      },
      {
        "duration": 20,
        "start_time": "2022-08-28T23:46:45.705Z"
      },
      {
        "duration": 8,
        "start_time": "2022-08-28T23:46:45.726Z"
      },
      {
        "duration": 7,
        "start_time": "2022-08-28T23:46:45.735Z"
      },
      {
        "duration": 7,
        "start_time": "2022-08-28T23:46:45.744Z"
      },
      {
        "duration": 19,
        "start_time": "2022-08-28T23:46:52.679Z"
      },
      {
        "duration": 1014,
        "start_time": "2022-08-28T23:47:38.115Z"
      },
      {
        "duration": 52,
        "start_time": "2022-08-28T23:47:39.131Z"
      },
      {
        "duration": 5,
        "start_time": "2022-08-28T23:47:39.185Z"
      },
      {
        "duration": 19,
        "start_time": "2022-08-28T23:47:39.192Z"
      },
      {
        "duration": 14,
        "start_time": "2022-08-28T23:47:39.213Z"
      },
      {
        "duration": 16,
        "start_time": "2022-08-28T23:47:39.228Z"
      },
      {
        "duration": 15,
        "start_time": "2022-08-28T23:47:39.245Z"
      },
      {
        "duration": 48,
        "start_time": "2022-08-28T23:47:39.262Z"
      },
      {
        "duration": 8,
        "start_time": "2022-08-28T23:47:39.312Z"
      },
      {
        "duration": 12,
        "start_time": "2022-08-28T23:47:39.322Z"
      },
      {
        "duration": 58,
        "start_time": "2022-08-28T23:47:39.335Z"
      },
      {
        "duration": 36,
        "start_time": "2022-08-28T23:47:39.395Z"
      },
      {
        "duration": 29,
        "start_time": "2022-08-28T23:47:39.433Z"
      },
      {
        "duration": 51,
        "start_time": "2022-08-28T23:47:39.464Z"
      },
      {
        "duration": 32,
        "start_time": "2022-08-28T23:47:39.517Z"
      },
      {
        "duration": 4,
        "start_time": "2022-08-28T23:47:39.550Z"
      },
      {
        "duration": 6,
        "start_time": "2022-08-28T23:47:39.555Z"
      },
      {
        "duration": 4,
        "start_time": "2022-08-28T23:47:39.586Z"
      },
      {
        "duration": 17,
        "start_time": "2022-08-28T23:47:39.591Z"
      },
      {
        "duration": 16,
        "start_time": "2022-08-28T23:47:39.609Z"
      },
      {
        "duration": 21,
        "start_time": "2022-08-28T23:47:39.627Z"
      },
      {
        "duration": 8,
        "start_time": "2022-08-28T23:47:39.650Z"
      },
      {
        "duration": 6,
        "start_time": "2022-08-28T23:47:39.687Z"
      },
      {
        "duration": 21,
        "start_time": "2022-08-28T23:48:30.465Z"
      },
      {
        "duration": 87,
        "start_time": "2022-08-28T23:51:28.570Z"
      },
      {
        "duration": 21,
        "start_time": "2022-08-28T23:51:31.101Z"
      },
      {
        "duration": 1070,
        "start_time": "2022-08-28T23:52:13.558Z"
      },
      {
        "duration": 52,
        "start_time": "2022-08-28T23:52:14.630Z"
      },
      {
        "duration": 5,
        "start_time": "2022-08-28T23:52:14.684Z"
      },
      {
        "duration": 21,
        "start_time": "2022-08-28T23:52:14.690Z"
      },
      {
        "duration": 14,
        "start_time": "2022-08-28T23:52:14.713Z"
      },
      {
        "duration": 17,
        "start_time": "2022-08-28T23:52:14.728Z"
      },
      {
        "duration": 19,
        "start_time": "2022-08-28T23:52:14.746Z"
      },
      {
        "duration": 46,
        "start_time": "2022-08-28T23:52:14.766Z"
      },
      {
        "duration": 8,
        "start_time": "2022-08-28T23:52:14.813Z"
      },
      {
        "duration": 15,
        "start_time": "2022-08-28T23:52:14.823Z"
      },
      {
        "duration": 50,
        "start_time": "2022-08-28T23:52:14.840Z"
      },
      {
        "duration": 37,
        "start_time": "2022-08-28T23:52:14.891Z"
      },
      {
        "duration": 29,
        "start_time": "2022-08-28T23:52:14.930Z"
      },
      {
        "duration": 53,
        "start_time": "2022-08-28T23:52:14.961Z"
      },
      {
        "duration": 33,
        "start_time": "2022-08-28T23:52:15.016Z"
      },
      {
        "duration": 4,
        "start_time": "2022-08-28T23:52:15.050Z"
      },
      {
        "duration": 24,
        "start_time": "2022-08-28T23:52:15.055Z"
      },
      {
        "duration": 15,
        "start_time": "2022-08-28T23:52:15.087Z"
      },
      {
        "duration": 31,
        "start_time": "2022-08-28T23:52:15.104Z"
      },
      {
        "duration": 22,
        "start_time": "2022-08-28T23:52:15.137Z"
      },
      {
        "duration": 32,
        "start_time": "2022-08-28T23:52:15.161Z"
      },
      {
        "duration": 19,
        "start_time": "2022-08-28T23:52:15.194Z"
      },
      {
        "duration": 20,
        "start_time": "2022-08-28T23:52:15.214Z"
      },
      {
        "duration": 11,
        "start_time": "2022-08-28T23:52:15.236Z"
      },
      {
        "duration": 13,
        "start_time": "2022-08-28T23:52:15.249Z"
      },
      {
        "duration": 100,
        "start_time": "2022-08-28T23:54:22.388Z"
      },
      {
        "duration": 981,
        "start_time": "2022-08-28T23:54:33.044Z"
      },
      {
        "duration": 51,
        "start_time": "2022-08-28T23:54:34.026Z"
      },
      {
        "duration": 5,
        "start_time": "2022-08-28T23:54:34.079Z"
      },
      {
        "duration": 19,
        "start_time": "2022-08-28T23:54:34.085Z"
      },
      {
        "duration": 14,
        "start_time": "2022-08-28T23:54:34.106Z"
      },
      {
        "duration": 18,
        "start_time": "2022-08-28T23:54:34.121Z"
      },
      {
        "duration": 17,
        "start_time": "2022-08-28T23:54:34.141Z"
      },
      {
        "duration": 48,
        "start_time": "2022-08-28T23:54:34.159Z"
      },
      {
        "duration": 9,
        "start_time": "2022-08-28T23:54:34.208Z"
      },
      {
        "duration": 10,
        "start_time": "2022-08-28T23:54:34.219Z"
      },
      {
        "duration": 56,
        "start_time": "2022-08-28T23:54:34.231Z"
      },
      {
        "duration": 38,
        "start_time": "2022-08-28T23:54:34.289Z"
      },
      {
        "duration": 31,
        "start_time": "2022-08-28T23:54:34.329Z"
      },
      {
        "duration": 30,
        "start_time": "2022-08-28T23:54:34.389Z"
      },
      {
        "duration": 32,
        "start_time": "2022-08-28T23:54:34.421Z"
      },
      {
        "duration": 4,
        "start_time": "2022-08-28T23:54:34.455Z"
      },
      {
        "duration": 4,
        "start_time": "2022-08-28T23:54:34.487Z"
      },
      {
        "duration": 6,
        "start_time": "2022-08-28T23:54:34.493Z"
      },
      {
        "duration": 17,
        "start_time": "2022-08-28T23:54:34.500Z"
      },
      {
        "duration": 16,
        "start_time": "2022-08-28T23:54:34.518Z"
      },
      {
        "duration": 19,
        "start_time": "2022-08-28T23:54:34.536Z"
      },
      {
        "duration": 47,
        "start_time": "2022-08-28T23:54:34.556Z"
      },
      {
        "duration": 11,
        "start_time": "2022-08-28T23:54:34.604Z"
      },
      {
        "duration": 7,
        "start_time": "2022-08-28T23:54:34.617Z"
      },
      {
        "duration": 3,
        "start_time": "2022-08-28T23:54:34.626Z"
      },
      {
        "duration": 12,
        "start_time": "2022-08-29T00:36:02.177Z"
      },
      {
        "duration": 1061,
        "start_time": "2022-08-29T00:40:03.587Z"
      },
      {
        "duration": 55,
        "start_time": "2022-08-29T00:40:04.650Z"
      },
      {
        "duration": 6,
        "start_time": "2022-08-29T00:40:04.706Z"
      },
      {
        "duration": 21,
        "start_time": "2022-08-29T00:40:04.713Z"
      },
      {
        "duration": 15,
        "start_time": "2022-08-29T00:40:04.736Z"
      },
      {
        "duration": 19,
        "start_time": "2022-08-29T00:40:04.753Z"
      },
      {
        "duration": 26,
        "start_time": "2022-08-29T00:40:04.774Z"
      },
      {
        "duration": 29,
        "start_time": "2022-08-29T00:40:04.801Z"
      },
      {
        "duration": 16,
        "start_time": "2022-08-29T00:40:04.832Z"
      },
      {
        "duration": 22,
        "start_time": "2022-08-29T00:40:04.850Z"
      },
      {
        "duration": 44,
        "start_time": "2022-08-29T00:40:04.874Z"
      },
      {
        "duration": 37,
        "start_time": "2022-08-29T00:40:04.920Z"
      },
      {
        "duration": 50,
        "start_time": "2022-08-29T00:40:04.958Z"
      },
      {
        "duration": 31,
        "start_time": "2022-08-29T00:40:05.010Z"
      },
      {
        "duration": 59,
        "start_time": "2022-08-29T00:40:05.042Z"
      },
      {
        "duration": 4,
        "start_time": "2022-08-29T00:40:05.103Z"
      },
      {
        "duration": 8,
        "start_time": "2022-08-29T00:40:05.109Z"
      },
      {
        "duration": 10,
        "start_time": "2022-08-29T00:40:05.119Z"
      },
      {
        "duration": 19,
        "start_time": "2022-08-29T00:40:05.131Z"
      },
      {
        "duration": 21,
        "start_time": "2022-08-29T00:40:05.152Z"
      },
      {
        "duration": 18,
        "start_time": "2022-08-29T00:40:05.186Z"
      },
      {
        "duration": 8,
        "start_time": "2022-08-29T00:40:05.206Z"
      },
      {
        "duration": 8,
        "start_time": "2022-08-29T00:40:05.215Z"
      },
      {
        "duration": 87,
        "start_time": "2022-08-29T00:40:05.225Z"
      },
      {
        "duration": 0,
        "start_time": "2022-08-29T00:40:05.313Z"
      },
      {
        "duration": 182,
        "start_time": "2022-08-29T00:40:15.506Z"
      },
      {
        "duration": 190,
        "start_time": "2022-08-29T00:40:22.733Z"
      },
      {
        "duration": 873,
        "start_time": "2022-08-29T00:42:39.569Z"
      },
      {
        "duration": 63,
        "start_time": "2022-08-29T00:42:55.219Z"
      },
      {
        "duration": 8,
        "start_time": "2022-08-29T00:42:57.678Z"
      },
      {
        "duration": 7,
        "start_time": "2022-08-29T00:43:25.829Z"
      },
      {
        "duration": 783,
        "start_time": "2022-08-29T00:43:51.919Z"
      },
      {
        "duration": 755,
        "start_time": "2022-08-29T00:45:19.613Z"
      },
      {
        "duration": 875,
        "start_time": "2022-08-29T00:45:59.609Z"
      },
      {
        "duration": 31,
        "start_time": "2022-08-29T00:46:10.756Z"
      },
      {
        "duration": 17,
        "start_time": "2022-08-29T00:46:28.858Z"
      },
      {
        "duration": 192,
        "start_time": "2022-08-29T00:46:45.803Z"
      },
      {
        "duration": 683,
        "start_time": "2022-08-29T00:46:56.551Z"
      },
      {
        "duration": 1080,
        "start_time": "2022-08-29T00:47:38.452Z"
      },
      {
        "duration": 1177,
        "start_time": "2022-08-29T00:49:19.956Z"
      },
      {
        "duration": 31,
        "start_time": "2022-08-29T00:49:29.916Z"
      },
      {
        "duration": 1071,
        "start_time": "2022-08-29T00:49:33.040Z"
      },
      {
        "duration": 676,
        "start_time": "2022-08-29T00:49:55.102Z"
      },
      {
        "duration": 1124,
        "start_time": "2022-08-29T00:50:36.116Z"
      },
      {
        "duration": 53,
        "start_time": "2022-08-29T00:50:37.242Z"
      },
      {
        "duration": 6,
        "start_time": "2022-08-29T00:50:37.296Z"
      },
      {
        "duration": 21,
        "start_time": "2022-08-29T00:50:37.303Z"
      },
      {
        "duration": 16,
        "start_time": "2022-08-29T00:50:37.325Z"
      },
      {
        "duration": 20,
        "start_time": "2022-08-29T00:50:37.343Z"
      },
      {
        "duration": 39,
        "start_time": "2022-08-29T00:50:37.365Z"
      },
      {
        "duration": 32,
        "start_time": "2022-08-29T00:50:37.406Z"
      },
      {
        "duration": 8,
        "start_time": "2022-08-29T00:50:37.440Z"
      },
      {
        "duration": 37,
        "start_time": "2022-08-29T00:50:37.451Z"
      },
      {
        "duration": 35,
        "start_time": "2022-08-29T00:50:37.489Z"
      },
      {
        "duration": 67,
        "start_time": "2022-08-29T00:50:37.525Z"
      },
      {
        "duration": 38,
        "start_time": "2022-08-29T00:50:37.594Z"
      },
      {
        "duration": 56,
        "start_time": "2022-08-29T00:50:37.633Z"
      },
      {
        "duration": 33,
        "start_time": "2022-08-29T00:50:37.691Z"
      },
      {
        "duration": 5,
        "start_time": "2022-08-29T00:50:37.725Z"
      },
      {
        "duration": 5,
        "start_time": "2022-08-29T00:50:37.731Z"
      },
      {
        "duration": 13,
        "start_time": "2022-08-29T00:50:37.738Z"
      },
      {
        "duration": 37,
        "start_time": "2022-08-29T00:50:37.752Z"
      },
      {
        "duration": 18,
        "start_time": "2022-08-29T00:50:37.790Z"
      },
      {
        "duration": 21,
        "start_time": "2022-08-29T00:50:37.810Z"
      },
      {
        "duration": 8,
        "start_time": "2022-08-29T00:50:37.833Z"
      },
      {
        "duration": 8,
        "start_time": "2022-08-29T00:50:37.842Z"
      },
      {
        "duration": 59,
        "start_time": "2022-08-29T00:50:37.852Z"
      },
      {
        "duration": 760,
        "start_time": "2022-08-29T00:50:37.913Z"
      },
      {
        "duration": 0,
        "start_time": "2022-08-29T00:50:38.675Z"
      },
      {
        "duration": 1030,
        "start_time": "2022-08-29T00:51:19.288Z"
      },
      {
        "duration": 1187,
        "start_time": "2022-08-29T00:51:30.041Z"
      },
      {
        "duration": 983,
        "start_time": "2022-08-29T00:52:19.247Z"
      },
      {
        "duration": 717,
        "start_time": "2022-08-29T00:52:58.264Z"
      },
      {
        "duration": 854,
        "start_time": "2022-08-29T00:53:13.494Z"
      },
      {
        "duration": 737,
        "start_time": "2022-08-29T00:53:27.480Z"
      },
      {
        "duration": 743,
        "start_time": "2022-08-29T00:53:36.978Z"
      },
      {
        "duration": 705,
        "start_time": "2022-08-29T00:54:19.502Z"
      },
      {
        "duration": 673,
        "start_time": "2022-08-29T00:54:27.681Z"
      },
      {
        "duration": 9,
        "start_time": "2022-08-29T00:54:40.562Z"
      },
      {
        "duration": 743,
        "start_time": "2022-08-29T00:54:43.978Z"
      },
      {
        "duration": 705,
        "start_time": "2022-08-29T00:55:07.322Z"
      },
      {
        "duration": 735,
        "start_time": "2022-08-29T00:55:19.846Z"
      },
      {
        "duration": 13,
        "start_time": "2022-08-29T00:55:31.661Z"
      },
      {
        "duration": 683,
        "start_time": "2022-08-29T00:55:48.175Z"
      },
      {
        "duration": 666,
        "start_time": "2022-08-29T00:56:01.330Z"
      },
      {
        "duration": 17,
        "start_time": "2022-08-29T00:56:28.479Z"
      },
      {
        "duration": 789,
        "start_time": "2022-08-29T00:56:32.423Z"
      },
      {
        "duration": 5,
        "start_time": "2022-08-29T00:56:45.159Z"
      },
      {
        "duration": 4,
        "start_time": "2022-08-29T00:57:02.190Z"
      },
      {
        "duration": 23,
        "start_time": "2022-08-29T00:57:22.056Z"
      },
      {
        "duration": 5,
        "start_time": "2022-08-29T00:57:42.790Z"
      },
      {
        "duration": 15,
        "start_time": "2022-08-29T00:58:00.192Z"
      },
      {
        "duration": 5,
        "start_time": "2022-08-29T00:58:08.268Z"
      },
      {
        "duration": 20,
        "start_time": "2022-08-29T01:01:13.145Z"
      },
      {
        "duration": 16,
        "start_time": "2022-08-29T01:09:04.222Z"
      },
      {
        "duration": 33,
        "start_time": "2022-08-29T01:09:32.735Z"
      },
      {
        "duration": 1361,
        "start_time": "2022-08-29T01:09:59.607Z"
      },
      {
        "duration": 1100,
        "start_time": "2022-08-29T01:10:24.286Z"
      },
      {
        "duration": 52,
        "start_time": "2022-08-29T01:10:25.388Z"
      },
      {
        "duration": 6,
        "start_time": "2022-08-29T01:10:25.441Z"
      },
      {
        "duration": 23,
        "start_time": "2022-08-29T01:10:25.448Z"
      },
      {
        "duration": 15,
        "start_time": "2022-08-29T01:10:25.473Z"
      },
      {
        "duration": 16,
        "start_time": "2022-08-29T01:10:25.490Z"
      },
      {
        "duration": 17,
        "start_time": "2022-08-29T01:10:25.508Z"
      },
      {
        "duration": 30,
        "start_time": "2022-08-29T01:10:25.526Z"
      },
      {
        "duration": 36,
        "start_time": "2022-08-29T01:10:25.558Z"
      },
      {
        "duration": 16,
        "start_time": "2022-08-29T01:10:25.596Z"
      },
      {
        "duration": 35,
        "start_time": "2022-08-29T01:10:25.613Z"
      },
      {
        "duration": 62,
        "start_time": "2022-08-29T01:10:25.649Z"
      },
      {
        "duration": 35,
        "start_time": "2022-08-29T01:10:25.712Z"
      },
      {
        "duration": 53,
        "start_time": "2022-08-29T01:10:25.750Z"
      },
      {
        "duration": 34,
        "start_time": "2022-08-29T01:10:25.805Z"
      },
      {
        "duration": 4,
        "start_time": "2022-08-29T01:10:25.840Z"
      },
      {
        "duration": 5,
        "start_time": "2022-08-29T01:10:25.846Z"
      },
      {
        "duration": 7,
        "start_time": "2022-08-29T01:10:25.852Z"
      },
      {
        "duration": 40,
        "start_time": "2022-08-29T01:10:25.860Z"
      },
      {
        "duration": 17,
        "start_time": "2022-08-29T01:10:25.901Z"
      },
      {
        "duration": 18,
        "start_time": "2022-08-29T01:10:25.919Z"
      },
      {
        "duration": 7,
        "start_time": "2022-08-29T01:10:25.939Z"
      },
      {
        "duration": 10,
        "start_time": "2022-08-29T01:10:25.948Z"
      },
      {
        "duration": 58,
        "start_time": "2022-08-29T01:10:25.959Z"
      },
      {
        "duration": 1496,
        "start_time": "2022-08-29T01:10:26.019Z"
      },
      {
        "duration": 0,
        "start_time": "2022-08-29T01:10:27.517Z"
      },
      {
        "duration": 958,
        "start_time": "2022-08-29T01:11:13.741Z"
      },
      {
        "duration": 1172,
        "start_time": "2022-08-29T01:11:38.083Z"
      },
      {
        "duration": 45,
        "start_time": "2022-08-29T01:12:07.152Z"
      },
      {
        "duration": 689,
        "start_time": "2022-08-29T01:13:23.248Z"
      },
      {
        "duration": 905,
        "start_time": "2022-08-29T01:14:11.370Z"
      },
      {
        "duration": 5,
        "start_time": "2022-08-29T01:14:29.732Z"
      },
      {
        "duration": 5,
        "start_time": "2022-08-29T01:14:49.990Z"
      },
      {
        "duration": 1336,
        "start_time": "2022-08-29T01:15:14.307Z"
      },
      {
        "duration": 5,
        "start_time": "2022-08-29T01:15:44.963Z"
      },
      {
        "duration": 48,
        "start_time": "2022-08-29T01:16:37.517Z"
      },
      {
        "duration": 4,
        "start_time": "2022-08-29T01:16:41.785Z"
      },
      {
        "duration": 4,
        "start_time": "2022-08-29T01:18:18.254Z"
      },
      {
        "duration": 9,
        "start_time": "2022-08-29T01:19:18.645Z"
      },
      {
        "duration": 7,
        "start_time": "2022-08-29T01:19:25.854Z"
      },
      {
        "duration": 1047,
        "start_time": "2022-08-29T01:19:55.290Z"
      },
      {
        "duration": 52,
        "start_time": "2022-08-29T01:19:56.339Z"
      },
      {
        "duration": 6,
        "start_time": "2022-08-29T01:19:56.392Z"
      },
      {
        "duration": 21,
        "start_time": "2022-08-29T01:19:56.399Z"
      },
      {
        "duration": 16,
        "start_time": "2022-08-29T01:19:56.422Z"
      },
      {
        "duration": 18,
        "start_time": "2022-08-29T01:19:56.439Z"
      },
      {
        "duration": 33,
        "start_time": "2022-08-29T01:19:56.459Z"
      },
      {
        "duration": 29,
        "start_time": "2022-08-29T01:19:56.494Z"
      },
      {
        "duration": 9,
        "start_time": "2022-08-29T01:19:56.524Z"
      },
      {
        "duration": 9,
        "start_time": "2022-08-29T01:19:56.536Z"
      },
      {
        "duration": 63,
        "start_time": "2022-08-29T01:19:56.547Z"
      },
      {
        "duration": 39,
        "start_time": "2022-08-29T01:19:56.612Z"
      },
      {
        "duration": 52,
        "start_time": "2022-08-29T01:19:56.652Z"
      },
      {
        "duration": 30,
        "start_time": "2022-08-29T01:19:56.705Z"
      },
      {
        "duration": 53,
        "start_time": "2022-08-29T01:19:56.737Z"
      },
      {
        "duration": 3,
        "start_time": "2022-08-29T01:19:56.792Z"
      },
      {
        "duration": 8,
        "start_time": "2022-08-29T01:19:56.797Z"
      },
      {
        "duration": 6,
        "start_time": "2022-08-29T01:19:56.806Z"
      },
      {
        "duration": 16,
        "start_time": "2022-08-29T01:19:56.814Z"
      },
      {
        "duration": 17,
        "start_time": "2022-08-29T01:19:56.831Z"
      },
      {
        "duration": 37,
        "start_time": "2022-08-29T01:19:56.850Z"
      },
      {
        "duration": 8,
        "start_time": "2022-08-29T01:19:56.888Z"
      },
      {
        "duration": 8,
        "start_time": "2022-08-29T01:19:56.898Z"
      },
      {
        "duration": 32,
        "start_time": "2022-08-29T01:19:56.907Z"
      },
      {
        "duration": 6,
        "start_time": "2022-08-29T01:19:56.941Z"
      },
      {
        "duration": 3,
        "start_time": "2022-08-29T01:19:56.948Z"
      },
      {
        "duration": 34,
        "start_time": "2022-08-29T01:19:56.953Z"
      },
      {
        "duration": 7,
        "start_time": "2022-08-29T01:21:33.234Z"
      },
      {
        "duration": 4,
        "start_time": "2022-08-29T01:22:14.981Z"
      },
      {
        "duration": 5,
        "start_time": "2022-08-29T01:22:15.844Z"
      },
      {
        "duration": 200,
        "start_time": "2022-08-29T01:22:47.824Z"
      },
      {
        "duration": 24,
        "start_time": "2022-08-29T01:23:30.287Z"
      },
      {
        "duration": 4,
        "start_time": "2022-08-29T01:23:47.592Z"
      },
      {
        "duration": 5,
        "start_time": "2022-08-29T01:23:48.648Z"
      },
      {
        "duration": 198,
        "start_time": "2022-08-29T01:23:49.551Z"
      },
      {
        "duration": 22,
        "start_time": "2022-08-29T01:23:51.421Z"
      },
      {
        "duration": 3,
        "start_time": "2022-08-29T01:25:43.502Z"
      },
      {
        "duration": 6,
        "start_time": "2022-08-29T01:25:44.749Z"
      },
      {
        "duration": 219,
        "start_time": "2022-08-29T01:25:46.223Z"
      },
      {
        "duration": 21,
        "start_time": "2022-08-29T01:25:47.257Z"
      },
      {
        "duration": 1095,
        "start_time": "2022-08-29T01:26:06.682Z"
      },
      {
        "duration": 53,
        "start_time": "2022-08-29T01:26:07.779Z"
      },
      {
        "duration": 5,
        "start_time": "2022-08-29T01:26:07.834Z"
      },
      {
        "duration": 21,
        "start_time": "2022-08-29T01:26:07.840Z"
      },
      {
        "duration": 14,
        "start_time": "2022-08-29T01:26:07.863Z"
      },
      {
        "duration": 16,
        "start_time": "2022-08-29T01:26:07.879Z"
      },
      {
        "duration": 17,
        "start_time": "2022-08-29T01:26:07.896Z"
      },
      {
        "duration": 29,
        "start_time": "2022-08-29T01:26:07.914Z"
      },
      {
        "duration": 9,
        "start_time": "2022-08-29T01:26:07.945Z"
      },
      {
        "duration": 36,
        "start_time": "2022-08-29T01:26:07.955Z"
      },
      {
        "duration": 35,
        "start_time": "2022-08-29T01:26:07.993Z"
      },
      {
        "duration": 61,
        "start_time": "2022-08-29T01:26:08.030Z"
      },
      {
        "duration": 31,
        "start_time": "2022-08-29T01:26:08.093Z"
      },
      {
        "duration": 32,
        "start_time": "2022-08-29T01:26:08.127Z"
      },
      {
        "duration": 55,
        "start_time": "2022-08-29T01:26:08.160Z"
      },
      {
        "duration": 4,
        "start_time": "2022-08-29T01:26:08.216Z"
      },
      {
        "duration": 8,
        "start_time": "2022-08-29T01:26:08.222Z"
      },
      {
        "duration": 6,
        "start_time": "2022-08-29T01:26:08.231Z"
      },
      {
        "duration": 17,
        "start_time": "2022-08-29T01:26:08.239Z"
      },
      {
        "duration": 43,
        "start_time": "2022-08-29T01:26:08.257Z"
      },
      {
        "duration": 20,
        "start_time": "2022-08-29T01:26:08.301Z"
      },
      {
        "duration": 8,
        "start_time": "2022-08-29T01:26:08.322Z"
      },
      {
        "duration": 16,
        "start_time": "2022-08-29T01:26:08.331Z"
      },
      {
        "duration": 48,
        "start_time": "2022-08-29T01:26:08.349Z"
      },
      {
        "duration": 7,
        "start_time": "2022-08-29T01:26:08.399Z"
      },
      {
        "duration": 4,
        "start_time": "2022-08-29T01:26:08.407Z"
      },
      {
        "duration": 8,
        "start_time": "2022-08-29T01:26:08.413Z"
      },
      {
        "duration": 218,
        "start_time": "2022-08-29T01:26:08.422Z"
      },
      {
        "duration": 22,
        "start_time": "2022-08-29T01:26:08.642Z"
      },
      {
        "duration": 1413,
        "start_time": "2022-08-29T01:27:28.980Z"
      },
      {
        "duration": 1175,
        "start_time": "2022-08-29T01:27:40.277Z"
      },
      {
        "duration": 19,
        "start_time": "2022-08-29T01:27:54.695Z"
      },
      {
        "duration": 1072,
        "start_time": "2022-08-29T01:28:03.460Z"
      },
      {
        "duration": 53,
        "start_time": "2022-08-29T01:28:04.535Z"
      },
      {
        "duration": 5,
        "start_time": "2022-08-29T01:28:04.589Z"
      },
      {
        "duration": 19,
        "start_time": "2022-08-29T01:28:04.596Z"
      },
      {
        "duration": 15,
        "start_time": "2022-08-29T01:28:04.616Z"
      },
      {
        "duration": 17,
        "start_time": "2022-08-29T01:28:04.632Z"
      },
      {
        "duration": 16,
        "start_time": "2022-08-29T01:28:04.651Z"
      },
      {
        "duration": 31,
        "start_time": "2022-08-29T01:28:04.687Z"
      },
      {
        "duration": 10,
        "start_time": "2022-08-29T01:28:04.719Z"
      },
      {
        "duration": 11,
        "start_time": "2022-08-29T01:28:04.732Z"
      },
      {
        "duration": 67,
        "start_time": "2022-08-29T01:28:04.746Z"
      },
      {
        "duration": 45,
        "start_time": "2022-08-29T01:28:04.814Z"
      },
      {
        "duration": 51,
        "start_time": "2022-08-29T01:28:04.861Z"
      },
      {
        "duration": 31,
        "start_time": "2022-08-29T01:28:04.914Z"
      },
      {
        "duration": 53,
        "start_time": "2022-08-29T01:28:04.947Z"
      },
      {
        "duration": 4,
        "start_time": "2022-08-29T01:28:05.001Z"
      },
      {
        "duration": 5,
        "start_time": "2022-08-29T01:28:05.006Z"
      },
      {
        "duration": 7,
        "start_time": "2022-08-29T01:28:05.013Z"
      },
      {
        "duration": 17,
        "start_time": "2022-08-29T01:28:05.022Z"
      },
      {
        "duration": 16,
        "start_time": "2022-08-29T01:28:05.041Z"
      },
      {
        "duration": 42,
        "start_time": "2022-08-29T01:28:05.058Z"
      },
      {
        "duration": 8,
        "start_time": "2022-08-29T01:28:05.101Z"
      },
      {
        "duration": 7,
        "start_time": "2022-08-29T01:28:05.110Z"
      },
      {
        "duration": 19,
        "start_time": "2022-08-29T01:28:05.119Z"
      },
      {
        "duration": 120,
        "start_time": "2022-08-29T01:28:05.139Z"
      },
      {
        "duration": 0,
        "start_time": "2022-08-29T01:28:05.260Z"
      },
      {
        "duration": 1,
        "start_time": "2022-08-29T01:28:05.261Z"
      },
      {
        "duration": 0,
        "start_time": "2022-08-29T01:28:05.263Z"
      },
      {
        "duration": 0,
        "start_time": "2022-08-29T01:28:05.263Z"
      },
      {
        "duration": 5,
        "start_time": "2022-08-29T01:28:23.984Z"
      },
      {
        "duration": 3,
        "start_time": "2022-08-29T01:28:42.789Z"
      },
      {
        "duration": 5,
        "start_time": "2022-08-29T01:28:44.061Z"
      },
      {
        "duration": 5,
        "start_time": "2022-08-29T01:28:57.854Z"
      },
      {
        "duration": 156,
        "start_time": "2022-08-29T01:29:03.989Z"
      },
      {
        "duration": 12,
        "start_time": "2022-08-29T01:29:05.167Z"
      },
      {
        "duration": 13,
        "start_time": "2022-08-29T01:29:27.213Z"
      },
      {
        "duration": 1014,
        "start_time": "2022-08-29T01:29:44.809Z"
      },
      {
        "duration": 52,
        "start_time": "2022-08-29T01:29:45.825Z"
      },
      {
        "duration": 5,
        "start_time": "2022-08-29T01:29:45.878Z"
      },
      {
        "duration": 19,
        "start_time": "2022-08-29T01:29:45.886Z"
      },
      {
        "duration": 14,
        "start_time": "2022-08-29T01:29:45.907Z"
      },
      {
        "duration": 20,
        "start_time": "2022-08-29T01:29:45.922Z"
      },
      {
        "duration": 16,
        "start_time": "2022-08-29T01:29:45.943Z"
      },
      {
        "duration": 48,
        "start_time": "2022-08-29T01:29:45.961Z"
      },
      {
        "duration": 11,
        "start_time": "2022-08-29T01:29:46.011Z"
      },
      {
        "duration": 15,
        "start_time": "2022-08-29T01:29:46.025Z"
      },
      {
        "duration": 52,
        "start_time": "2022-08-29T01:29:46.042Z"
      },
      {
        "duration": 36,
        "start_time": "2022-08-29T01:29:46.096Z"
      },
      {
        "duration": 30,
        "start_time": "2022-08-29T01:29:46.133Z"
      },
      {
        "duration": 41,
        "start_time": "2022-08-29T01:29:46.186Z"
      },
      {
        "duration": 58,
        "start_time": "2022-08-29T01:29:46.229Z"
      },
      {
        "duration": 4,
        "start_time": "2022-08-29T01:29:46.289Z"
      },
      {
        "duration": 6,
        "start_time": "2022-08-29T01:29:46.295Z"
      },
      {
        "duration": 10,
        "start_time": "2022-08-29T01:29:46.302Z"
      },
      {
        "duration": 16,
        "start_time": "2022-08-29T01:29:46.314Z"
      },
      {
        "duration": 15,
        "start_time": "2022-08-29T01:29:46.331Z"
      },
      {
        "duration": 39,
        "start_time": "2022-08-29T01:29:46.348Z"
      },
      {
        "duration": 7,
        "start_time": "2022-08-29T01:29:46.389Z"
      },
      {
        "duration": 8,
        "start_time": "2022-08-29T01:29:46.397Z"
      },
      {
        "duration": 22,
        "start_time": "2022-08-29T01:29:46.407Z"
      },
      {
        "duration": 8,
        "start_time": "2022-08-29T01:29:46.430Z"
      },
      {
        "duration": 5,
        "start_time": "2022-08-29T01:29:46.439Z"
      },
      {
        "duration": 8,
        "start_time": "2022-08-29T01:29:46.445Z"
      },
      {
        "duration": 188,
        "start_time": "2022-08-29T01:29:46.455Z"
      },
      {
        "duration": 12,
        "start_time": "2022-08-29T01:29:46.645Z"
      },
      {
        "duration": 23,
        "start_time": "2022-08-29T01:29:46.659Z"
      },
      {
        "duration": 16,
        "start_time": "2022-08-29T01:30:11.422Z"
      },
      {
        "duration": 4,
        "start_time": "2022-08-29T01:30:14.210Z"
      },
      {
        "duration": 3,
        "start_time": "2022-08-29T01:30:15.039Z"
      },
      {
        "duration": 5,
        "start_time": "2022-08-29T01:30:16.242Z"
      },
      {
        "duration": 149,
        "start_time": "2022-08-29T01:30:17.712Z"
      },
      {
        "duration": 11,
        "start_time": "2022-08-29T01:30:18.500Z"
      },
      {
        "duration": 13,
        "start_time": "2022-08-29T01:30:20.196Z"
      },
      {
        "duration": 1008,
        "start_time": "2022-08-29T01:30:26.925Z"
      },
      {
        "duration": 52,
        "start_time": "2022-08-29T01:30:27.935Z"
      },
      {
        "duration": 5,
        "start_time": "2022-08-29T01:30:27.989Z"
      },
      {
        "duration": 23,
        "start_time": "2022-08-29T01:30:27.996Z"
      },
      {
        "duration": 14,
        "start_time": "2022-08-29T01:30:28.021Z"
      },
      {
        "duration": 15,
        "start_time": "2022-08-29T01:30:28.037Z"
      },
      {
        "duration": 38,
        "start_time": "2022-08-29T01:30:28.054Z"
      },
      {
        "duration": 29,
        "start_time": "2022-08-29T01:30:28.093Z"
      },
      {
        "duration": 8,
        "start_time": "2022-08-29T01:30:28.124Z"
      },
      {
        "duration": 12,
        "start_time": "2022-08-29T01:30:28.134Z"
      },
      {
        "duration": 55,
        "start_time": "2022-08-29T01:30:28.148Z"
      },
      {
        "duration": 35,
        "start_time": "2022-08-29T01:30:28.205Z"
      },
      {
        "duration": 52,
        "start_time": "2022-08-29T01:30:28.242Z"
      },
      {
        "duration": 31,
        "start_time": "2022-08-29T01:30:28.297Z"
      },
      {
        "duration": 30,
        "start_time": "2022-08-29T01:30:28.330Z"
      },
      {
        "duration": 26,
        "start_time": "2022-08-29T01:30:28.361Z"
      },
      {
        "duration": 3,
        "start_time": "2022-08-29T01:30:28.389Z"
      },
      {
        "duration": 7,
        "start_time": "2022-08-29T01:30:28.393Z"
      },
      {
        "duration": 17,
        "start_time": "2022-08-29T01:30:28.401Z"
      },
      {
        "duration": 16,
        "start_time": "2022-08-29T01:30:28.419Z"
      },
      {
        "duration": 17,
        "start_time": "2022-08-29T01:30:28.436Z"
      },
      {
        "duration": 32,
        "start_time": "2022-08-29T01:30:28.455Z"
      },
      {
        "duration": 7,
        "start_time": "2022-08-29T01:30:28.489Z"
      },
      {
        "duration": 16,
        "start_time": "2022-08-29T01:30:28.497Z"
      },
      {
        "duration": 6,
        "start_time": "2022-08-29T01:30:28.514Z"
      },
      {
        "duration": 7,
        "start_time": "2022-08-29T01:30:28.521Z"
      },
      {
        "duration": 8,
        "start_time": "2022-08-29T01:30:28.529Z"
      },
      {
        "duration": 160,
        "start_time": "2022-08-29T01:30:28.538Z"
      },
      {
        "duration": 11,
        "start_time": "2022-08-29T01:30:28.699Z"
      },
      {
        "duration": 16,
        "start_time": "2022-08-29T01:30:28.711Z"
      },
      {
        "duration": 5,
        "start_time": "2022-08-29T01:31:33.637Z"
      },
      {
        "duration": 22,
        "start_time": "2022-08-29T01:33:33.336Z"
      },
      {
        "duration": 4,
        "start_time": "2022-08-29T01:33:38.039Z"
      },
      {
        "duration": 3,
        "start_time": "2022-08-29T01:33:40.426Z"
      },
      {
        "duration": 5,
        "start_time": "2022-08-29T01:33:41.949Z"
      },
      {
        "duration": 146,
        "start_time": "2022-08-29T01:33:43.887Z"
      },
      {
        "duration": 11,
        "start_time": "2022-08-29T01:33:45.028Z"
      },
      {
        "duration": 5,
        "start_time": "2022-08-29T01:33:46.956Z"
      },
      {
        "duration": 18,
        "start_time": "2022-08-29T01:34:16.140Z"
      },
      {
        "duration": 15,
        "start_time": "2022-08-29T01:34:51.000Z"
      },
      {
        "duration": 19,
        "start_time": "2022-08-29T01:35:05.477Z"
      },
      {
        "duration": 15,
        "start_time": "2022-08-29T01:36:11.082Z"
      },
      {
        "duration": 4,
        "start_time": "2022-08-29T01:36:12.076Z"
      },
      {
        "duration": 4,
        "start_time": "2022-08-29T01:36:13.921Z"
      },
      {
        "duration": 4,
        "start_time": "2022-08-29T01:36:15.402Z"
      },
      {
        "duration": 145,
        "start_time": "2022-08-29T01:36:16.636Z"
      },
      {
        "duration": 11,
        "start_time": "2022-08-29T01:36:18.365Z"
      },
      {
        "duration": 6,
        "start_time": "2022-08-29T01:36:20.010Z"
      },
      {
        "duration": 20,
        "start_time": "2022-08-29T01:37:42.193Z"
      },
      {
        "duration": 22,
        "start_time": "2022-08-29T01:46:16.514Z"
      },
      {
        "duration": 5,
        "start_time": "2022-08-29T01:46:52.595Z"
      },
      {
        "duration": 4,
        "start_time": "2022-08-29T01:49:30.588Z"
      },
      {
        "duration": 15,
        "start_time": "2022-08-29T01:50:24.573Z"
      },
      {
        "duration": 8,
        "start_time": "2022-08-29T01:54:05.269Z"
      },
      {
        "duration": 5,
        "start_time": "2022-08-29T01:54:11.208Z"
      },
      {
        "duration": 17,
        "start_time": "2022-08-29T01:56:57.443Z"
      },
      {
        "duration": 100,
        "start_time": "2022-08-29T02:08:59.245Z"
      },
      {
        "duration": 9,
        "start_time": "2022-08-29T02:09:18.196Z"
      },
      {
        "duration": 16,
        "start_time": "2022-08-29T02:09:32.283Z"
      },
      {
        "duration": 20,
        "start_time": "2022-08-29T02:09:47.156Z"
      },
      {
        "duration": 25,
        "start_time": "2022-08-29T02:09:52.247Z"
      },
      {
        "duration": 4,
        "start_time": "2022-08-29T02:11:16.616Z"
      },
      {
        "duration": 347,
        "start_time": "2022-08-29T02:11:36.938Z"
      },
      {
        "duration": 26,
        "start_time": "2022-08-29T02:11:56.253Z"
      },
      {
        "duration": 18,
        "start_time": "2022-08-29T02:15:41.191Z"
      },
      {
        "duration": 1062,
        "start_time": "2022-08-29T02:16:00.880Z"
      },
      {
        "duration": 55,
        "start_time": "2022-08-29T02:16:01.944Z"
      },
      {
        "duration": 5,
        "start_time": "2022-08-29T02:16:02.001Z"
      },
      {
        "duration": 35,
        "start_time": "2022-08-29T02:16:02.008Z"
      },
      {
        "duration": 22,
        "start_time": "2022-08-29T02:16:02.046Z"
      },
      {
        "duration": 25,
        "start_time": "2022-08-29T02:16:02.070Z"
      },
      {
        "duration": 37,
        "start_time": "2022-08-29T02:16:02.097Z"
      },
      {
        "duration": 30,
        "start_time": "2022-08-29T02:16:02.136Z"
      },
      {
        "duration": 9,
        "start_time": "2022-08-29T02:16:02.168Z"
      },
      {
        "duration": 14,
        "start_time": "2022-08-29T02:16:02.178Z"
      },
      {
        "duration": 35,
        "start_time": "2022-08-29T02:16:02.194Z"
      },
      {
        "duration": 57,
        "start_time": "2022-08-29T02:16:02.230Z"
      },
      {
        "duration": 31,
        "start_time": "2022-08-29T02:16:02.288Z"
      },
      {
        "duration": 32,
        "start_time": "2022-08-29T02:16:02.321Z"
      },
      {
        "duration": 55,
        "start_time": "2022-08-29T02:16:02.355Z"
      },
      {
        "duration": 3,
        "start_time": "2022-08-29T02:16:02.412Z"
      },
      {
        "duration": 7,
        "start_time": "2022-08-29T02:16:02.417Z"
      },
      {
        "duration": 9,
        "start_time": "2022-08-29T02:16:02.425Z"
      },
      {
        "duration": 23,
        "start_time": "2022-08-29T02:16:02.435Z"
      },
      {
        "duration": 33,
        "start_time": "2022-08-29T02:16:02.459Z"
      },
      {
        "duration": 18,
        "start_time": "2022-08-29T02:16:02.494Z"
      },
      {
        "duration": 7,
        "start_time": "2022-08-29T02:16:02.514Z"
      },
      {
        "duration": 13,
        "start_time": "2022-08-29T02:16:02.523Z"
      },
      {
        "duration": 28,
        "start_time": "2022-08-29T02:16:02.537Z"
      },
      {
        "duration": 3,
        "start_time": "2022-08-29T02:16:02.566Z"
      },
      {
        "duration": 18,
        "start_time": "2022-08-29T02:16:02.570Z"
      },
      {
        "duration": 157,
        "start_time": "2022-08-29T02:16:02.589Z"
      },
      {
        "duration": 10,
        "start_time": "2022-08-29T02:16:02.748Z"
      },
      {
        "duration": 9,
        "start_time": "2022-08-29T02:16:02.760Z"
      },
      {
        "duration": 27,
        "start_time": "2022-08-29T02:16:02.770Z"
      },
      {
        "duration": 7,
        "start_time": "2022-08-29T02:16:02.798Z"
      },
      {
        "duration": 8,
        "start_time": "2022-08-29T02:16:02.807Z"
      },
      {
        "duration": 10,
        "start_time": "2022-08-29T02:16:02.817Z"
      },
      {
        "duration": 32,
        "start_time": "2022-08-29T02:16:02.828Z"
      },
      {
        "duration": 26,
        "start_time": "2022-08-29T02:16:02.862Z"
      },
      {
        "duration": 919,
        "start_time": "2022-08-29T02:16:02.889Z"
      },
      {
        "duration": 920,
        "start_time": "2022-08-29T02:16:03.809Z"
      },
      {
        "duration": 4,
        "start_time": "2022-08-29T02:16:52.057Z"
      },
      {
        "duration": 3,
        "start_time": "2022-08-29T02:17:08.864Z"
      },
      {
        "duration": 21,
        "start_time": "2022-08-29T02:17:12.501Z"
      },
      {
        "duration": 1064,
        "start_time": "2022-08-29T02:17:44.671Z"
      },
      {
        "duration": 53,
        "start_time": "2022-08-29T02:17:45.737Z"
      },
      {
        "duration": 5,
        "start_time": "2022-08-29T02:17:45.792Z"
      },
      {
        "duration": 20,
        "start_time": "2022-08-29T02:17:45.800Z"
      },
      {
        "duration": 14,
        "start_time": "2022-08-29T02:17:45.822Z"
      },
      {
        "duration": 15,
        "start_time": "2022-08-29T02:17:45.838Z"
      },
      {
        "duration": 41,
        "start_time": "2022-08-29T02:17:45.855Z"
      },
      {
        "duration": 30,
        "start_time": "2022-08-29T02:17:45.898Z"
      },
      {
        "duration": 9,
        "start_time": "2022-08-29T02:17:45.930Z"
      },
      {
        "duration": 11,
        "start_time": "2022-08-29T02:17:45.942Z"
      },
      {
        "duration": 73,
        "start_time": "2022-08-29T02:17:45.955Z"
      },
      {
        "duration": 57,
        "start_time": "2022-08-29T02:17:46.030Z"
      },
      {
        "duration": 29,
        "start_time": "2022-08-29T02:17:46.089Z"
      },
      {
        "duration": 29,
        "start_time": "2022-08-29T02:17:46.119Z"
      },
      {
        "duration": 57,
        "start_time": "2022-08-29T02:17:46.150Z"
      },
      {
        "duration": 4,
        "start_time": "2022-08-29T02:17:46.209Z"
      },
      {
        "duration": 16,
        "start_time": "2022-08-29T02:17:46.215Z"
      },
      {
        "duration": 10,
        "start_time": "2022-08-29T02:17:46.233Z"
      },
      {
        "duration": 22,
        "start_time": "2022-08-29T02:17:46.245Z"
      },
      {
        "duration": 32,
        "start_time": "2022-08-29T02:17:46.270Z"
      },
      {
        "duration": 20,
        "start_time": "2022-08-29T02:17:46.303Z"
      },
      {
        "duration": 7,
        "start_time": "2022-08-29T02:17:46.324Z"
      },
      {
        "duration": 9,
        "start_time": "2022-08-29T02:17:46.333Z"
      },
      {
        "duration": 22,
        "start_time": "2022-08-29T02:17:46.343Z"
      },
      {
        "duration": 3,
        "start_time": "2022-08-29T02:17:46.386Z"
      },
      {
        "duration": 8,
        "start_time": "2022-08-29T02:17:46.391Z"
      },
      {
        "duration": 159,
        "start_time": "2022-08-29T02:17:46.401Z"
      },
      {
        "duration": 12,
        "start_time": "2022-08-29T02:17:46.564Z"
      },
      {
        "duration": 13,
        "start_time": "2022-08-29T02:17:46.578Z"
      },
      {
        "duration": 15,
        "start_time": "2022-08-29T02:17:46.592Z"
      },
      {
        "duration": 7,
        "start_time": "2022-08-29T02:17:46.609Z"
      },
      {
        "duration": 13,
        "start_time": "2022-08-29T02:17:46.617Z"
      },
      {
        "duration": 12,
        "start_time": "2022-08-29T02:17:46.632Z"
      },
      {
        "duration": 48,
        "start_time": "2022-08-29T02:17:46.646Z"
      },
      {
        "duration": 3,
        "start_time": "2022-08-29T02:17:46.696Z"
      },
      {
        "duration": 564,
        "start_time": "2022-08-29T02:17:46.701Z"
      },
      {
        "duration": 27,
        "start_time": "2022-08-29T02:17:47.267Z"
      },
      {
        "duration": 98,
        "start_time": "2022-08-29T02:18:22.643Z"
      },
      {
        "duration": 1049,
        "start_time": "2022-08-29T02:18:27.973Z"
      },
      {
        "duration": 52,
        "start_time": "2022-08-29T02:18:29.024Z"
      },
      {
        "duration": 5,
        "start_time": "2022-08-29T02:18:29.077Z"
      },
      {
        "duration": 24,
        "start_time": "2022-08-29T02:18:29.083Z"
      },
      {
        "duration": 14,
        "start_time": "2022-08-29T02:18:29.109Z"
      },
      {
        "duration": 16,
        "start_time": "2022-08-29T02:18:29.124Z"
      },
      {
        "duration": 16,
        "start_time": "2022-08-29T02:18:29.141Z"
      },
      {
        "duration": 42,
        "start_time": "2022-08-29T02:18:29.158Z"
      },
      {
        "duration": 8,
        "start_time": "2022-08-29T02:18:29.201Z"
      },
      {
        "duration": 12,
        "start_time": "2022-08-29T02:18:29.210Z"
      },
      {
        "duration": 33,
        "start_time": "2022-08-29T02:18:29.223Z"
      },
      {
        "duration": 62,
        "start_time": "2022-08-29T02:18:29.258Z"
      },
      {
        "duration": 31,
        "start_time": "2022-08-29T02:18:29.321Z"
      },
      {
        "duration": 61,
        "start_time": "2022-08-29T02:18:29.355Z"
      },
      {
        "duration": 38,
        "start_time": "2022-08-29T02:18:29.418Z"
      },
      {
        "duration": 4,
        "start_time": "2022-08-29T02:18:29.457Z"
      },
      {
        "duration": 25,
        "start_time": "2022-08-29T02:18:29.462Z"
      },
      {
        "duration": 3,
        "start_time": "2022-08-29T02:18:29.488Z"
      },
      {
        "duration": 16,
        "start_time": "2022-08-29T02:18:29.493Z"
      },
      {
        "duration": 17,
        "start_time": "2022-08-29T02:18:29.511Z"
      },
      {
        "duration": 19,
        "start_time": "2022-08-29T02:18:29.530Z"
      },
      {
        "duration": 7,
        "start_time": "2022-08-29T02:18:29.551Z"
      },
      {
        "duration": 30,
        "start_time": "2022-08-29T02:18:29.560Z"
      },
      {
        "duration": 22,
        "start_time": "2022-08-29T02:18:29.592Z"
      },
      {
        "duration": 2,
        "start_time": "2022-08-29T02:18:29.616Z"
      },
      {
        "duration": 6,
        "start_time": "2022-08-29T02:18:29.620Z"
      },
      {
        "duration": 163,
        "start_time": "2022-08-29T02:18:29.627Z"
      },
      {
        "duration": 12,
        "start_time": "2022-08-29T02:18:29.791Z"
      },
      {
        "duration": 6,
        "start_time": "2022-08-29T02:18:29.804Z"
      },
      {
        "duration": 15,
        "start_time": "2022-08-29T02:18:29.811Z"
      },
      {
        "duration": 7,
        "start_time": "2022-08-29T02:18:29.827Z"
      },
      {
        "duration": 8,
        "start_time": "2022-08-29T02:18:29.835Z"
      },
      {
        "duration": 12,
        "start_time": "2022-08-29T02:18:29.844Z"
      },
      {
        "duration": 41,
        "start_time": "2022-08-29T02:18:29.857Z"
      },
      {
        "duration": 7,
        "start_time": "2022-08-29T02:18:29.899Z"
      },
      {
        "duration": 449,
        "start_time": "2022-08-29T02:18:29.908Z"
      },
      {
        "duration": 20,
        "start_time": "2022-08-29T02:18:30.359Z"
      },
      {
        "duration": 3,
        "start_time": "2022-08-29T02:19:12.404Z"
      },
      {
        "duration": 181,
        "start_time": "2022-08-29T02:19:13.446Z"
      },
      {
        "duration": 21,
        "start_time": "2022-08-29T02:19:14.801Z"
      },
      {
        "duration": 1073,
        "start_time": "2022-08-29T02:19:29.356Z"
      },
      {
        "duration": 54,
        "start_time": "2022-08-29T02:19:30.431Z"
      },
      {
        "duration": 5,
        "start_time": "2022-08-29T02:19:30.487Z"
      },
      {
        "duration": 39,
        "start_time": "2022-08-29T02:19:30.494Z"
      },
      {
        "duration": 32,
        "start_time": "2022-08-29T02:19:30.535Z"
      },
      {
        "duration": 40,
        "start_time": "2022-08-29T02:19:30.569Z"
      },
      {
        "duration": 25,
        "start_time": "2022-08-29T02:19:30.611Z"
      },
      {
        "duration": 54,
        "start_time": "2022-08-29T02:19:30.637Z"
      },
      {
        "duration": 9,
        "start_time": "2022-08-29T02:19:30.693Z"
      },
      {
        "duration": 33,
        "start_time": "2022-08-29T02:19:30.704Z"
      },
      {
        "duration": 69,
        "start_time": "2022-08-29T02:19:30.738Z"
      },
      {
        "duration": 37,
        "start_time": "2022-08-29T02:19:30.809Z"
      },
      {
        "duration": 39,
        "start_time": "2022-08-29T02:19:30.848Z"
      },
      {
        "duration": 34,
        "start_time": "2022-08-29T02:19:30.889Z"
      },
      {
        "duration": 68,
        "start_time": "2022-08-29T02:19:30.925Z"
      },
      {
        "duration": 4,
        "start_time": "2022-08-29T02:19:30.995Z"
      },
      {
        "duration": 33,
        "start_time": "2022-08-29T02:19:31.001Z"
      },
      {
        "duration": 31,
        "start_time": "2022-08-29T02:19:31.035Z"
      },
      {
        "duration": 38,
        "start_time": "2022-08-29T02:19:31.067Z"
      },
      {
        "duration": 23,
        "start_time": "2022-08-29T02:19:31.106Z"
      },
      {
        "duration": 47,
        "start_time": "2022-08-29T02:19:31.130Z"
      },
      {
        "duration": 8,
        "start_time": "2022-08-29T02:19:31.178Z"
      },
      {
        "duration": 39,
        "start_time": "2022-08-29T02:19:31.188Z"
      },
      {
        "duration": 31,
        "start_time": "2022-08-29T02:19:31.229Z"
      },
      {
        "duration": 15,
        "start_time": "2022-08-29T02:19:31.261Z"
      },
      {
        "duration": 30,
        "start_time": "2022-08-29T02:19:31.278Z"
      },
      {
        "duration": 156,
        "start_time": "2022-08-29T02:19:31.310Z"
      },
      {
        "duration": 10,
        "start_time": "2022-08-29T02:19:31.469Z"
      },
      {
        "duration": 9,
        "start_time": "2022-08-29T02:19:31.481Z"
      },
      {
        "duration": 30,
        "start_time": "2022-08-29T02:19:31.492Z"
      },
      {
        "duration": 26,
        "start_time": "2022-08-29T02:19:31.523Z"
      },
      {
        "duration": 17,
        "start_time": "2022-08-29T02:19:31.551Z"
      },
      {
        "duration": 25,
        "start_time": "2022-08-29T02:19:31.570Z"
      },
      {
        "duration": 33,
        "start_time": "2022-08-29T02:19:31.597Z"
      },
      {
        "duration": 4,
        "start_time": "2022-08-29T02:19:31.632Z"
      },
      {
        "duration": 1333,
        "start_time": "2022-08-29T02:19:31.638Z"
      },
      {
        "duration": 31,
        "start_time": "2022-08-29T02:19:32.972Z"
      },
      {
        "duration": 100,
        "start_time": "2022-08-29T02:24:14.447Z"
      },
      {
        "duration": 994,
        "start_time": "2022-08-29T02:24:22.236Z"
      },
      {
        "duration": 53,
        "start_time": "2022-08-29T02:24:23.232Z"
      },
      {
        "duration": 5,
        "start_time": "2022-08-29T02:24:23.287Z"
      },
      {
        "duration": 23,
        "start_time": "2022-08-29T02:24:23.294Z"
      },
      {
        "duration": 15,
        "start_time": "2022-08-29T02:24:23.318Z"
      },
      {
        "duration": 15,
        "start_time": "2022-08-29T02:24:23.335Z"
      },
      {
        "duration": 40,
        "start_time": "2022-08-29T02:24:23.352Z"
      },
      {
        "duration": 28,
        "start_time": "2022-08-29T02:24:23.394Z"
      },
      {
        "duration": 8,
        "start_time": "2022-08-29T02:24:23.424Z"
      },
      {
        "duration": 9,
        "start_time": "2022-08-29T02:24:23.435Z"
      },
      {
        "duration": 60,
        "start_time": "2022-08-29T02:24:23.446Z"
      },
      {
        "duration": 35,
        "start_time": "2022-08-29T02:24:23.508Z"
      },
      {
        "duration": 47,
        "start_time": "2022-08-29T02:24:23.545Z"
      },
      {
        "duration": 30,
        "start_time": "2022-08-29T02:24:23.594Z"
      },
      {
        "duration": 29,
        "start_time": "2022-08-29T02:24:23.626Z"
      },
      {
        "duration": 3,
        "start_time": "2022-08-29T02:24:23.657Z"
      },
      {
        "duration": 27,
        "start_time": "2022-08-29T02:24:23.661Z"
      },
      {
        "duration": 7,
        "start_time": "2022-08-29T02:24:23.689Z"
      },
      {
        "duration": 16,
        "start_time": "2022-08-29T02:24:23.697Z"
      },
      {
        "duration": 14,
        "start_time": "2022-08-29T02:24:23.715Z"
      },
      {
        "duration": 20,
        "start_time": "2022-08-29T02:24:23.731Z"
      },
      {
        "duration": 7,
        "start_time": "2022-08-29T02:24:23.752Z"
      },
      {
        "duration": 5,
        "start_time": "2022-08-29T02:24:23.787Z"
      },
      {
        "duration": 25,
        "start_time": "2022-08-29T02:24:23.794Z"
      },
      {
        "duration": 3,
        "start_time": "2022-08-29T02:24:23.821Z"
      },
      {
        "duration": 7,
        "start_time": "2022-08-29T02:24:23.825Z"
      },
      {
        "duration": 173,
        "start_time": "2022-08-29T02:24:23.834Z"
      },
      {
        "duration": 10,
        "start_time": "2022-08-29T02:24:24.011Z"
      },
      {
        "duration": 8,
        "start_time": "2022-08-29T02:24:24.023Z"
      },
      {
        "duration": 16,
        "start_time": "2022-08-29T02:24:24.033Z"
      },
      {
        "duration": 7,
        "start_time": "2022-08-29T02:24:24.051Z"
      },
      {
        "duration": 9,
        "start_time": "2022-08-29T02:24:24.059Z"
      },
      {
        "duration": 8,
        "start_time": "2022-08-29T02:24:24.087Z"
      },
      {
        "duration": 14,
        "start_time": "2022-08-29T02:24:24.097Z"
      },
      {
        "duration": 4,
        "start_time": "2022-08-29T02:24:24.112Z"
      },
      {
        "duration": 3286,
        "start_time": "2022-08-29T02:24:24.117Z"
      },
      {
        "duration": 19,
        "start_time": "2022-08-29T02:24:27.405Z"
      },
      {
        "duration": 3,
        "start_time": "2022-08-29T02:24:46.902Z"
      },
      {
        "duration": 144,
        "start_time": "2022-08-29T02:24:48.222Z"
      },
      {
        "duration": 21,
        "start_time": "2022-08-29T02:24:49.678Z"
      },
      {
        "duration": 1149,
        "start_time": "2022-08-29T02:25:08.989Z"
      },
      {
        "duration": 53,
        "start_time": "2022-08-29T02:25:10.140Z"
      },
      {
        "duration": 6,
        "start_time": "2022-08-29T02:25:10.195Z"
      },
      {
        "duration": 32,
        "start_time": "2022-08-29T02:25:10.204Z"
      },
      {
        "duration": 18,
        "start_time": "2022-08-29T02:25:10.238Z"
      },
      {
        "duration": 35,
        "start_time": "2022-08-29T02:25:10.257Z"
      },
      {
        "duration": 36,
        "start_time": "2022-08-29T02:25:10.294Z"
      },
      {
        "duration": 38,
        "start_time": "2022-08-29T02:25:10.332Z"
      },
      {
        "duration": 8,
        "start_time": "2022-08-29T02:25:10.372Z"
      },
      {
        "duration": 22,
        "start_time": "2022-08-29T02:25:10.383Z"
      },
      {
        "duration": 53,
        "start_time": "2022-08-29T02:25:10.407Z"
      },
      {
        "duration": 38,
        "start_time": "2022-08-29T02:25:10.462Z"
      },
      {
        "duration": 30,
        "start_time": "2022-08-29T02:25:10.501Z"
      },
      {
        "duration": 31,
        "start_time": "2022-08-29T02:25:10.532Z"
      },
      {
        "duration": 52,
        "start_time": "2022-08-29T02:25:10.565Z"
      },
      {
        "duration": 4,
        "start_time": "2022-08-29T02:25:10.618Z"
      },
      {
        "duration": 29,
        "start_time": "2022-08-29T02:25:10.623Z"
      },
      {
        "duration": 23,
        "start_time": "2022-08-29T02:25:10.653Z"
      },
      {
        "duration": 22,
        "start_time": "2022-08-29T02:25:10.678Z"
      },
      {
        "duration": 49,
        "start_time": "2022-08-29T02:25:10.701Z"
      },
      {
        "duration": 44,
        "start_time": "2022-08-29T02:25:10.751Z"
      },
      {
        "duration": 7,
        "start_time": "2022-08-29T02:25:10.797Z"
      },
      {
        "duration": 27,
        "start_time": "2022-08-29T02:25:10.806Z"
      },
      {
        "duration": 44,
        "start_time": "2022-08-29T02:25:10.835Z"
      },
      {
        "duration": 16,
        "start_time": "2022-08-29T02:25:10.880Z"
      },
      {
        "duration": 23,
        "start_time": "2022-08-29T02:25:10.898Z"
      },
      {
        "duration": 175,
        "start_time": "2022-08-29T02:25:10.923Z"
      },
      {
        "duration": 11,
        "start_time": "2022-08-29T02:25:11.101Z"
      },
      {
        "duration": 9,
        "start_time": "2022-08-29T02:25:11.114Z"
      },
      {
        "duration": 18,
        "start_time": "2022-08-29T02:25:11.124Z"
      },
      {
        "duration": 8,
        "start_time": "2022-08-29T02:25:11.144Z"
      },
      {
        "duration": 11,
        "start_time": "2022-08-29T02:25:11.153Z"
      },
      {
        "duration": 24,
        "start_time": "2022-08-29T02:25:11.165Z"
      },
      {
        "duration": 13,
        "start_time": "2022-08-29T02:25:11.190Z"
      },
      {
        "duration": 3,
        "start_time": "2022-08-29T02:25:11.205Z"
      },
      {
        "duration": 223,
        "start_time": "2022-08-29T02:25:11.210Z"
      },
      {
        "duration": 11,
        "start_time": "2022-08-29T02:25:11.435Z"
      },
      {
        "duration": 14,
        "start_time": "2022-08-29T02:27:33.567Z"
      },
      {
        "duration": 13,
        "start_time": "2022-08-29T02:27:44.620Z"
      },
      {
        "duration": 1413,
        "start_time": "2022-08-29T02:27:49.804Z"
      },
      {
        "duration": 54,
        "start_time": "2022-08-29T02:27:51.218Z"
      },
      {
        "duration": 6,
        "start_time": "2022-08-29T02:27:51.273Z"
      },
      {
        "duration": 22,
        "start_time": "2022-08-29T02:27:51.281Z"
      },
      {
        "duration": 14,
        "start_time": "2022-08-29T02:27:51.306Z"
      },
      {
        "duration": 17,
        "start_time": "2022-08-29T02:27:51.322Z"
      },
      {
        "duration": 17,
        "start_time": "2022-08-29T02:27:51.341Z"
      },
      {
        "duration": 51,
        "start_time": "2022-08-29T02:27:51.360Z"
      },
      {
        "duration": 9,
        "start_time": "2022-08-29T02:27:51.413Z"
      },
      {
        "duration": 11,
        "start_time": "2022-08-29T02:27:51.424Z"
      },
      {
        "duration": 53,
        "start_time": "2022-08-29T02:27:51.436Z"
      },
      {
        "duration": 35,
        "start_time": "2022-08-29T02:27:51.491Z"
      },
      {
        "duration": 29,
        "start_time": "2022-08-29T02:27:51.527Z"
      },
      {
        "duration": 52,
        "start_time": "2022-08-29T02:27:51.559Z"
      },
      {
        "duration": 30,
        "start_time": "2022-08-29T02:27:51.612Z"
      },
      {
        "duration": 3,
        "start_time": "2022-08-29T02:27:51.644Z"
      },
      {
        "duration": 15,
        "start_time": "2022-08-29T02:27:51.649Z"
      },
      {
        "duration": 21,
        "start_time": "2022-08-29T02:27:51.666Z"
      },
      {
        "duration": 22,
        "start_time": "2022-08-29T02:27:51.688Z"
      },
      {
        "duration": 16,
        "start_time": "2022-08-29T02:27:51.711Z"
      },
      {
        "duration": 20,
        "start_time": "2022-08-29T02:27:51.729Z"
      },
      {
        "duration": 7,
        "start_time": "2022-08-29T02:27:51.750Z"
      },
      {
        "duration": 8,
        "start_time": "2022-08-29T02:27:51.759Z"
      },
      {
        "duration": 36,
        "start_time": "2022-08-29T02:27:51.769Z"
      },
      {
        "duration": 2,
        "start_time": "2022-08-29T02:27:51.807Z"
      },
      {
        "duration": 20,
        "start_time": "2022-08-29T02:27:51.811Z"
      },
      {
        "duration": 152,
        "start_time": "2022-08-29T02:27:51.832Z"
      },
      {
        "duration": 11,
        "start_time": "2022-08-29T02:27:51.985Z"
      },
      {
        "duration": 15,
        "start_time": "2022-08-29T02:27:51.998Z"
      },
      {
        "duration": 20,
        "start_time": "2022-08-29T02:27:52.014Z"
      },
      {
        "duration": 10,
        "start_time": "2022-08-29T02:27:52.035Z"
      },
      {
        "duration": 18,
        "start_time": "2022-08-29T02:27:52.046Z"
      },
      {
        "duration": 10,
        "start_time": "2022-08-29T02:27:52.065Z"
      },
      {
        "duration": 13,
        "start_time": "2022-08-29T02:27:52.077Z"
      },
      {
        "duration": 3,
        "start_time": "2022-08-29T02:27:52.092Z"
      },
      {
        "duration": 210,
        "start_time": "2022-08-29T02:27:52.096Z"
      },
      {
        "duration": 9,
        "start_time": "2022-08-29T02:27:52.308Z"
      },
      {
        "duration": 19,
        "start_time": "2022-08-29T02:34:36.472Z"
      },
      {
        "duration": 52,
        "start_time": "2022-08-29T02:34:49.495Z"
      },
      {
        "duration": 19,
        "start_time": "2022-08-29T02:34:54.757Z"
      },
      {
        "duration": 10,
        "start_time": "2022-08-29T02:35:09.439Z"
      },
      {
        "duration": 1021,
        "start_time": "2022-08-29T02:35:17.407Z"
      },
      {
        "duration": 53,
        "start_time": "2022-08-29T02:35:18.430Z"
      },
      {
        "duration": 4,
        "start_time": "2022-08-29T02:35:18.485Z"
      },
      {
        "duration": 24,
        "start_time": "2022-08-29T02:35:18.491Z"
      },
      {
        "duration": 13,
        "start_time": "2022-08-29T02:35:18.517Z"
      },
      {
        "duration": 14,
        "start_time": "2022-08-29T02:35:18.532Z"
      },
      {
        "duration": 15,
        "start_time": "2022-08-29T02:35:18.548Z"
      },
      {
        "duration": 29,
        "start_time": "2022-08-29T02:35:18.586Z"
      },
      {
        "duration": 9,
        "start_time": "2022-08-29T02:35:18.616Z"
      },
      {
        "duration": 12,
        "start_time": "2022-08-29T02:35:18.626Z"
      },
      {
        "duration": 55,
        "start_time": "2022-08-29T02:35:18.639Z"
      },
      {
        "duration": 35,
        "start_time": "2022-08-29T02:35:18.696Z"
      },
      {
        "duration": 30,
        "start_time": "2022-08-29T02:35:18.733Z"
      },
      {
        "duration": 31,
        "start_time": "2022-08-29T02:35:18.787Z"
      },
      {
        "duration": 30,
        "start_time": "2022-08-29T02:35:18.819Z"
      },
      {
        "duration": 4,
        "start_time": "2022-08-29T02:35:18.850Z"
      },
      {
        "duration": 8,
        "start_time": "2022-08-29T02:35:18.855Z"
      },
      {
        "duration": 4,
        "start_time": "2022-08-29T02:35:18.887Z"
      },
      {
        "duration": 20,
        "start_time": "2022-08-29T02:35:18.892Z"
      },
      {
        "duration": 19,
        "start_time": "2022-08-29T02:35:18.914Z"
      },
      {
        "duration": 17,
        "start_time": "2022-08-29T02:35:18.934Z"
      },
      {
        "duration": 7,
        "start_time": "2022-08-29T02:35:18.953Z"
      },
      {
        "duration": 26,
        "start_time": "2022-08-29T02:35:18.961Z"
      },
      {
        "duration": 20,
        "start_time": "2022-08-29T02:35:18.989Z"
      },
      {
        "duration": 2,
        "start_time": "2022-08-29T02:35:19.011Z"
      },
      {
        "duration": 8,
        "start_time": "2022-08-29T02:35:19.015Z"
      },
      {
        "duration": 162,
        "start_time": "2022-08-29T02:35:19.024Z"
      },
      {
        "duration": 10,
        "start_time": "2022-08-29T02:35:19.188Z"
      },
      {
        "duration": 9,
        "start_time": "2022-08-29T02:35:19.200Z"
      },
      {
        "duration": 17,
        "start_time": "2022-08-29T02:35:19.210Z"
      },
      {
        "duration": 7,
        "start_time": "2022-08-29T02:35:19.229Z"
      },
      {
        "duration": 7,
        "start_time": "2022-08-29T02:35:19.237Z"
      },
      {
        "duration": 24,
        "start_time": "2022-08-29T02:35:19.245Z"
      },
      {
        "duration": 23,
        "start_time": "2022-08-29T02:35:19.271Z"
      },
      {
        "duration": 18,
        "start_time": "2022-08-29T02:35:19.295Z"
      },
      {
        "duration": 4,
        "start_time": "2022-08-29T02:35:19.314Z"
      },
      {
        "duration": 214,
        "start_time": "2022-08-29T02:35:19.320Z"
      },
      {
        "duration": 12,
        "start_time": "2022-08-29T02:35:19.536Z"
      },
      {
        "duration": 21,
        "start_time": "2022-08-29T02:36:41.676Z"
      },
      {
        "duration": 1003,
        "start_time": "2022-08-29T02:36:50.428Z"
      },
      {
        "duration": 53,
        "start_time": "2022-08-29T02:36:51.433Z"
      },
      {
        "duration": 5,
        "start_time": "2022-08-29T02:36:51.487Z"
      },
      {
        "duration": 21,
        "start_time": "2022-08-29T02:36:51.493Z"
      },
      {
        "duration": 14,
        "start_time": "2022-08-29T02:36:51.516Z"
      },
      {
        "duration": 27,
        "start_time": "2022-08-29T02:36:51.531Z"
      },
      {
        "duration": 18,
        "start_time": "2022-08-29T02:36:51.559Z"
      },
      {
        "duration": 28,
        "start_time": "2022-08-29T02:36:51.587Z"
      },
      {
        "duration": 8,
        "start_time": "2022-08-29T02:36:51.616Z"
      },
      {
        "duration": 12,
        "start_time": "2022-08-29T02:36:51.625Z"
      },
      {
        "duration": 54,
        "start_time": "2022-08-29T02:36:51.638Z"
      },
      {
        "duration": 37,
        "start_time": "2022-08-29T02:36:51.693Z"
      },
      {
        "duration": 30,
        "start_time": "2022-08-29T02:36:51.731Z"
      },
      {
        "duration": 31,
        "start_time": "2022-08-29T02:36:51.786Z"
      },
      {
        "duration": 30,
        "start_time": "2022-08-29T02:36:51.818Z"
      },
      {
        "duration": 4,
        "start_time": "2022-08-29T02:36:51.849Z"
      },
      {
        "duration": 9,
        "start_time": "2022-08-29T02:36:51.854Z"
      },
      {
        "duration": 25,
        "start_time": "2022-08-29T02:36:51.864Z"
      },
      {
        "duration": 19,
        "start_time": "2022-08-29T02:36:51.891Z"
      },
      {
        "duration": 15,
        "start_time": "2022-08-29T02:36:51.911Z"
      },
      {
        "duration": 19,
        "start_time": "2022-08-29T02:36:51.928Z"
      },
      {
        "duration": 7,
        "start_time": "2022-08-29T02:36:51.949Z"
      },
      {
        "duration": 30,
        "start_time": "2022-08-29T02:36:51.958Z"
      },
      {
        "duration": 23,
        "start_time": "2022-08-29T02:36:51.989Z"
      },
      {
        "duration": 4,
        "start_time": "2022-08-29T02:36:52.014Z"
      },
      {
        "duration": 8,
        "start_time": "2022-08-29T02:36:52.022Z"
      },
      {
        "duration": 164,
        "start_time": "2022-08-29T02:36:52.032Z"
      },
      {
        "duration": 9,
        "start_time": "2022-08-29T02:36:52.198Z"
      },
      {
        "duration": 7,
        "start_time": "2022-08-29T02:36:52.209Z"
      },
      {
        "duration": 13,
        "start_time": "2022-08-29T02:36:52.217Z"
      },
      {
        "duration": 7,
        "start_time": "2022-08-29T02:36:52.232Z"
      },
      {
        "duration": 9,
        "start_time": "2022-08-29T02:36:52.240Z"
      },
      {
        "duration": 41,
        "start_time": "2022-08-29T02:36:52.251Z"
      },
      {
        "duration": 8,
        "start_time": "2022-08-29T02:36:52.293Z"
      },
      {
        "duration": 14,
        "start_time": "2022-08-29T02:36:52.303Z"
      },
      {
        "duration": 2,
        "start_time": "2022-08-29T02:36:52.319Z"
      },
      {
        "duration": 216,
        "start_time": "2022-08-29T02:36:52.323Z"
      },
      {
        "duration": 10,
        "start_time": "2022-08-29T02:36:52.541Z"
      },
      {
        "duration": 85,
        "start_time": "2022-08-29T02:37:34.288Z"
      },
      {
        "duration": 8,
        "start_time": "2022-08-29T02:37:37.283Z"
      },
      {
        "duration": 1090,
        "start_time": "2022-08-29T02:37:45.275Z"
      },
      {
        "duration": 53,
        "start_time": "2022-08-29T02:37:46.367Z"
      },
      {
        "duration": 6,
        "start_time": "2022-08-29T02:37:46.421Z"
      },
      {
        "duration": 40,
        "start_time": "2022-08-29T02:37:46.429Z"
      },
      {
        "duration": 17,
        "start_time": "2022-08-29T02:37:46.471Z"
      },
      {
        "duration": 18,
        "start_time": "2022-08-29T02:37:46.489Z"
      },
      {
        "duration": 17,
        "start_time": "2022-08-29T02:37:46.509Z"
      },
      {
        "duration": 30,
        "start_time": "2022-08-29T02:37:46.528Z"
      },
      {
        "duration": 30,
        "start_time": "2022-08-29T02:37:46.560Z"
      },
      {
        "duration": 15,
        "start_time": "2022-08-29T02:37:46.592Z"
      },
      {
        "duration": 39,
        "start_time": "2022-08-29T02:37:46.609Z"
      },
      {
        "duration": 51,
        "start_time": "2022-08-29T02:37:46.650Z"
      },
      {
        "duration": 30,
        "start_time": "2022-08-29T02:37:46.703Z"
      },
      {
        "duration": 52,
        "start_time": "2022-08-29T02:37:46.735Z"
      },
      {
        "duration": 31,
        "start_time": "2022-08-29T02:37:46.789Z"
      },
      {
        "duration": 4,
        "start_time": "2022-08-29T02:37:46.821Z"
      },
      {
        "duration": 7,
        "start_time": "2022-08-29T02:37:46.826Z"
      },
      {
        "duration": 8,
        "start_time": "2022-08-29T02:37:46.834Z"
      },
      {
        "duration": 20,
        "start_time": "2022-08-29T02:37:46.844Z"
      },
      {
        "duration": 31,
        "start_time": "2022-08-29T02:37:46.866Z"
      },
      {
        "duration": 19,
        "start_time": "2022-08-29T02:37:46.898Z"
      },
      {
        "duration": 6,
        "start_time": "2022-08-29T02:37:46.919Z"
      },
      {
        "duration": 8,
        "start_time": "2022-08-29T02:37:46.927Z"
      },
      {
        "duration": 21,
        "start_time": "2022-08-29T02:37:46.936Z"
      },
      {
        "duration": 28,
        "start_time": "2022-08-29T02:37:46.959Z"
      },
      {
        "duration": 7,
        "start_time": "2022-08-29T02:37:46.988Z"
      },
      {
        "duration": 162,
        "start_time": "2022-08-29T02:37:46.997Z"
      },
      {
        "duration": 11,
        "start_time": "2022-08-29T02:37:47.161Z"
      },
      {
        "duration": 13,
        "start_time": "2022-08-29T02:37:47.174Z"
      },
      {
        "duration": 14,
        "start_time": "2022-08-29T02:37:47.189Z"
      },
      {
        "duration": 7,
        "start_time": "2022-08-29T02:37:47.205Z"
      },
      {
        "duration": 7,
        "start_time": "2022-08-29T02:37:47.214Z"
      },
      {
        "duration": 6,
        "start_time": "2022-08-29T02:37:47.223Z"
      },
      {
        "duration": 8,
        "start_time": "2022-08-29T02:37:47.231Z"
      },
      {
        "duration": 10,
        "start_time": "2022-08-29T02:37:47.241Z"
      },
      {
        "duration": 43,
        "start_time": "2022-08-29T02:37:47.252Z"
      },
      {
        "duration": 3,
        "start_time": "2022-08-29T02:37:47.297Z"
      },
      {
        "duration": 218,
        "start_time": "2022-08-29T02:37:47.302Z"
      },
      {
        "duration": 10,
        "start_time": "2022-08-29T02:37:47.522Z"
      },
      {
        "duration": 4,
        "start_time": "2022-08-29T02:38:21.450Z"
      },
      {
        "duration": 51,
        "start_time": "2022-08-29T02:38:21.669Z"
      },
      {
        "duration": 4,
        "start_time": "2022-08-29T02:38:21.723Z"
      },
      {
        "duration": 18,
        "start_time": "2022-08-29T02:38:21.728Z"
      },
      {
        "duration": 20,
        "start_time": "2022-08-29T02:38:21.747Z"
      },
      {
        "duration": 20,
        "start_time": "2022-08-29T02:38:21.769Z"
      },
      {
        "duration": 19,
        "start_time": "2022-08-29T02:38:21.791Z"
      },
      {
        "duration": 27,
        "start_time": "2022-08-29T02:38:21.811Z"
      },
      {
        "duration": 9,
        "start_time": "2022-08-29T02:38:21.839Z"
      },
      {
        "duration": 39,
        "start_time": "2022-08-29T02:38:21.849Z"
      },
      {
        "duration": 35,
        "start_time": "2022-08-29T02:38:21.889Z"
      },
      {
        "duration": 37,
        "start_time": "2022-08-29T02:38:21.926Z"
      },
      {
        "duration": 50,
        "start_time": "2022-08-29T02:38:21.964Z"
      },
      {
        "duration": 32,
        "start_time": "2022-08-29T02:38:22.016Z"
      },
      {
        "duration": 56,
        "start_time": "2022-08-29T02:38:22.051Z"
      },
      {
        "duration": 4,
        "start_time": "2022-08-29T02:38:22.108Z"
      },
      {
        "duration": 5,
        "start_time": "2022-08-29T02:38:22.113Z"
      },
      {
        "duration": 19,
        "start_time": "2022-08-29T02:38:22.119Z"
      },
      {
        "duration": 24,
        "start_time": "2022-08-29T02:38:22.139Z"
      },
      {
        "duration": 24,
        "start_time": "2022-08-29T02:38:22.165Z"
      },
      {
        "duration": 26,
        "start_time": "2022-08-29T02:38:22.190Z"
      },
      {
        "duration": 6,
        "start_time": "2022-08-29T02:38:22.218Z"
      },
      {
        "duration": 13,
        "start_time": "2022-08-29T02:38:22.226Z"
      },
      {
        "duration": 24,
        "start_time": "2022-08-29T02:38:22.241Z"
      },
      {
        "duration": 3,
        "start_time": "2022-08-29T02:38:22.266Z"
      },
      {
        "duration": 6,
        "start_time": "2022-08-29T02:38:22.271Z"
      },
      {
        "duration": 154,
        "start_time": "2022-08-29T02:38:22.278Z"
      },
      {
        "duration": 10,
        "start_time": "2022-08-29T02:38:22.434Z"
      },
      {
        "duration": 6,
        "start_time": "2022-08-29T02:38:22.445Z"
      },
      {
        "duration": 13,
        "start_time": "2022-08-29T02:38:22.453Z"
      },
      {
        "duration": 20,
        "start_time": "2022-08-29T02:38:22.468Z"
      },
      {
        "duration": 9,
        "start_time": "2022-08-29T02:38:22.489Z"
      },
      {
        "duration": 1033,
        "start_time": "2022-08-29T02:38:35.591Z"
      },
      {
        "duration": 52,
        "start_time": "2022-08-29T02:38:36.625Z"
      },
      {
        "duration": 4,
        "start_time": "2022-08-29T02:38:36.679Z"
      },
      {
        "duration": 22,
        "start_time": "2022-08-29T02:38:36.685Z"
      },
      {
        "duration": 13,
        "start_time": "2022-08-29T02:38:36.708Z"
      },
      {
        "duration": 15,
        "start_time": "2022-08-29T02:38:36.723Z"
      },
      {
        "duration": 17,
        "start_time": "2022-08-29T02:38:36.739Z"
      },
      {
        "duration": 51,
        "start_time": "2022-08-29T02:38:36.757Z"
      },
      {
        "duration": 9,
        "start_time": "2022-08-29T02:38:36.809Z"
      },
      {
        "duration": 10,
        "start_time": "2022-08-29T02:38:36.821Z"
      },
      {
        "duration": 56,
        "start_time": "2022-08-29T02:38:36.833Z"
      },
      {
        "duration": 38,
        "start_time": "2022-08-29T02:38:36.890Z"
      },
      {
        "duration": 29,
        "start_time": "2022-08-29T02:38:36.930Z"
      },
      {
        "duration": 56,
        "start_time": "2022-08-29T02:38:36.961Z"
      },
      {
        "duration": 32,
        "start_time": "2022-08-29T02:38:37.019Z"
      },
      {
        "duration": 4,
        "start_time": "2022-08-29T02:38:37.053Z"
      },
      {
        "duration": 29,
        "start_time": "2022-08-29T02:38:37.058Z"
      },
      {
        "duration": 9,
        "start_time": "2022-08-29T02:38:37.088Z"
      },
      {
        "duration": 16,
        "start_time": "2022-08-29T02:38:37.099Z"
      },
      {
        "duration": 18,
        "start_time": "2022-08-29T02:38:37.116Z"
      },
      {
        "duration": 17,
        "start_time": "2022-08-29T02:38:37.136Z"
      },
      {
        "duration": 8,
        "start_time": "2022-08-29T02:38:37.154Z"
      },
      {
        "duration": 27,
        "start_time": "2022-08-29T02:38:37.163Z"
      },
      {
        "duration": 20,
        "start_time": "2022-08-29T02:38:37.191Z"
      },
      {
        "duration": 3,
        "start_time": "2022-08-29T02:38:37.213Z"
      },
      {
        "duration": 9,
        "start_time": "2022-08-29T02:38:37.217Z"
      },
      {
        "duration": 164,
        "start_time": "2022-08-29T02:38:37.227Z"
      },
      {
        "duration": 11,
        "start_time": "2022-08-29T02:38:37.394Z"
      },
      {
        "duration": 5,
        "start_time": "2022-08-29T02:38:37.406Z"
      },
      {
        "duration": 15,
        "start_time": "2022-08-29T02:38:37.413Z"
      },
      {
        "duration": 7,
        "start_time": "2022-08-29T02:38:37.430Z"
      },
      {
        "duration": 8,
        "start_time": "2022-08-29T02:38:37.438Z"
      },
      {
        "duration": 7,
        "start_time": "2022-08-29T02:38:37.447Z"
      },
      {
        "duration": 8,
        "start_time": "2022-08-29T02:38:41.444Z"
      },
      {
        "duration": 20,
        "start_time": "2022-08-29T02:38:48.647Z"
      },
      {
        "duration": 109,
        "start_time": "2022-08-29T02:42:12.790Z"
      },
      {
        "duration": 26,
        "start_time": "2022-08-29T02:42:17.699Z"
      },
      {
        "duration": 21,
        "start_time": "2022-08-29T02:42:24.869Z"
      },
      {
        "duration": 20,
        "start_time": "2022-08-29T02:42:52.871Z"
      },
      {
        "duration": 8,
        "start_time": "2022-08-29T02:43:13.339Z"
      },
      {
        "duration": 7,
        "start_time": "2022-08-29T02:43:17.730Z"
      },
      {
        "duration": 6,
        "start_time": "2022-08-29T02:43:19.408Z"
      },
      {
        "duration": 19,
        "start_time": "2022-08-29T02:43:23.180Z"
      },
      {
        "duration": 22,
        "start_time": "2022-08-29T02:46:05.922Z"
      },
      {
        "duration": 6,
        "start_time": "2022-08-29T02:46:16.933Z"
      },
      {
        "duration": 20,
        "start_time": "2022-08-29T02:49:48.484Z"
      },
      {
        "duration": 6,
        "start_time": "2022-08-29T02:49:51.554Z"
      },
      {
        "duration": 9,
        "start_time": "2022-08-29T02:56:55.292Z"
      },
      {
        "duration": 20,
        "start_time": "2022-08-29T02:59:03.142Z"
      },
      {
        "duration": 19,
        "start_time": "2022-08-29T02:59:10.850Z"
      },
      {
        "duration": 19,
        "start_time": "2022-08-29T02:59:18.785Z"
      },
      {
        "duration": 14,
        "start_time": "2022-08-29T03:02:14.399Z"
      },
      {
        "duration": 13,
        "start_time": "2022-08-29T03:02:20.908Z"
      },
      {
        "duration": 14,
        "start_time": "2022-08-29T03:02:25.794Z"
      },
      {
        "duration": 14,
        "start_time": "2022-08-29T03:02:37.719Z"
      },
      {
        "duration": 15,
        "start_time": "2022-08-29T03:04:01.777Z"
      },
      {
        "duration": 3,
        "start_time": "2022-08-29T03:05:07.914Z"
      },
      {
        "duration": 797,
        "start_time": "2022-08-29T03:07:40.611Z"
      },
      {
        "duration": 784,
        "start_time": "2022-08-29T03:07:44.755Z"
      },
      {
        "duration": 5,
        "start_time": "2022-08-29T03:07:56.391Z"
      },
      {
        "duration": 209,
        "start_time": "2022-08-29T03:10:01.379Z"
      },
      {
        "duration": 11,
        "start_time": "2022-08-29T03:10:02.781Z"
      },
      {
        "duration": 15,
        "start_time": "2022-08-29T03:10:11.279Z"
      },
      {
        "duration": 26,
        "start_time": "2022-08-29T03:13:48.606Z"
      },
      {
        "duration": 17,
        "start_time": "2022-08-29T03:13:55.162Z"
      },
      {
        "duration": 11,
        "start_time": "2022-08-29T03:18:14.150Z"
      },
      {
        "duration": 10,
        "start_time": "2022-08-29T03:19:50.623Z"
      },
      {
        "duration": 7,
        "start_time": "2022-08-29T03:19:56.941Z"
      },
      {
        "duration": 21,
        "start_time": "2022-08-29T03:20:08.818Z"
      },
      {
        "duration": 996,
        "start_time": "2022-08-29T03:20:29.247Z"
      },
      {
        "duration": 53,
        "start_time": "2022-08-29T03:20:30.245Z"
      },
      {
        "duration": 6,
        "start_time": "2022-08-29T03:20:30.299Z"
      },
      {
        "duration": 43,
        "start_time": "2022-08-29T03:20:30.307Z"
      },
      {
        "duration": 17,
        "start_time": "2022-08-29T03:20:30.353Z"
      },
      {
        "duration": 35,
        "start_time": "2022-08-29T03:20:30.372Z"
      },
      {
        "duration": 25,
        "start_time": "2022-08-29T03:20:30.409Z"
      },
      {
        "duration": 60,
        "start_time": "2022-08-29T03:20:30.436Z"
      },
      {
        "duration": 21,
        "start_time": "2022-08-29T03:20:30.498Z"
      },
      {
        "duration": 27,
        "start_time": "2022-08-29T03:20:30.521Z"
      },
      {
        "duration": 50,
        "start_time": "2022-08-29T03:20:30.550Z"
      },
      {
        "duration": 37,
        "start_time": "2022-08-29T03:20:30.602Z"
      },
      {
        "duration": 49,
        "start_time": "2022-08-29T03:20:30.641Z"
      },
      {
        "duration": 33,
        "start_time": "2022-08-29T03:20:30.693Z"
      },
      {
        "duration": 40,
        "start_time": "2022-08-29T03:20:30.728Z"
      },
      {
        "duration": 18,
        "start_time": "2022-08-29T03:20:30.770Z"
      },
      {
        "duration": 23,
        "start_time": "2022-08-29T03:20:30.790Z"
      },
      {
        "duration": 23,
        "start_time": "2022-08-29T03:20:30.815Z"
      },
      {
        "duration": 48,
        "start_time": "2022-08-29T03:20:30.840Z"
      },
      {
        "duration": 51,
        "start_time": "2022-08-29T03:20:30.890Z"
      },
      {
        "duration": 52,
        "start_time": "2022-08-29T03:20:30.943Z"
      },
      {
        "duration": 14,
        "start_time": "2022-08-29T03:20:30.996Z"
      },
      {
        "duration": 35,
        "start_time": "2022-08-29T03:20:31.011Z"
      },
      {
        "duration": 19,
        "start_time": "2022-08-29T03:20:31.048Z"
      },
      {
        "duration": 36,
        "start_time": "2022-08-29T03:20:31.069Z"
      },
      {
        "duration": 35,
        "start_time": "2022-08-29T03:20:31.107Z"
      },
      {
        "duration": 32,
        "start_time": "2022-08-29T03:20:31.144Z"
      },
      {
        "duration": 155,
        "start_time": "2022-08-29T03:20:31.178Z"
      },
      {
        "duration": 11,
        "start_time": "2022-08-29T03:20:31.335Z"
      },
      {
        "duration": 25,
        "start_time": "2022-08-29T03:20:31.347Z"
      },
      {
        "duration": 32,
        "start_time": "2022-08-29T03:20:31.374Z"
      },
      {
        "duration": 8,
        "start_time": "2022-08-29T03:20:31.408Z"
      },
      {
        "duration": 11,
        "start_time": "2022-08-29T03:20:31.418Z"
      },
      {
        "duration": 21,
        "start_time": "2022-08-29T03:20:31.430Z"
      },
      {
        "duration": 21,
        "start_time": "2022-08-29T03:20:31.452Z"
      },
      {
        "duration": 8,
        "start_time": "2022-08-29T03:20:31.475Z"
      },
      {
        "duration": 9,
        "start_time": "2022-08-29T03:20:31.484Z"
      },
      {
        "duration": 203,
        "start_time": "2022-08-29T03:20:31.494Z"
      },
      {
        "duration": 10,
        "start_time": "2022-08-29T03:20:31.699Z"
      },
      {
        "duration": 23,
        "start_time": "2022-08-29T03:20:31.711Z"
      },
      {
        "duration": 7,
        "start_time": "2022-08-29T03:22:41.633Z"
      },
      {
        "duration": 15,
        "start_time": "2022-08-29T03:22:50.275Z"
      },
      {
        "duration": 1066,
        "start_time": "2022-08-29T03:23:02.060Z"
      },
      {
        "duration": 52,
        "start_time": "2022-08-29T03:23:03.127Z"
      },
      {
        "duration": 4,
        "start_time": "2022-08-29T03:23:03.181Z"
      },
      {
        "duration": 29,
        "start_time": "2022-08-29T03:23:03.187Z"
      },
      {
        "duration": 14,
        "start_time": "2022-08-29T03:23:03.218Z"
      },
      {
        "duration": 17,
        "start_time": "2022-08-29T03:23:03.234Z"
      },
      {
        "duration": 16,
        "start_time": "2022-08-29T03:23:03.252Z"
      },
      {
        "duration": 41,
        "start_time": "2022-08-29T03:23:03.269Z"
      },
      {
        "duration": 9,
        "start_time": "2022-08-29T03:23:03.311Z"
      },
      {
        "duration": 11,
        "start_time": "2022-08-29T03:23:03.321Z"
      },
      {
        "duration": 56,
        "start_time": "2022-08-29T03:23:03.333Z"
      },
      {
        "duration": 36,
        "start_time": "2022-08-29T03:23:03.390Z"
      },
      {
        "duration": 31,
        "start_time": "2022-08-29T03:23:03.428Z"
      },
      {
        "duration": 53,
        "start_time": "2022-08-29T03:23:03.462Z"
      },
      {
        "duration": 32,
        "start_time": "2022-08-29T03:23:03.517Z"
      },
      {
        "duration": 4,
        "start_time": "2022-08-29T03:23:03.550Z"
      },
      {
        "duration": 7,
        "start_time": "2022-08-29T03:23:03.555Z"
      },
      {
        "duration": 5,
        "start_time": "2022-08-29T03:23:03.586Z"
      },
      {
        "duration": 22,
        "start_time": "2022-08-29T03:23:03.592Z"
      },
      {
        "duration": 17,
        "start_time": "2022-08-29T03:23:03.616Z"
      },
      {
        "duration": 17,
        "start_time": "2022-08-29T03:23:03.635Z"
      },
      {
        "duration": 7,
        "start_time": "2022-08-29T03:23:03.654Z"
      },
      {
        "duration": 25,
        "start_time": "2022-08-29T03:23:03.662Z"
      },
      {
        "duration": 7,
        "start_time": "2022-08-29T03:23:03.689Z"
      },
      {
        "duration": 21,
        "start_time": "2022-08-29T03:23:03.698Z"
      },
      {
        "duration": 3,
        "start_time": "2022-08-29T03:23:03.721Z"
      },
      {
        "duration": 9,
        "start_time": "2022-08-29T03:23:03.725Z"
      },
      {
        "duration": 173,
        "start_time": "2022-08-29T03:23:03.736Z"
      },
      {
        "duration": 11,
        "start_time": "2022-08-29T03:23:03.911Z"
      },
      {
        "duration": 8,
        "start_time": "2022-08-29T03:23:03.924Z"
      },
      {
        "duration": 15,
        "start_time": "2022-08-29T03:23:03.934Z"
      },
      {
        "duration": 7,
        "start_time": "2022-08-29T03:23:03.951Z"
      },
      {
        "duration": 9,
        "start_time": "2022-08-29T03:23:03.959Z"
      },
      {
        "duration": 8,
        "start_time": "2022-08-29T03:23:03.987Z"
      },
      {
        "duration": 6,
        "start_time": "2022-08-29T03:23:03.997Z"
      },
      {
        "duration": 15,
        "start_time": "2022-08-29T03:23:04.004Z"
      },
      {
        "duration": 4,
        "start_time": "2022-08-29T03:23:04.021Z"
      },
      {
        "duration": 8,
        "start_time": "2022-08-29T03:23:04.026Z"
      },
      {
        "duration": 230,
        "start_time": "2022-08-29T03:23:04.036Z"
      },
      {
        "duration": 10,
        "start_time": "2022-08-29T03:23:04.268Z"
      },
      {
        "duration": 13,
        "start_time": "2022-08-29T03:23:04.288Z"
      },
      {
        "duration": 17,
        "start_time": "2022-08-29T03:23:21.062Z"
      },
      {
        "duration": 4,
        "start_time": "2022-08-29T03:27:58.844Z"
      },
      {
        "duration": 5,
        "start_time": "2022-08-29T03:28:30.422Z"
      },
      {
        "duration": 10,
        "start_time": "2022-08-29T03:28:32.295Z"
      },
      {
        "duration": 13,
        "start_time": "2022-08-29T03:28:48.605Z"
      },
      {
        "duration": 6,
        "start_time": "2022-08-29T03:30:36.111Z"
      },
      {
        "duration": 7,
        "start_time": "2022-08-29T03:30:45.013Z"
      },
      {
        "duration": 1071,
        "start_time": "2022-08-29T03:30:50.558Z"
      },
      {
        "duration": 53,
        "start_time": "2022-08-29T03:30:51.631Z"
      },
      {
        "duration": 6,
        "start_time": "2022-08-29T03:30:51.686Z"
      },
      {
        "duration": 20,
        "start_time": "2022-08-29T03:30:51.694Z"
      },
      {
        "duration": 19,
        "start_time": "2022-08-29T03:30:51.716Z"
      },
      {
        "duration": 18,
        "start_time": "2022-08-29T03:30:51.736Z"
      },
      {
        "duration": 32,
        "start_time": "2022-08-29T03:30:51.755Z"
      },
      {
        "duration": 29,
        "start_time": "2022-08-29T03:30:51.789Z"
      },
      {
        "duration": 8,
        "start_time": "2022-08-29T03:30:51.820Z"
      },
      {
        "duration": 13,
        "start_time": "2022-08-29T03:30:51.830Z"
      },
      {
        "duration": 61,
        "start_time": "2022-08-29T03:30:51.844Z"
      },
      {
        "duration": 37,
        "start_time": "2022-08-29T03:30:51.907Z"
      },
      {
        "duration": 52,
        "start_time": "2022-08-29T03:30:51.946Z"
      },
      {
        "duration": 40,
        "start_time": "2022-08-29T03:30:52.001Z"
      },
      {
        "duration": 54,
        "start_time": "2022-08-29T03:30:52.043Z"
      },
      {
        "duration": 4,
        "start_time": "2022-08-29T03:30:52.098Z"
      },
      {
        "duration": 6,
        "start_time": "2022-08-29T03:30:52.104Z"
      },
      {
        "duration": 8,
        "start_time": "2022-08-29T03:30:52.111Z"
      },
      {
        "duration": 18,
        "start_time": "2022-08-29T03:30:52.120Z"
      },
      {
        "duration": 17,
        "start_time": "2022-08-29T03:30:52.140Z"
      },
      {
        "duration": 46,
        "start_time": "2022-08-29T03:30:52.158Z"
      },
      {
        "duration": 9,
        "start_time": "2022-08-29T03:30:52.206Z"
      },
      {
        "duration": 24,
        "start_time": "2022-08-29T03:30:52.216Z"
      },
      {
        "duration": 12,
        "start_time": "2022-08-29T03:30:52.241Z"
      },
      {
        "duration": 22,
        "start_time": "2022-08-29T03:30:52.254Z"
      },
      {
        "duration": 4,
        "start_time": "2022-08-29T03:30:52.287Z"
      },
      {
        "duration": 12,
        "start_time": "2022-08-29T03:30:52.292Z"
      },
      {
        "duration": 163,
        "start_time": "2022-08-29T03:30:52.306Z"
      },
      {
        "duration": 15,
        "start_time": "2022-08-29T03:30:52.471Z"
      },
      {
        "duration": 3,
        "start_time": "2022-08-29T03:30:52.488Z"
      },
      {
        "duration": 14,
        "start_time": "2022-08-29T03:30:52.493Z"
      },
      {
        "duration": 6,
        "start_time": "2022-08-29T03:30:52.509Z"
      },
      {
        "duration": 8,
        "start_time": "2022-08-29T03:30:52.517Z"
      },
      {
        "duration": 22,
        "start_time": "2022-08-29T03:30:52.526Z"
      },
      {
        "duration": 8,
        "start_time": "2022-08-29T03:30:52.550Z"
      },
      {
        "duration": 28,
        "start_time": "2022-08-29T03:30:52.559Z"
      },
      {
        "duration": 4,
        "start_time": "2022-08-29T03:30:52.589Z"
      },
      {
        "duration": 8,
        "start_time": "2022-08-29T03:30:52.594Z"
      },
      {
        "duration": 220,
        "start_time": "2022-08-29T03:30:52.604Z"
      },
      {
        "duration": 12,
        "start_time": "2022-08-29T03:30:52.826Z"
      },
      {
        "duration": 13,
        "start_time": "2022-08-29T03:30:52.843Z"
      },
      {
        "duration": 30,
        "start_time": "2022-08-29T03:30:52.858Z"
      },
      {
        "duration": 4,
        "start_time": "2022-08-29T03:30:52.890Z"
      },
      {
        "duration": 15,
        "start_time": "2022-08-29T03:30:52.896Z"
      },
      {
        "duration": 5,
        "start_time": "2022-08-29T03:34:03.095Z"
      },
      {
        "duration": 6,
        "start_time": "2022-08-29T03:34:09.974Z"
      },
      {
        "duration": 59,
        "start_time": "2022-08-29T03:35:05.688Z"
      },
      {
        "duration": 4,
        "start_time": "2022-08-29T03:35:09.645Z"
      },
      {
        "duration": 6,
        "start_time": "2022-08-29T03:35:35.101Z"
      },
      {
        "duration": 1039,
        "start_time": "2022-08-29T03:35:40.486Z"
      },
      {
        "duration": 52,
        "start_time": "2022-08-29T03:35:41.526Z"
      },
      {
        "duration": 5,
        "start_time": "2022-08-29T03:35:41.580Z"
      },
      {
        "duration": 19,
        "start_time": "2022-08-29T03:35:41.586Z"
      },
      {
        "duration": 15,
        "start_time": "2022-08-29T03:35:41.607Z"
      },
      {
        "duration": 14,
        "start_time": "2022-08-29T03:35:41.624Z"
      },
      {
        "duration": 16,
        "start_time": "2022-08-29T03:35:41.640Z"
      },
      {
        "duration": 55,
        "start_time": "2022-08-29T03:35:41.657Z"
      },
      {
        "duration": 8,
        "start_time": "2022-08-29T03:35:41.714Z"
      },
      {
        "duration": 24,
        "start_time": "2022-08-29T03:35:41.724Z"
      },
      {
        "duration": 39,
        "start_time": "2022-08-29T03:35:41.749Z"
      },
      {
        "duration": 36,
        "start_time": "2022-08-29T03:35:41.790Z"
      },
      {
        "duration": 31,
        "start_time": "2022-08-29T03:35:41.827Z"
      },
      {
        "duration": 56,
        "start_time": "2022-08-29T03:35:41.861Z"
      },
      {
        "duration": 31,
        "start_time": "2022-08-29T03:35:41.918Z"
      },
      {
        "duration": 3,
        "start_time": "2022-08-29T03:35:41.951Z"
      },
      {
        "duration": 7,
        "start_time": "2022-08-29T03:35:41.956Z"
      },
      {
        "duration": 27,
        "start_time": "2022-08-29T03:35:41.965Z"
      },
      {
        "duration": 18,
        "start_time": "2022-08-29T03:35:41.993Z"
      },
      {
        "duration": 21,
        "start_time": "2022-08-29T03:35:42.013Z"
      },
      {
        "duration": 19,
        "start_time": "2022-08-29T03:35:42.036Z"
      },
      {
        "duration": 7,
        "start_time": "2022-08-29T03:35:42.057Z"
      },
      {
        "duration": 5,
        "start_time": "2022-08-29T03:35:42.086Z"
      },
      {
        "duration": 9,
        "start_time": "2022-08-29T03:35:42.093Z"
      },
      {
        "duration": 25,
        "start_time": "2022-08-29T03:35:42.104Z"
      },
      {
        "duration": 4,
        "start_time": "2022-08-29T03:35:42.130Z"
      },
      {
        "duration": 9,
        "start_time": "2022-08-29T03:35:42.135Z"
      },
      {
        "duration": 170,
        "start_time": "2022-08-29T03:35:42.146Z"
      },
      {
        "duration": 10,
        "start_time": "2022-08-29T03:35:42.318Z"
      },
      {
        "duration": 6,
        "start_time": "2022-08-29T03:35:42.330Z"
      },
      {
        "duration": 15,
        "start_time": "2022-08-29T03:35:42.337Z"
      },
      {
        "duration": 7,
        "start_time": "2022-08-29T03:35:42.354Z"
      },
      {
        "duration": 25,
        "start_time": "2022-08-29T03:35:42.362Z"
      },
      {
        "duration": 11,
        "start_time": "2022-08-29T03:35:42.389Z"
      },
      {
        "duration": 6,
        "start_time": "2022-08-29T03:35:42.403Z"
      },
      {
        "duration": 17,
        "start_time": "2022-08-29T03:35:42.410Z"
      },
      {
        "duration": 4,
        "start_time": "2022-08-29T03:35:42.429Z"
      },
      {
        "duration": 9,
        "start_time": "2022-08-29T03:35:42.434Z"
      },
      {
        "duration": 238,
        "start_time": "2022-08-29T03:35:42.445Z"
      },
      {
        "duration": 11,
        "start_time": "2022-08-29T03:35:42.686Z"
      },
      {
        "duration": 14,
        "start_time": "2022-08-29T03:35:42.702Z"
      },
      {
        "duration": 7,
        "start_time": "2022-08-29T03:35:42.718Z"
      },
      {
        "duration": 10,
        "start_time": "2022-08-29T03:35:42.727Z"
      },
      {
        "duration": 16,
        "start_time": "2022-08-29T03:35:42.739Z"
      },
      {
        "duration": 31,
        "start_time": "2022-08-29T03:35:42.757Z"
      },
      {
        "duration": 14,
        "start_time": "2022-08-29T03:36:45.802Z"
      },
      {
        "duration": 7,
        "start_time": "2022-08-29T03:40:27.033Z"
      },
      {
        "duration": 13,
        "start_time": "2022-08-29T03:40:29.321Z"
      },
      {
        "duration": 4,
        "start_time": "2022-08-29T03:43:55.612Z"
      },
      {
        "duration": 4,
        "start_time": "2022-08-29T03:45:34.303Z"
      },
      {
        "duration": 4,
        "start_time": "2022-08-29T03:45:42.218Z"
      },
      {
        "duration": 1039,
        "start_time": "2022-08-29T03:48:42.892Z"
      },
      {
        "duration": 50,
        "start_time": "2022-08-29T03:48:43.933Z"
      },
      {
        "duration": 5,
        "start_time": "2022-08-29T03:48:43.985Z"
      },
      {
        "duration": 22,
        "start_time": "2022-08-29T03:48:43.991Z"
      },
      {
        "duration": 14,
        "start_time": "2022-08-29T03:48:44.017Z"
      },
      {
        "duration": 15,
        "start_time": "2022-08-29T03:48:44.033Z"
      },
      {
        "duration": 38,
        "start_time": "2022-08-29T03:48:44.050Z"
      },
      {
        "duration": 29,
        "start_time": "2022-08-29T03:48:44.089Z"
      },
      {
        "duration": 8,
        "start_time": "2022-08-29T03:48:44.119Z"
      },
      {
        "duration": 13,
        "start_time": "2022-08-29T03:48:44.129Z"
      },
      {
        "duration": 59,
        "start_time": "2022-08-29T03:48:44.143Z"
      },
      {
        "duration": 36,
        "start_time": "2022-08-29T03:48:44.203Z"
      },
      {
        "duration": 49,
        "start_time": "2022-08-29T03:48:44.241Z"
      },
      {
        "duration": 31,
        "start_time": "2022-08-29T03:48:44.293Z"
      },
      {
        "duration": 31,
        "start_time": "2022-08-29T03:48:44.326Z"
      },
      {
        "duration": 4,
        "start_time": "2022-08-29T03:48:44.358Z"
      },
      {
        "duration": 3,
        "start_time": "2022-08-29T03:48:44.387Z"
      },
      {
        "duration": 10,
        "start_time": "2022-08-29T03:48:44.391Z"
      },
      {
        "duration": 18,
        "start_time": "2022-08-29T03:48:44.402Z"
      },
      {
        "duration": 17,
        "start_time": "2022-08-29T03:48:44.421Z"
      },
      {
        "duration": 17,
        "start_time": "2022-08-29T03:48:44.440Z"
      },
      {
        "duration": 29,
        "start_time": "2022-08-29T03:48:44.458Z"
      },
      {
        "duration": 5,
        "start_time": "2022-08-29T03:48:44.489Z"
      },
      {
        "duration": 8,
        "start_time": "2022-08-29T03:48:44.495Z"
      },
      {
        "duration": 20,
        "start_time": "2022-08-29T03:48:44.505Z"
      },
      {
        "duration": 3,
        "start_time": "2022-08-29T03:48:44.527Z"
      },
      {
        "duration": 8,
        "start_time": "2022-08-29T03:48:44.531Z"
      },
      {
        "duration": 178,
        "start_time": "2022-08-29T03:48:44.540Z"
      },
      {
        "duration": 11,
        "start_time": "2022-08-29T03:48:44.719Z"
      },
      {
        "duration": 10,
        "start_time": "2022-08-29T03:48:44.731Z"
      },
      {
        "duration": 21,
        "start_time": "2022-08-29T03:48:44.743Z"
      },
      {
        "duration": 7,
        "start_time": "2022-08-29T03:48:44.766Z"
      },
      {
        "duration": 17,
        "start_time": "2022-08-29T03:48:44.774Z"
      },
      {
        "duration": 12,
        "start_time": "2022-08-29T03:48:44.792Z"
      },
      {
        "duration": 6,
        "start_time": "2022-08-29T03:48:44.805Z"
      },
      {
        "duration": 14,
        "start_time": "2022-08-29T03:48:44.812Z"
      },
      {
        "duration": 3,
        "start_time": "2022-08-29T03:48:44.828Z"
      },
      {
        "duration": 8,
        "start_time": "2022-08-29T03:48:44.833Z"
      },
      {
        "duration": 224,
        "start_time": "2022-08-29T03:48:44.843Z"
      },
      {
        "duration": 11,
        "start_time": "2022-08-29T03:48:45.069Z"
      },
      {
        "duration": 13,
        "start_time": "2022-08-29T03:48:45.089Z"
      },
      {
        "duration": 6,
        "start_time": "2022-08-29T03:48:45.103Z"
      },
      {
        "duration": 5,
        "start_time": "2022-08-29T03:48:45.111Z"
      },
      {
        "duration": 11,
        "start_time": "2022-08-29T03:48:45.118Z"
      },
      {
        "duration": 5,
        "start_time": "2022-08-29T03:48:45.130Z"
      },
      {
        "duration": 9,
        "start_time": "2022-08-29T03:48:45.136Z"
      },
      {
        "duration": 11,
        "start_time": "2022-08-29T03:52:29.585Z"
      },
      {
        "duration": 10,
        "start_time": "2022-08-29T03:57:03.239Z"
      },
      {
        "duration": 6,
        "start_time": "2022-08-29T03:58:06.098Z"
      },
      {
        "duration": 13,
        "start_time": "2022-08-29T03:58:22.851Z"
      },
      {
        "duration": 14,
        "start_time": "2022-08-29T03:58:28.635Z"
      },
      {
        "duration": 12,
        "start_time": "2022-08-29T03:59:03.207Z"
      },
      {
        "duration": 14,
        "start_time": "2022-08-29T03:59:13.200Z"
      },
      {
        "duration": 3,
        "start_time": "2022-08-29T03:59:54.417Z"
      },
      {
        "duration": 3,
        "start_time": "2022-08-29T04:00:36.405Z"
      },
      {
        "duration": 3222,
        "start_time": "2022-08-29T04:00:37.082Z"
      },
      {
        "duration": 2139,
        "start_time": "2022-08-29T04:00:43.857Z"
      },
      {
        "duration": 3,
        "start_time": "2022-08-29T04:00:56.648Z"
      },
      {
        "duration": 755,
        "start_time": "2022-08-29T04:00:57.369Z"
      },
      {
        "duration": 6,
        "start_time": "2022-08-29T04:01:01.773Z"
      },
      {
        "duration": 158,
        "start_time": "2022-08-29T04:01:35.874Z"
      },
      {
        "duration": 1008,
        "start_time": "2022-08-29T04:01:59.936Z"
      },
      {
        "duration": 57,
        "start_time": "2022-08-29T04:02:00.946Z"
      },
      {
        "duration": 6,
        "start_time": "2022-08-29T04:02:01.005Z"
      },
      {
        "duration": 34,
        "start_time": "2022-08-29T04:02:01.012Z"
      },
      {
        "duration": 17,
        "start_time": "2022-08-29T04:02:01.048Z"
      },
      {
        "duration": 28,
        "start_time": "2022-08-29T04:02:01.066Z"
      },
      {
        "duration": 16,
        "start_time": "2022-08-29T04:02:01.096Z"
      },
      {
        "duration": 35,
        "start_time": "2022-08-29T04:02:01.114Z"
      },
      {
        "duration": 8,
        "start_time": "2022-08-29T04:02:01.151Z"
      },
      {
        "duration": 33,
        "start_time": "2022-08-29T04:02:01.161Z"
      },
      {
        "duration": 55,
        "start_time": "2022-08-29T04:02:01.195Z"
      },
      {
        "duration": 36,
        "start_time": "2022-08-29T04:02:01.251Z"
      },
      {
        "duration": 30,
        "start_time": "2022-08-29T04:02:01.288Z"
      },
      {
        "duration": 51,
        "start_time": "2022-08-29T04:02:01.321Z"
      },
      {
        "duration": 30,
        "start_time": "2022-08-29T04:02:01.374Z"
      },
      {
        "duration": 4,
        "start_time": "2022-08-29T04:02:01.406Z"
      },
      {
        "duration": 18,
        "start_time": "2022-08-29T04:02:01.411Z"
      },
      {
        "duration": 12,
        "start_time": "2022-08-29T04:02:01.431Z"
      },
      {
        "duration": 42,
        "start_time": "2022-08-29T04:02:01.444Z"
      },
      {
        "duration": 32,
        "start_time": "2022-08-29T04:02:01.487Z"
      },
      {
        "duration": 20,
        "start_time": "2022-08-29T04:02:01.521Z"
      },
      {
        "duration": 7,
        "start_time": "2022-08-29T04:02:01.542Z"
      },
      {
        "duration": 17,
        "start_time": "2022-08-29T04:02:01.551Z"
      },
      {
        "duration": 16,
        "start_time": "2022-08-29T04:02:01.570Z"
      },
      {
        "duration": 48,
        "start_time": "2022-08-29T04:02:01.588Z"
      },
      {
        "duration": 3,
        "start_time": "2022-08-29T04:02:01.637Z"
      },
      {
        "duration": 15,
        "start_time": "2022-08-29T04:02:01.641Z"
      },
      {
        "duration": 156,
        "start_time": "2022-08-29T04:02:01.658Z"
      },
      {
        "duration": 10,
        "start_time": "2022-08-29T04:02:01.815Z"
      },
      {
        "duration": 8,
        "start_time": "2022-08-29T04:02:01.827Z"
      },
      {
        "duration": 16,
        "start_time": "2022-08-29T04:02:01.836Z"
      },
      {
        "duration": 16,
        "start_time": "2022-08-29T04:02:01.853Z"
      },
      {
        "duration": 17,
        "start_time": "2022-08-29T04:02:01.870Z"
      },
      {
        "duration": 11,
        "start_time": "2022-08-29T04:02:01.889Z"
      },
      {
        "duration": 6,
        "start_time": "2022-08-29T04:02:01.901Z"
      },
      {
        "duration": 35,
        "start_time": "2022-08-29T04:02:01.908Z"
      },
      {
        "duration": 5,
        "start_time": "2022-08-29T04:02:01.945Z"
      },
      {
        "duration": 8,
        "start_time": "2022-08-29T04:02:01.952Z"
      },
      {
        "duration": 220,
        "start_time": "2022-08-29T04:02:01.961Z"
      },
      {
        "duration": 12,
        "start_time": "2022-08-29T04:02:02.182Z"
      },
      {
        "duration": 17,
        "start_time": "2022-08-29T04:02:02.197Z"
      },
      {
        "duration": 7,
        "start_time": "2022-08-29T04:02:02.216Z"
      },
      {
        "duration": 14,
        "start_time": "2022-08-29T04:02:02.225Z"
      },
      {
        "duration": 6,
        "start_time": "2022-08-29T04:02:02.241Z"
      },
      {
        "duration": 40,
        "start_time": "2022-08-29T04:02:02.248Z"
      },
      {
        "duration": 14,
        "start_time": "2022-08-29T04:02:02.290Z"
      },
      {
        "duration": 6,
        "start_time": "2022-08-29T04:02:02.306Z"
      },
      {
        "duration": 15,
        "start_time": "2022-08-29T04:02:02.313Z"
      },
      {
        "duration": 4,
        "start_time": "2022-08-29T04:02:02.329Z"
      },
      {
        "duration": 9,
        "start_time": "2022-08-29T04:02:02.334Z"
      },
      {
        "duration": 178,
        "start_time": "2022-08-29T04:02:02.345Z"
      },
      {
        "duration": 156,
        "start_time": "2022-08-29T04:02:24.799Z"
      },
      {
        "duration": 24,
        "start_time": "2022-08-29T04:02:30.182Z"
      },
      {
        "duration": 13,
        "start_time": "2022-08-29T04:03:33.347Z"
      },
      {
        "duration": 4,
        "start_time": "2022-08-29T04:03:44.953Z"
      },
      {
        "duration": 5,
        "start_time": "2022-08-29T04:03:45.665Z"
      },
      {
        "duration": 147,
        "start_time": "2022-08-29T04:03:47.614Z"
      },
      {
        "duration": 21,
        "start_time": "2022-08-29T04:03:48.485Z"
      },
      {
        "duration": 1066,
        "start_time": "2022-08-29T04:04:03.403Z"
      },
      {
        "duration": 55,
        "start_time": "2022-08-29T04:04:04.471Z"
      },
      {
        "duration": 5,
        "start_time": "2022-08-29T04:04:04.528Z"
      },
      {
        "duration": 21,
        "start_time": "2022-08-29T04:04:04.534Z"
      },
      {
        "duration": 14,
        "start_time": "2022-08-29T04:04:04.557Z"
      },
      {
        "duration": 20,
        "start_time": "2022-08-29T04:04:04.572Z"
      },
      {
        "duration": 16,
        "start_time": "2022-08-29T04:04:04.593Z"
      },
      {
        "duration": 28,
        "start_time": "2022-08-29T04:04:04.611Z"
      },
      {
        "duration": 8,
        "start_time": "2022-08-29T04:04:04.641Z"
      },
      {
        "duration": 37,
        "start_time": "2022-08-29T04:04:04.651Z"
      },
      {
        "duration": 34,
        "start_time": "2022-08-29T04:04:04.689Z"
      },
      {
        "duration": 37,
        "start_time": "2022-08-29T04:04:04.725Z"
      },
      {
        "duration": 52,
        "start_time": "2022-08-29T04:04:04.764Z"
      },
      {
        "duration": 32,
        "start_time": "2022-08-29T04:04:04.819Z"
      },
      {
        "duration": 54,
        "start_time": "2022-08-29T04:04:04.852Z"
      },
      {
        "duration": 4,
        "start_time": "2022-08-29T04:04:04.907Z"
      },
      {
        "duration": 5,
        "start_time": "2022-08-29T04:04:04.913Z"
      },
      {
        "duration": 7,
        "start_time": "2022-08-29T04:04:04.920Z"
      },
      {
        "duration": 17,
        "start_time": "2022-08-29T04:04:04.929Z"
      },
      {
        "duration": 39,
        "start_time": "2022-08-29T04:04:04.948Z"
      },
      {
        "duration": 22,
        "start_time": "2022-08-29T04:04:04.989Z"
      },
      {
        "duration": 8,
        "start_time": "2022-08-29T04:04:05.013Z"
      },
      {
        "duration": 9,
        "start_time": "2022-08-29T04:04:05.022Z"
      },
      {
        "duration": 8,
        "start_time": "2022-08-29T04:04:05.032Z"
      },
      {
        "duration": 22,
        "start_time": "2022-08-29T04:04:05.041Z"
      },
      {
        "duration": 26,
        "start_time": "2022-08-29T04:04:05.064Z"
      },
      {
        "duration": 8,
        "start_time": "2022-08-29T04:04:05.091Z"
      },
      {
        "duration": 159,
        "start_time": "2022-08-29T04:04:05.100Z"
      },
      {
        "duration": 11,
        "start_time": "2022-08-29T04:04:05.260Z"
      },
      {
        "duration": 15,
        "start_time": "2022-08-29T04:04:05.272Z"
      },
      {
        "duration": 12,
        "start_time": "2022-08-29T04:04:05.288Z"
      },
      {
        "duration": 7,
        "start_time": "2022-08-29T04:04:05.302Z"
      },
      {
        "duration": 19,
        "start_time": "2022-08-29T04:04:05.310Z"
      },
      {
        "duration": 11,
        "start_time": "2022-08-29T04:04:05.330Z"
      },
      {
        "duration": 5,
        "start_time": "2022-08-29T04:04:05.343Z"
      },
      {
        "duration": 14,
        "start_time": "2022-08-29T04:04:05.350Z"
      },
      {
        "duration": 3,
        "start_time": "2022-08-29T04:04:05.365Z"
      },
      {
        "duration": 5,
        "start_time": "2022-08-29T04:04:05.387Z"
      },
      {
        "duration": 213,
        "start_time": "2022-08-29T04:04:05.393Z"
      },
      {
        "duration": 11,
        "start_time": "2022-08-29T04:04:05.608Z"
      },
      {
        "duration": 12,
        "start_time": "2022-08-29T04:04:05.622Z"
      },
      {
        "duration": 5,
        "start_time": "2022-08-29T04:04:05.636Z"
      },
      {
        "duration": 12,
        "start_time": "2022-08-29T04:04:05.643Z"
      },
      {
        "duration": 4,
        "start_time": "2022-08-29T04:04:05.657Z"
      },
      {
        "duration": 7,
        "start_time": "2022-08-29T04:04:05.686Z"
      },
      {
        "duration": 11,
        "start_time": "2022-08-29T04:04:05.695Z"
      },
      {
        "duration": 6,
        "start_time": "2022-08-29T04:04:05.708Z"
      },
      {
        "duration": 22,
        "start_time": "2022-08-29T04:04:05.715Z"
      },
      {
        "duration": 4,
        "start_time": "2022-08-29T04:04:05.738Z"
      },
      {
        "duration": 7,
        "start_time": "2022-08-29T04:04:05.743Z"
      },
      {
        "duration": 269,
        "start_time": "2022-08-29T04:04:05.752Z"
      },
      {
        "duration": 29,
        "start_time": "2022-08-29T04:04:06.023Z"
      },
      {
        "duration": 14,
        "start_time": "2022-08-29T04:06:22.027Z"
      },
      {
        "duration": 1259,
        "start_time": "2022-08-29T04:06:40.523Z"
      },
      {
        "duration": 823,
        "start_time": "2022-08-29T04:06:48.647Z"
      },
      {
        "duration": 987,
        "start_time": "2022-08-29T04:06:58.740Z"
      },
      {
        "duration": 1039,
        "start_time": "2022-08-29T04:07:29.984Z"
      },
      {
        "duration": 53,
        "start_time": "2022-08-29T04:07:31.025Z"
      },
      {
        "duration": 5,
        "start_time": "2022-08-29T04:07:31.080Z"
      },
      {
        "duration": 28,
        "start_time": "2022-08-29T04:07:31.086Z"
      },
      {
        "duration": 14,
        "start_time": "2022-08-29T04:07:31.116Z"
      },
      {
        "duration": 22,
        "start_time": "2022-08-29T04:07:31.132Z"
      },
      {
        "duration": 16,
        "start_time": "2022-08-29T04:07:31.156Z"
      },
      {
        "duration": 31,
        "start_time": "2022-08-29T04:07:31.174Z"
      },
      {
        "duration": 8,
        "start_time": "2022-08-29T04:07:31.206Z"
      },
      {
        "duration": 24,
        "start_time": "2022-08-29T04:07:31.216Z"
      },
      {
        "duration": 38,
        "start_time": "2022-08-29T04:07:31.241Z"
      },
      {
        "duration": 39,
        "start_time": "2022-08-29T04:07:31.281Z"
      },
      {
        "duration": 31,
        "start_time": "2022-08-29T04:07:31.321Z"
      },
      {
        "duration": 52,
        "start_time": "2022-08-29T04:07:31.355Z"
      },
      {
        "duration": 30,
        "start_time": "2022-08-29T04:07:31.409Z"
      },
      {
        "duration": 4,
        "start_time": "2022-08-29T04:07:31.440Z"
      },
      {
        "duration": 6,
        "start_time": "2022-08-29T04:07:31.446Z"
      },
      {
        "duration": 33,
        "start_time": "2022-08-29T04:07:31.454Z"
      },
      {
        "duration": 15,
        "start_time": "2022-08-29T04:07:31.489Z"
      },
      {
        "duration": 15,
        "start_time": "2022-08-29T04:07:31.506Z"
      },
      {
        "duration": 20,
        "start_time": "2022-08-29T04:07:31.522Z"
      },
      {
        "duration": 7,
        "start_time": "2022-08-29T04:07:31.544Z"
      },
      {
        "duration": 20,
        "start_time": "2022-08-29T04:07:31.553Z"
      },
      {
        "duration": 9,
        "start_time": "2022-08-29T04:07:31.586Z"
      },
      {
        "duration": 32,
        "start_time": "2022-08-29T04:07:31.597Z"
      },
      {
        "duration": 3,
        "start_time": "2022-08-29T04:07:31.631Z"
      },
      {
        "duration": 16,
        "start_time": "2022-08-29T04:07:31.636Z"
      },
      {
        "duration": 152,
        "start_time": "2022-08-29T04:07:31.654Z"
      },
      {
        "duration": 11,
        "start_time": "2022-08-29T04:07:31.807Z"
      },
      {
        "duration": 10,
        "start_time": "2022-08-29T04:07:31.820Z"
      },
      {
        "duration": 17,
        "start_time": "2022-08-29T04:07:31.831Z"
      },
      {
        "duration": 7,
        "start_time": "2022-08-29T04:07:31.850Z"
      },
      {
        "duration": 9,
        "start_time": "2022-08-29T04:07:31.858Z"
      },
      {
        "duration": 19,
        "start_time": "2022-08-29T04:07:31.868Z"
      },
      {
        "duration": 5,
        "start_time": "2022-08-29T04:07:31.889Z"
      },
      {
        "duration": 18,
        "start_time": "2022-08-29T04:07:31.895Z"
      },
      {
        "duration": 4,
        "start_time": "2022-08-29T04:07:31.914Z"
      },
      {
        "duration": 7,
        "start_time": "2022-08-29T04:07:31.919Z"
      },
      {
        "duration": 216,
        "start_time": "2022-08-29T04:07:31.927Z"
      },
      {
        "duration": 11,
        "start_time": "2022-08-29T04:07:32.144Z"
      },
      {
        "duration": 29,
        "start_time": "2022-08-29T04:07:32.159Z"
      },
      {
        "duration": 6,
        "start_time": "2022-08-29T04:07:32.189Z"
      },
      {
        "duration": 10,
        "start_time": "2022-08-29T04:07:32.197Z"
      },
      {
        "duration": 6,
        "start_time": "2022-08-29T04:07:32.208Z"
      },
      {
        "duration": 11,
        "start_time": "2022-08-29T04:07:32.215Z"
      },
      {
        "duration": 8,
        "start_time": "2022-08-29T04:07:32.228Z"
      },
      {
        "duration": 6,
        "start_time": "2022-08-29T04:07:32.238Z"
      },
      {
        "duration": 45,
        "start_time": "2022-08-29T04:07:32.245Z"
      },
      {
        "duration": 3,
        "start_time": "2022-08-29T04:07:32.291Z"
      },
      {
        "duration": 12,
        "start_time": "2022-08-29T04:07:32.296Z"
      },
      {
        "duration": 208,
        "start_time": "2022-08-29T04:07:32.310Z"
      },
      {
        "duration": 11,
        "start_time": "2022-08-29T04:07:32.520Z"
      },
      {
        "duration": 18,
        "start_time": "2022-08-29T04:08:01.671Z"
      },
      {
        "duration": 841,
        "start_time": "2022-08-29T04:08:27.454Z"
      },
      {
        "duration": 1065,
        "start_time": "2022-08-29T04:08:37.757Z"
      },
      {
        "duration": 53,
        "start_time": "2022-08-29T04:08:38.823Z"
      },
      {
        "duration": 5,
        "start_time": "2022-08-29T04:08:38.877Z"
      },
      {
        "duration": 21,
        "start_time": "2022-08-29T04:08:38.884Z"
      },
      {
        "duration": 14,
        "start_time": "2022-08-29T04:08:38.907Z"
      },
      {
        "duration": 15,
        "start_time": "2022-08-29T04:08:38.923Z"
      },
      {
        "duration": 15,
        "start_time": "2022-08-29T04:08:38.940Z"
      },
      {
        "duration": 50,
        "start_time": "2022-08-29T04:08:38.957Z"
      },
      {
        "duration": 9,
        "start_time": "2022-08-29T04:08:39.009Z"
      },
      {
        "duration": 10,
        "start_time": "2022-08-29T04:08:39.019Z"
      },
      {
        "duration": 32,
        "start_time": "2022-08-29T04:08:39.031Z"
      },
      {
        "duration": 36,
        "start_time": "2022-08-29T04:08:39.086Z"
      },
      {
        "duration": 28,
        "start_time": "2022-08-29T04:08:39.123Z"
      },
      {
        "duration": 51,
        "start_time": "2022-08-29T04:08:39.154Z"
      },
      {
        "duration": 30,
        "start_time": "2022-08-29T04:08:39.207Z"
      },
      {
        "duration": 4,
        "start_time": "2022-08-29T04:08:39.238Z"
      },
      {
        "duration": 9,
        "start_time": "2022-08-29T04:08:39.243Z"
      },
      {
        "duration": 9,
        "start_time": "2022-08-29T04:08:39.253Z"
      },
      {
        "duration": 32,
        "start_time": "2022-08-29T04:08:39.264Z"
      },
      {
        "duration": 15,
        "start_time": "2022-08-29T04:08:39.298Z"
      },
      {
        "duration": 21,
        "start_time": "2022-08-29T04:08:39.314Z"
      },
      {
        "duration": 7,
        "start_time": "2022-08-29T04:08:39.337Z"
      },
      {
        "duration": 11,
        "start_time": "2022-08-29T04:08:39.346Z"
      },
      {
        "duration": 7,
        "start_time": "2022-08-29T04:08:39.359Z"
      },
      {
        "duration": 37,
        "start_time": "2022-08-29T04:08:39.367Z"
      },
      {
        "duration": 3,
        "start_time": "2022-08-29T04:08:39.406Z"
      },
      {
        "duration": 7,
        "start_time": "2022-08-29T04:08:39.411Z"
      },
      {
        "duration": 164,
        "start_time": "2022-08-29T04:08:39.419Z"
      },
      {
        "duration": 11,
        "start_time": "2022-08-29T04:08:39.587Z"
      },
      {
        "duration": 7,
        "start_time": "2022-08-29T04:08:39.599Z"
      },
      {
        "duration": 15,
        "start_time": "2022-08-29T04:08:39.607Z"
      },
      {
        "duration": 7,
        "start_time": "2022-08-29T04:08:39.623Z"
      },
      {
        "duration": 12,
        "start_time": "2022-08-29T04:08:39.631Z"
      },
      {
        "duration": 9,
        "start_time": "2022-08-29T04:08:39.644Z"
      },
      {
        "duration": 8,
        "start_time": "2022-08-29T04:08:39.654Z"
      },
      {
        "duration": 36,
        "start_time": "2022-08-29T04:08:39.663Z"
      },
      {
        "duration": 4,
        "start_time": "2022-08-29T04:08:39.700Z"
      },
      {
        "duration": 9,
        "start_time": "2022-08-29T04:08:39.705Z"
      },
      {
        "duration": 221,
        "start_time": "2022-08-29T04:08:39.716Z"
      },
      {
        "duration": 10,
        "start_time": "2022-08-29T04:08:39.939Z"
      },
      {
        "duration": 17,
        "start_time": "2022-08-29T04:08:39.953Z"
      },
      {
        "duration": 16,
        "start_time": "2022-08-29T04:08:39.971Z"
      },
      {
        "duration": 10,
        "start_time": "2022-08-29T04:08:39.989Z"
      },
      {
        "duration": 12,
        "start_time": "2022-08-29T04:08:40.001Z"
      },
      {
        "duration": 16,
        "start_time": "2022-08-29T04:08:40.015Z"
      },
      {
        "duration": 15,
        "start_time": "2022-08-29T04:08:40.032Z"
      },
      {
        "duration": 20,
        "start_time": "2022-08-29T04:08:40.049Z"
      },
      {
        "duration": 23,
        "start_time": "2022-08-29T04:08:40.071Z"
      },
      {
        "duration": 3,
        "start_time": "2022-08-29T04:08:40.096Z"
      },
      {
        "duration": 11,
        "start_time": "2022-08-29T04:08:40.101Z"
      },
      {
        "duration": 394,
        "start_time": "2022-08-29T04:08:40.113Z"
      },
      {
        "duration": 23,
        "start_time": "2022-08-29T04:08:40.508Z"
      },
      {
        "duration": 14,
        "start_time": "2022-08-29T04:09:21.358Z"
      },
      {
        "duration": 3,
        "start_time": "2022-08-29T04:09:25.937Z"
      },
      {
        "duration": 5,
        "start_time": "2022-08-29T04:09:29.207Z"
      },
      {
        "duration": 146,
        "start_time": "2022-08-29T04:09:32.148Z"
      },
      {
        "duration": 23,
        "start_time": "2022-08-29T04:09:33.055Z"
      },
      {
        "duration": 998,
        "start_time": "2022-08-29T04:09:42.130Z"
      },
      {
        "duration": 53,
        "start_time": "2022-08-29T04:09:43.130Z"
      },
      {
        "duration": 5,
        "start_time": "2022-08-29T04:09:43.185Z"
      },
      {
        "duration": 18,
        "start_time": "2022-08-29T04:09:43.192Z"
      },
      {
        "duration": 15,
        "start_time": "2022-08-29T04:09:43.212Z"
      },
      {
        "duration": 16,
        "start_time": "2022-08-29T04:09:43.228Z"
      },
      {
        "duration": 42,
        "start_time": "2022-08-29T04:09:43.246Z"
      },
      {
        "duration": 31,
        "start_time": "2022-08-29T04:09:43.290Z"
      },
      {
        "duration": 10,
        "start_time": "2022-08-29T04:09:43.323Z"
      },
      {
        "duration": 11,
        "start_time": "2022-08-29T04:09:43.335Z"
      },
      {
        "duration": 66,
        "start_time": "2022-08-29T04:09:43.348Z"
      },
      {
        "duration": 38,
        "start_time": "2022-08-29T04:09:43.416Z"
      },
      {
        "duration": 56,
        "start_time": "2022-08-29T04:09:43.456Z"
      },
      {
        "duration": 31,
        "start_time": "2022-08-29T04:09:43.516Z"
      },
      {
        "duration": 49,
        "start_time": "2022-08-29T04:09:43.549Z"
      },
      {
        "duration": 4,
        "start_time": "2022-08-29T04:09:43.599Z"
      },
      {
        "duration": 7,
        "start_time": "2022-08-29T04:09:43.604Z"
      },
      {
        "duration": 9,
        "start_time": "2022-08-29T04:09:43.612Z"
      },
      {
        "duration": 19,
        "start_time": "2022-08-29T04:09:43.622Z"
      },
      {
        "duration": 16,
        "start_time": "2022-08-29T04:09:43.643Z"
      },
      {
        "duration": 37,
        "start_time": "2022-08-29T04:09:43.660Z"
      },
      {
        "duration": 7,
        "start_time": "2022-08-29T04:09:43.699Z"
      },
      {
        "duration": 10,
        "start_time": "2022-08-29T04:09:43.708Z"
      },
      {
        "duration": 8,
        "start_time": "2022-08-29T04:09:43.719Z"
      },
      {
        "duration": 23,
        "start_time": "2022-08-29T04:09:43.728Z"
      },
      {
        "duration": 3,
        "start_time": "2022-08-29T04:09:43.753Z"
      },
      {
        "duration": 30,
        "start_time": "2022-08-29T04:09:43.758Z"
      },
      {
        "duration": 158,
        "start_time": "2022-08-29T04:09:43.790Z"
      },
      {
        "duration": 11,
        "start_time": "2022-08-29T04:09:43.949Z"
      },
      {
        "duration": 24,
        "start_time": "2022-08-29T04:09:43.961Z"
      },
      {
        "duration": 35,
        "start_time": "2022-08-29T04:09:43.987Z"
      },
      {
        "duration": 7,
        "start_time": "2022-08-29T04:09:44.024Z"
      },
      {
        "duration": 9,
        "start_time": "2022-08-29T04:09:44.032Z"
      },
      {
        "duration": 13,
        "start_time": "2022-08-29T04:09:44.042Z"
      },
      {
        "duration": 5,
        "start_time": "2022-08-29T04:09:44.057Z"
      },
      {
        "duration": 23,
        "start_time": "2022-08-29T04:09:44.064Z"
      },
      {
        "duration": 2,
        "start_time": "2022-08-29T04:09:44.089Z"
      },
      {
        "duration": 11,
        "start_time": "2022-08-29T04:09:44.093Z"
      },
      {
        "duration": 207,
        "start_time": "2022-08-29T04:09:44.106Z"
      },
      {
        "duration": 10,
        "start_time": "2022-08-29T04:09:44.315Z"
      },
      {
        "duration": 18,
        "start_time": "2022-08-29T04:09:44.328Z"
      },
      {
        "duration": 6,
        "start_time": "2022-08-29T04:09:44.348Z"
      },
      {
        "duration": 33,
        "start_time": "2022-08-29T04:09:44.355Z"
      },
      {
        "duration": 6,
        "start_time": "2022-08-29T04:09:44.389Z"
      },
      {
        "duration": 13,
        "start_time": "2022-08-29T04:09:44.396Z"
      },
      {
        "duration": 10,
        "start_time": "2022-08-29T04:09:44.411Z"
      },
      {
        "duration": 6,
        "start_time": "2022-08-29T04:09:44.422Z"
      },
      {
        "duration": 13,
        "start_time": "2022-08-29T04:09:44.430Z"
      },
      {
        "duration": 3,
        "start_time": "2022-08-29T04:09:44.445Z"
      },
      {
        "duration": 10,
        "start_time": "2022-08-29T04:09:44.450Z"
      },
      {
        "duration": 231,
        "start_time": "2022-08-29T04:09:44.462Z"
      },
      {
        "duration": 10,
        "start_time": "2022-08-29T04:09:44.695Z"
      },
      {
        "duration": 19,
        "start_time": "2022-08-29T04:11:11.178Z"
      },
      {
        "duration": 4,
        "start_time": "2022-08-29T04:11:25.823Z"
      },
      {
        "duration": 143,
        "start_time": "2022-08-29T04:11:30.788Z"
      },
      {
        "duration": 12,
        "start_time": "2022-08-29T04:11:32.438Z"
      },
      {
        "duration": 3,
        "start_time": "2022-08-29T04:11:45.123Z"
      },
      {
        "duration": 1019,
        "start_time": "2022-08-29T04:11:45.906Z"
      },
      {
        "duration": 47,
        "start_time": "2022-08-29T04:12:14.084Z"
      },
      {
        "duration": 6,
        "start_time": "2022-08-29T04:12:21.637Z"
      },
      {
        "duration": 179,
        "start_time": "2022-08-29T04:12:24.196Z"
      },
      {
        "duration": 11,
        "start_time": "2022-08-29T04:12:25.697Z"
      },
      {
        "duration": 1001,
        "start_time": "2022-08-29T04:12:36.520Z"
      },
      {
        "duration": 52,
        "start_time": "2022-08-29T04:12:37.523Z"
      },
      {
        "duration": 5,
        "start_time": "2022-08-29T04:12:37.577Z"
      },
      {
        "duration": 21,
        "start_time": "2022-08-29T04:12:37.584Z"
      },
      {
        "duration": 17,
        "start_time": "2022-08-29T04:12:37.606Z"
      },
      {
        "duration": 16,
        "start_time": "2022-08-29T04:12:37.624Z"
      },
      {
        "duration": 15,
        "start_time": "2022-08-29T04:12:37.641Z"
      },
      {
        "duration": 50,
        "start_time": "2022-08-29T04:12:37.657Z"
      },
      {
        "duration": 8,
        "start_time": "2022-08-29T04:12:37.709Z"
      },
      {
        "duration": 10,
        "start_time": "2022-08-29T04:12:37.720Z"
      },
      {
        "duration": 33,
        "start_time": "2022-08-29T04:12:37.732Z"
      },
      {
        "duration": 55,
        "start_time": "2022-08-29T04:12:37.766Z"
      },
      {
        "duration": 30,
        "start_time": "2022-08-29T04:12:37.823Z"
      },
      {
        "duration": 57,
        "start_time": "2022-08-29T04:12:37.855Z"
      },
      {
        "duration": 31,
        "start_time": "2022-08-29T04:12:37.914Z"
      },
      {
        "duration": 4,
        "start_time": "2022-08-29T04:12:37.946Z"
      },
      {
        "duration": 6,
        "start_time": "2022-08-29T04:12:37.951Z"
      },
      {
        "duration": 31,
        "start_time": "2022-08-29T04:12:37.958Z"
      },
      {
        "duration": 16,
        "start_time": "2022-08-29T04:12:37.991Z"
      },
      {
        "duration": 28,
        "start_time": "2022-08-29T04:12:38.009Z"
      },
      {
        "duration": 19,
        "start_time": "2022-08-29T04:12:38.039Z"
      },
      {
        "duration": 27,
        "start_time": "2022-08-29T04:12:38.060Z"
      },
      {
        "duration": 5,
        "start_time": "2022-08-29T04:12:38.088Z"
      },
      {
        "duration": 9,
        "start_time": "2022-08-29T04:12:38.094Z"
      },
      {
        "duration": 21,
        "start_time": "2022-08-29T04:12:38.105Z"
      },
      {
        "duration": 3,
        "start_time": "2022-08-29T04:12:38.127Z"
      },
      {
        "duration": 9,
        "start_time": "2022-08-29T04:12:38.131Z"
      },
      {
        "duration": 169,
        "start_time": "2022-08-29T04:12:38.143Z"
      },
      {
        "duration": 11,
        "start_time": "2022-08-29T04:12:38.314Z"
      },
      {
        "duration": 12,
        "start_time": "2022-08-29T04:12:38.326Z"
      },
      {
        "duration": 16,
        "start_time": "2022-08-29T04:12:38.339Z"
      },
      {
        "duration": 7,
        "start_time": "2022-08-29T04:12:38.357Z"
      },
      {
        "duration": 22,
        "start_time": "2022-08-29T04:12:38.365Z"
      },
      {
        "duration": 8,
        "start_time": "2022-08-29T04:12:38.388Z"
      },
      {
        "duration": 6,
        "start_time": "2022-08-29T04:12:38.397Z"
      },
      {
        "duration": 13,
        "start_time": "2022-08-29T04:12:38.404Z"
      },
      {
        "duration": 3,
        "start_time": "2022-08-29T04:12:38.418Z"
      },
      {
        "duration": 11,
        "start_time": "2022-08-29T04:12:38.423Z"
      },
      {
        "duration": 218,
        "start_time": "2022-08-29T04:12:38.435Z"
      },
      {
        "duration": 10,
        "start_time": "2022-08-29T04:12:38.655Z"
      },
      {
        "duration": 21,
        "start_time": "2022-08-29T04:12:38.666Z"
      },
      {
        "duration": 6,
        "start_time": "2022-08-29T04:12:38.688Z"
      },
      {
        "duration": 12,
        "start_time": "2022-08-29T04:12:38.695Z"
      },
      {
        "duration": 5,
        "start_time": "2022-08-29T04:12:38.708Z"
      },
      {
        "duration": 7,
        "start_time": "2022-08-29T04:12:38.715Z"
      },
      {
        "duration": 9,
        "start_time": "2022-08-29T04:12:38.724Z"
      },
      {
        "duration": 6,
        "start_time": "2022-08-29T04:12:38.734Z"
      },
      {
        "duration": 52,
        "start_time": "2022-08-29T04:12:38.741Z"
      },
      {
        "duration": 3,
        "start_time": "2022-08-29T04:12:38.794Z"
      },
      {
        "duration": 9,
        "start_time": "2022-08-29T04:12:38.799Z"
      },
      {
        "duration": 1369,
        "start_time": "2022-08-29T04:12:38.810Z"
      },
      {
        "duration": 24,
        "start_time": "2022-08-29T04:12:40.180Z"
      },
      {
        "duration": 97,
        "start_time": "2022-08-29T04:24:11.348Z"
      },
      {
        "duration": 17,
        "start_time": "2022-08-29T04:26:09.466Z"
      },
      {
        "duration": 41,
        "start_time": "2022-08-29T04:29:49.566Z"
      },
      {
        "duration": 50,
        "start_time": "2022-08-29T04:29:54.784Z"
      },
      {
        "duration": 11,
        "start_time": "2022-08-29T04:30:06.228Z"
      },
      {
        "duration": 18,
        "start_time": "2022-08-29T04:30:19.189Z"
      },
      {
        "duration": 13,
        "start_time": "2022-08-29T04:30:35.942Z"
      },
      {
        "duration": 12,
        "start_time": "2022-08-29T04:30:47.641Z"
      },
      {
        "duration": 4,
        "start_time": "2022-08-29T04:42:45.928Z"
      },
      {
        "duration": 11,
        "start_time": "2022-08-29T04:42:48.252Z"
      },
      {
        "duration": 14,
        "start_time": "2022-08-29T04:42:50.462Z"
      },
      {
        "duration": 4,
        "start_time": "2022-08-29T04:43:10.485Z"
      },
      {
        "duration": 1046,
        "start_time": "2022-08-29T04:43:16.689Z"
      },
      {
        "duration": 51,
        "start_time": "2022-08-29T04:43:17.737Z"
      },
      {
        "duration": 5,
        "start_time": "2022-08-29T04:43:17.790Z"
      },
      {
        "duration": 19,
        "start_time": "2022-08-29T04:43:17.797Z"
      },
      {
        "duration": 14,
        "start_time": "2022-08-29T04:43:17.818Z"
      },
      {
        "duration": 20,
        "start_time": "2022-08-29T04:43:17.833Z"
      },
      {
        "duration": 37,
        "start_time": "2022-08-29T04:43:17.855Z"
      },
      {
        "duration": 29,
        "start_time": "2022-08-29T04:43:17.894Z"
      },
      {
        "duration": 8,
        "start_time": "2022-08-29T04:43:17.924Z"
      },
      {
        "duration": 12,
        "start_time": "2022-08-29T04:43:17.934Z"
      },
      {
        "duration": 56,
        "start_time": "2022-08-29T04:43:17.947Z"
      },
      {
        "duration": 45,
        "start_time": "2022-08-29T04:43:18.005Z"
      },
      {
        "duration": 48,
        "start_time": "2022-08-29T04:43:18.052Z"
      },
      {
        "duration": 29,
        "start_time": "2022-08-29T04:43:18.103Z"
      },
      {
        "duration": 30,
        "start_time": "2022-08-29T04:43:18.134Z"
      },
      {
        "duration": 4,
        "start_time": "2022-08-29T04:43:18.186Z"
      },
      {
        "duration": 13,
        "start_time": "2022-08-29T04:43:18.191Z"
      },
      {
        "duration": 21,
        "start_time": "2022-08-29T04:43:18.206Z"
      },
      {
        "duration": 25,
        "start_time": "2022-08-29T04:43:18.228Z"
      },
      {
        "duration": 21,
        "start_time": "2022-08-29T04:43:18.254Z"
      },
      {
        "duration": 25,
        "start_time": "2022-08-29T04:43:18.277Z"
      },
      {
        "duration": 11,
        "start_time": "2022-08-29T04:43:18.304Z"
      },
      {
        "duration": 11,
        "start_time": "2022-08-29T04:43:18.317Z"
      },
      {
        "duration": 12,
        "start_time": "2022-08-29T04:43:18.330Z"
      },
      {
        "duration": 24,
        "start_time": "2022-08-29T04:43:18.344Z"
      },
      {
        "duration": 3,
        "start_time": "2022-08-29T04:43:18.369Z"
      },
      {
        "duration": 23,
        "start_time": "2022-08-29T04:43:18.374Z"
      },
      {
        "duration": 153,
        "start_time": "2022-08-29T04:43:18.400Z"
      },
      {
        "duration": 10,
        "start_time": "2022-08-29T04:43:18.555Z"
      },
      {
        "duration": 6,
        "start_time": "2022-08-29T04:43:18.567Z"
      },
      {
        "duration": 19,
        "start_time": "2022-08-29T04:43:18.574Z"
      },
      {
        "duration": 6,
        "start_time": "2022-08-29T04:43:18.595Z"
      },
      {
        "duration": 8,
        "start_time": "2022-08-29T04:43:18.603Z"
      },
      {
        "duration": 9,
        "start_time": "2022-08-29T04:43:18.613Z"
      },
      {
        "duration": 5,
        "start_time": "2022-08-29T04:43:18.624Z"
      },
      {
        "duration": 21,
        "start_time": "2022-08-29T04:43:18.630Z"
      },
      {
        "duration": 3,
        "start_time": "2022-08-29T04:43:18.653Z"
      },
      {
        "duration": 7,
        "start_time": "2022-08-29T04:43:18.657Z"
      },
      {
        "duration": 205,
        "start_time": "2022-08-29T04:43:18.687Z"
      },
      {
        "duration": 10,
        "start_time": "2022-08-29T04:43:18.893Z"
      },
      {
        "duration": 14,
        "start_time": "2022-08-29T04:43:18.905Z"
      },
      {
        "duration": 5,
        "start_time": "2022-08-29T04:43:18.921Z"
      },
      {
        "duration": 12,
        "start_time": "2022-08-29T04:43:18.928Z"
      },
      {
        "duration": 6,
        "start_time": "2022-08-29T04:43:18.941Z"
      },
      {
        "duration": 9,
        "start_time": "2022-08-29T04:43:18.949Z"
      },
      {
        "duration": 9,
        "start_time": "2022-08-29T04:43:18.986Z"
      },
      {
        "duration": 8,
        "start_time": "2022-08-29T04:43:18.996Z"
      },
      {
        "duration": 18,
        "start_time": "2022-08-29T04:43:19.005Z"
      },
      {
        "duration": 3,
        "start_time": "2022-08-29T04:43:19.024Z"
      },
      {
        "duration": 7,
        "start_time": "2022-08-29T04:43:19.029Z"
      },
      {
        "duration": 1403,
        "start_time": "2022-08-29T04:43:19.038Z"
      },
      {
        "duration": 26,
        "start_time": "2022-08-29T04:43:20.443Z"
      },
      {
        "duration": 25,
        "start_time": "2022-08-29T04:43:20.470Z"
      },
      {
        "duration": 10,
        "start_time": "2022-08-29T04:43:20.496Z"
      },
      {
        "duration": 12,
        "start_time": "2022-08-29T04:43:20.508Z"
      },
      {
        "duration": 16,
        "start_time": "2022-08-29T04:50:15.257Z"
      },
      {
        "duration": 16,
        "start_time": "2022-08-29T04:50:45.276Z"
      },
      {
        "duration": 1045,
        "start_time": "2022-08-29T04:51:08.201Z"
      },
      {
        "duration": 53,
        "start_time": "2022-08-29T04:51:09.248Z"
      },
      {
        "duration": 6,
        "start_time": "2022-08-29T04:51:09.303Z"
      },
      {
        "duration": 20,
        "start_time": "2022-08-29T04:51:09.310Z"
      },
      {
        "duration": 15,
        "start_time": "2022-08-29T04:51:09.332Z"
      },
      {
        "duration": 21,
        "start_time": "2022-08-29T04:51:09.348Z"
      },
      {
        "duration": 29,
        "start_time": "2022-08-29T04:51:09.371Z"
      },
      {
        "duration": 29,
        "start_time": "2022-08-29T04:51:09.401Z"
      },
      {
        "duration": 9,
        "start_time": "2022-08-29T04:51:09.431Z"
      },
      {
        "duration": 13,
        "start_time": "2022-08-29T04:51:09.441Z"
      },
      {
        "duration": 62,
        "start_time": "2022-08-29T04:51:09.455Z"
      },
      {
        "duration": 39,
        "start_time": "2022-08-29T04:51:09.519Z"
      },
      {
        "duration": 54,
        "start_time": "2022-08-29T04:51:09.560Z"
      },
      {
        "duration": 33,
        "start_time": "2022-08-29T04:51:09.617Z"
      },
      {
        "duration": 56,
        "start_time": "2022-08-29T04:51:09.652Z"
      },
      {
        "duration": 4,
        "start_time": "2022-08-29T04:51:09.709Z"
      },
      {
        "duration": 9,
        "start_time": "2022-08-29T04:51:09.715Z"
      },
      {
        "duration": 10,
        "start_time": "2022-08-29T04:51:09.726Z"
      },
      {
        "duration": 39,
        "start_time": "2022-08-29T04:51:09.738Z"
      },
      {
        "duration": 22,
        "start_time": "2022-08-29T04:51:09.779Z"
      },
      {
        "duration": 19,
        "start_time": "2022-08-29T04:51:09.803Z"
      },
      {
        "duration": 9,
        "start_time": "2022-08-29T04:51:09.823Z"
      },
      {
        "duration": 16,
        "start_time": "2022-08-29T04:51:09.833Z"
      },
      {
        "duration": 18,
        "start_time": "2022-08-29T04:51:09.850Z"
      },
      {
        "duration": 30,
        "start_time": "2022-08-29T04:51:09.870Z"
      },
      {
        "duration": 3,
        "start_time": "2022-08-29T04:51:09.902Z"
      },
      {
        "duration": 11,
        "start_time": "2022-08-29T04:51:09.906Z"
      },
      {
        "duration": 160,
        "start_time": "2022-08-29T04:51:09.919Z"
      },
      {
        "duration": 13,
        "start_time": "2022-08-29T04:51:10.080Z"
      },
      {
        "duration": 3,
        "start_time": "2022-08-29T04:51:10.095Z"
      },
      {
        "duration": 23,
        "start_time": "2022-08-29T04:51:10.099Z"
      },
      {
        "duration": 7,
        "start_time": "2022-08-29T04:51:10.124Z"
      },
      {
        "duration": 11,
        "start_time": "2022-08-29T04:51:10.132Z"
      },
      {
        "duration": 9,
        "start_time": "2022-08-29T04:51:10.145Z"
      },
      {
        "duration": 6,
        "start_time": "2022-08-29T04:51:10.155Z"
      },
      {
        "duration": 38,
        "start_time": "2022-08-29T04:51:10.162Z"
      },
      {
        "duration": 4,
        "start_time": "2022-08-29T04:51:10.202Z"
      },
      {
        "duration": 8,
        "start_time": "2022-08-29T04:51:10.208Z"
      },
      {
        "duration": 220,
        "start_time": "2022-08-29T04:51:10.218Z"
      },
      {
        "duration": 10,
        "start_time": "2022-08-29T04:51:10.440Z"
      },
      {
        "duration": 20,
        "start_time": "2022-08-29T04:51:10.454Z"
      },
      {
        "duration": 8,
        "start_time": "2022-08-29T04:51:10.486Z"
      },
      {
        "duration": 14,
        "start_time": "2022-08-29T04:51:10.495Z"
      },
      {
        "duration": 6,
        "start_time": "2022-08-29T04:51:10.511Z"
      },
      {
        "duration": 15,
        "start_time": "2022-08-29T04:51:10.518Z"
      },
      {
        "duration": 13,
        "start_time": "2022-08-29T04:51:10.535Z"
      },
      {
        "duration": 7,
        "start_time": "2022-08-29T04:51:10.550Z"
      },
      {
        "duration": 36,
        "start_time": "2022-08-29T04:51:10.558Z"
      },
      {
        "duration": 3,
        "start_time": "2022-08-29T04:51:10.596Z"
      },
      {
        "duration": 7,
        "start_time": "2022-08-29T04:51:10.601Z"
      },
      {
        "duration": 1469,
        "start_time": "2022-08-29T04:51:10.610Z"
      },
      {
        "duration": 28,
        "start_time": "2022-08-29T04:51:12.080Z"
      },
      {
        "duration": 17,
        "start_time": "2022-08-29T04:51:12.110Z"
      },
      {
        "duration": 29,
        "start_time": "2022-08-29T04:51:12.129Z"
      },
      {
        "duration": 23,
        "start_time": "2022-08-29T04:51:12.159Z"
      },
      {
        "duration": 26,
        "start_time": "2022-08-29T04:51:12.184Z"
      },
      {
        "duration": 15,
        "start_time": "2022-08-29T04:51:32.115Z"
      },
      {
        "duration": 15,
        "start_time": "2022-08-29T04:52:32.954Z"
      },
      {
        "duration": 88,
        "start_time": "2022-08-29T04:54:06.974Z"
      },
      {
        "duration": 8,
        "start_time": "2022-08-29T04:54:10.250Z"
      },
      {
        "duration": 17,
        "start_time": "2022-08-29T04:54:10.905Z"
      },
      {
        "duration": 20,
        "start_time": "2022-08-29T04:54:16.255Z"
      },
      {
        "duration": 3,
        "start_time": "2022-08-29T05:03:12.274Z"
      },
      {
        "duration": 734,
        "start_time": "2022-08-29T05:03:53.306Z"
      },
      {
        "duration": 1531,
        "start_time": "2022-08-29T05:03:59.138Z"
      },
      {
        "duration": 5,
        "start_time": "2022-08-29T05:04:08.098Z"
      },
      {
        "duration": 180,
        "start_time": "2022-08-29T05:04:27.616Z"
      },
      {
        "duration": 10,
        "start_time": "2022-08-29T05:04:38.233Z"
      },
      {
        "duration": 9,
        "start_time": "2022-08-29T05:04:44.072Z"
      },
      {
        "duration": 14,
        "start_time": "2022-08-29T05:05:15.934Z"
      },
      {
        "duration": 7,
        "start_time": "2022-08-29T05:05:52.314Z"
      },
      {
        "duration": 6,
        "start_time": "2022-08-29T05:17:09.103Z"
      },
      {
        "duration": 8,
        "start_time": "2022-08-29T05:20:32.059Z"
      },
      {
        "duration": 9,
        "start_time": "2022-08-29T05:21:27.681Z"
      },
      {
        "duration": 6,
        "start_time": "2022-08-29T05:22:14.920Z"
      },
      {
        "duration": 19,
        "start_time": "2022-08-29T05:22:28.650Z"
      },
      {
        "duration": 3,
        "start_time": "2022-08-29T05:22:45.362Z"
      },
      {
        "duration": 5,
        "start_time": "2022-08-29T05:23:22.028Z"
      },
      {
        "duration": 7,
        "start_time": "2022-08-29T05:24:05.619Z"
      },
      {
        "duration": 12,
        "start_time": "2022-08-29T05:26:43.905Z"
      },
      {
        "duration": 13,
        "start_time": "2022-08-29T05:26:53.486Z"
      },
      {
        "duration": 12,
        "start_time": "2022-08-29T05:27:38.192Z"
      },
      {
        "duration": 12,
        "start_time": "2022-08-29T05:27:44.867Z"
      },
      {
        "duration": 13,
        "start_time": "2022-08-29T05:27:51.224Z"
      },
      {
        "duration": 11,
        "start_time": "2022-08-29T05:27:59.420Z"
      },
      {
        "duration": 9,
        "start_time": "2022-08-29T05:28:13.090Z"
      },
      {
        "duration": 8,
        "start_time": "2022-08-29T05:28:21.872Z"
      },
      {
        "duration": 12,
        "start_time": "2022-08-29T05:28:29.425Z"
      },
      {
        "duration": 5,
        "start_time": "2022-08-29T05:29:27.700Z"
      },
      {
        "duration": 48,
        "start_time": "2022-08-29T05:32:44.897Z"
      },
      {
        "duration": 6,
        "start_time": "2022-08-29T05:32:47.441Z"
      },
      {
        "duration": 13,
        "start_time": "2022-08-29T05:32:49.310Z"
      },
      {
        "duration": 6,
        "start_time": "2022-08-29T05:32:55.535Z"
      },
      {
        "duration": 15,
        "start_time": "2022-08-29T05:32:56.182Z"
      },
      {
        "duration": 5,
        "start_time": "2022-08-29T05:35:32.839Z"
      },
      {
        "duration": 10,
        "start_time": "2022-08-29T05:35:34.065Z"
      },
      {
        "duration": 3,
        "start_time": "2022-08-29T05:40:37.993Z"
      },
      {
        "duration": 7,
        "start_time": "2022-08-29T05:40:50.154Z"
      },
      {
        "duration": 7,
        "start_time": "2022-08-29T05:41:00.592Z"
      },
      {
        "duration": 11,
        "start_time": "2022-08-29T05:41:03.184Z"
      },
      {
        "duration": 1008,
        "start_time": "2022-08-29T05:41:16.633Z"
      },
      {
        "duration": 53,
        "start_time": "2022-08-29T05:41:17.643Z"
      },
      {
        "duration": 5,
        "start_time": "2022-08-29T05:41:17.698Z"
      },
      {
        "duration": 24,
        "start_time": "2022-08-29T05:41:17.705Z"
      },
      {
        "duration": 15,
        "start_time": "2022-08-29T05:41:17.730Z"
      },
      {
        "duration": 16,
        "start_time": "2022-08-29T05:41:17.747Z"
      },
      {
        "duration": 32,
        "start_time": "2022-08-29T05:41:17.765Z"
      },
      {
        "duration": 30,
        "start_time": "2022-08-29T05:41:17.798Z"
      },
      {
        "duration": 9,
        "start_time": "2022-08-29T05:41:17.830Z"
      },
      {
        "duration": 12,
        "start_time": "2022-08-29T05:41:17.841Z"
      },
      {
        "duration": 60,
        "start_time": "2022-08-29T05:41:17.855Z"
      },
      {
        "duration": 40,
        "start_time": "2022-08-29T05:41:17.917Z"
      },
      {
        "duration": 51,
        "start_time": "2022-08-29T05:41:17.958Z"
      },
      {
        "duration": 33,
        "start_time": "2022-08-29T05:41:18.010Z"
      },
      {
        "duration": 55,
        "start_time": "2022-08-29T05:41:18.045Z"
      },
      {
        "duration": 4,
        "start_time": "2022-08-29T05:41:18.101Z"
      },
      {
        "duration": 5,
        "start_time": "2022-08-29T05:41:18.107Z"
      },
      {
        "duration": 9,
        "start_time": "2022-08-29T05:41:18.113Z"
      },
      {
        "duration": 17,
        "start_time": "2022-08-29T05:41:18.124Z"
      },
      {
        "duration": 16,
        "start_time": "2022-08-29T05:41:18.143Z"
      },
      {
        "duration": 41,
        "start_time": "2022-08-29T05:41:18.160Z"
      },
      {
        "duration": 7,
        "start_time": "2022-08-29T05:41:18.203Z"
      },
      {
        "duration": 9,
        "start_time": "2022-08-29T05:41:18.212Z"
      },
      {
        "duration": 7,
        "start_time": "2022-08-29T05:41:18.223Z"
      },
      {
        "duration": 23,
        "start_time": "2022-08-29T05:41:18.231Z"
      },
      {
        "duration": 3,
        "start_time": "2022-08-29T05:41:18.256Z"
      },
      {
        "duration": 28,
        "start_time": "2022-08-29T05:41:18.260Z"
      },
      {
        "duration": 157,
        "start_time": "2022-08-29T05:41:18.291Z"
      },
      {
        "duration": 11,
        "start_time": "2022-08-29T05:41:18.449Z"
      },
      {
        "duration": 6,
        "start_time": "2022-08-29T05:41:18.461Z"
      },
      {
        "duration": 25,
        "start_time": "2022-08-29T05:41:18.469Z"
      },
      {
        "duration": 7,
        "start_time": "2022-08-29T05:41:18.496Z"
      },
      {
        "duration": 7,
        "start_time": "2022-08-29T05:41:18.505Z"
      },
      {
        "duration": 9,
        "start_time": "2022-08-29T05:41:18.514Z"
      },
      {
        "duration": 6,
        "start_time": "2022-08-29T05:41:18.524Z"
      },
      {
        "duration": 13,
        "start_time": "2022-08-29T05:41:18.532Z"
      },
      {
        "duration": 40,
        "start_time": "2022-08-29T05:41:18.547Z"
      },
      {
        "duration": 5,
        "start_time": "2022-08-29T05:41:18.589Z"
      },
      {
        "duration": 210,
        "start_time": "2022-08-29T05:41:18.595Z"
      },
      {
        "duration": 10,
        "start_time": "2022-08-29T05:41:18.807Z"
      },
      {
        "duration": 20,
        "start_time": "2022-08-29T05:41:18.818Z"
      },
      {
        "duration": 7,
        "start_time": "2022-08-29T05:41:18.840Z"
      },
      {
        "duration": 12,
        "start_time": "2022-08-29T05:41:18.849Z"
      },
      {
        "duration": 28,
        "start_time": "2022-08-29T05:41:18.863Z"
      },
      {
        "duration": 10,
        "start_time": "2022-08-29T05:41:18.893Z"
      },
      {
        "duration": 14,
        "start_time": "2022-08-29T05:41:18.904Z"
      },
      {
        "duration": 7,
        "start_time": "2022-08-29T05:41:18.919Z"
      },
      {
        "duration": 20,
        "start_time": "2022-08-29T05:41:18.927Z"
      },
      {
        "duration": 3,
        "start_time": "2022-08-29T05:41:18.948Z"
      },
      {
        "duration": 36,
        "start_time": "2022-08-29T05:41:18.953Z"
      },
      {
        "duration": 1445,
        "start_time": "2022-08-29T05:41:18.990Z"
      },
      {
        "duration": 24,
        "start_time": "2022-08-29T05:41:20.436Z"
      },
      {
        "duration": 29,
        "start_time": "2022-08-29T05:41:20.461Z"
      },
      {
        "duration": 12,
        "start_time": "2022-08-29T05:41:20.491Z"
      },
      {
        "duration": 16,
        "start_time": "2022-08-29T05:41:20.505Z"
      },
      {
        "duration": 11,
        "start_time": "2022-08-29T05:41:20.523Z"
      },
      {
        "duration": 23,
        "start_time": "2022-08-29T05:41:20.535Z"
      },
      {
        "duration": 3,
        "start_time": "2022-08-29T05:41:20.560Z"
      },
      {
        "duration": 15,
        "start_time": "2022-08-29T05:41:20.564Z"
      },
      {
        "duration": 185,
        "start_time": "2022-08-29T05:41:20.587Z"
      },
      {
        "duration": 16,
        "start_time": "2022-08-29T05:41:20.774Z"
      },
      {
        "duration": 17,
        "start_time": "2022-08-29T05:41:20.792Z"
      },
      {
        "duration": 7,
        "start_time": "2022-08-29T05:41:20.811Z"
      },
      {
        "duration": 22,
        "start_time": "2022-08-29T05:41:20.819Z"
      },
      {
        "duration": 11,
        "start_time": "2022-08-29T05:42:07.228Z"
      },
      {
        "duration": 13,
        "start_time": "2022-08-29T05:42:16.012Z"
      },
      {
        "duration": 9,
        "start_time": "2022-08-29T05:42:43.468Z"
      },
      {
        "duration": 12,
        "start_time": "2022-08-29T05:42:57.499Z"
      },
      {
        "duration": 9,
        "start_time": "2022-08-29T05:45:42.283Z"
      },
      {
        "duration": 11,
        "start_time": "2022-08-29T05:45:58.741Z"
      },
      {
        "duration": 11,
        "start_time": "2022-08-29T05:46:15.709Z"
      },
      {
        "duration": 13,
        "start_time": "2022-08-29T05:52:46.532Z"
      },
      {
        "duration": 5,
        "start_time": "2022-08-29T05:53:44.286Z"
      },
      {
        "duration": 14,
        "start_time": "2022-08-29T05:53:53.674Z"
      },
      {
        "duration": 5,
        "start_time": "2022-08-29T05:54:01.129Z"
      },
      {
        "duration": 15,
        "start_time": "2022-08-29T05:54:01.802Z"
      },
      {
        "duration": 5,
        "start_time": "2022-08-29T05:54:05.693Z"
      },
      {
        "duration": 16,
        "start_time": "2022-08-29T05:54:06.451Z"
      },
      {
        "duration": 1120,
        "start_time": "2022-08-29T05:54:15.637Z"
      },
      {
        "duration": 53,
        "start_time": "2022-08-29T05:54:16.760Z"
      },
      {
        "duration": 6,
        "start_time": "2022-08-29T05:54:16.814Z"
      },
      {
        "duration": 20,
        "start_time": "2022-08-29T05:54:16.821Z"
      },
      {
        "duration": 15,
        "start_time": "2022-08-29T05:54:16.843Z"
      },
      {
        "duration": 30,
        "start_time": "2022-08-29T05:54:16.860Z"
      },
      {
        "duration": 16,
        "start_time": "2022-08-29T05:54:16.892Z"
      },
      {
        "duration": 30,
        "start_time": "2022-08-29T05:54:16.909Z"
      },
      {
        "duration": 8,
        "start_time": "2022-08-29T05:54:16.940Z"
      },
      {
        "duration": 38,
        "start_time": "2022-08-29T05:54:16.949Z"
      },
      {
        "duration": 34,
        "start_time": "2022-08-29T05:54:16.989Z"
      },
      {
        "duration": 38,
        "start_time": "2022-08-29T05:54:17.025Z"
      },
      {
        "duration": 32,
        "start_time": "2022-08-29T05:54:17.086Z"
      },
      {
        "duration": 32,
        "start_time": "2022-08-29T05:54:17.121Z"
      },
      {
        "duration": 53,
        "start_time": "2022-08-29T05:54:17.155Z"
      },
      {
        "duration": 4,
        "start_time": "2022-08-29T05:54:17.210Z"
      },
      {
        "duration": 8,
        "start_time": "2022-08-29T05:54:17.216Z"
      },
      {
        "duration": 9,
        "start_time": "2022-08-29T05:54:17.226Z"
      },
      {
        "duration": 25,
        "start_time": "2022-08-29T05:54:17.237Z"
      },
      {
        "duration": 32,
        "start_time": "2022-08-29T05:54:17.264Z"
      },
      {
        "duration": 18,
        "start_time": "2022-08-29T05:54:17.297Z"
      },
      {
        "duration": 7,
        "start_time": "2022-08-29T05:54:17.316Z"
      },
      {
        "duration": 8,
        "start_time": "2022-08-29T05:54:17.325Z"
      },
      {
        "duration": 7,
        "start_time": "2022-08-29T05:54:17.334Z"
      },
      {
        "duration": 46,
        "start_time": "2022-08-29T05:54:17.343Z"
      },
      {
        "duration": 4,
        "start_time": "2022-08-29T05:54:17.391Z"
      },
      {
        "duration": 7,
        "start_time": "2022-08-29T05:54:17.396Z"
      },
      {
        "duration": 167,
        "start_time": "2022-08-29T05:54:17.405Z"
      },
      {
        "duration": 14,
        "start_time": "2022-08-29T05:54:17.574Z"
      },
      {
        "duration": 6,
        "start_time": "2022-08-29T05:54:17.590Z"
      },
      {
        "duration": 26,
        "start_time": "2022-08-29T05:54:17.598Z"
      },
      {
        "duration": 9,
        "start_time": "2022-08-29T05:54:17.625Z"
      },
      {
        "duration": 12,
        "start_time": "2022-08-29T05:54:17.636Z"
      },
      {
        "duration": 12,
        "start_time": "2022-08-29T05:54:17.649Z"
      },
      {
        "duration": 28,
        "start_time": "2022-08-29T05:54:17.663Z"
      },
      {
        "duration": 18,
        "start_time": "2022-08-29T05:54:17.692Z"
      },
      {
        "duration": 4,
        "start_time": "2022-08-29T05:54:17.711Z"
      },
      {
        "duration": 11,
        "start_time": "2022-08-29T05:54:17.716Z"
      },
      {
        "duration": 228,
        "start_time": "2022-08-29T05:54:17.729Z"
      },
      {
        "duration": 11,
        "start_time": "2022-08-29T05:54:17.958Z"
      },
      {
        "duration": 23,
        "start_time": "2022-08-29T05:54:17.973Z"
      },
      {
        "duration": 6,
        "start_time": "2022-08-29T05:54:17.997Z"
      },
      {
        "duration": 17,
        "start_time": "2022-08-29T05:54:18.004Z"
      },
      {
        "duration": 6,
        "start_time": "2022-08-29T05:54:18.022Z"
      },
      {
        "duration": 10,
        "start_time": "2022-08-29T05:54:18.030Z"
      },
      {
        "duration": 10,
        "start_time": "2022-08-29T05:54:18.041Z"
      },
      {
        "duration": 39,
        "start_time": "2022-08-29T05:54:18.053Z"
      },
      {
        "duration": 19,
        "start_time": "2022-08-29T05:54:18.094Z"
      },
      {
        "duration": 4,
        "start_time": "2022-08-29T05:54:18.115Z"
      },
      {
        "duration": 7,
        "start_time": "2022-08-29T05:54:18.121Z"
      },
      {
        "duration": 1436,
        "start_time": "2022-08-29T05:54:18.130Z"
      },
      {
        "duration": 32,
        "start_time": "2022-08-29T05:54:19.567Z"
      },
      {
        "duration": 17,
        "start_time": "2022-08-29T05:54:19.600Z"
      },
      {
        "duration": 19,
        "start_time": "2022-08-29T05:54:19.619Z"
      },
      {
        "duration": 15,
        "start_time": "2022-08-29T05:54:19.639Z"
      },
      {
        "duration": 6,
        "start_time": "2022-08-29T05:54:19.656Z"
      },
      {
        "duration": 29,
        "start_time": "2022-08-29T05:54:19.664Z"
      },
      {
        "duration": 8,
        "start_time": "2022-08-29T05:54:19.694Z"
      },
      {
        "duration": 17,
        "start_time": "2022-08-29T05:54:19.704Z"
      },
      {
        "duration": 190,
        "start_time": "2022-08-29T05:54:19.723Z"
      },
      {
        "duration": 10,
        "start_time": "2022-08-29T05:54:19.914Z"
      },
      {
        "duration": 15,
        "start_time": "2022-08-29T05:54:19.925Z"
      },
      {
        "duration": 11,
        "start_time": "2022-08-29T05:54:19.942Z"
      },
      {
        "duration": 33,
        "start_time": "2022-08-29T05:54:19.954Z"
      },
      {
        "duration": 13,
        "start_time": "2022-08-29T05:54:19.988Z"
      },
      {
        "duration": 5,
        "start_time": "2022-08-29T05:54:20.002Z"
      },
      {
        "duration": 21,
        "start_time": "2022-08-29T05:54:20.008Z"
      },
      {
        "duration": 69,
        "start_time": "2022-08-29T19:52:36.342Z"
      },
      {
        "duration": 1252,
        "start_time": "2022-08-29T19:52:52.111Z"
      },
      {
        "duration": 117,
        "start_time": "2022-08-29T19:52:53.365Z"
      },
      {
        "duration": 23,
        "start_time": "2022-08-29T19:52:53.484Z"
      },
      {
        "duration": 20,
        "start_time": "2022-08-29T19:52:53.515Z"
      },
      {
        "duration": 13,
        "start_time": "2022-08-29T19:52:53.537Z"
      },
      {
        "duration": 25,
        "start_time": "2022-08-29T19:52:53.552Z"
      },
      {
        "duration": 26,
        "start_time": "2022-08-29T19:52:53.578Z"
      },
      {
        "duration": 43,
        "start_time": "2022-08-29T19:52:53.606Z"
      },
      {
        "duration": 9,
        "start_time": "2022-08-29T19:52:53.650Z"
      },
      {
        "duration": 11,
        "start_time": "2022-08-29T19:52:53.661Z"
      },
      {
        "duration": 49,
        "start_time": "2022-08-29T19:52:53.674Z"
      },
      {
        "duration": 36,
        "start_time": "2022-08-29T19:52:53.724Z"
      },
      {
        "duration": 54,
        "start_time": "2022-08-29T19:52:53.761Z"
      },
      {
        "duration": 32,
        "start_time": "2022-08-29T19:52:53.816Z"
      },
      {
        "duration": 72,
        "start_time": "2022-08-29T19:52:53.850Z"
      },
      {
        "duration": 4,
        "start_time": "2022-08-29T19:52:53.924Z"
      },
      {
        "duration": 10,
        "start_time": "2022-08-29T19:52:53.929Z"
      },
      {
        "duration": 6,
        "start_time": "2022-08-29T19:52:53.941Z"
      },
      {
        "duration": 17,
        "start_time": "2022-08-29T19:52:53.948Z"
      },
      {
        "duration": 45,
        "start_time": "2022-08-29T19:52:53.966Z"
      },
      {
        "duration": 19,
        "start_time": "2022-08-29T19:52:54.013Z"
      },
      {
        "duration": 10,
        "start_time": "2022-08-29T19:52:54.034Z"
      },
      {
        "duration": 11,
        "start_time": "2022-08-29T19:52:54.046Z"
      },
      {
        "duration": 8,
        "start_time": "2022-08-29T19:52:54.059Z"
      },
      {
        "duration": 25,
        "start_time": "2022-08-29T19:52:54.069Z"
      },
      {
        "duration": 28,
        "start_time": "2022-08-29T19:52:54.097Z"
      },
      {
        "duration": 3,
        "start_time": "2022-08-29T19:52:54.126Z"
      },
      {
        "duration": 5,
        "start_time": "2022-08-29T19:52:54.133Z"
      },
      {
        "duration": 186,
        "start_time": "2022-08-29T19:52:54.140Z"
      },
      {
        "duration": 11,
        "start_time": "2022-08-29T19:52:54.327Z"
      },
      {
        "duration": 6,
        "start_time": "2022-08-29T19:52:54.339Z"
      },
      {
        "duration": 18,
        "start_time": "2022-08-29T19:52:54.346Z"
      },
      {
        "duration": 34,
        "start_time": "2022-08-29T19:52:54.365Z"
      },
      {
        "duration": 20,
        "start_time": "2022-08-29T19:52:54.402Z"
      },
      {
        "duration": 8,
        "start_time": "2022-08-29T19:52:54.423Z"
      },
      {
        "duration": 5,
        "start_time": "2022-08-29T19:52:54.432Z"
      },
      {
        "duration": 13,
        "start_time": "2022-08-29T19:52:54.438Z"
      },
      {
        "duration": 3,
        "start_time": "2022-08-29T19:52:54.452Z"
      },
      {
        "duration": 7,
        "start_time": "2022-08-29T19:52:54.456Z"
      },
      {
        "duration": 257,
        "start_time": "2022-08-29T19:52:54.464Z"
      },
      {
        "duration": 9,
        "start_time": "2022-08-29T19:52:54.723Z"
      },
      {
        "duration": 15,
        "start_time": "2022-08-29T19:52:54.733Z"
      },
      {
        "duration": 6,
        "start_time": "2022-08-29T19:52:54.749Z"
      },
      {
        "duration": 11,
        "start_time": "2022-08-29T19:52:54.757Z"
      },
      {
        "duration": 9,
        "start_time": "2022-08-29T19:52:54.788Z"
      },
      {
        "duration": 30,
        "start_time": "2022-08-29T19:52:54.799Z"
      },
      {
        "duration": 9,
        "start_time": "2022-08-29T19:52:54.831Z"
      },
      {
        "duration": 6,
        "start_time": "2022-08-29T19:52:54.842Z"
      },
      {
        "duration": 18,
        "start_time": "2022-08-29T19:52:54.850Z"
      },
      {
        "duration": 3,
        "start_time": "2022-08-29T19:52:54.870Z"
      },
      {
        "duration": 29,
        "start_time": "2022-08-29T19:52:54.874Z"
      },
      {
        "duration": 1654,
        "start_time": "2022-08-29T19:52:54.904Z"
      },
      {
        "duration": 44,
        "start_time": "2022-08-29T19:52:56.560Z"
      },
      {
        "duration": 25,
        "start_time": "2022-08-29T19:52:56.606Z"
      },
      {
        "duration": 16,
        "start_time": "2022-08-29T19:52:56.633Z"
      },
      {
        "duration": 15,
        "start_time": "2022-08-29T19:52:56.650Z"
      },
      {
        "duration": 24,
        "start_time": "2022-08-29T19:52:56.667Z"
      },
      {
        "duration": 41,
        "start_time": "2022-08-29T19:52:56.693Z"
      },
      {
        "duration": 3,
        "start_time": "2022-08-29T19:52:56.736Z"
      },
      {
        "duration": 7,
        "start_time": "2022-08-29T19:52:56.740Z"
      },
      {
        "duration": 222,
        "start_time": "2022-08-29T19:52:56.748Z"
      },
      {
        "duration": 9,
        "start_time": "2022-08-29T19:52:56.972Z"
      },
      {
        "duration": 28,
        "start_time": "2022-08-29T19:52:56.993Z"
      },
      {
        "duration": 13,
        "start_time": "2022-08-29T19:52:57.023Z"
      },
      {
        "duration": 13,
        "start_time": "2022-08-29T19:52:57.038Z"
      },
      {
        "duration": 4,
        "start_time": "2022-08-29T19:52:57.053Z"
      },
      {
        "duration": 33,
        "start_time": "2022-08-29T19:52:57.059Z"
      },
      {
        "duration": 12,
        "start_time": "2022-08-29T19:53:42.144Z"
      },
      {
        "duration": 13,
        "start_time": "2022-08-29T20:03:23.669Z"
      },
      {
        "duration": 118,
        "start_time": "2022-08-29T20:05:54.319Z"
      },
      {
        "duration": 16,
        "start_time": "2022-08-29T20:05:58.529Z"
      },
      {
        "duration": 20,
        "start_time": "2022-08-29T20:10:01.258Z"
      },
      {
        "duration": 14,
        "start_time": "2022-08-29T20:10:09.042Z"
      },
      {
        "duration": 413,
        "start_time": "2022-08-29T20:10:28.949Z"
      },
      {
        "duration": 353,
        "start_time": "2022-08-29T20:10:43.235Z"
      },
      {
        "duration": 405,
        "start_time": "2022-08-29T20:12:03.723Z"
      },
      {
        "duration": 471,
        "start_time": "2022-08-29T20:12:18.415Z"
      },
      {
        "duration": 574,
        "start_time": "2022-08-29T20:12:31.538Z"
      },
      {
        "duration": 442,
        "start_time": "2022-08-29T20:14:09.865Z"
      },
      {
        "duration": 480,
        "start_time": "2022-08-29T20:15:14.372Z"
      },
      {
        "duration": 433,
        "start_time": "2022-08-29T20:15:47.419Z"
      },
      {
        "duration": 421,
        "start_time": "2022-08-29T20:16:11.476Z"
      },
      {
        "duration": 429,
        "start_time": "2022-08-29T20:16:40.215Z"
      },
      {
        "duration": 503,
        "start_time": "2022-08-29T20:16:47.703Z"
      },
      {
        "duration": 364,
        "start_time": "2022-08-29T20:16:56.915Z"
      },
      {
        "duration": 445,
        "start_time": "2022-08-29T20:17:04.083Z"
      },
      {
        "duration": 14,
        "start_time": "2022-08-29T20:17:47.511Z"
      },
      {
        "duration": 405,
        "start_time": "2022-08-29T20:18:50.429Z"
      },
      {
        "duration": 428,
        "start_time": "2022-08-29T20:18:55.311Z"
      },
      {
        "duration": 514,
        "start_time": "2022-08-29T20:19:05.723Z"
      },
      {
        "duration": 492,
        "start_time": "2022-08-29T20:19:15.759Z"
      },
      {
        "duration": 391,
        "start_time": "2022-08-29T20:19:25.115Z"
      },
      {
        "duration": 367,
        "start_time": "2022-08-29T20:39:42.480Z"
      },
      {
        "duration": 9,
        "start_time": "2022-08-29T20:43:28.179Z"
      },
      {
        "duration": 14,
        "start_time": "2022-08-29T20:43:34.308Z"
      },
      {
        "duration": 16,
        "start_time": "2022-08-29T20:44:07.295Z"
      },
      {
        "duration": 17,
        "start_time": "2022-08-29T20:44:13.271Z"
      },
      {
        "duration": 19,
        "start_time": "2022-08-29T20:54:03.701Z"
      },
      {
        "duration": 13,
        "start_time": "2022-08-29T20:54:12.684Z"
      },
      {
        "duration": 17,
        "start_time": "2022-08-29T20:54:23.251Z"
      },
      {
        "duration": 28,
        "start_time": "2022-08-29T20:55:28.008Z"
      },
      {
        "duration": 28,
        "start_time": "2022-08-29T20:55:36.222Z"
      },
      {
        "duration": 156,
        "start_time": "2022-08-29T20:56:45.716Z"
      },
      {
        "duration": 15,
        "start_time": "2022-08-29T20:59:31.667Z"
      },
      {
        "duration": 13,
        "start_time": "2022-08-29T20:59:38.369Z"
      },
      {
        "duration": 3,
        "start_time": "2022-08-29T21:03:16.985Z"
      },
      {
        "duration": 3,
        "start_time": "2022-08-29T21:03:35.006Z"
      },
      {
        "duration": 3,
        "start_time": "2022-08-29T21:03:41.799Z"
      },
      {
        "duration": 174,
        "start_time": "2022-08-29T21:04:07.818Z"
      },
      {
        "duration": 4,
        "start_time": "2022-08-29T21:04:24.124Z"
      },
      {
        "duration": 176,
        "start_time": "2022-08-29T21:04:26.627Z"
      },
      {
        "duration": 4,
        "start_time": "2022-08-29T21:05:07.063Z"
      },
      {
        "duration": 210,
        "start_time": "2022-08-29T21:05:08.464Z"
      },
      {
        "duration": 5,
        "start_time": "2022-08-29T21:05:46.285Z"
      },
      {
        "duration": 281,
        "start_time": "2022-08-29T21:05:46.933Z"
      },
      {
        "duration": 9,
        "start_time": "2022-08-29T21:06:42.484Z"
      },
      {
        "duration": 170,
        "start_time": "2022-08-29T21:06:44.185Z"
      },
      {
        "duration": 3,
        "start_time": "2022-08-29T21:08:25.978Z"
      },
      {
        "duration": 169,
        "start_time": "2022-08-29T21:08:27.083Z"
      },
      {
        "duration": 8,
        "start_time": "2022-08-29T21:09:22.604Z"
      },
      {
        "duration": 28,
        "start_time": "2022-08-29T21:09:45.302Z"
      },
      {
        "duration": 35,
        "start_time": "2022-08-29T21:10:05.483Z"
      },
      {
        "duration": 181,
        "start_time": "2022-08-29T21:10:29.588Z"
      },
      {
        "duration": 4,
        "start_time": "2022-08-29T21:10:55.130Z"
      },
      {
        "duration": 178,
        "start_time": "2022-08-29T21:10:56.039Z"
      },
      {
        "duration": 3,
        "start_time": "2022-08-29T21:11:07.876Z"
      },
      {
        "duration": 165,
        "start_time": "2022-08-29T21:11:08.902Z"
      },
      {
        "duration": 3,
        "start_time": "2022-08-29T21:11:29.900Z"
      },
      {
        "duration": 180,
        "start_time": "2022-08-29T21:11:31.336Z"
      },
      {
        "duration": 4,
        "start_time": "2022-08-29T21:12:16.611Z"
      },
      {
        "duration": 211,
        "start_time": "2022-08-29T21:12:17.815Z"
      },
      {
        "duration": 4,
        "start_time": "2022-08-29T21:12:32.201Z"
      },
      {
        "duration": 180,
        "start_time": "2022-08-29T21:12:32.862Z"
      },
      {
        "duration": 3,
        "start_time": "2022-08-29T21:13:59.830Z"
      },
      {
        "duration": 156,
        "start_time": "2022-08-29T21:14:00.118Z"
      },
      {
        "duration": 4,
        "start_time": "2022-08-29T21:14:43.911Z"
      },
      {
        "duration": 177,
        "start_time": "2022-08-29T21:14:44.807Z"
      },
      {
        "duration": 3,
        "start_time": "2022-08-29T21:15:03.333Z"
      },
      {
        "duration": 28,
        "start_time": "2022-08-29T21:15:03.874Z"
      },
      {
        "duration": 5,
        "start_time": "2022-08-29T21:15:10.073Z"
      },
      {
        "duration": 289,
        "start_time": "2022-08-29T21:15:11.051Z"
      },
      {
        "duration": 199,
        "start_time": "2022-08-29T21:16:59.899Z"
      },
      {
        "duration": 5,
        "start_time": "2022-08-29T21:19:34.679Z"
      },
      {
        "duration": 22,
        "start_time": "2022-08-29T21:19:35.380Z"
      },
      {
        "duration": 5,
        "start_time": "2022-08-29T21:22:18.772Z"
      },
      {
        "duration": 121,
        "start_time": "2022-08-29T21:22:19.306Z"
      },
      {
        "duration": 4,
        "start_time": "2022-08-29T21:22:27.414Z"
      },
      {
        "duration": 172,
        "start_time": "2022-08-29T21:22:28.114Z"
      },
      {
        "duration": 198,
        "start_time": "2022-08-29T21:22:29.681Z"
      },
      {
        "duration": 4,
        "start_time": "2022-08-29T21:24:07.804Z"
      },
      {
        "duration": 177,
        "start_time": "2022-08-29T21:24:08.346Z"
      },
      {
        "duration": 3,
        "start_time": "2022-08-29T21:24:20.603Z"
      },
      {
        "duration": 187,
        "start_time": "2022-08-29T21:24:21.130Z"
      },
      {
        "duration": 4,
        "start_time": "2022-08-29T21:24:34.631Z"
      },
      {
        "duration": 169,
        "start_time": "2022-08-29T21:24:35.102Z"
      },
      {
        "duration": 224,
        "start_time": "2022-08-29T21:24:37.403Z"
      },
      {
        "duration": 181,
        "start_time": "2022-08-29T21:24:50.892Z"
      },
      {
        "duration": 190,
        "start_time": "2022-08-29T21:25:17.540Z"
      },
      {
        "duration": 278,
        "start_time": "2022-08-29T21:25:24.789Z"
      },
      {
        "duration": 4,
        "start_time": "2022-08-29T21:27:37.710Z"
      },
      {
        "duration": 188,
        "start_time": "2022-08-29T21:27:38.230Z"
      },
      {
        "duration": 228,
        "start_time": "2022-08-29T21:27:40.354Z"
      },
      {
        "duration": 210,
        "start_time": "2022-08-29T21:27:42.938Z"
      },
      {
        "duration": 181,
        "start_time": "2022-08-29T21:27:44.749Z"
      },
      {
        "duration": 253,
        "start_time": "2022-08-29T21:27:46.439Z"
      },
      {
        "duration": 139,
        "start_time": "2022-08-29T22:18:00.792Z"
      },
      {
        "duration": 1149,
        "start_time": "2022-08-29T22:26:18.867Z"
      },
      {
        "duration": 54,
        "start_time": "2022-08-29T22:26:20.018Z"
      },
      {
        "duration": 5,
        "start_time": "2022-08-29T22:26:20.074Z"
      },
      {
        "duration": 22,
        "start_time": "2022-08-29T22:26:20.081Z"
      },
      {
        "duration": 15,
        "start_time": "2022-08-29T22:26:20.104Z"
      },
      {
        "duration": 16,
        "start_time": "2022-08-29T22:26:20.121Z"
      },
      {
        "duration": 22,
        "start_time": "2022-08-29T22:26:20.138Z"
      },
      {
        "duration": 47,
        "start_time": "2022-08-29T22:26:20.162Z"
      },
      {
        "duration": 10,
        "start_time": "2022-08-29T22:26:20.211Z"
      },
      {
        "duration": 17,
        "start_time": "2022-08-29T22:26:20.223Z"
      },
      {
        "duration": 51,
        "start_time": "2022-08-29T22:26:20.242Z"
      },
      {
        "duration": 37,
        "start_time": "2022-08-29T22:26:20.295Z"
      },
      {
        "duration": 53,
        "start_time": "2022-08-29T22:26:20.333Z"
      },
      {
        "duration": 32,
        "start_time": "2022-08-29T22:26:20.388Z"
      },
      {
        "duration": 31,
        "start_time": "2022-08-29T22:26:20.422Z"
      },
      {
        "duration": 4,
        "start_time": "2022-08-29T22:26:20.454Z"
      },
      {
        "duration": 27,
        "start_time": "2022-08-29T22:26:20.459Z"
      },
      {
        "duration": 6,
        "start_time": "2022-08-29T22:26:20.488Z"
      },
      {
        "duration": 18,
        "start_time": "2022-08-29T22:26:20.495Z"
      },
      {
        "duration": 23,
        "start_time": "2022-08-29T22:26:20.514Z"
      },
      {
        "duration": 18,
        "start_time": "2022-08-29T22:26:20.539Z"
      },
      {
        "duration": 38,
        "start_time": "2022-08-29T22:26:20.558Z"
      },
      {
        "duration": 10,
        "start_time": "2022-08-29T22:26:20.598Z"
      },
      {
        "duration": 10,
        "start_time": "2022-08-29T22:26:20.610Z"
      },
      {
        "duration": 12,
        "start_time": "2022-08-29T22:26:20.621Z"
      },
      {
        "duration": 24,
        "start_time": "2022-08-29T22:26:20.634Z"
      },
      {
        "duration": 3,
        "start_time": "2022-08-29T22:26:20.660Z"
      },
      {
        "duration": 21,
        "start_time": "2022-08-29T22:26:20.666Z"
      },
      {
        "duration": 180,
        "start_time": "2022-08-29T22:26:20.689Z"
      },
      {
        "duration": 18,
        "start_time": "2022-08-29T22:26:20.870Z"
      },
      {
        "duration": 13,
        "start_time": "2022-08-29T22:26:20.889Z"
      },
      {
        "duration": 18,
        "start_time": "2022-08-29T22:26:20.903Z"
      },
      {
        "duration": 7,
        "start_time": "2022-08-29T22:26:20.923Z"
      },
      {
        "duration": 12,
        "start_time": "2022-08-29T22:26:20.932Z"
      },
      {
        "duration": 9,
        "start_time": "2022-08-29T22:26:20.946Z"
      },
      {
        "duration": 9,
        "start_time": "2022-08-29T22:26:20.957Z"
      },
      {
        "duration": 33,
        "start_time": "2022-08-29T22:26:20.967Z"
      },
      {
        "duration": 3,
        "start_time": "2022-08-29T22:26:21.002Z"
      },
      {
        "duration": 10,
        "start_time": "2022-08-29T22:26:21.007Z"
      },
      {
        "duration": 242,
        "start_time": "2022-08-29T22:26:21.018Z"
      },
      {
        "duration": 11,
        "start_time": "2022-08-29T22:26:21.262Z"
      },
      {
        "duration": 24,
        "start_time": "2022-08-29T22:26:21.275Z"
      },
      {
        "duration": 8,
        "start_time": "2022-08-29T22:26:21.301Z"
      },
      {
        "duration": 16,
        "start_time": "2022-08-29T22:26:21.310Z"
      },
      {
        "duration": 6,
        "start_time": "2022-08-29T22:26:21.328Z"
      },
      {
        "duration": 11,
        "start_time": "2022-08-29T22:26:21.335Z"
      },
      {
        "duration": 10,
        "start_time": "2022-08-29T22:26:21.348Z"
      },
      {
        "duration": 7,
        "start_time": "2022-08-29T22:26:21.386Z"
      },
      {
        "duration": 19,
        "start_time": "2022-08-29T22:26:21.394Z"
      },
      {
        "duration": 3,
        "start_time": "2022-08-29T22:26:21.414Z"
      },
      {
        "duration": 8,
        "start_time": "2022-08-29T22:26:21.419Z"
      },
      {
        "duration": 1410,
        "start_time": "2022-08-29T22:26:21.429Z"
      },
      {
        "duration": 28,
        "start_time": "2022-08-29T22:26:22.840Z"
      },
      {
        "duration": 27,
        "start_time": "2022-08-29T22:26:22.869Z"
      },
      {
        "duration": 11,
        "start_time": "2022-08-29T22:26:22.897Z"
      },
      {
        "duration": 14,
        "start_time": "2022-08-29T22:26:22.910Z"
      },
      {
        "duration": 6,
        "start_time": "2022-08-29T22:26:22.925Z"
      },
      {
        "duration": 16,
        "start_time": "2022-08-29T22:26:22.933Z"
      },
      {
        "duration": 3,
        "start_time": "2022-08-29T22:26:22.950Z"
      },
      {
        "duration": 36,
        "start_time": "2022-08-29T22:26:22.955Z"
      },
      {
        "duration": 202,
        "start_time": "2022-08-29T22:26:22.993Z"
      },
      {
        "duration": 11,
        "start_time": "2022-08-29T22:26:23.196Z"
      },
      {
        "duration": 13,
        "start_time": "2022-08-29T22:26:23.209Z"
      },
      {
        "duration": 12,
        "start_time": "2022-08-29T22:26:23.223Z"
      },
      {
        "duration": 14,
        "start_time": "2022-08-29T22:26:23.237Z"
      },
      {
        "duration": 36,
        "start_time": "2022-08-29T22:26:23.253Z"
      },
      {
        "duration": 16,
        "start_time": "2022-08-29T22:26:23.291Z"
      },
      {
        "duration": 13,
        "start_time": "2022-08-29T22:26:23.309Z"
      },
      {
        "duration": 14,
        "start_time": "2022-08-29T22:26:23.324Z"
      },
      {
        "duration": 14,
        "start_time": "2022-08-29T22:26:23.339Z"
      },
      {
        "duration": 369,
        "start_time": "2022-08-29T22:26:23.354Z"
      },
      {
        "duration": 14,
        "start_time": "2022-08-29T22:26:23.725Z"
      },
      {
        "duration": 230,
        "start_time": "2022-08-29T22:26:23.741Z"
      },
      {
        "duration": 0,
        "start_time": "2022-08-29T22:26:23.972Z"
      },
      {
        "duration": 0,
        "start_time": "2022-08-29T22:26:23.974Z"
      },
      {
        "duration": 0,
        "start_time": "2022-08-29T22:26:23.975Z"
      },
      {
        "duration": 0,
        "start_time": "2022-08-29T22:26:23.976Z"
      },
      {
        "duration": 0,
        "start_time": "2022-08-29T22:26:23.977Z"
      },
      {
        "duration": 0,
        "start_time": "2022-08-29T22:26:23.986Z"
      },
      {
        "duration": 1272,
        "start_time": "2022-08-29T22:28:10.709Z"
      },
      {
        "duration": 59,
        "start_time": "2022-08-29T22:28:11.983Z"
      },
      {
        "duration": 5,
        "start_time": "2022-08-29T22:28:12.044Z"
      },
      {
        "duration": 25,
        "start_time": "2022-08-29T22:28:12.052Z"
      },
      {
        "duration": 16,
        "start_time": "2022-08-29T22:28:12.079Z"
      },
      {
        "duration": 18,
        "start_time": "2022-08-29T22:28:12.096Z"
      },
      {
        "duration": 18,
        "start_time": "2022-08-29T22:28:12.116Z"
      },
      {
        "duration": 51,
        "start_time": "2022-08-29T22:28:12.136Z"
      },
      {
        "duration": 9,
        "start_time": "2022-08-29T22:28:12.189Z"
      },
      {
        "duration": 16,
        "start_time": "2022-08-29T22:28:12.201Z"
      },
      {
        "duration": 35,
        "start_time": "2022-08-29T22:28:12.219Z"
      },
      {
        "duration": 61,
        "start_time": "2022-08-29T22:28:12.256Z"
      },
      {
        "duration": 32,
        "start_time": "2022-08-29T22:28:12.318Z"
      },
      {
        "duration": 60,
        "start_time": "2022-08-29T22:28:12.352Z"
      },
      {
        "duration": 34,
        "start_time": "2022-08-29T22:28:12.413Z"
      },
      {
        "duration": 4,
        "start_time": "2022-08-29T22:28:12.449Z"
      },
      {
        "duration": 9,
        "start_time": "2022-08-29T22:28:12.455Z"
      },
      {
        "duration": 24,
        "start_time": "2022-08-29T22:28:12.465Z"
      },
      {
        "duration": 22,
        "start_time": "2022-08-29T22:28:12.491Z"
      },
      {
        "duration": 23,
        "start_time": "2022-08-29T22:28:12.515Z"
      },
      {
        "duration": 18,
        "start_time": "2022-08-29T22:28:12.540Z"
      },
      {
        "duration": 31,
        "start_time": "2022-08-29T22:28:12.560Z"
      },
      {
        "duration": 11,
        "start_time": "2022-08-29T22:28:12.593Z"
      },
      {
        "duration": 9,
        "start_time": "2022-08-29T22:28:12.606Z"
      },
      {
        "duration": 13,
        "start_time": "2022-08-29T22:28:12.617Z"
      },
      {
        "duration": 28,
        "start_time": "2022-08-29T22:28:12.632Z"
      },
      {
        "duration": 3,
        "start_time": "2022-08-29T22:28:12.662Z"
      },
      {
        "duration": 18,
        "start_time": "2022-08-29T22:28:12.670Z"
      },
      {
        "duration": 163,
        "start_time": "2022-08-29T22:28:12.690Z"
      },
      {
        "duration": 11,
        "start_time": "2022-08-29T22:28:12.854Z"
      },
      {
        "duration": 20,
        "start_time": "2022-08-29T22:28:12.867Z"
      },
      {
        "duration": 14,
        "start_time": "2022-08-29T22:28:12.889Z"
      },
      {
        "duration": 8,
        "start_time": "2022-08-29T22:28:12.904Z"
      },
      {
        "duration": 10,
        "start_time": "2022-08-29T22:28:12.914Z"
      },
      {
        "duration": 10,
        "start_time": "2022-08-29T22:28:12.926Z"
      },
      {
        "duration": 7,
        "start_time": "2022-08-29T22:28:12.938Z"
      },
      {
        "duration": 41,
        "start_time": "2022-08-29T22:28:12.946Z"
      },
      {
        "duration": 3,
        "start_time": "2022-08-29T22:28:12.989Z"
      },
      {
        "duration": 11,
        "start_time": "2022-08-29T22:28:12.994Z"
      },
      {
        "duration": 220,
        "start_time": "2022-08-29T22:28:13.006Z"
      },
      {
        "duration": 10,
        "start_time": "2022-08-29T22:28:13.228Z"
      },
      {
        "duration": 15,
        "start_time": "2022-08-29T22:28:13.240Z"
      },
      {
        "duration": 8,
        "start_time": "2022-08-29T22:28:13.257Z"
      },
      {
        "duration": 30,
        "start_time": "2022-08-29T22:28:13.266Z"
      },
      {
        "duration": 7,
        "start_time": "2022-08-29T22:28:13.297Z"
      },
      {
        "duration": 7,
        "start_time": "2022-08-29T22:28:13.306Z"
      },
      {
        "duration": 10,
        "start_time": "2022-08-29T22:28:13.315Z"
      },
      {
        "duration": 7,
        "start_time": "2022-08-29T22:28:13.326Z"
      },
      {
        "duration": 19,
        "start_time": "2022-08-29T22:28:13.335Z"
      },
      {
        "duration": 33,
        "start_time": "2022-08-29T22:28:13.356Z"
      },
      {
        "duration": 12,
        "start_time": "2022-08-29T22:28:13.391Z"
      },
      {
        "duration": 1450,
        "start_time": "2022-08-29T22:28:13.404Z"
      },
      {
        "duration": 24,
        "start_time": "2022-08-29T22:28:14.856Z"
      },
      {
        "duration": 18,
        "start_time": "2022-08-29T22:28:14.887Z"
      },
      {
        "duration": 14,
        "start_time": "2022-08-29T22:28:14.906Z"
      },
      {
        "duration": 13,
        "start_time": "2022-08-29T22:28:14.922Z"
      },
      {
        "duration": 8,
        "start_time": "2022-08-29T22:28:14.937Z"
      },
      {
        "duration": 44,
        "start_time": "2022-08-29T22:28:14.947Z"
      },
      {
        "duration": 4,
        "start_time": "2022-08-29T22:28:14.993Z"
      },
      {
        "duration": 11,
        "start_time": "2022-08-29T22:28:14.999Z"
      },
      {
        "duration": 224,
        "start_time": "2022-08-29T22:28:15.012Z"
      },
      {
        "duration": 9,
        "start_time": "2022-08-29T22:28:15.238Z"
      },
      {
        "duration": 16,
        "start_time": "2022-08-29T22:28:15.249Z"
      },
      {
        "duration": 22,
        "start_time": "2022-08-29T22:28:15.266Z"
      },
      {
        "duration": 15,
        "start_time": "2022-08-29T22:28:15.289Z"
      },
      {
        "duration": 4,
        "start_time": "2022-08-29T22:28:15.306Z"
      },
      {
        "duration": 22,
        "start_time": "2022-08-29T22:28:15.312Z"
      },
      {
        "duration": 15,
        "start_time": "2022-08-29T22:28:15.336Z"
      },
      {
        "duration": 41,
        "start_time": "2022-08-29T22:28:15.353Z"
      },
      {
        "duration": 14,
        "start_time": "2022-08-29T22:28:15.396Z"
      },
      {
        "duration": 369,
        "start_time": "2022-08-29T22:28:15.412Z"
      },
      {
        "duration": 15,
        "start_time": "2022-08-29T22:28:15.787Z"
      },
      {
        "duration": 204,
        "start_time": "2022-08-29T22:28:15.804Z"
      },
      {
        "duration": 0,
        "start_time": "2022-08-29T22:28:16.011Z"
      },
      {
        "duration": 0,
        "start_time": "2022-08-29T22:28:16.012Z"
      },
      {
        "duration": 0,
        "start_time": "2022-08-29T22:28:16.013Z"
      },
      {
        "duration": 0,
        "start_time": "2022-08-29T22:28:16.014Z"
      },
      {
        "duration": 0,
        "start_time": "2022-08-29T22:28:16.015Z"
      },
      {
        "duration": 0,
        "start_time": "2022-08-29T22:28:16.016Z"
      },
      {
        "duration": 9806,
        "start_time": "2022-08-29T22:28:23.325Z"
      },
      {
        "duration": 1156,
        "start_time": "2022-08-29T22:29:47.524Z"
      },
      {
        "duration": 54,
        "start_time": "2022-08-29T22:29:48.682Z"
      },
      {
        "duration": 5,
        "start_time": "2022-08-29T22:29:48.738Z"
      },
      {
        "duration": 19,
        "start_time": "2022-08-29T22:29:48.745Z"
      },
      {
        "duration": 15,
        "start_time": "2022-08-29T22:29:48.765Z"
      },
      {
        "duration": 20,
        "start_time": "2022-08-29T22:29:48.781Z"
      },
      {
        "duration": 17,
        "start_time": "2022-08-29T22:29:48.802Z"
      },
      {
        "duration": 29,
        "start_time": "2022-08-29T22:29:48.820Z"
      },
      {
        "duration": 37,
        "start_time": "2022-08-29T22:29:48.851Z"
      },
      {
        "duration": 11,
        "start_time": "2022-08-29T22:29:48.890Z"
      },
      {
        "duration": 33,
        "start_time": "2022-08-29T22:29:48.902Z"
      },
      {
        "duration": 71,
        "start_time": "2022-08-29T22:29:48.937Z"
      },
      {
        "duration": 33,
        "start_time": "2022-08-29T22:29:49.010Z"
      },
      {
        "duration": 59,
        "start_time": "2022-08-29T22:29:49.044Z"
      },
      {
        "duration": 32,
        "start_time": "2022-08-29T22:29:49.105Z"
      },
      {
        "duration": 4,
        "start_time": "2022-08-29T22:29:49.138Z"
      },
      {
        "duration": 7,
        "start_time": "2022-08-29T22:29:49.144Z"
      },
      {
        "duration": 7,
        "start_time": "2022-08-29T22:29:49.153Z"
      },
      {
        "duration": 35,
        "start_time": "2022-08-29T22:29:49.162Z"
      },
      {
        "duration": 28,
        "start_time": "2022-08-29T22:29:49.199Z"
      },
      {
        "duration": 22,
        "start_time": "2022-08-29T22:29:49.229Z"
      },
      {
        "duration": 35,
        "start_time": "2022-08-29T22:29:49.252Z"
      },
      {
        "duration": 8,
        "start_time": "2022-08-29T22:29:49.289Z"
      },
      {
        "duration": 8,
        "start_time": "2022-08-29T22:29:49.298Z"
      },
      {
        "duration": 8,
        "start_time": "2022-08-29T22:29:49.308Z"
      },
      {
        "duration": 20,
        "start_time": "2022-08-29T22:29:49.318Z"
      },
      {
        "duration": 3,
        "start_time": "2022-08-29T22:29:49.340Z"
      },
      {
        "duration": 5,
        "start_time": "2022-08-29T22:29:49.347Z"
      },
      {
        "duration": 180,
        "start_time": "2022-08-29T22:29:49.353Z"
      },
      {
        "duration": 11,
        "start_time": "2022-08-29T22:29:49.534Z"
      },
      {
        "duration": 6,
        "start_time": "2022-08-29T22:29:49.546Z"
      },
      {
        "duration": 16,
        "start_time": "2022-08-29T22:29:49.553Z"
      },
      {
        "duration": 21,
        "start_time": "2022-08-29T22:29:49.570Z"
      },
      {
        "duration": 10,
        "start_time": "2022-08-29T22:29:49.592Z"
      },
      {
        "duration": 9,
        "start_time": "2022-08-29T22:29:49.603Z"
      },
      {
        "duration": 6,
        "start_time": "2022-08-29T22:29:49.613Z"
      },
      {
        "duration": 17,
        "start_time": "2022-08-29T22:29:49.621Z"
      },
      {
        "duration": 3,
        "start_time": "2022-08-29T22:29:49.639Z"
      },
      {
        "duration": 14,
        "start_time": "2022-08-29T22:29:49.644Z"
      },
      {
        "duration": 218,
        "start_time": "2022-08-29T22:29:49.659Z"
      },
      {
        "duration": 14,
        "start_time": "2022-08-29T22:29:49.879Z"
      },
      {
        "duration": 13,
        "start_time": "2022-08-29T22:29:49.894Z"
      },
      {
        "duration": 7,
        "start_time": "2022-08-29T22:29:49.909Z"
      },
      {
        "duration": 13,
        "start_time": "2022-08-29T22:29:49.917Z"
      },
      {
        "duration": 5,
        "start_time": "2022-08-29T22:29:49.932Z"
      },
      {
        "duration": 11,
        "start_time": "2022-08-29T22:29:49.938Z"
      },
      {
        "duration": 42,
        "start_time": "2022-08-29T22:29:49.950Z"
      },
      {
        "duration": 6,
        "start_time": "2022-08-29T22:29:49.994Z"
      },
      {
        "duration": 24,
        "start_time": "2022-08-29T22:29:50.001Z"
      },
      {
        "duration": 4,
        "start_time": "2022-08-29T22:29:50.026Z"
      },
      {
        "duration": 11,
        "start_time": "2022-08-29T22:29:50.031Z"
      },
      {
        "duration": 1413,
        "start_time": "2022-08-29T22:29:50.044Z"
      },
      {
        "duration": 30,
        "start_time": "2022-08-29T22:29:51.458Z"
      },
      {
        "duration": 17,
        "start_time": "2022-08-29T22:29:51.490Z"
      },
      {
        "duration": 11,
        "start_time": "2022-08-29T22:29:51.509Z"
      },
      {
        "duration": 18,
        "start_time": "2022-08-29T22:29:51.521Z"
      },
      {
        "duration": 11,
        "start_time": "2022-08-29T22:29:51.541Z"
      },
      {
        "duration": 36,
        "start_time": "2022-08-29T22:29:51.554Z"
      },
      {
        "duration": 3,
        "start_time": "2022-08-29T22:29:51.592Z"
      },
      {
        "duration": 8,
        "start_time": "2022-08-29T22:29:51.597Z"
      },
      {
        "duration": 205,
        "start_time": "2022-08-29T22:29:51.606Z"
      },
      {
        "duration": 11,
        "start_time": "2022-08-29T22:29:51.812Z"
      },
      {
        "duration": 30,
        "start_time": "2022-08-29T22:29:51.824Z"
      },
      {
        "duration": 11,
        "start_time": "2022-08-29T22:29:51.856Z"
      },
      {
        "duration": 15,
        "start_time": "2022-08-29T22:29:51.869Z"
      },
      {
        "duration": 4,
        "start_time": "2022-08-29T22:29:51.887Z"
      },
      {
        "duration": 29,
        "start_time": "2022-08-29T22:29:51.893Z"
      },
      {
        "duration": 25,
        "start_time": "2022-08-29T22:29:51.924Z"
      },
      {
        "duration": 19,
        "start_time": "2022-08-29T22:29:51.951Z"
      },
      {
        "duration": 25,
        "start_time": "2022-08-29T22:29:51.972Z"
      },
      {
        "duration": 352,
        "start_time": "2022-08-29T22:29:51.999Z"
      },
      {
        "duration": 15,
        "start_time": "2022-08-29T22:29:52.353Z"
      },
      {
        "duration": 3,
        "start_time": "2022-08-29T22:29:52.369Z"
      },
      {
        "duration": 177,
        "start_time": "2022-08-29T22:29:52.388Z"
      },
      {
        "duration": 191,
        "start_time": "2022-08-29T22:29:52.566Z"
      },
      {
        "duration": 191,
        "start_time": "2022-08-29T22:29:52.758Z"
      },
      {
        "duration": 170,
        "start_time": "2022-08-29T22:29:52.950Z"
      },
      {
        "duration": 184,
        "start_time": "2022-08-29T22:29:53.122Z"
      },
      {
        "duration": 3,
        "start_time": "2022-08-29T22:54:07.310Z"
      },
      {
        "duration": 171,
        "start_time": "2022-08-29T22:54:09.193Z"
      },
      {
        "duration": 262,
        "start_time": "2022-08-29T22:54:18.003Z"
      },
      {
        "duration": 171,
        "start_time": "2022-08-29T22:54:20.710Z"
      },
      {
        "duration": 158,
        "start_time": "2022-08-29T22:54:22.588Z"
      },
      {
        "duration": 168,
        "start_time": "2022-08-29T22:54:24.373Z"
      },
      {
        "duration": 6,
        "start_time": "2022-08-30T01:07:28.771Z"
      },
      {
        "duration": 11,
        "start_time": "2022-08-30T01:07:37.631Z"
      },
      {
        "duration": 6,
        "start_time": "2022-08-30T01:07:53.346Z"
      },
      {
        "duration": 12,
        "start_time": "2022-08-30T01:07:54.211Z"
      },
      {
        "duration": 7,
        "start_time": "2022-08-30T01:10:41.593Z"
      },
      {
        "duration": 14,
        "start_time": "2022-08-30T01:10:42.480Z"
      },
      {
        "duration": 93,
        "start_time": "2022-08-30T01:40:32.936Z"
      },
      {
        "duration": 13,
        "start_time": "2022-08-30T01:40:38.109Z"
      },
      {
        "duration": 2556,
        "start_time": "2022-08-30T01:40:50.105Z"
      },
      {
        "duration": 12,
        "start_time": "2022-08-30T01:41:02.224Z"
      },
      {
        "duration": 5292,
        "start_time": "2022-08-30T01:51:30.011Z"
      },
      {
        "duration": 2557,
        "start_time": "2022-08-30T01:51:46.400Z"
      },
      {
        "duration": 2584,
        "start_time": "2022-08-30T01:51:58.803Z"
      },
      {
        "duration": 2673,
        "start_time": "2022-08-30T01:55:01.610Z"
      },
      {
        "duration": 2638,
        "start_time": "2022-08-30T01:55:11.174Z"
      },
      {
        "duration": 2605,
        "start_time": "2022-08-30T01:55:20.827Z"
      },
      {
        "duration": 2620,
        "start_time": "2022-08-30T01:55:25.949Z"
      },
      {
        "duration": 2802,
        "start_time": "2022-08-30T01:56:21.160Z"
      },
      {
        "duration": 36,
        "start_time": "2022-08-30T02:02:04.458Z"
      },
      {
        "duration": 13,
        "start_time": "2022-08-30T02:02:13.253Z"
      },
      {
        "duration": 22,
        "start_time": "2022-08-30T02:02:18.074Z"
      },
      {
        "duration": 8,
        "start_time": "2022-08-30T02:03:09.508Z"
      },
      {
        "duration": 337,
        "start_time": "2022-08-30T02:03:16.741Z"
      },
      {
        "duration": 486,
        "start_time": "2022-08-30T02:03:49.438Z"
      },
      {
        "duration": 291,
        "start_time": "2022-08-30T02:03:57.100Z"
      },
      {
        "duration": 326,
        "start_time": "2022-08-30T02:04:33.800Z"
      },
      {
        "duration": 353,
        "start_time": "2022-08-30T02:08:03.482Z"
      },
      {
        "duration": 320,
        "start_time": "2022-08-30T02:08:15.267Z"
      },
      {
        "duration": 357,
        "start_time": "2022-08-30T02:08:22.180Z"
      },
      {
        "duration": 475,
        "start_time": "2022-08-30T02:08:31.276Z"
      },
      {
        "duration": 406,
        "start_time": "2022-08-30T02:09:08.866Z"
      },
      {
        "duration": 366,
        "start_time": "2022-08-30T02:09:24.014Z"
      },
      {
        "duration": 354,
        "start_time": "2022-08-30T02:10:19.230Z"
      },
      {
        "duration": 384,
        "start_time": "2022-08-30T02:10:38.451Z"
      },
      {
        "duration": 60,
        "start_time": "2022-08-30T02:11:31.995Z"
      },
      {
        "duration": 329,
        "start_time": "2022-08-30T02:11:38.450Z"
      },
      {
        "duration": 289,
        "start_time": "2022-08-30T02:11:52.714Z"
      },
      {
        "duration": 33,
        "start_time": "2022-08-30T02:23:34.972Z"
      },
      {
        "duration": 31,
        "start_time": "2022-08-30T02:26:42.755Z"
      },
      {
        "duration": 32,
        "start_time": "2022-08-30T02:26:56.683Z"
      },
      {
        "duration": 290,
        "start_time": "2022-08-30T02:27:50.742Z"
      },
      {
        "duration": 200,
        "start_time": "2022-08-30T02:27:59.799Z"
      },
      {
        "duration": 196,
        "start_time": "2022-08-30T02:28:11.634Z"
      },
      {
        "duration": 185,
        "start_time": "2022-08-30T02:28:16.362Z"
      },
      {
        "duration": 184,
        "start_time": "2022-08-30T02:28:35.989Z"
      },
      {
        "duration": 31,
        "start_time": "2022-08-30T02:28:50.076Z"
      },
      {
        "duration": 183,
        "start_time": "2022-08-30T02:28:53.474Z"
      },
      {
        "duration": 33,
        "start_time": "2022-08-30T02:29:03.422Z"
      },
      {
        "duration": 195,
        "start_time": "2022-08-30T02:29:06.813Z"
      },
      {
        "duration": 211,
        "start_time": "2022-08-30T02:30:03.307Z"
      },
      {
        "duration": 222,
        "start_time": "2022-08-30T02:30:17.517Z"
      },
      {
        "duration": 199,
        "start_time": "2022-08-30T02:30:39.328Z"
      },
      {
        "duration": 212,
        "start_time": "2022-08-30T02:30:57.637Z"
      },
      {
        "duration": 211,
        "start_time": "2022-08-30T02:31:49.210Z"
      },
      {
        "duration": 215,
        "start_time": "2022-08-30T02:34:42.590Z"
      },
      {
        "duration": 224,
        "start_time": "2022-08-30T02:35:18.915Z"
      },
      {
        "duration": 226,
        "start_time": "2022-08-30T02:35:29.923Z"
      },
      {
        "duration": 210,
        "start_time": "2022-08-30T02:35:51.725Z"
      },
      {
        "duration": 225,
        "start_time": "2022-08-30T02:35:56.473Z"
      },
      {
        "duration": 125,
        "start_time": "2022-08-30T02:39:44.754Z"
      },
      {
        "duration": 221,
        "start_time": "2022-08-30T02:40:07.068Z"
      },
      {
        "duration": 208,
        "start_time": "2022-08-30T02:40:28.407Z"
      },
      {
        "duration": 215,
        "start_time": "2022-08-30T02:40:45.971Z"
      },
      {
        "duration": 208,
        "start_time": "2022-08-30T02:40:57.143Z"
      },
      {
        "duration": 210,
        "start_time": "2022-08-30T02:41:31.001Z"
      },
      {
        "duration": 207,
        "start_time": "2022-08-30T02:41:42.152Z"
      },
      {
        "duration": 4,
        "start_time": "2022-08-30T02:42:03.440Z"
      },
      {
        "duration": 228,
        "start_time": "2022-08-30T02:42:06.847Z"
      },
      {
        "duration": 215,
        "start_time": "2022-08-30T02:42:19.090Z"
      },
      {
        "duration": 235,
        "start_time": "2022-08-30T02:42:46.196Z"
      },
      {
        "duration": 225,
        "start_time": "2022-08-30T02:43:11.557Z"
      },
      {
        "duration": 205,
        "start_time": "2022-08-30T02:43:24.164Z"
      },
      {
        "duration": 202,
        "start_time": "2022-08-30T02:43:49.140Z"
      },
      {
        "duration": 216,
        "start_time": "2022-08-30T02:43:59.620Z"
      },
      {
        "duration": 231,
        "start_time": "2022-08-30T02:56:07.018Z"
      },
      {
        "duration": 233,
        "start_time": "2022-08-30T02:56:14.355Z"
      },
      {
        "duration": 4,
        "start_time": "2022-08-30T03:54:54.952Z"
      },
      {
        "duration": 68,
        "start_time": "2022-08-30T03:56:30.779Z"
      },
      {
        "duration": 9,
        "start_time": "2022-08-30T03:56:35.201Z"
      },
      {
        "duration": 8,
        "start_time": "2022-08-30T03:56:40.460Z"
      },
      {
        "duration": 3,
        "start_time": "2022-08-30T03:56:46.742Z"
      },
      {
        "duration": 1875,
        "start_time": "2022-08-30T03:56:47.499Z"
      },
      {
        "duration": 229,
        "start_time": "2022-08-30T03:58:40.076Z"
      },
      {
        "duration": 208,
        "start_time": "2022-08-30T03:58:54.653Z"
      },
      {
        "duration": 233,
        "start_time": "2022-08-30T03:59:02.053Z"
      },
      {
        "duration": 13,
        "start_time": "2022-08-30T04:00:33.980Z"
      },
      {
        "duration": 248,
        "start_time": "2022-08-30T04:07:23.463Z"
      },
      {
        "duration": 52,
        "start_time": "2022-08-30T04:08:09.529Z"
      },
      {
        "duration": 136,
        "start_time": "2022-08-30T04:08:13.597Z"
      },
      {
        "duration": 259,
        "start_time": "2022-08-30T04:10:58.347Z"
      },
      {
        "duration": 255,
        "start_time": "2022-08-30T04:11:37.271Z"
      },
      {
        "duration": 320,
        "start_time": "2022-08-30T04:12:43.693Z"
      },
      {
        "duration": 493,
        "start_time": "2022-08-30T04:13:20.696Z"
      },
      {
        "duration": 399,
        "start_time": "2022-08-30T04:13:26.970Z"
      },
      {
        "duration": 446,
        "start_time": "2022-08-30T04:14:11.573Z"
      },
      {
        "duration": 476,
        "start_time": "2022-08-30T04:14:16.169Z"
      },
      {
        "duration": 459,
        "start_time": "2022-08-30T04:14:26.129Z"
      },
      {
        "duration": 478,
        "start_time": "2022-08-30T04:16:11.755Z"
      },
      {
        "duration": 506,
        "start_time": "2022-08-30T04:17:00.042Z"
      },
      {
        "duration": 510,
        "start_time": "2022-08-30T04:17:18.591Z"
      },
      {
        "duration": 488,
        "start_time": "2022-08-30T04:17:51.194Z"
      },
      {
        "duration": 514,
        "start_time": "2022-08-30T04:18:14.666Z"
      },
      {
        "duration": 509,
        "start_time": "2022-08-30T04:18:38.628Z"
      },
      {
        "duration": 530,
        "start_time": "2022-08-30T04:19:25.957Z"
      },
      {
        "duration": 881,
        "start_time": "2022-08-30T04:19:30.595Z"
      },
      {
        "duration": 498,
        "start_time": "2022-08-30T04:21:59.456Z"
      },
      {
        "duration": 515,
        "start_time": "2022-08-30T04:22:08.958Z"
      },
      {
        "duration": 553,
        "start_time": "2022-08-30T04:23:16.012Z"
      },
      {
        "duration": 363,
        "start_time": "2022-08-30T04:24:03.657Z"
      },
      {
        "duration": 522,
        "start_time": "2022-08-30T04:24:09.163Z"
      },
      {
        "duration": 521,
        "start_time": "2022-08-30T04:24:24.247Z"
      },
      {
        "duration": 524,
        "start_time": "2022-08-30T04:24:45.201Z"
      },
      {
        "duration": 539,
        "start_time": "2022-08-30T04:24:55.618Z"
      },
      {
        "duration": 551,
        "start_time": "2022-08-30T04:25:11.734Z"
      },
      {
        "duration": 540,
        "start_time": "2022-08-30T04:25:20.067Z"
      },
      {
        "duration": 583,
        "start_time": "2022-08-30T04:25:25.856Z"
      },
      {
        "duration": 540,
        "start_time": "2022-08-30T04:25:34.935Z"
      },
      {
        "duration": 554,
        "start_time": "2022-08-30T04:25:39.702Z"
      },
      {
        "duration": 550,
        "start_time": "2022-08-30T04:25:45.702Z"
      },
      {
        "duration": 547,
        "start_time": "2022-08-30T04:29:21.929Z"
      },
      {
        "duration": 513,
        "start_time": "2022-08-30T04:29:49.201Z"
      },
      {
        "duration": 507,
        "start_time": "2022-08-30T04:30:42.638Z"
      },
      {
        "duration": 504,
        "start_time": "2022-08-30T04:31:24.555Z"
      },
      {
        "duration": 1092,
        "start_time": "2022-08-30T04:31:58.327Z"
      },
      {
        "duration": 536,
        "start_time": "2022-08-30T04:32:14.803Z"
      },
      {
        "duration": 490,
        "start_time": "2022-08-30T04:32:20.065Z"
      },
      {
        "duration": 497,
        "start_time": "2022-08-30T04:32:28.165Z"
      },
      {
        "duration": 664,
        "start_time": "2022-08-30T04:33:17.677Z"
      },
      {
        "duration": 677,
        "start_time": "2022-08-30T04:34:11.208Z"
      },
      {
        "duration": 604,
        "start_time": "2022-08-30T04:34:21.328Z"
      },
      {
        "duration": 682,
        "start_time": "2022-08-30T04:34:26.284Z"
      },
      {
        "duration": 684,
        "start_time": "2022-08-30T04:34:42.160Z"
      },
      {
        "duration": 46,
        "start_time": "2022-08-30T04:35:48.416Z"
      },
      {
        "duration": 730,
        "start_time": "2022-08-30T04:35:53.502Z"
      },
      {
        "duration": 741,
        "start_time": "2022-08-30T04:37:09.545Z"
      },
      {
        "duration": 768,
        "start_time": "2022-08-30T04:38:01.604Z"
      },
      {
        "duration": 751,
        "start_time": "2022-08-30T04:39:00.009Z"
      },
      {
        "duration": 735,
        "start_time": "2022-08-30T04:39:28.553Z"
      },
      {
        "duration": 702,
        "start_time": "2022-08-30T04:39:37.858Z"
      },
      {
        "duration": 745,
        "start_time": "2022-08-30T04:39:43.855Z"
      },
      {
        "duration": 1316,
        "start_time": "2022-08-30T04:39:59.887Z"
      },
      {
        "duration": 736,
        "start_time": "2022-08-30T04:43:39.825Z"
      },
      {
        "duration": 779,
        "start_time": "2022-08-30T04:43:46.157Z"
      },
      {
        "duration": 4,
        "start_time": "2022-08-30T04:44:35.740Z"
      },
      {
        "duration": 14,
        "start_time": "2022-08-30T04:46:07.074Z"
      },
      {
        "duration": 5,
        "start_time": "2022-08-30T04:46:21.040Z"
      },
      {
        "duration": 5,
        "start_time": "2022-08-30T04:46:27.184Z"
      },
      {
        "duration": 14,
        "start_time": "2022-08-30T04:46:31.847Z"
      },
      {
        "duration": 599,
        "start_time": "2022-08-30T04:46:35.763Z"
      },
      {
        "duration": 14,
        "start_time": "2022-08-30T04:47:04.406Z"
      },
      {
        "duration": 726,
        "start_time": "2022-08-30T04:47:24.050Z"
      },
      {
        "duration": 753,
        "start_time": "2022-08-30T04:47:33.821Z"
      },
      {
        "duration": 765,
        "start_time": "2022-08-30T04:47:47.004Z"
      },
      {
        "duration": 788,
        "start_time": "2022-08-30T04:47:59.231Z"
      },
      {
        "duration": 807,
        "start_time": "2022-08-30T04:48:25.869Z"
      },
      {
        "duration": 758,
        "start_time": "2022-08-30T04:48:32.629Z"
      },
      {
        "duration": 4,
        "start_time": "2022-08-30T04:49:18.204Z"
      },
      {
        "duration": 762,
        "start_time": "2022-08-30T04:54:43.238Z"
      },
      {
        "duration": 551,
        "start_time": "2022-08-30T04:54:48.113Z"
      },
      {
        "duration": 790,
        "start_time": "2022-08-30T04:55:02.634Z"
      },
      {
        "duration": 765,
        "start_time": "2022-08-30T05:01:04.097Z"
      },
      {
        "duration": 166,
        "start_time": "2022-08-30T05:04:06.831Z"
      },
      {
        "duration": 4,
        "start_time": "2022-08-30T05:04:10.208Z"
      },
      {
        "duration": 169,
        "start_time": "2022-08-30T05:04:11.883Z"
      },
      {
        "duration": 4,
        "start_time": "2022-08-30T05:04:24.187Z"
      },
      {
        "duration": 157,
        "start_time": "2022-08-30T05:04:25.836Z"
      },
      {
        "duration": 1025,
        "start_time": "2022-08-30T05:06:46.946Z"
      },
      {
        "duration": 55,
        "start_time": "2022-08-30T05:06:47.973Z"
      },
      {
        "duration": 5,
        "start_time": "2022-08-30T05:06:48.030Z"
      },
      {
        "duration": 19,
        "start_time": "2022-08-30T05:06:48.036Z"
      },
      {
        "duration": 14,
        "start_time": "2022-08-30T05:06:48.056Z"
      },
      {
        "duration": 20,
        "start_time": "2022-08-30T05:06:48.072Z"
      },
      {
        "duration": 17,
        "start_time": "2022-08-30T05:06:48.094Z"
      },
      {
        "duration": 27,
        "start_time": "2022-08-30T05:06:48.113Z"
      },
      {
        "duration": 8,
        "start_time": "2022-08-30T05:06:48.141Z"
      },
      {
        "duration": 35,
        "start_time": "2022-08-30T05:06:48.152Z"
      },
      {
        "duration": 33,
        "start_time": "2022-08-30T05:06:48.188Z"
      },
      {
        "duration": 35,
        "start_time": "2022-08-30T05:06:48.223Z"
      },
      {
        "duration": 53,
        "start_time": "2022-08-30T05:06:48.259Z"
      },
      {
        "duration": 29,
        "start_time": "2022-08-30T05:06:48.314Z"
      },
      {
        "duration": 58,
        "start_time": "2022-08-30T05:06:48.345Z"
      },
      {
        "duration": 5,
        "start_time": "2022-08-30T05:06:48.405Z"
      },
      {
        "duration": 4,
        "start_time": "2022-08-30T05:06:48.412Z"
      },
      {
        "duration": 5,
        "start_time": "2022-08-30T05:06:48.418Z"
      },
      {
        "duration": 17,
        "start_time": "2022-08-30T05:06:48.424Z"
      },
      {
        "duration": 17,
        "start_time": "2022-08-30T05:06:48.442Z"
      },
      {
        "duration": 43,
        "start_time": "2022-08-30T05:06:48.460Z"
      },
      {
        "duration": 11,
        "start_time": "2022-08-30T05:06:48.505Z"
      },
      {
        "duration": 7,
        "start_time": "2022-08-30T05:06:48.518Z"
      },
      {
        "duration": 5,
        "start_time": "2022-08-30T05:06:48.526Z"
      },
      {
        "duration": 5,
        "start_time": "2022-08-30T05:06:48.533Z"
      },
      {
        "duration": 54,
        "start_time": "2022-08-30T05:06:48.540Z"
      },
      {
        "duration": 3,
        "start_time": "2022-08-30T05:06:48.596Z"
      },
      {
        "duration": 7,
        "start_time": "2022-08-30T05:06:48.604Z"
      },
      {
        "duration": 163,
        "start_time": "2022-08-30T05:06:48.613Z"
      },
      {
        "duration": 12,
        "start_time": "2022-08-30T05:06:48.778Z"
      },
      {
        "duration": 8,
        "start_time": "2022-08-30T05:06:48.792Z"
      },
      {
        "duration": 17,
        "start_time": "2022-08-30T05:06:48.801Z"
      },
      {
        "duration": 7,
        "start_time": "2022-08-30T05:06:48.819Z"
      },
      {
        "duration": 22,
        "start_time": "2022-08-30T05:06:48.827Z"
      },
      {
        "duration": 16,
        "start_time": "2022-08-30T05:06:48.851Z"
      },
      {
        "duration": 9,
        "start_time": "2022-08-30T05:06:48.869Z"
      },
      {
        "duration": 18,
        "start_time": "2022-08-30T05:06:48.880Z"
      },
      {
        "duration": 3,
        "start_time": "2022-08-30T05:06:48.899Z"
      },
      {
        "duration": 20,
        "start_time": "2022-08-30T05:06:48.903Z"
      },
      {
        "duration": 211,
        "start_time": "2022-08-30T05:06:48.924Z"
      },
      {
        "duration": 9,
        "start_time": "2022-08-30T05:06:49.137Z"
      },
      {
        "duration": 14,
        "start_time": "2022-08-30T05:06:49.148Z"
      },
      {
        "duration": 6,
        "start_time": "2022-08-30T05:06:49.163Z"
      },
      {
        "duration": 11,
        "start_time": "2022-08-30T05:06:49.187Z"
      },
      {
        "duration": 7,
        "start_time": "2022-08-30T05:06:49.200Z"
      },
      {
        "duration": 11,
        "start_time": "2022-08-30T05:06:49.209Z"
      },
      {
        "duration": 12,
        "start_time": "2022-08-30T05:06:49.221Z"
      },
      {
        "duration": 6,
        "start_time": "2022-08-30T05:06:49.234Z"
      },
      {
        "duration": 19,
        "start_time": "2022-08-30T05:06:49.241Z"
      },
      {
        "duration": 4,
        "start_time": "2022-08-30T05:06:49.286Z"
      },
      {
        "duration": 8,
        "start_time": "2022-08-30T05:06:49.291Z"
      },
      {
        "duration": 1409,
        "start_time": "2022-08-30T05:06:49.301Z"
      },
      {
        "duration": 26,
        "start_time": "2022-08-30T05:06:50.712Z"
      },
      {
        "duration": 16,
        "start_time": "2022-08-30T05:06:50.740Z"
      },
      {
        "duration": 30,
        "start_time": "2022-08-30T05:06:50.758Z"
      },
      {
        "duration": 12,
        "start_time": "2022-08-30T05:06:50.790Z"
      },
      {
        "duration": 6,
        "start_time": "2022-08-30T05:06:50.804Z"
      },
      {
        "duration": 17,
        "start_time": "2022-08-30T05:06:50.812Z"
      },
      {
        "duration": 4,
        "start_time": "2022-08-30T05:06:50.830Z"
      },
      {
        "duration": 9,
        "start_time": "2022-08-30T05:06:50.835Z"
      },
      {
        "duration": 216,
        "start_time": "2022-08-30T05:06:50.845Z"
      },
      {
        "duration": 9,
        "start_time": "2022-08-30T05:06:51.063Z"
      },
      {
        "duration": 24,
        "start_time": "2022-08-30T05:06:51.074Z"
      },
      {
        "duration": 11,
        "start_time": "2022-08-30T05:06:51.100Z"
      },
      {
        "duration": 16,
        "start_time": "2022-08-30T05:06:51.113Z"
      },
      {
        "duration": 5,
        "start_time": "2022-08-30T05:06:51.130Z"
      },
      {
        "duration": 16,
        "start_time": "2022-08-30T05:06:51.136Z"
      },
      {
        "duration": 36,
        "start_time": "2022-08-30T05:06:51.154Z"
      },
      {
        "duration": 15,
        "start_time": "2022-08-30T05:06:51.192Z"
      },
      {
        "duration": 12,
        "start_time": "2022-08-30T05:06:51.209Z"
      },
      {
        "duration": 347,
        "start_time": "2022-08-30T05:06:51.223Z"
      },
      {
        "duration": 21,
        "start_time": "2022-08-30T05:06:51.572Z"
      },
      {
        "duration": 4,
        "start_time": "2022-08-30T05:06:51.594Z"
      },
      {
        "duration": 179,
        "start_time": "2022-08-30T05:06:51.600Z"
      },
      {
        "duration": 186,
        "start_time": "2022-08-30T05:06:51.781Z"
      },
      {
        "duration": 174,
        "start_time": "2022-08-30T05:06:51.969Z"
      },
      {
        "duration": 162,
        "start_time": "2022-08-30T05:06:52.144Z"
      },
      {
        "duration": 186,
        "start_time": "2022-08-30T05:06:52.307Z"
      },
      {
        "duration": 5,
        "start_time": "2022-08-30T05:06:52.495Z"
      },
      {
        "duration": 16,
        "start_time": "2022-08-30T05:06:52.502Z"
      },
      {
        "duration": 30,
        "start_time": "2022-08-30T05:06:52.520Z"
      },
      {
        "duration": 260,
        "start_time": "2022-08-30T05:06:52.554Z"
      },
      {
        "duration": 204,
        "start_time": "2022-08-30T05:06:52.816Z"
      },
      {
        "duration": 4,
        "start_time": "2022-08-30T05:06:53.022Z"
      },
      {
        "duration": 868,
        "start_time": "2022-08-30T05:06:53.027Z"
      },
      {
        "duration": 6,
        "start_time": "2022-08-30T05:37:00.917Z"
      },
      {
        "duration": 46,
        "start_time": "2022-08-30T05:38:20.310Z"
      },
      {
        "duration": 11,
        "start_time": "2022-08-30T05:38:23.877Z"
      },
      {
        "duration": 143,
        "start_time": "2022-08-30T05:38:41.690Z"
      },
      {
        "duration": 180,
        "start_time": "2022-08-30T05:39:06.549Z"
      },
      {
        "duration": 147,
        "start_time": "2022-08-30T05:40:10.526Z"
      },
      {
        "duration": 184,
        "start_time": "2022-08-30T05:40:46.183Z"
      },
      {
        "duration": 72,
        "start_time": "2022-08-30T05:41:19.463Z"
      },
      {
        "duration": 145,
        "start_time": "2022-08-30T05:41:35.360Z"
      },
      {
        "duration": 150,
        "start_time": "2022-08-30T05:42:36.328Z"
      },
      {
        "duration": 165,
        "start_time": "2022-08-30T05:42:48.270Z"
      },
      {
        "duration": 157,
        "start_time": "2022-08-30T05:42:54.851Z"
      },
      {
        "duration": 230,
        "start_time": "2022-08-30T05:42:59.532Z"
      },
      {
        "duration": 177,
        "start_time": "2022-08-30T05:43:05.713Z"
      },
      {
        "duration": 162,
        "start_time": "2022-08-30T05:45:53.409Z"
      },
      {
        "duration": 172,
        "start_time": "2022-08-30T05:46:07.941Z"
      },
      {
        "duration": 51,
        "start_time": "2022-08-30T20:30:39.811Z"
      },
      {
        "duration": 1332,
        "start_time": "2022-08-30T20:30:46.940Z"
      },
      {
        "duration": 202,
        "start_time": "2022-08-30T20:30:48.274Z"
      },
      {
        "duration": 6,
        "start_time": "2022-08-30T20:30:48.477Z"
      },
      {
        "duration": 23,
        "start_time": "2022-08-30T20:30:48.486Z"
      },
      {
        "duration": 15,
        "start_time": "2022-08-30T20:30:48.511Z"
      },
      {
        "duration": 22,
        "start_time": "2022-08-30T20:30:48.528Z"
      },
      {
        "duration": 17,
        "start_time": "2022-08-30T20:30:48.552Z"
      },
      {
        "duration": 51,
        "start_time": "2022-08-30T20:30:48.570Z"
      },
      {
        "duration": 10,
        "start_time": "2022-08-30T20:30:48.622Z"
      },
      {
        "duration": 12,
        "start_time": "2022-08-30T20:30:48.635Z"
      },
      {
        "duration": 57,
        "start_time": "2022-08-30T20:30:48.649Z"
      },
      {
        "duration": 40,
        "start_time": "2022-08-30T20:30:48.708Z"
      },
      {
        "duration": 56,
        "start_time": "2022-08-30T20:30:48.750Z"
      },
      {
        "duration": 35,
        "start_time": "2022-08-30T20:30:48.808Z"
      },
      {
        "duration": 59,
        "start_time": "2022-08-30T20:30:48.844Z"
      },
      {
        "duration": 4,
        "start_time": "2022-08-30T20:30:48.904Z"
      },
      {
        "duration": 5,
        "start_time": "2022-08-30T20:30:48.910Z"
      },
      {
        "duration": 8,
        "start_time": "2022-08-30T20:30:48.917Z"
      },
      {
        "duration": 18,
        "start_time": "2022-08-30T20:30:48.926Z"
      },
      {
        "duration": 18,
        "start_time": "2022-08-30T20:30:48.946Z"
      },
      {
        "duration": 44,
        "start_time": "2022-08-30T20:30:48.966Z"
      },
      {
        "duration": 14,
        "start_time": "2022-08-30T20:30:49.011Z"
      },
      {
        "duration": 9,
        "start_time": "2022-08-30T20:30:49.027Z"
      },
      {
        "duration": 9,
        "start_time": "2022-08-30T20:30:49.038Z"
      },
      {
        "duration": 7,
        "start_time": "2022-08-30T20:30:49.049Z"
      },
      {
        "duration": 51,
        "start_time": "2022-08-30T20:30:49.058Z"
      },
      {
        "duration": 4,
        "start_time": "2022-08-30T20:30:49.111Z"
      },
      {
        "duration": 5,
        "start_time": "2022-08-30T20:30:49.120Z"
      },
      {
        "duration": 179,
        "start_time": "2022-08-30T20:30:49.127Z"
      },
      {
        "duration": 13,
        "start_time": "2022-08-30T20:30:49.308Z"
      },
      {
        "duration": 7,
        "start_time": "2022-08-30T20:30:49.323Z"
      },
      {
        "duration": 16,
        "start_time": "2022-08-30T20:30:49.332Z"
      },
      {
        "duration": 8,
        "start_time": "2022-08-30T20:30:49.350Z"
      },
      {
        "duration": 32,
        "start_time": "2022-08-30T20:30:49.360Z"
      },
      {
        "duration": 10,
        "start_time": "2022-08-30T20:30:49.394Z"
      },
      {
        "duration": 8,
        "start_time": "2022-08-30T20:30:49.406Z"
      },
      {
        "duration": 19,
        "start_time": "2022-08-30T20:30:49.415Z"
      },
      {
        "duration": 3,
        "start_time": "2022-08-30T20:30:49.435Z"
      },
      {
        "duration": 7,
        "start_time": "2022-08-30T20:30:49.440Z"
      },
      {
        "duration": 252,
        "start_time": "2022-08-30T20:30:49.449Z"
      },
      {
        "duration": 12,
        "start_time": "2022-08-30T20:30:49.702Z"
      },
      {
        "duration": 16,
        "start_time": "2022-08-30T20:30:49.716Z"
      },
      {
        "duration": 7,
        "start_time": "2022-08-30T20:30:49.734Z"
      },
      {
        "duration": 23,
        "start_time": "2022-08-30T20:30:49.742Z"
      },
      {
        "duration": 25,
        "start_time": "2022-08-30T20:30:49.767Z"
      },
      {
        "duration": 8,
        "start_time": "2022-08-30T20:30:49.794Z"
      },
      {
        "duration": 10,
        "start_time": "2022-08-30T20:30:49.805Z"
      },
      {
        "duration": 7,
        "start_time": "2022-08-30T20:30:49.817Z"
      },
      {
        "duration": 21,
        "start_time": "2022-08-30T20:30:49.826Z"
      },
      {
        "duration": 4,
        "start_time": "2022-08-30T20:30:49.849Z"
      },
      {
        "duration": 43,
        "start_time": "2022-08-30T20:30:49.854Z"
      },
      {
        "duration": 1490,
        "start_time": "2022-08-30T20:30:49.899Z"
      },
      {
        "duration": 25,
        "start_time": "2022-08-30T20:30:51.391Z"
      },
      {
        "duration": 18,
        "start_time": "2022-08-30T20:30:51.418Z"
      },
      {
        "duration": 11,
        "start_time": "2022-08-30T20:30:51.438Z"
      },
      {
        "duration": 41,
        "start_time": "2022-08-30T20:30:51.451Z"
      },
      {
        "duration": 7,
        "start_time": "2022-08-30T20:30:51.494Z"
      },
      {
        "duration": 20,
        "start_time": "2022-08-30T20:30:51.503Z"
      },
      {
        "duration": 3,
        "start_time": "2022-08-30T20:30:51.524Z"
      },
      {
        "duration": 7,
        "start_time": "2022-08-30T20:30:51.529Z"
      },
      {
        "duration": 219,
        "start_time": "2022-08-30T20:30:51.538Z"
      },
      {
        "duration": 10,
        "start_time": "2022-08-30T20:30:51.759Z"
      },
      {
        "duration": 25,
        "start_time": "2022-08-30T20:30:51.770Z"
      },
      {
        "duration": 12,
        "start_time": "2022-08-30T20:30:51.797Z"
      },
      {
        "duration": 22,
        "start_time": "2022-08-30T20:30:51.810Z"
      },
      {
        "duration": 6,
        "start_time": "2022-08-30T20:30:51.834Z"
      },
      {
        "duration": 24,
        "start_time": "2022-08-30T20:30:51.842Z"
      },
      {
        "duration": 20,
        "start_time": "2022-08-30T20:30:51.891Z"
      },
      {
        "duration": 21,
        "start_time": "2022-08-30T20:30:51.913Z"
      },
      {
        "duration": 19,
        "start_time": "2022-08-30T20:30:51.936Z"
      },
      {
        "duration": 432,
        "start_time": "2022-08-30T20:30:51.957Z"
      },
      {
        "duration": 16,
        "start_time": "2022-08-30T20:30:52.390Z"
      },
      {
        "duration": 4,
        "start_time": "2022-08-30T20:30:52.408Z"
      },
      {
        "duration": 213,
        "start_time": "2022-08-30T20:30:52.414Z"
      },
      {
        "duration": 211,
        "start_time": "2022-08-30T20:30:52.629Z"
      },
      {
        "duration": 202,
        "start_time": "2022-08-30T20:30:52.842Z"
      },
      {
        "duration": 199,
        "start_time": "2022-08-30T20:30:53.046Z"
      },
      {
        "duration": 199,
        "start_time": "2022-08-30T20:30:53.247Z"
      },
      {
        "duration": 7,
        "start_time": "2022-08-30T20:30:53.448Z"
      },
      {
        "duration": 21,
        "start_time": "2022-08-30T20:30:53.457Z"
      },
      {
        "duration": 44,
        "start_time": "2022-08-30T20:30:53.480Z"
      },
      {
        "duration": 292,
        "start_time": "2022-08-30T20:30:53.529Z"
      },
      {
        "duration": 249,
        "start_time": "2022-08-30T20:30:53.823Z"
      },
      {
        "duration": 4,
        "start_time": "2022-08-30T20:30:54.074Z"
      },
      {
        "duration": 974,
        "start_time": "2022-08-30T20:30:54.080Z"
      },
      {
        "duration": 199,
        "start_time": "2022-08-30T20:30:55.056Z"
      },
      {
        "duration": 67,
        "start_time": "2022-08-30T20:32:56.923Z"
      },
      {
        "duration": 453,
        "start_time": "2022-08-30T20:33:20.604Z"
      },
      {
        "duration": 404,
        "start_time": "2022-08-30T20:35:13.707Z"
      },
      {
        "duration": 390,
        "start_time": "2022-08-30T20:35:39.486Z"
      },
      {
        "duration": 396,
        "start_time": "2022-08-30T21:04:57.844Z"
      },
      {
        "duration": 299,
        "start_time": "2022-08-30T21:05:32.318Z"
      },
      {
        "duration": 346,
        "start_time": "2022-08-30T21:05:37.842Z"
      },
      {
        "duration": 341,
        "start_time": "2022-08-30T21:05:57.206Z"
      },
      {
        "duration": 340,
        "start_time": "2022-08-30T21:06:05.916Z"
      },
      {
        "duration": 304,
        "start_time": "2022-08-30T21:06:16.225Z"
      },
      {
        "duration": 458,
        "start_time": "2022-08-30T21:07:25.242Z"
      },
      {
        "duration": 318,
        "start_time": "2022-08-30T21:07:30.494Z"
      },
      {
        "duration": 320,
        "start_time": "2022-08-30T21:13:11.491Z"
      },
      {
        "duration": 333,
        "start_time": "2022-08-30T21:13:18.251Z"
      },
      {
        "duration": 325,
        "start_time": "2022-08-30T21:13:25.454Z"
      },
      {
        "duration": 464,
        "start_time": "2022-08-30T21:13:46.265Z"
      },
      {
        "duration": 415,
        "start_time": "2022-08-30T21:14:21.817Z"
      },
      {
        "duration": 413,
        "start_time": "2022-08-30T21:17:40.138Z"
      },
      {
        "duration": 366,
        "start_time": "2022-08-30T21:17:50.837Z"
      },
      {
        "duration": 75,
        "start_time": "2022-08-30T21:33:36.775Z"
      },
      {
        "duration": 14,
        "start_time": "2022-08-30T21:33:43.229Z"
      },
      {
        "duration": 29,
        "start_time": "2022-08-30T21:33:57.101Z"
      },
      {
        "duration": 10,
        "start_time": "2022-08-30T21:34:13.747Z"
      },
      {
        "duration": 103,
        "start_time": "2022-08-30T21:34:37.760Z"
      },
      {
        "duration": 228,
        "start_time": "2022-08-30T21:34:41.966Z"
      },
      {
        "duration": 358,
        "start_time": "2022-08-30T21:38:08.892Z"
      },
      {
        "duration": 221,
        "start_time": "2022-08-30T21:38:47.245Z"
      },
      {
        "duration": 48,
        "start_time": "2022-08-30T22:05:06.729Z"
      },
      {
        "duration": 54,
        "start_time": "2022-08-31T02:03:11.365Z"
      },
      {
        "duration": 7,
        "start_time": "2022-08-31T02:03:24.739Z"
      },
      {
        "duration": 7,
        "start_time": "2022-08-31T02:03:44.252Z"
      },
      {
        "duration": 1303,
        "start_time": "2022-08-31T02:03:49.446Z"
      },
      {
        "duration": 100,
        "start_time": "2022-08-31T02:03:50.751Z"
      },
      {
        "duration": 6,
        "start_time": "2022-08-31T02:03:50.852Z"
      },
      {
        "duration": 24,
        "start_time": "2022-08-31T02:03:50.861Z"
      },
      {
        "duration": 15,
        "start_time": "2022-08-31T02:03:50.887Z"
      },
      {
        "duration": 18,
        "start_time": "2022-08-31T02:03:50.904Z"
      },
      {
        "duration": 16,
        "start_time": "2022-08-31T02:03:50.924Z"
      },
      {
        "duration": 53,
        "start_time": "2022-08-31T02:03:50.942Z"
      },
      {
        "duration": 9,
        "start_time": "2022-08-31T02:03:50.996Z"
      },
      {
        "duration": 13,
        "start_time": "2022-08-31T02:03:51.007Z"
      },
      {
        "duration": 32,
        "start_time": "2022-08-31T02:03:51.021Z"
      },
      {
        "duration": 59,
        "start_time": "2022-08-31T02:03:51.055Z"
      },
      {
        "duration": 30,
        "start_time": "2022-08-31T02:03:51.116Z"
      },
      {
        "duration": 55,
        "start_time": "2022-08-31T02:03:51.148Z"
      },
      {
        "duration": 30,
        "start_time": "2022-08-31T02:03:51.205Z"
      },
      {
        "duration": 4,
        "start_time": "2022-08-31T02:03:51.236Z"
      },
      {
        "duration": 5,
        "start_time": "2022-08-31T02:03:51.241Z"
      },
      {
        "duration": 5,
        "start_time": "2022-08-31T02:03:51.248Z"
      },
      {
        "duration": 41,
        "start_time": "2022-08-31T02:03:51.255Z"
      },
      {
        "duration": 17,
        "start_time": "2022-08-31T02:03:51.298Z"
      },
      {
        "duration": 20,
        "start_time": "2022-08-31T02:03:51.317Z"
      },
      {
        "duration": 11,
        "start_time": "2022-08-31T02:03:51.339Z"
      },
      {
        "duration": 34,
        "start_time": "2022-08-31T02:03:51.352Z"
      },
      {
        "duration": 10,
        "start_time": "2022-08-31T02:03:51.388Z"
      },
      {
        "duration": 12,
        "start_time": "2022-08-31T02:03:51.400Z"
      },
      {
        "duration": 24,
        "start_time": "2022-08-31T02:03:51.414Z"
      },
      {
        "duration": 3,
        "start_time": "2022-08-31T02:03:51.439Z"
      },
      {
        "duration": 5,
        "start_time": "2022-08-31T02:03:51.446Z"
      },
      {
        "duration": 164,
        "start_time": "2022-08-31T02:03:51.453Z"
      },
      {
        "duration": 11,
        "start_time": "2022-08-31T02:03:51.619Z"
      },
      {
        "duration": 7,
        "start_time": "2022-08-31T02:03:51.632Z"
      },
      {
        "duration": 16,
        "start_time": "2022-08-31T02:03:51.641Z"
      },
      {
        "duration": 10,
        "start_time": "2022-08-31T02:03:51.659Z"
      },
      {
        "duration": 16,
        "start_time": "2022-08-31T02:03:51.671Z"
      },
      {
        "duration": 11,
        "start_time": "2022-08-31T02:03:51.689Z"
      },
      {
        "duration": 10,
        "start_time": "2022-08-31T02:03:51.702Z"
      },
      {
        "duration": 14,
        "start_time": "2022-08-31T02:03:51.714Z"
      },
      {
        "duration": 3,
        "start_time": "2022-08-31T02:03:51.730Z"
      },
      {
        "duration": 11,
        "start_time": "2022-08-31T02:03:51.734Z"
      },
      {
        "duration": 242,
        "start_time": "2022-08-31T02:03:51.747Z"
      },
      {
        "duration": 12,
        "start_time": "2022-08-31T02:03:51.990Z"
      },
      {
        "duration": 34,
        "start_time": "2022-08-31T02:03:52.003Z"
      },
      {
        "duration": 18,
        "start_time": "2022-08-31T02:03:52.038Z"
      },
      {
        "duration": 26,
        "start_time": "2022-08-31T02:03:52.058Z"
      },
      {
        "duration": 16,
        "start_time": "2022-08-31T02:03:52.086Z"
      },
      {
        "duration": 23,
        "start_time": "2022-08-31T02:03:52.104Z"
      },
      {
        "duration": 14,
        "start_time": "2022-08-31T02:03:52.129Z"
      },
      {
        "duration": 9,
        "start_time": "2022-08-31T02:03:52.155Z"
      },
      {
        "duration": 22,
        "start_time": "2022-08-31T02:03:52.166Z"
      },
      {
        "duration": 4,
        "start_time": "2022-08-31T02:03:52.189Z"
      },
      {
        "duration": 7,
        "start_time": "2022-08-31T02:03:52.194Z"
      },
      {
        "duration": 1520,
        "start_time": "2022-08-31T02:03:52.203Z"
      },
      {
        "duration": 25,
        "start_time": "2022-08-31T02:03:53.724Z"
      },
      {
        "duration": 19,
        "start_time": "2022-08-31T02:03:53.750Z"
      },
      {
        "duration": 12,
        "start_time": "2022-08-31T02:03:53.784Z"
      },
      {
        "duration": 14,
        "start_time": "2022-08-31T02:03:53.797Z"
      },
      {
        "duration": 6,
        "start_time": "2022-08-31T02:03:53.813Z"
      },
      {
        "duration": 16,
        "start_time": "2022-08-31T02:03:53.821Z"
      },
      {
        "duration": 3,
        "start_time": "2022-08-31T02:03:53.839Z"
      },
      {
        "duration": 8,
        "start_time": "2022-08-31T02:03:53.843Z"
      },
      {
        "duration": 230,
        "start_time": "2022-08-31T02:03:53.852Z"
      },
      {
        "duration": 10,
        "start_time": "2022-08-31T02:03:54.084Z"
      },
      {
        "duration": 16,
        "start_time": "2022-08-31T02:03:54.096Z"
      },
      {
        "duration": 11,
        "start_time": "2022-08-31T02:03:54.114Z"
      },
      {
        "duration": 18,
        "start_time": "2022-08-31T02:03:54.127Z"
      },
      {
        "duration": 5,
        "start_time": "2022-08-31T02:03:54.146Z"
      },
      {
        "duration": 45,
        "start_time": "2022-08-31T02:03:54.153Z"
      },
      {
        "duration": 15,
        "start_time": "2022-08-31T02:03:54.200Z"
      },
      {
        "duration": 18,
        "start_time": "2022-08-31T02:03:54.216Z"
      },
      {
        "duration": 15,
        "start_time": "2022-08-31T02:03:54.235Z"
      },
      {
        "duration": 453,
        "start_time": "2022-08-31T02:03:54.252Z"
      },
      {
        "duration": 16,
        "start_time": "2022-08-31T02:03:54.707Z"
      },
      {
        "duration": 3,
        "start_time": "2022-08-31T02:03:54.725Z"
      },
      {
        "duration": 207,
        "start_time": "2022-08-31T02:03:54.730Z"
      },
      {
        "duration": 206,
        "start_time": "2022-08-31T02:03:54.939Z"
      },
      {
        "duration": 204,
        "start_time": "2022-08-31T02:03:55.148Z"
      },
      {
        "duration": 189,
        "start_time": "2022-08-31T02:03:55.354Z"
      },
      {
        "duration": 204,
        "start_time": "2022-08-31T02:03:55.545Z"
      },
      {
        "duration": 8,
        "start_time": "2022-08-31T02:03:55.751Z"
      },
      {
        "duration": 28,
        "start_time": "2022-08-31T02:03:55.760Z"
      },
      {
        "duration": 33,
        "start_time": "2022-08-31T02:03:55.790Z"
      },
      {
        "duration": 268,
        "start_time": "2022-08-31T02:03:55.828Z"
      },
      {
        "duration": 225,
        "start_time": "2022-08-31T02:03:56.098Z"
      },
      {
        "duration": 4,
        "start_time": "2022-08-31T02:03:56.324Z"
      },
      {
        "duration": 929,
        "start_time": "2022-08-31T02:03:56.330Z"
      },
      {
        "duration": 392,
        "start_time": "2022-08-31T02:03:57.261Z"
      },
      {
        "duration": 61,
        "start_time": "2022-08-31T02:03:57.655Z"
      },
      {
        "duration": 357,
        "start_time": "2022-08-31T02:03:57.717Z"
      },
      {
        "duration": 204,
        "start_time": "2022-08-31T02:03:58.076Z"
      },
      {
        "duration": 6,
        "start_time": "2022-08-31T02:03:58.281Z"
      },
      {
        "duration": 96,
        "start_time": "2022-08-31T02:04:13.373Z"
      },
      {
        "duration": 103,
        "start_time": "2022-08-31T02:04:27.784Z"
      },
      {
        "duration": 99,
        "start_time": "2022-08-31T02:04:50.870Z"
      },
      {
        "duration": 119,
        "start_time": "2022-08-31T02:04:56.846Z"
      },
      {
        "duration": 195,
        "start_time": "2022-08-31T02:05:01.859Z"
      },
      {
        "duration": 106,
        "start_time": "2022-08-31T02:05:06.172Z"
      },
      {
        "duration": 120,
        "start_time": "2022-08-31T02:05:12.147Z"
      },
      {
        "duration": 101,
        "start_time": "2022-08-31T02:05:24.200Z"
      },
      {
        "duration": 100,
        "start_time": "2022-08-31T02:05:43.821Z"
      },
      {
        "duration": 6,
        "start_time": "2022-08-31T02:25:42.540Z"
      },
      {
        "duration": 6,
        "start_time": "2022-08-31T02:29:40.128Z"
      },
      {
        "duration": 8,
        "start_time": "2022-08-31T02:29:58.029Z"
      },
      {
        "duration": 1117,
        "start_time": "2022-08-31T02:30:30.057Z"
      },
      {
        "duration": 52,
        "start_time": "2022-08-31T02:30:31.176Z"
      },
      {
        "duration": 5,
        "start_time": "2022-08-31T02:30:31.230Z"
      },
      {
        "duration": 20,
        "start_time": "2022-08-31T02:30:31.237Z"
      },
      {
        "duration": 16,
        "start_time": "2022-08-31T02:30:31.259Z"
      },
      {
        "duration": 17,
        "start_time": "2022-08-31T02:30:31.276Z"
      },
      {
        "duration": 16,
        "start_time": "2022-08-31T02:30:31.295Z"
      },
      {
        "duration": 32,
        "start_time": "2022-08-31T02:30:31.313Z"
      },
      {
        "duration": 8,
        "start_time": "2022-08-31T02:30:31.347Z"
      },
      {
        "duration": 36,
        "start_time": "2022-08-31T02:30:31.358Z"
      },
      {
        "duration": 34,
        "start_time": "2022-08-31T02:30:31.396Z"
      },
      {
        "duration": 60,
        "start_time": "2022-08-31T02:30:31.432Z"
      },
      {
        "duration": 34,
        "start_time": "2022-08-31T02:30:31.494Z"
      },
      {
        "duration": 55,
        "start_time": "2022-08-31T02:30:31.530Z"
      },
      {
        "duration": 37,
        "start_time": "2022-08-31T02:30:31.587Z"
      },
      {
        "duration": 4,
        "start_time": "2022-08-31T02:30:31.626Z"
      },
      {
        "duration": 5,
        "start_time": "2022-08-31T02:30:31.632Z"
      },
      {
        "duration": 6,
        "start_time": "2022-08-31T02:30:31.639Z"
      },
      {
        "duration": 49,
        "start_time": "2022-08-31T02:30:31.647Z"
      },
      {
        "duration": 18,
        "start_time": "2022-08-31T02:30:31.698Z"
      },
      {
        "duration": 19,
        "start_time": "2022-08-31T02:30:31.718Z"
      },
      {
        "duration": 12,
        "start_time": "2022-08-31T02:30:31.739Z"
      },
      {
        "duration": 37,
        "start_time": "2022-08-31T02:30:31.752Z"
      },
      {
        "duration": 5,
        "start_time": "2022-08-31T02:30:31.791Z"
      },
      {
        "duration": 10,
        "start_time": "2022-08-31T02:30:31.797Z"
      },
      {
        "duration": 24,
        "start_time": "2022-08-31T02:30:31.808Z"
      },
      {
        "duration": 4,
        "start_time": "2022-08-31T02:30:31.833Z"
      },
      {
        "duration": 5,
        "start_time": "2022-08-31T02:30:31.842Z"
      },
      {
        "duration": 187,
        "start_time": "2022-08-31T02:30:31.849Z"
      },
      {
        "duration": 13,
        "start_time": "2022-08-31T02:30:32.038Z"
      },
      {
        "duration": 5,
        "start_time": "2022-08-31T02:30:32.053Z"
      },
      {
        "duration": 29,
        "start_time": "2022-08-31T02:30:32.059Z"
      },
      {
        "duration": 8,
        "start_time": "2022-08-31T02:30:32.090Z"
      },
      {
        "duration": 11,
        "start_time": "2022-08-31T02:30:32.100Z"
      },
      {
        "duration": 18,
        "start_time": "2022-08-31T02:30:32.113Z"
      },
      {
        "duration": 9,
        "start_time": "2022-08-31T02:30:32.132Z"
      },
      {
        "duration": 24,
        "start_time": "2022-08-31T02:30:32.143Z"
      },
      {
        "duration": 19,
        "start_time": "2022-08-31T02:30:32.169Z"
      },
      {
        "duration": 7,
        "start_time": "2022-08-31T02:30:32.190Z"
      },
      {
        "duration": 218,
        "start_time": "2022-08-31T02:30:32.199Z"
      },
      {
        "duration": 10,
        "start_time": "2022-08-31T02:30:32.419Z"
      },
      {
        "duration": 18,
        "start_time": "2022-08-31T02:30:32.431Z"
      },
      {
        "duration": 6,
        "start_time": "2022-08-31T02:30:32.451Z"
      },
      {
        "duration": 28,
        "start_time": "2022-08-31T02:30:32.458Z"
      },
      {
        "duration": 6,
        "start_time": "2022-08-31T02:30:32.488Z"
      },
      {
        "duration": 12,
        "start_time": "2022-08-31T02:30:32.495Z"
      },
      {
        "duration": 14,
        "start_time": "2022-08-31T02:30:32.509Z"
      },
      {
        "duration": 10,
        "start_time": "2022-08-31T02:30:32.525Z"
      },
      {
        "duration": 20,
        "start_time": "2022-08-31T02:30:32.538Z"
      },
      {
        "duration": 3,
        "start_time": "2022-08-31T02:30:32.560Z"
      },
      {
        "duration": 31,
        "start_time": "2022-08-31T02:30:32.564Z"
      },
      {
        "duration": 1503,
        "start_time": "2022-08-31T02:30:32.596Z"
      },
      {
        "duration": 36,
        "start_time": "2022-08-31T02:30:34.101Z"
      },
      {
        "duration": 21,
        "start_time": "2022-08-31T02:30:34.139Z"
      },
      {
        "duration": 32,
        "start_time": "2022-08-31T02:30:34.162Z"
      },
      {
        "duration": 15,
        "start_time": "2022-08-31T02:30:34.196Z"
      },
      {
        "duration": 7,
        "start_time": "2022-08-31T02:30:34.213Z"
      },
      {
        "duration": 16,
        "start_time": "2022-08-31T02:30:34.222Z"
      },
      {
        "duration": 7,
        "start_time": "2022-08-31T02:30:34.240Z"
      },
      {
        "duration": 50,
        "start_time": "2022-08-31T02:30:34.249Z"
      },
      {
        "duration": 4,
        "start_time": "2022-08-31T02:30:34.301Z"
      },
      {
        "duration": 12,
        "start_time": "2022-08-31T02:30:34.307Z"
      },
      {
        "duration": 280,
        "start_time": "2022-08-31T02:30:34.321Z"
      },
      {
        "duration": 12,
        "start_time": "2022-08-31T02:30:34.604Z"
      },
      {
        "duration": 15,
        "start_time": "2022-08-31T02:30:34.618Z"
      },
      {
        "duration": 31,
        "start_time": "2022-08-31T02:30:34.635Z"
      },
      {
        "duration": 26,
        "start_time": "2022-08-31T02:30:34.668Z"
      },
      {
        "duration": 6,
        "start_time": "2022-08-31T02:30:34.696Z"
      },
      {
        "duration": 17,
        "start_time": "2022-08-31T02:30:34.704Z"
      },
      {
        "duration": 15,
        "start_time": "2022-08-31T02:30:34.724Z"
      },
      {
        "duration": 44,
        "start_time": "2022-08-31T02:30:34.741Z"
      },
      {
        "duration": 15,
        "start_time": "2022-08-31T02:30:34.787Z"
      },
      {
        "duration": 387,
        "start_time": "2022-08-31T02:30:34.804Z"
      },
      {
        "duration": 17,
        "start_time": "2022-08-31T02:30:35.192Z"
      },
      {
        "duration": 25,
        "start_time": "2022-08-31T02:30:35.211Z"
      },
      {
        "duration": 202,
        "start_time": "2022-08-31T02:30:35.237Z"
      },
      {
        "duration": 206,
        "start_time": "2022-08-31T02:30:35.441Z"
      },
      {
        "duration": 197,
        "start_time": "2022-08-31T02:30:35.649Z"
      },
      {
        "duration": 171,
        "start_time": "2022-08-31T02:30:35.847Z"
      },
      {
        "duration": 195,
        "start_time": "2022-08-31T02:30:36.019Z"
      },
      {
        "duration": 7,
        "start_time": "2022-08-31T02:30:36.216Z"
      },
      {
        "duration": 14,
        "start_time": "2022-08-31T02:30:36.228Z"
      },
      {
        "duration": 57,
        "start_time": "2022-08-31T02:30:36.244Z"
      },
      {
        "duration": 293,
        "start_time": "2022-08-31T02:30:36.303Z"
      },
      {
        "duration": 238,
        "start_time": "2022-08-31T02:30:36.597Z"
      },
      {
        "duration": 4,
        "start_time": "2022-08-31T02:30:36.837Z"
      },
      {
        "duration": 957,
        "start_time": "2022-08-31T02:30:36.843Z"
      },
      {
        "duration": 401,
        "start_time": "2022-08-31T02:30:37.802Z"
      },
      {
        "duration": 48,
        "start_time": "2022-08-31T02:30:38.205Z"
      },
      {
        "duration": 336,
        "start_time": "2022-08-31T02:30:38.255Z"
      },
      {
        "duration": 205,
        "start_time": "2022-08-31T02:30:38.593Z"
      },
      {
        "duration": 9,
        "start_time": "2022-08-31T02:31:22.282Z"
      },
      {
        "duration": 1474,
        "start_time": "2022-08-31T02:31:31.593Z"
      },
      {
        "duration": 55,
        "start_time": "2022-08-31T02:31:33.069Z"
      },
      {
        "duration": 6,
        "start_time": "2022-08-31T02:31:33.126Z"
      },
      {
        "duration": 22,
        "start_time": "2022-08-31T02:31:33.135Z"
      },
      {
        "duration": 25,
        "start_time": "2022-08-31T02:31:33.159Z"
      },
      {
        "duration": 15,
        "start_time": "2022-08-31T02:31:33.186Z"
      },
      {
        "duration": 17,
        "start_time": "2022-08-31T02:31:33.203Z"
      },
      {
        "duration": 30,
        "start_time": "2022-08-31T02:31:33.222Z"
      },
      {
        "duration": 36,
        "start_time": "2022-08-31T02:31:33.254Z"
      },
      {
        "duration": 10,
        "start_time": "2022-08-31T02:31:33.293Z"
      },
      {
        "duration": 33,
        "start_time": "2022-08-31T02:31:33.304Z"
      },
      {
        "duration": 65,
        "start_time": "2022-08-31T02:31:33.339Z"
      },
      {
        "duration": 29,
        "start_time": "2022-08-31T02:31:33.405Z"
      },
      {
        "duration": 54,
        "start_time": "2022-08-31T02:31:33.435Z"
      },
      {
        "duration": 33,
        "start_time": "2022-08-31T02:31:33.491Z"
      },
      {
        "duration": 4,
        "start_time": "2022-08-31T02:31:33.525Z"
      },
      {
        "duration": 9,
        "start_time": "2022-08-31T02:31:33.531Z"
      },
      {
        "duration": 9,
        "start_time": "2022-08-31T02:31:33.542Z"
      },
      {
        "duration": 37,
        "start_time": "2022-08-31T02:31:33.553Z"
      },
      {
        "duration": 19,
        "start_time": "2022-08-31T02:31:33.592Z"
      },
      {
        "duration": 21,
        "start_time": "2022-08-31T02:31:33.613Z"
      },
      {
        "duration": 13,
        "start_time": "2022-08-31T02:31:33.636Z"
      },
      {
        "duration": 34,
        "start_time": "2022-08-31T02:31:33.651Z"
      },
      {
        "duration": 6,
        "start_time": "2022-08-31T02:31:33.687Z"
      },
      {
        "duration": 8,
        "start_time": "2022-08-31T02:31:33.694Z"
      },
      {
        "duration": 22,
        "start_time": "2022-08-31T02:31:33.704Z"
      },
      {
        "duration": 4,
        "start_time": "2022-08-31T02:31:33.728Z"
      },
      {
        "duration": 8,
        "start_time": "2022-08-31T02:31:33.737Z"
      },
      {
        "duration": 155,
        "start_time": "2022-08-31T02:31:33.784Z"
      },
      {
        "duration": 13,
        "start_time": "2022-08-31T02:31:33.941Z"
      },
      {
        "duration": 5,
        "start_time": "2022-08-31T02:31:33.956Z"
      },
      {
        "duration": 31,
        "start_time": "2022-08-31T02:31:33.963Z"
      },
      {
        "duration": 11,
        "start_time": "2022-08-31T02:31:33.996Z"
      },
      {
        "duration": 12,
        "start_time": "2022-08-31T02:31:34.009Z"
      },
      {
        "duration": 10,
        "start_time": "2022-08-31T02:31:34.023Z"
      },
      {
        "duration": 7,
        "start_time": "2022-08-31T02:31:34.035Z"
      },
      {
        "duration": 16,
        "start_time": "2022-08-31T02:31:34.043Z"
      },
      {
        "duration": 27,
        "start_time": "2022-08-31T02:31:34.060Z"
      },
      {
        "duration": 8,
        "start_time": "2022-08-31T02:31:34.089Z"
      },
      {
        "duration": 247,
        "start_time": "2022-08-31T02:31:34.099Z"
      },
      {
        "duration": 12,
        "start_time": "2022-08-31T02:31:34.348Z"
      },
      {
        "duration": 28,
        "start_time": "2022-08-31T02:31:34.361Z"
      },
      {
        "duration": 10,
        "start_time": "2022-08-31T02:31:34.390Z"
      },
      {
        "duration": 25,
        "start_time": "2022-08-31T02:31:34.402Z"
      },
      {
        "duration": 19,
        "start_time": "2022-08-31T02:31:34.429Z"
      },
      {
        "duration": 21,
        "start_time": "2022-08-31T02:31:34.450Z"
      },
      {
        "duration": 21,
        "start_time": "2022-08-31T02:31:34.473Z"
      },
      {
        "duration": 8,
        "start_time": "2022-08-31T02:31:34.496Z"
      },
      {
        "duration": 32,
        "start_time": "2022-08-31T02:31:34.506Z"
      },
      {
        "duration": 4,
        "start_time": "2022-08-31T02:31:34.540Z"
      },
      {
        "duration": 16,
        "start_time": "2022-08-31T02:31:34.546Z"
      },
      {
        "duration": 1477,
        "start_time": "2022-08-31T02:31:34.585Z"
      },
      {
        "duration": 32,
        "start_time": "2022-08-31T02:31:36.064Z"
      },
      {
        "duration": 18,
        "start_time": "2022-08-31T02:31:36.097Z"
      },
      {
        "duration": 12,
        "start_time": "2022-08-31T02:31:36.117Z"
      },
      {
        "duration": 18,
        "start_time": "2022-08-31T02:31:36.131Z"
      },
      {
        "duration": 7,
        "start_time": "2022-08-31T02:31:36.150Z"
      },
      {
        "duration": 33,
        "start_time": "2022-08-31T02:31:36.159Z"
      },
      {
        "duration": 6,
        "start_time": "2022-08-31T02:31:36.194Z"
      },
      {
        "duration": 17,
        "start_time": "2022-08-31T02:31:36.201Z"
      },
      {
        "duration": 3,
        "start_time": "2022-08-31T02:31:36.220Z"
      },
      {
        "duration": 7,
        "start_time": "2022-08-31T02:31:36.224Z"
      },
      {
        "duration": 225,
        "start_time": "2022-08-31T02:31:36.232Z"
      },
      {
        "duration": 11,
        "start_time": "2022-08-31T02:31:36.458Z"
      },
      {
        "duration": 22,
        "start_time": "2022-08-31T02:31:36.471Z"
      },
      {
        "duration": 12,
        "start_time": "2022-08-31T02:31:36.494Z"
      },
      {
        "duration": 16,
        "start_time": "2022-08-31T02:31:36.507Z"
      },
      {
        "duration": 5,
        "start_time": "2022-08-31T02:31:36.524Z"
      },
      {
        "duration": 18,
        "start_time": "2022-08-31T02:31:36.530Z"
      },
      {
        "duration": 46,
        "start_time": "2022-08-31T02:31:36.549Z"
      },
      {
        "duration": 22,
        "start_time": "2022-08-31T02:31:36.596Z"
      },
      {
        "duration": 15,
        "start_time": "2022-08-31T02:31:36.620Z"
      },
      {
        "duration": 376,
        "start_time": "2022-08-31T02:31:36.636Z"
      },
      {
        "duration": 17,
        "start_time": "2022-08-31T02:31:37.014Z"
      },
      {
        "duration": 4,
        "start_time": "2022-08-31T02:31:37.033Z"
      },
      {
        "duration": 220,
        "start_time": "2022-08-31T02:31:37.038Z"
      },
      {
        "duration": 203,
        "start_time": "2022-08-31T02:31:37.260Z"
      },
      {
        "duration": 197,
        "start_time": "2022-08-31T02:31:37.465Z"
      },
      {
        "duration": 201,
        "start_time": "2022-08-31T02:31:37.664Z"
      },
      {
        "duration": 215,
        "start_time": "2022-08-31T02:31:37.867Z"
      },
      {
        "duration": 6,
        "start_time": "2022-08-31T02:31:38.085Z"
      },
      {
        "duration": 14,
        "start_time": "2022-08-31T02:31:38.096Z"
      },
      {
        "duration": 33,
        "start_time": "2022-08-31T02:31:38.112Z"
      },
      {
        "duration": 301,
        "start_time": "2022-08-31T02:31:38.147Z"
      },
      {
        "duration": 245,
        "start_time": "2022-08-31T02:31:38.450Z"
      },
      {
        "duration": 4,
        "start_time": "2022-08-31T02:31:38.697Z"
      },
      {
        "duration": 929,
        "start_time": "2022-08-31T02:31:38.702Z"
      },
      {
        "duration": 757,
        "start_time": "2022-08-31T02:31:39.632Z"
      },
      {
        "duration": 109,
        "start_time": "2022-08-31T02:31:40.390Z"
      },
      {
        "duration": 711,
        "start_time": "2022-08-31T02:31:40.501Z"
      },
      {
        "duration": 407,
        "start_time": "2022-08-31T02:31:41.213Z"
      },
      {
        "duration": 7,
        "start_time": "2022-08-31T02:32:11.924Z"
      },
      {
        "duration": 1063,
        "start_time": "2022-08-31T02:32:17.993Z"
      },
      {
        "duration": 55,
        "start_time": "2022-08-31T02:32:19.058Z"
      },
      {
        "duration": 6,
        "start_time": "2022-08-31T02:32:19.115Z"
      },
      {
        "duration": 23,
        "start_time": "2022-08-31T02:32:19.123Z"
      },
      {
        "duration": 17,
        "start_time": "2022-08-31T02:32:19.148Z"
      },
      {
        "duration": 15,
        "start_time": "2022-08-31T02:32:19.185Z"
      },
      {
        "duration": 17,
        "start_time": "2022-08-31T02:32:19.201Z"
      },
      {
        "duration": 29,
        "start_time": "2022-08-31T02:32:19.220Z"
      },
      {
        "duration": 36,
        "start_time": "2022-08-31T02:32:19.250Z"
      },
      {
        "duration": 10,
        "start_time": "2022-08-31T02:32:19.288Z"
      },
      {
        "duration": 34,
        "start_time": "2022-08-31T02:32:19.300Z"
      },
      {
        "duration": 61,
        "start_time": "2022-08-31T02:32:19.335Z"
      },
      {
        "duration": 31,
        "start_time": "2022-08-31T02:32:19.398Z"
      },
      {
        "duration": 32,
        "start_time": "2022-08-31T02:32:19.430Z"
      },
      {
        "duration": 51,
        "start_time": "2022-08-31T02:32:19.463Z"
      },
      {
        "duration": 4,
        "start_time": "2022-08-31T02:32:19.515Z"
      },
      {
        "duration": 7,
        "start_time": "2022-08-31T02:32:19.520Z"
      },
      {
        "duration": 8,
        "start_time": "2022-08-31T02:32:19.528Z"
      },
      {
        "duration": 18,
        "start_time": "2022-08-31T02:32:19.537Z"
      },
      {
        "duration": 18,
        "start_time": "2022-08-31T02:32:19.585Z"
      },
      {
        "duration": 19,
        "start_time": "2022-08-31T02:32:19.605Z"
      },
      {
        "duration": 12,
        "start_time": "2022-08-31T02:32:19.626Z"
      },
      {
        "duration": 7,
        "start_time": "2022-08-31T02:32:19.640Z"
      },
      {
        "duration": 36,
        "start_time": "2022-08-31T02:32:19.649Z"
      },
      {
        "duration": 8,
        "start_time": "2022-08-31T02:32:19.687Z"
      },
      {
        "duration": 25,
        "start_time": "2022-08-31T02:32:19.697Z"
      },
      {
        "duration": 33,
        "start_time": "2022-08-31T02:32:19.724Z"
      },
      {
        "duration": 10,
        "start_time": "2022-08-31T02:32:19.761Z"
      },
      {
        "duration": 174,
        "start_time": "2022-08-31T02:32:19.773Z"
      },
      {
        "duration": 10,
        "start_time": "2022-08-31T02:32:19.949Z"
      },
      {
        "duration": 5,
        "start_time": "2022-08-31T02:32:19.961Z"
      },
      {
        "duration": 26,
        "start_time": "2022-08-31T02:32:19.967Z"
      },
      {
        "duration": 7,
        "start_time": "2022-08-31T02:32:19.995Z"
      },
      {
        "duration": 14,
        "start_time": "2022-08-31T02:32:20.003Z"
      },
      {
        "duration": 12,
        "start_time": "2022-08-31T02:32:20.018Z"
      },
      {
        "duration": 9,
        "start_time": "2022-08-31T02:32:20.032Z"
      },
      {
        "duration": 15,
        "start_time": "2022-08-31T02:32:20.043Z"
      },
      {
        "duration": 25,
        "start_time": "2022-08-31T02:32:20.060Z"
      },
      {
        "duration": 7,
        "start_time": "2022-08-31T02:32:20.087Z"
      },
      {
        "duration": 225,
        "start_time": "2022-08-31T02:32:20.096Z"
      },
      {
        "duration": 12,
        "start_time": "2022-08-31T02:32:20.323Z"
      },
      {
        "duration": 19,
        "start_time": "2022-08-31T02:32:20.337Z"
      },
      {
        "duration": 7,
        "start_time": "2022-08-31T02:32:20.357Z"
      },
      {
        "duration": 29,
        "start_time": "2022-08-31T02:32:20.366Z"
      },
      {
        "duration": 7,
        "start_time": "2022-08-31T02:32:20.397Z"
      },
      {
        "duration": 10,
        "start_time": "2022-08-31T02:32:20.405Z"
      },
      {
        "duration": 10,
        "start_time": "2022-08-31T02:32:20.417Z"
      },
      {
        "duration": 8,
        "start_time": "2022-08-31T02:32:20.429Z"
      },
      {
        "duration": 56,
        "start_time": "2022-08-31T02:32:20.439Z"
      },
      {
        "duration": 3,
        "start_time": "2022-08-31T02:32:20.497Z"
      },
      {
        "duration": 10,
        "start_time": "2022-08-31T02:32:20.502Z"
      },
      {
        "duration": 1438,
        "start_time": "2022-08-31T02:32:20.514Z"
      },
      {
        "duration": 32,
        "start_time": "2022-08-31T02:32:21.954Z"
      },
      {
        "duration": 17,
        "start_time": "2022-08-31T02:32:21.987Z"
      },
      {
        "duration": 11,
        "start_time": "2022-08-31T02:32:22.006Z"
      },
      {
        "duration": 13,
        "start_time": "2022-08-31T02:32:22.019Z"
      },
      {
        "duration": 6,
        "start_time": "2022-08-31T02:32:22.033Z"
      },
      {
        "duration": 14,
        "start_time": "2022-08-31T02:32:22.041Z"
      },
      {
        "duration": 33,
        "start_time": "2022-08-31T02:32:22.057Z"
      },
      {
        "duration": 21,
        "start_time": "2022-08-31T02:32:22.092Z"
      },
      {
        "duration": 6,
        "start_time": "2022-08-31T02:32:22.115Z"
      },
      {
        "duration": 12,
        "start_time": "2022-08-31T02:32:22.123Z"
      },
      {
        "duration": 201,
        "start_time": "2022-08-31T02:32:22.137Z"
      },
      {
        "duration": 11,
        "start_time": "2022-08-31T02:32:22.340Z"
      },
      {
        "duration": 14,
        "start_time": "2022-08-31T02:32:22.353Z"
      },
      {
        "duration": 12,
        "start_time": "2022-08-31T02:32:22.384Z"
      },
      {
        "duration": 15,
        "start_time": "2022-08-31T02:32:22.398Z"
      },
      {
        "duration": 6,
        "start_time": "2022-08-31T02:32:22.415Z"
      },
      {
        "duration": 17,
        "start_time": "2022-08-31T02:32:22.423Z"
      },
      {
        "duration": 47,
        "start_time": "2022-08-31T02:32:22.442Z"
      },
      {
        "duration": 16,
        "start_time": "2022-08-31T02:32:22.491Z"
      },
      {
        "duration": 16,
        "start_time": "2022-08-31T02:32:22.509Z"
      },
      {
        "duration": 403,
        "start_time": "2022-08-31T02:32:22.527Z"
      },
      {
        "duration": 17,
        "start_time": "2022-08-31T02:32:22.932Z"
      },
      {
        "duration": 4,
        "start_time": "2022-08-31T02:32:22.951Z"
      },
      {
        "duration": 209,
        "start_time": "2022-08-31T02:32:22.957Z"
      },
      {
        "duration": 205,
        "start_time": "2022-08-31T02:32:23.168Z"
      },
      {
        "duration": 199,
        "start_time": "2022-08-31T02:32:23.375Z"
      },
      {
        "duration": 183,
        "start_time": "2022-08-31T02:32:23.575Z"
      },
      {
        "duration": 198,
        "start_time": "2022-08-31T02:32:23.760Z"
      },
      {
        "duration": 6,
        "start_time": "2022-08-31T02:32:23.960Z"
      },
      {
        "duration": 22,
        "start_time": "2022-08-31T02:32:23.970Z"
      },
      {
        "duration": 35,
        "start_time": "2022-08-31T02:32:23.994Z"
      },
      {
        "duration": 313,
        "start_time": "2022-08-31T02:32:24.031Z"
      },
      {
        "duration": 557,
        "start_time": "2022-08-31T02:32:24.345Z"
      },
      {
        "duration": 5,
        "start_time": "2022-08-31T02:32:24.903Z"
      },
      {
        "duration": 1590,
        "start_time": "2022-08-31T02:32:24.909Z"
      },
      {
        "duration": 369,
        "start_time": "2022-08-31T02:32:26.501Z"
      },
      {
        "duration": 53,
        "start_time": "2022-08-31T02:32:26.872Z"
      },
      {
        "duration": 314,
        "start_time": "2022-08-31T02:32:26.926Z"
      },
      {
        "duration": 198,
        "start_time": "2022-08-31T02:32:27.242Z"
      },
      {
        "duration": 1123,
        "start_time": "2022-08-31T02:48:57.836Z"
      },
      {
        "duration": 54,
        "start_time": "2022-08-31T02:48:58.961Z"
      },
      {
        "duration": 6,
        "start_time": "2022-08-31T02:48:59.017Z"
      },
      {
        "duration": 28,
        "start_time": "2022-08-31T02:48:59.025Z"
      },
      {
        "duration": 16,
        "start_time": "2022-08-31T02:48:59.055Z"
      },
      {
        "duration": 15,
        "start_time": "2022-08-31T02:48:59.085Z"
      },
      {
        "duration": 18,
        "start_time": "2022-08-31T02:48:59.101Z"
      },
      {
        "duration": 30,
        "start_time": "2022-08-31T02:48:59.120Z"
      },
      {
        "duration": 36,
        "start_time": "2022-08-31T02:48:59.152Z"
      },
      {
        "duration": 10,
        "start_time": "2022-08-31T02:48:59.190Z"
      },
      {
        "duration": 35,
        "start_time": "2022-08-31T02:48:59.202Z"
      },
      {
        "duration": 61,
        "start_time": "2022-08-31T02:48:59.238Z"
      },
      {
        "duration": 32,
        "start_time": "2022-08-31T02:48:59.301Z"
      },
      {
        "duration": 57,
        "start_time": "2022-08-31T02:48:59.335Z"
      },
      {
        "duration": 33,
        "start_time": "2022-08-31T02:48:59.394Z"
      },
      {
        "duration": 4,
        "start_time": "2022-08-31T02:48:59.428Z"
      },
      {
        "duration": 7,
        "start_time": "2022-08-31T02:48:59.433Z"
      },
      {
        "duration": 5,
        "start_time": "2022-08-31T02:48:59.442Z"
      },
      {
        "duration": 47,
        "start_time": "2022-08-31T02:48:59.449Z"
      },
      {
        "duration": 22,
        "start_time": "2022-08-31T02:48:59.498Z"
      },
      {
        "duration": 22,
        "start_time": "2022-08-31T02:48:59.522Z"
      },
      {
        "duration": 14,
        "start_time": "2022-08-31T02:48:59.546Z"
      },
      {
        "duration": 29,
        "start_time": "2022-08-31T02:48:59.562Z"
      },
      {
        "duration": 6,
        "start_time": "2022-08-31T02:48:59.592Z"
      },
      {
        "duration": 8,
        "start_time": "2022-08-31T02:48:59.599Z"
      },
      {
        "duration": 23,
        "start_time": "2022-08-31T02:48:59.609Z"
      },
      {
        "duration": 4,
        "start_time": "2022-08-31T02:48:59.634Z"
      },
      {
        "duration": 6,
        "start_time": "2022-08-31T02:48:59.643Z"
      },
      {
        "duration": 164,
        "start_time": "2022-08-31T02:48:59.686Z"
      },
      {
        "duration": 11,
        "start_time": "2022-08-31T02:48:59.851Z"
      },
      {
        "duration": 15,
        "start_time": "2022-08-31T02:48:59.863Z"
      },
      {
        "duration": 13,
        "start_time": "2022-08-31T02:48:59.885Z"
      },
      {
        "duration": 8,
        "start_time": "2022-08-31T02:48:59.900Z"
      },
      {
        "duration": 11,
        "start_time": "2022-08-31T02:48:59.910Z"
      },
      {
        "duration": 19,
        "start_time": "2022-08-31T02:48:59.923Z"
      },
      {
        "duration": 6,
        "start_time": "2022-08-31T02:48:59.944Z"
      },
      {
        "duration": 38,
        "start_time": "2022-08-31T02:48:59.951Z"
      },
      {
        "duration": 4,
        "start_time": "2022-08-31T02:48:59.991Z"
      },
      {
        "duration": 8,
        "start_time": "2022-08-31T02:48:59.996Z"
      },
      {
        "duration": 252,
        "start_time": "2022-08-31T02:49:00.006Z"
      },
      {
        "duration": 13,
        "start_time": "2022-08-31T02:49:00.260Z"
      },
      {
        "duration": 57,
        "start_time": "2022-08-31T02:49:00.274Z"
      },
      {
        "duration": 18,
        "start_time": "2022-08-31T02:49:00.332Z"
      },
      {
        "duration": 46,
        "start_time": "2022-08-31T02:49:00.352Z"
      },
      {
        "duration": 27,
        "start_time": "2022-08-31T02:49:00.400Z"
      },
      {
        "duration": 46,
        "start_time": "2022-08-31T02:49:00.429Z"
      },
      {
        "duration": 22,
        "start_time": "2022-08-31T02:49:00.477Z"
      },
      {
        "duration": 15,
        "start_time": "2022-08-31T02:49:00.501Z"
      },
      {
        "duration": 42,
        "start_time": "2022-08-31T02:49:00.518Z"
      },
      {
        "duration": 19,
        "start_time": "2022-08-31T02:49:00.562Z"
      },
      {
        "duration": 21,
        "start_time": "2022-08-31T02:49:00.583Z"
      },
      {
        "duration": 1670,
        "start_time": "2022-08-31T02:49:00.606Z"
      },
      {
        "duration": 28,
        "start_time": "2022-08-31T02:49:02.278Z"
      },
      {
        "duration": 18,
        "start_time": "2022-08-31T02:49:02.308Z"
      },
      {
        "duration": 12,
        "start_time": "2022-08-31T02:49:02.327Z"
      },
      {
        "duration": 12,
        "start_time": "2022-08-31T02:49:02.341Z"
      },
      {
        "duration": 34,
        "start_time": "2022-08-31T02:49:02.355Z"
      },
      {
        "duration": 15,
        "start_time": "2022-08-31T02:49:02.391Z"
      },
      {
        "duration": 8,
        "start_time": "2022-08-31T02:49:02.408Z"
      },
      {
        "duration": 37,
        "start_time": "2022-08-31T02:49:02.418Z"
      },
      {
        "duration": 4,
        "start_time": "2022-08-31T02:49:02.457Z"
      },
      {
        "duration": 23,
        "start_time": "2022-08-31T02:49:02.463Z"
      },
      {
        "duration": 243,
        "start_time": "2022-08-31T02:49:02.488Z"
      },
      {
        "duration": 10,
        "start_time": "2022-08-31T02:49:02.733Z"
      },
      {
        "duration": 14,
        "start_time": "2022-08-31T02:49:02.745Z"
      },
      {
        "duration": 29,
        "start_time": "2022-08-31T02:49:02.761Z"
      },
      {
        "duration": 24,
        "start_time": "2022-08-31T02:49:02.792Z"
      },
      {
        "duration": 9,
        "start_time": "2022-08-31T02:49:02.818Z"
      },
      {
        "duration": 21,
        "start_time": "2022-08-31T02:49:02.829Z"
      },
      {
        "duration": 38,
        "start_time": "2022-08-31T02:49:02.853Z"
      },
      {
        "duration": 16,
        "start_time": "2022-08-31T02:49:02.893Z"
      },
      {
        "duration": 17,
        "start_time": "2022-08-31T02:49:02.911Z"
      },
      {
        "duration": 407,
        "start_time": "2022-08-31T02:49:02.930Z"
      },
      {
        "duration": 15,
        "start_time": "2022-08-31T02:49:03.339Z"
      },
      {
        "duration": 3,
        "start_time": "2022-08-31T02:49:03.356Z"
      },
      {
        "duration": 205,
        "start_time": "2022-08-31T02:49:03.361Z"
      },
      {
        "duration": 197,
        "start_time": "2022-08-31T02:49:03.568Z"
      },
      {
        "duration": 200,
        "start_time": "2022-08-31T02:49:03.767Z"
      },
      {
        "duration": 198,
        "start_time": "2022-08-31T02:49:03.969Z"
      },
      {
        "duration": 198,
        "start_time": "2022-08-31T02:49:04.169Z"
      },
      {
        "duration": 22,
        "start_time": "2022-08-31T02:49:04.369Z"
      },
      {
        "duration": 18,
        "start_time": "2022-08-31T02:49:04.399Z"
      },
      {
        "duration": 48,
        "start_time": "2022-08-31T02:49:04.419Z"
      },
      {
        "duration": 18,
        "start_time": "2022-08-31T02:49:04.470Z"
      },
      {
        "duration": 302,
        "start_time": "2022-08-31T02:49:04.490Z"
      },
      {
        "duration": 312,
        "start_time": "2022-08-31T02:49:04.793Z"
      },
      {
        "duration": 4,
        "start_time": "2022-08-31T02:49:05.107Z"
      },
      {
        "duration": 838,
        "start_time": "2022-08-31T02:49:05.112Z"
      },
      {
        "duration": 382,
        "start_time": "2022-08-31T02:49:05.952Z"
      },
      {
        "duration": 54,
        "start_time": "2022-08-31T02:49:06.336Z"
      },
      {
        "duration": 640,
        "start_time": "2022-08-31T02:49:06.391Z"
      },
      {
        "duration": 403,
        "start_time": "2022-08-31T02:49:07.085Z"
      },
      {
        "duration": 396,
        "start_time": "2022-08-31T02:49:30.630Z"
      },
      {
        "duration": 16,
        "start_time": "2022-08-31T02:52:32.869Z"
      },
      {
        "duration": 441,
        "start_time": "2022-08-31T02:52:55.967Z"
      },
      {
        "duration": 537,
        "start_time": "2022-08-31T02:53:36.041Z"
      },
      {
        "duration": 224,
        "start_time": "2022-08-31T02:53:48.277Z"
      },
      {
        "duration": 144,
        "start_time": "2022-08-31T02:54:42.326Z"
      },
      {
        "duration": 721,
        "start_time": "2022-08-31T02:54:47.350Z"
      },
      {
        "duration": 929,
        "start_time": "2022-08-31T02:55:00.648Z"
      },
      {
        "duration": 911,
        "start_time": "2022-08-31T02:55:12.341Z"
      },
      {
        "duration": 849,
        "start_time": "2022-08-31T02:55:23.883Z"
      },
      {
        "duration": 936,
        "start_time": "2022-08-31T02:56:51.736Z"
      },
      {
        "duration": 852,
        "start_time": "2022-08-31T02:57:14.097Z"
      },
      {
        "duration": 816,
        "start_time": "2022-08-31T02:57:42.010Z"
      },
      {
        "duration": 814,
        "start_time": "2022-08-31T02:57:50.983Z"
      },
      {
        "duration": 805,
        "start_time": "2022-08-31T03:00:08.018Z"
      },
      {
        "duration": 939,
        "start_time": "2022-08-31T03:00:58.805Z"
      },
      {
        "duration": 908,
        "start_time": "2022-08-31T03:01:15.433Z"
      },
      {
        "duration": 877,
        "start_time": "2022-08-31T03:02:28.375Z"
      },
      {
        "duration": 832,
        "start_time": "2022-08-31T03:02:38.491Z"
      },
      {
        "duration": 809,
        "start_time": "2022-08-31T03:02:58.252Z"
      },
      {
        "duration": 794,
        "start_time": "2022-08-31T03:14:59.196Z"
      },
      {
        "duration": 949,
        "start_time": "2022-08-31T03:15:10.192Z"
      },
      {
        "duration": 865,
        "start_time": "2022-08-31T03:15:32.639Z"
      },
      {
        "duration": 832,
        "start_time": "2022-08-31T03:15:41.581Z"
      },
      {
        "duration": 849,
        "start_time": "2022-08-31T03:15:57.157Z"
      },
      {
        "duration": 863,
        "start_time": "2022-08-31T03:17:42.400Z"
      },
      {
        "duration": 697,
        "start_time": "2022-08-31T03:19:57.182Z"
      },
      {
        "duration": 598,
        "start_time": "2022-08-31T03:20:37.904Z"
      },
      {
        "duration": 854,
        "start_time": "2022-08-31T03:21:10.536Z"
      },
      {
        "duration": 835,
        "start_time": "2022-08-31T03:22:32.014Z"
      },
      {
        "duration": 911,
        "start_time": "2022-08-31T03:27:30.839Z"
      },
      {
        "duration": 817,
        "start_time": "2022-08-31T03:27:55.290Z"
      },
      {
        "duration": 949,
        "start_time": "2022-08-31T03:32:42.814Z"
      },
      {
        "duration": 870,
        "start_time": "2022-08-31T03:32:59.635Z"
      },
      {
        "duration": 877,
        "start_time": "2022-08-31T03:33:07.240Z"
      },
      {
        "duration": 805,
        "start_time": "2022-08-31T03:33:18.612Z"
      },
      {
        "duration": 868,
        "start_time": "2022-08-31T03:33:24.637Z"
      },
      {
        "duration": 828,
        "start_time": "2022-08-31T03:33:37.221Z"
      },
      {
        "duration": 944,
        "start_time": "2022-08-31T03:33:42.082Z"
      },
      {
        "duration": 856,
        "start_time": "2022-08-31T03:38:00.124Z"
      },
      {
        "duration": 826,
        "start_time": "2022-08-31T03:38:25.345Z"
      },
      {
        "duration": 1290,
        "start_time": "2022-08-31T03:40:32.048Z"
      },
      {
        "duration": 1263,
        "start_time": "2022-08-31T03:40:42.403Z"
      },
      {
        "duration": 1152,
        "start_time": "2022-08-31T03:40:58.331Z"
      },
      {
        "duration": 53,
        "start_time": "2022-08-31T03:40:59.485Z"
      },
      {
        "duration": 5,
        "start_time": "2022-08-31T03:40:59.540Z"
      },
      {
        "duration": 28,
        "start_time": "2022-08-31T03:40:59.547Z"
      },
      {
        "duration": 16,
        "start_time": "2022-08-31T03:40:59.576Z"
      },
      {
        "duration": 18,
        "start_time": "2022-08-31T03:40:59.593Z"
      },
      {
        "duration": 16,
        "start_time": "2022-08-31T03:40:59.613Z"
      },
      {
        "duration": 56,
        "start_time": "2022-08-31T03:40:59.630Z"
      },
      {
        "duration": 9,
        "start_time": "2022-08-31T03:40:59.687Z"
      },
      {
        "duration": 14,
        "start_time": "2022-08-31T03:40:59.699Z"
      },
      {
        "duration": 35,
        "start_time": "2022-08-31T03:40:59.714Z"
      },
      {
        "duration": 61,
        "start_time": "2022-08-31T03:40:59.751Z"
      },
      {
        "duration": 31,
        "start_time": "2022-08-31T03:40:59.814Z"
      },
      {
        "duration": 55,
        "start_time": "2022-08-31T03:40:59.847Z"
      },
      {
        "duration": 30,
        "start_time": "2022-08-31T03:40:59.904Z"
      },
      {
        "duration": 3,
        "start_time": "2022-08-31T03:40:59.936Z"
      },
      {
        "duration": 7,
        "start_time": "2022-08-31T03:40:59.940Z"
      },
      {
        "duration": 8,
        "start_time": "2022-08-31T03:40:59.948Z"
      },
      {
        "duration": 41,
        "start_time": "2022-08-31T03:40:59.957Z"
      },
      {
        "duration": 17,
        "start_time": "2022-08-31T03:40:59.999Z"
      },
      {
        "duration": 21,
        "start_time": "2022-08-31T03:41:00.017Z"
      },
      {
        "duration": 11,
        "start_time": "2022-08-31T03:41:00.040Z"
      },
      {
        "duration": 32,
        "start_time": "2022-08-31T03:41:00.053Z"
      },
      {
        "duration": 6,
        "start_time": "2022-08-31T03:41:00.087Z"
      },
      {
        "duration": 10,
        "start_time": "2022-08-31T03:41:00.094Z"
      },
      {
        "duration": 28,
        "start_time": "2022-08-31T03:41:00.106Z"
      },
      {
        "duration": 3,
        "start_time": "2022-08-31T03:41:00.136Z"
      },
      {
        "duration": 14,
        "start_time": "2022-08-31T03:41:00.144Z"
      },
      {
        "duration": 167,
        "start_time": "2022-08-31T03:41:00.160Z"
      },
      {
        "duration": 12,
        "start_time": "2022-08-31T03:41:00.329Z"
      },
      {
        "duration": 12,
        "start_time": "2022-08-31T03:41:00.343Z"
      },
      {
        "duration": 25,
        "start_time": "2022-08-31T03:41:00.357Z"
      },
      {
        "duration": 12,
        "start_time": "2022-08-31T03:41:00.384Z"
      },
      {
        "duration": 21,
        "start_time": "2022-08-31T03:41:00.398Z"
      },
      {
        "duration": 16,
        "start_time": "2022-08-31T03:41:00.420Z"
      },
      {
        "duration": 20,
        "start_time": "2022-08-31T03:41:00.438Z"
      },
      {
        "duration": 27,
        "start_time": "2022-08-31T03:41:00.460Z"
      },
      {
        "duration": 14,
        "start_time": "2022-08-31T03:41:00.490Z"
      },
      {
        "duration": 19,
        "start_time": "2022-08-31T03:41:00.506Z"
      },
      {
        "duration": 246,
        "start_time": "2022-08-31T03:41:00.528Z"
      },
      {
        "duration": 12,
        "start_time": "2022-08-31T03:41:00.776Z"
      },
      {
        "duration": 35,
        "start_time": "2022-08-31T03:41:00.790Z"
      },
      {
        "duration": 28,
        "start_time": "2022-08-31T03:41:00.827Z"
      },
      {
        "duration": 28,
        "start_time": "2022-08-31T03:41:00.856Z"
      },
      {
        "duration": 19,
        "start_time": "2022-08-31T03:41:00.885Z"
      },
      {
        "duration": 26,
        "start_time": "2022-08-31T03:41:00.906Z"
      },
      {
        "duration": 24,
        "start_time": "2022-08-31T03:41:00.934Z"
      },
      {
        "duration": 34,
        "start_time": "2022-08-31T03:41:00.961Z"
      },
      {
        "duration": 50,
        "start_time": "2022-08-31T03:41:00.997Z"
      },
      {
        "duration": 5,
        "start_time": "2022-08-31T03:41:01.048Z"
      },
      {
        "duration": 19,
        "start_time": "2022-08-31T03:41:01.055Z"
      },
      {
        "duration": 1479,
        "start_time": "2022-08-31T03:41:01.076Z"
      },
      {
        "duration": 35,
        "start_time": "2022-08-31T03:41:02.557Z"
      },
      {
        "duration": 17,
        "start_time": "2022-08-31T03:41:02.593Z"
      },
      {
        "duration": 11,
        "start_time": "2022-08-31T03:41:02.612Z"
      },
      {
        "duration": 12,
        "start_time": "2022-08-31T03:41:02.625Z"
      },
      {
        "duration": 6,
        "start_time": "2022-08-31T03:41:02.639Z"
      },
      {
        "duration": 9,
        "start_time": "2022-08-31T03:41:02.647Z"
      },
      {
        "duration": 7,
        "start_time": "2022-08-31T03:41:02.685Z"
      },
      {
        "duration": 18,
        "start_time": "2022-08-31T03:41:02.693Z"
      },
      {
        "duration": 3,
        "start_time": "2022-08-31T03:41:02.713Z"
      },
      {
        "duration": 12,
        "start_time": "2022-08-31T03:41:02.718Z"
      },
      {
        "duration": 236,
        "start_time": "2022-08-31T03:41:02.732Z"
      },
      {
        "duration": 17,
        "start_time": "2022-08-31T03:41:02.969Z"
      },
      {
        "duration": 23,
        "start_time": "2022-08-31T03:41:02.988Z"
      },
      {
        "duration": 11,
        "start_time": "2022-08-31T03:41:03.013Z"
      },
      {
        "duration": 19,
        "start_time": "2022-08-31T03:41:03.025Z"
      },
      {
        "duration": 5,
        "start_time": "2022-08-31T03:41:03.046Z"
      },
      {
        "duration": 19,
        "start_time": "2022-08-31T03:41:03.052Z"
      },
      {
        "duration": 14,
        "start_time": "2022-08-31T03:41:03.084Z"
      },
      {
        "duration": 16,
        "start_time": "2022-08-31T03:41:03.099Z"
      },
      {
        "duration": 13,
        "start_time": "2022-08-31T03:41:03.117Z"
      },
      {
        "duration": 368,
        "start_time": "2022-08-31T03:41:03.131Z"
      },
      {
        "duration": 17,
        "start_time": "2022-08-31T03:41:03.501Z"
      },
      {
        "duration": 4,
        "start_time": "2022-08-31T03:41:03.519Z"
      },
      {
        "duration": 206,
        "start_time": "2022-08-31T03:41:03.525Z"
      },
      {
        "duration": 204,
        "start_time": "2022-08-31T03:41:03.732Z"
      },
      {
        "duration": 212,
        "start_time": "2022-08-31T03:41:03.938Z"
      },
      {
        "duration": 193,
        "start_time": "2022-08-31T03:41:04.152Z"
      },
      {
        "duration": 243,
        "start_time": "2022-08-31T03:41:04.346Z"
      },
      {
        "duration": 889,
        "start_time": "2022-08-31T03:41:04.591Z"
      },
      {
        "duration": 6,
        "start_time": "2022-08-31T03:41:05.485Z"
      },
      {
        "duration": 15,
        "start_time": "2022-08-31T03:41:05.493Z"
      },
      {
        "duration": 34,
        "start_time": "2022-08-31T03:41:05.509Z"
      },
      {
        "duration": 300,
        "start_time": "2022-08-31T03:41:05.544Z"
      },
      {
        "duration": 235,
        "start_time": "2022-08-31T03:41:05.845Z"
      },
      {
        "duration": 5,
        "start_time": "2022-08-31T03:41:06.081Z"
      },
      {
        "duration": 841,
        "start_time": "2022-08-31T03:41:06.087Z"
      },
      {
        "duration": 382,
        "start_time": "2022-08-31T03:41:06.930Z"
      },
      {
        "duration": 50,
        "start_time": "2022-08-31T03:41:07.314Z"
      },
      {
        "duration": 341,
        "start_time": "2022-08-31T03:41:07.367Z"
      },
      {
        "duration": 206,
        "start_time": "2022-08-31T03:41:07.710Z"
      },
      {
        "duration": 4,
        "start_time": "2022-08-31T04:19:02.724Z"
      },
      {
        "duration": 106,
        "start_time": "2022-08-31T04:19:04.041Z"
      },
      {
        "duration": 3,
        "start_time": "2022-08-31T04:19:09.765Z"
      },
      {
        "duration": 250,
        "start_time": "2022-08-31T04:19:11.050Z"
      },
      {
        "duration": 4,
        "start_time": "2022-08-31T04:19:33.696Z"
      },
      {
        "duration": 180,
        "start_time": "2022-08-31T04:19:35.942Z"
      },
      {
        "duration": 3,
        "start_time": "2022-08-31T04:22:57.543Z"
      },
      {
        "duration": 191,
        "start_time": "2022-08-31T04:23:01.128Z"
      },
      {
        "duration": 3,
        "start_time": "2022-08-31T04:23:21.112Z"
      },
      {
        "duration": 183,
        "start_time": "2022-08-31T04:23:22.398Z"
      },
      {
        "duration": 5,
        "start_time": "2022-08-31T04:29:41.243Z"
      },
      {
        "duration": 12,
        "start_time": "2022-08-31T04:29:53.063Z"
      },
      {
        "duration": 100,
        "start_time": "2022-08-31T04:30:09.331Z"
      },
      {
        "duration": 108,
        "start_time": "2022-08-31T04:30:22.569Z"
      },
      {
        "duration": 108,
        "start_time": "2022-08-31T04:30:27.262Z"
      },
      {
        "duration": 116,
        "start_time": "2022-08-31T04:30:35.813Z"
      },
      {
        "duration": 111,
        "start_time": "2022-08-31T04:30:40.415Z"
      },
      {
        "duration": 103,
        "start_time": "2022-08-31T04:30:52.440Z"
      },
      {
        "duration": 25,
        "start_time": "2022-08-31T04:31:42.073Z"
      },
      {
        "duration": 145,
        "start_time": "2022-08-31T04:32:14.398Z"
      },
      {
        "duration": 103,
        "start_time": "2022-08-31T04:32:28.698Z"
      },
      {
        "duration": 27,
        "start_time": "2022-08-31T04:32:35.081Z"
      },
      {
        "duration": 25,
        "start_time": "2022-08-31T04:32:58.243Z"
      },
      {
        "duration": 196,
        "start_time": "2022-08-31T04:33:38.810Z"
      },
      {
        "duration": 33,
        "start_time": "2022-08-31T04:33:44.909Z"
      },
      {
        "duration": 29,
        "start_time": "2022-08-31T04:33:52.835Z"
      },
      {
        "duration": 8,
        "start_time": "2022-08-31T04:34:10.509Z"
      },
      {
        "duration": 16,
        "start_time": "2022-08-31T04:34:38.186Z"
      },
      {
        "duration": 109,
        "start_time": "2022-08-31T04:35:45.495Z"
      },
      {
        "duration": 8,
        "start_time": "2022-08-31T04:35:51.285Z"
      },
      {
        "duration": 115,
        "start_time": "2022-08-31T04:35:52.020Z"
      },
      {
        "duration": 10,
        "start_time": "2022-08-31T04:36:10.253Z"
      },
      {
        "duration": 103,
        "start_time": "2022-08-31T04:36:10.943Z"
      },
      {
        "duration": 16,
        "start_time": "2022-08-31T04:36:20.343Z"
      },
      {
        "duration": 143,
        "start_time": "2022-08-31T04:36:52.705Z"
      },
      {
        "duration": 144,
        "start_time": "2022-08-31T04:37:01.353Z"
      },
      {
        "duration": 143,
        "start_time": "2022-08-31T04:37:19.573Z"
      },
      {
        "duration": 152,
        "start_time": "2022-08-31T04:37:23.449Z"
      },
      {
        "duration": 137,
        "start_time": "2022-08-31T04:37:38.136Z"
      },
      {
        "duration": 137,
        "start_time": "2022-08-31T04:37:44.119Z"
      },
      {
        "duration": 56,
        "start_time": "2022-08-31T04:37:51.112Z"
      },
      {
        "duration": 148,
        "start_time": "2022-08-31T04:37:57.494Z"
      },
      {
        "duration": 253,
        "start_time": "2022-08-31T04:38:10.406Z"
      },
      {
        "duration": 143,
        "start_time": "2022-08-31T04:38:20.240Z"
      },
      {
        "duration": 23,
        "start_time": "2022-08-31T04:43:44.567Z"
      },
      {
        "duration": 7,
        "start_time": "2022-08-31T04:52:02.706Z"
      },
      {
        "duration": 162,
        "start_time": "2022-08-31T04:53:54.756Z"
      },
      {
        "duration": 147,
        "start_time": "2022-08-31T04:54:27.774Z"
      },
      {
        "duration": 145,
        "start_time": "2022-08-31T04:54:41.706Z"
      },
      {
        "duration": 142,
        "start_time": "2022-08-31T04:54:51.820Z"
      },
      {
        "duration": 134,
        "start_time": "2022-08-31T04:54:58.468Z"
      },
      {
        "duration": 48,
        "start_time": "2022-08-31T04:56:37.670Z"
      },
      {
        "duration": 40,
        "start_time": "2022-08-31T04:57:05.271Z"
      },
      {
        "duration": 177,
        "start_time": "2022-08-31T04:57:44.470Z"
      },
      {
        "duration": 152,
        "start_time": "2022-08-31T04:58:02.127Z"
      },
      {
        "duration": 14,
        "start_time": "2022-08-31T04:59:15.282Z"
      },
      {
        "duration": 233,
        "start_time": "2022-08-31T05:00:35.467Z"
      },
      {
        "duration": 160,
        "start_time": "2022-08-31T05:01:36.559Z"
      },
      {
        "duration": 6,
        "start_time": "2022-08-31T05:02:10.365Z"
      },
      {
        "duration": 3,
        "start_time": "2022-08-31T05:02:37.731Z"
      },
      {
        "duration": 3,
        "start_time": "2022-08-31T05:03:15.927Z"
      },
      {
        "duration": 49,
        "start_time": "2022-08-31T18:58:57.611Z"
      },
      {
        "duration": 1431,
        "start_time": "2022-08-31T18:59:02.904Z"
      },
      {
        "duration": 103,
        "start_time": "2022-08-31T18:59:04.338Z"
      },
      {
        "duration": 5,
        "start_time": "2022-08-31T18:59:04.443Z"
      },
      {
        "duration": 27,
        "start_time": "2022-08-31T18:59:04.450Z"
      },
      {
        "duration": 16,
        "start_time": "2022-08-31T18:59:04.479Z"
      },
      {
        "duration": 24,
        "start_time": "2022-08-31T18:59:04.497Z"
      },
      {
        "duration": 18,
        "start_time": "2022-08-31T18:59:04.522Z"
      },
      {
        "duration": 37,
        "start_time": "2022-08-31T18:59:04.542Z"
      },
      {
        "duration": 10,
        "start_time": "2022-08-31T18:59:04.581Z"
      },
      {
        "duration": 12,
        "start_time": "2022-08-31T18:59:04.605Z"
      },
      {
        "duration": 44,
        "start_time": "2022-08-31T18:59:04.619Z"
      },
      {
        "duration": 77,
        "start_time": "2022-08-31T18:59:04.665Z"
      },
      {
        "duration": 33,
        "start_time": "2022-08-31T18:59:04.743Z"
      },
      {
        "duration": 54,
        "start_time": "2022-08-31T18:59:04.778Z"
      },
      {
        "duration": 34,
        "start_time": "2022-08-31T18:59:04.834Z"
      },
      {
        "duration": 5,
        "start_time": "2022-08-31T18:59:04.869Z"
      },
      {
        "duration": 11,
        "start_time": "2022-08-31T18:59:04.875Z"
      },
      {
        "duration": 4,
        "start_time": "2022-08-31T18:59:04.903Z"
      },
      {
        "duration": 25,
        "start_time": "2022-08-31T18:59:04.909Z"
      },
      {
        "duration": 29,
        "start_time": "2022-08-31T18:59:04.935Z"
      },
      {
        "duration": 37,
        "start_time": "2022-08-31T18:59:04.966Z"
      },
      {
        "duration": 13,
        "start_time": "2022-08-31T18:59:05.006Z"
      },
      {
        "duration": 19,
        "start_time": "2022-08-31T18:59:05.020Z"
      },
      {
        "duration": 20,
        "start_time": "2022-08-31T18:59:05.041Z"
      },
      {
        "duration": 17,
        "start_time": "2022-08-31T18:59:05.063Z"
      },
      {
        "duration": 32,
        "start_time": "2022-08-31T18:59:05.081Z"
      },
      {
        "duration": 4,
        "start_time": "2022-08-31T18:59:05.114Z"
      },
      {
        "duration": 6,
        "start_time": "2022-08-31T18:59:05.123Z"
      },
      {
        "duration": 179,
        "start_time": "2022-08-31T18:59:05.130Z"
      },
      {
        "duration": 11,
        "start_time": "2022-08-31T18:59:05.310Z"
      },
      {
        "duration": 17,
        "start_time": "2022-08-31T18:59:05.323Z"
      },
      {
        "duration": 19,
        "start_time": "2022-08-31T18:59:05.342Z"
      },
      {
        "duration": 23,
        "start_time": "2022-08-31T18:59:05.363Z"
      },
      {
        "duration": 14,
        "start_time": "2022-08-31T18:59:05.388Z"
      },
      {
        "duration": 21,
        "start_time": "2022-08-31T18:59:05.403Z"
      },
      {
        "duration": 21,
        "start_time": "2022-08-31T18:59:05.426Z"
      },
      {
        "duration": 21,
        "start_time": "2022-08-31T18:59:05.449Z"
      },
      {
        "duration": 3,
        "start_time": "2022-08-31T18:59:05.472Z"
      },
      {
        "duration": 9,
        "start_time": "2022-08-31T18:59:05.477Z"
      },
      {
        "duration": 238,
        "start_time": "2022-08-31T18:59:05.487Z"
      },
      {
        "duration": 11,
        "start_time": "2022-08-31T18:59:05.726Z"
      },
      {
        "duration": 28,
        "start_time": "2022-08-31T18:59:05.739Z"
      },
      {
        "duration": 22,
        "start_time": "2022-08-31T18:59:05.768Z"
      },
      {
        "duration": 19,
        "start_time": "2022-08-31T18:59:05.791Z"
      },
      {
        "duration": 7,
        "start_time": "2022-08-31T18:59:05.812Z"
      },
      {
        "duration": 13,
        "start_time": "2022-08-31T18:59:05.821Z"
      },
      {
        "duration": 12,
        "start_time": "2022-08-31T18:59:05.835Z"
      },
      {
        "duration": 15,
        "start_time": "2022-08-31T18:59:05.849Z"
      },
      {
        "duration": 38,
        "start_time": "2022-08-31T18:59:05.865Z"
      },
      {
        "duration": 3,
        "start_time": "2022-08-31T18:59:05.905Z"
      },
      {
        "duration": 18,
        "start_time": "2022-08-31T18:59:05.909Z"
      },
      {
        "duration": 1632,
        "start_time": "2022-08-31T18:59:05.929Z"
      },
      {
        "duration": 29,
        "start_time": "2022-08-31T18:59:07.563Z"
      },
      {
        "duration": 21,
        "start_time": "2022-08-31T18:59:07.602Z"
      },
      {
        "duration": 17,
        "start_time": "2022-08-31T18:59:07.625Z"
      },
      {
        "duration": 16,
        "start_time": "2022-08-31T18:59:07.644Z"
      },
      {
        "duration": 12,
        "start_time": "2022-08-31T18:59:07.662Z"
      },
      {
        "duration": 32,
        "start_time": "2022-08-31T18:59:07.676Z"
      },
      {
        "duration": 9,
        "start_time": "2022-08-31T18:59:07.711Z"
      },
      {
        "duration": 32,
        "start_time": "2022-08-31T18:59:07.722Z"
      },
      {
        "duration": 4,
        "start_time": "2022-08-31T18:59:07.756Z"
      },
      {
        "duration": 27,
        "start_time": "2022-08-31T18:59:07.762Z"
      },
      {
        "duration": 290,
        "start_time": "2022-08-31T18:59:07.791Z"
      },
      {
        "duration": 13,
        "start_time": "2022-08-31T18:59:08.083Z"
      },
      {
        "duration": 27,
        "start_time": "2022-08-31T18:59:08.103Z"
      },
      {
        "duration": 16,
        "start_time": "2022-08-31T18:59:08.132Z"
      },
      {
        "duration": 27,
        "start_time": "2022-08-31T18:59:08.150Z"
      },
      {
        "duration": 6,
        "start_time": "2022-08-31T18:59:08.179Z"
      },
      {
        "duration": 38,
        "start_time": "2022-08-31T18:59:08.187Z"
      },
      {
        "duration": 41,
        "start_time": "2022-08-31T18:59:08.227Z"
      },
      {
        "duration": 23,
        "start_time": "2022-08-31T18:59:08.270Z"
      },
      {
        "duration": 25,
        "start_time": "2022-08-31T18:59:08.295Z"
      },
      {
        "duration": 388,
        "start_time": "2022-08-31T18:59:08.321Z"
      },
      {
        "duration": 18,
        "start_time": "2022-08-31T18:59:08.711Z"
      },
      {
        "duration": 7,
        "start_time": "2022-08-31T18:59:08.730Z"
      },
      {
        "duration": 234,
        "start_time": "2022-08-31T18:59:08.739Z"
      },
      {
        "duration": 235,
        "start_time": "2022-08-31T18:59:08.975Z"
      },
      {
        "duration": 212,
        "start_time": "2022-08-31T18:59:09.212Z"
      },
      {
        "duration": 190,
        "start_time": "2022-08-31T18:59:09.426Z"
      },
      {
        "duration": 209,
        "start_time": "2022-08-31T18:59:09.617Z"
      },
      {
        "duration": 1006,
        "start_time": "2022-08-31T18:59:09.828Z"
      },
      {
        "duration": 7,
        "start_time": "2022-08-31T18:59:10.840Z"
      },
      {
        "duration": 17,
        "start_time": "2022-08-31T18:59:10.849Z"
      },
      {
        "duration": 54,
        "start_time": "2022-08-31T18:59:10.868Z"
      },
      {
        "duration": 274,
        "start_time": "2022-08-31T18:59:10.923Z"
      },
      {
        "duration": 267,
        "start_time": "2022-08-31T18:59:11.199Z"
      },
      {
        "duration": 4,
        "start_time": "2022-08-31T18:59:11.471Z"
      },
      {
        "duration": 952,
        "start_time": "2022-08-31T18:59:11.477Z"
      },
      {
        "duration": 415,
        "start_time": "2022-08-31T18:59:12.431Z"
      },
      {
        "duration": 56,
        "start_time": "2022-08-31T18:59:12.848Z"
      },
      {
        "duration": 365,
        "start_time": "2022-08-31T18:59:12.905Z"
      },
      {
        "duration": 311,
        "start_time": "2022-08-31T18:59:13.272Z"
      },
      {
        "duration": 7,
        "start_time": "2022-08-31T18:59:13.584Z"
      },
      {
        "duration": 161,
        "start_time": "2022-08-31T18:59:13.602Z"
      },
      {
        "duration": 157,
        "start_time": "2022-08-31T18:59:13.765Z"
      },
      {
        "duration": 6,
        "start_time": "2022-08-31T18:59:13.924Z"
      },
      {
        "duration": 23,
        "start_time": "2022-08-31T18:59:22.380Z"
      },
      {
        "duration": 118,
        "start_time": "2022-08-31T18:59:50.677Z"
      },
      {
        "duration": 35,
        "start_time": "2022-08-31T19:00:08.882Z"
      },
      {
        "duration": 14,
        "start_time": "2022-08-31T19:00:24.042Z"
      },
      {
        "duration": 9,
        "start_time": "2022-08-31T19:00:31.878Z"
      },
      {
        "duration": 6,
        "start_time": "2022-08-31T19:00:45.984Z"
      },
      {
        "duration": 6,
        "start_time": "2022-08-31T19:00:59.639Z"
      },
      {
        "duration": 5,
        "start_time": "2022-08-31T19:01:11.976Z"
      },
      {
        "duration": 9,
        "start_time": "2022-08-31T19:01:18.422Z"
      },
      {
        "duration": 8,
        "start_time": "2022-08-31T19:02:19.223Z"
      },
      {
        "duration": 6,
        "start_time": "2022-08-31T19:02:20.408Z"
      },
      {
        "duration": 5,
        "start_time": "2022-08-31T19:02:25.974Z"
      },
      {
        "duration": 5,
        "start_time": "2022-08-31T19:02:26.814Z"
      },
      {
        "duration": 7,
        "start_time": "2022-08-31T19:02:37.248Z"
      },
      {
        "duration": 9,
        "start_time": "2022-08-31T19:02:37.882Z"
      },
      {
        "duration": 6,
        "start_time": "2022-08-31T19:02:39.187Z"
      },
      {
        "duration": 6,
        "start_time": "2022-08-31T19:05:21.443Z"
      },
      {
        "duration": 6,
        "start_time": "2022-08-31T19:05:22.434Z"
      },
      {
        "duration": 1261,
        "start_time": "2022-08-31T19:05:28.773Z"
      },
      {
        "duration": 56,
        "start_time": "2022-08-31T19:05:30.036Z"
      },
      {
        "duration": 5,
        "start_time": "2022-08-31T19:05:30.094Z"
      },
      {
        "duration": 22,
        "start_time": "2022-08-31T19:05:30.101Z"
      },
      {
        "duration": 16,
        "start_time": "2022-08-31T19:05:30.126Z"
      },
      {
        "duration": 17,
        "start_time": "2022-08-31T19:05:30.144Z"
      },
      {
        "duration": 42,
        "start_time": "2022-08-31T19:05:30.163Z"
      },
      {
        "duration": 32,
        "start_time": "2022-08-31T19:05:30.206Z"
      },
      {
        "duration": 18,
        "start_time": "2022-08-31T19:05:30.240Z"
      },
      {
        "duration": 20,
        "start_time": "2022-08-31T19:05:30.261Z"
      },
      {
        "duration": 37,
        "start_time": "2022-08-31T19:05:30.302Z"
      },
      {
        "duration": 68,
        "start_time": "2022-08-31T19:05:30.341Z"
      },
      {
        "duration": 35,
        "start_time": "2022-08-31T19:05:30.411Z"
      },
      {
        "duration": 82,
        "start_time": "2022-08-31T19:05:30.450Z"
      },
      {
        "duration": 42,
        "start_time": "2022-08-31T19:05:30.534Z"
      },
      {
        "duration": 26,
        "start_time": "2022-08-31T19:05:30.578Z"
      },
      {
        "duration": 17,
        "start_time": "2022-08-31T19:05:30.606Z"
      },
      {
        "duration": 28,
        "start_time": "2022-08-31T19:05:30.625Z"
      },
      {
        "duration": 40,
        "start_time": "2022-08-31T19:05:30.655Z"
      },
      {
        "duration": 37,
        "start_time": "2022-08-31T19:05:30.697Z"
      },
      {
        "duration": 35,
        "start_time": "2022-08-31T19:05:30.736Z"
      },
      {
        "duration": 14,
        "start_time": "2022-08-31T19:05:30.773Z"
      },
      {
        "duration": 31,
        "start_time": "2022-08-31T19:05:30.789Z"
      },
      {
        "duration": 27,
        "start_time": "2022-08-31T19:05:30.822Z"
      },
      {
        "duration": 24,
        "start_time": "2022-08-31T19:05:30.851Z"
      },
      {
        "duration": 34,
        "start_time": "2022-08-31T19:05:30.877Z"
      },
      {
        "duration": 4,
        "start_time": "2022-08-31T19:05:30.913Z"
      },
      {
        "duration": 32,
        "start_time": "2022-08-31T19:05:30.919Z"
      },
      {
        "duration": 235,
        "start_time": "2022-08-31T19:05:30.954Z"
      },
      {
        "duration": 17,
        "start_time": "2022-08-31T19:05:31.191Z"
      },
      {
        "duration": 10,
        "start_time": "2022-08-31T19:05:31.209Z"
      },
      {
        "duration": 23,
        "start_time": "2022-08-31T19:05:31.221Z"
      },
      {
        "duration": 9,
        "start_time": "2022-08-31T19:05:31.246Z"
      },
      {
        "duration": 33,
        "start_time": "2022-08-31T19:05:31.257Z"
      },
      {
        "duration": 47,
        "start_time": "2022-08-31T19:05:31.292Z"
      },
      {
        "duration": 15,
        "start_time": "2022-08-31T19:05:31.341Z"
      },
      {
        "duration": 32,
        "start_time": "2022-08-31T19:05:31.358Z"
      },
      {
        "duration": 17,
        "start_time": "2022-08-31T19:05:31.391Z"
      },
      {
        "duration": 20,
        "start_time": "2022-08-31T19:05:31.410Z"
      },
      {
        "duration": 261,
        "start_time": "2022-08-31T19:05:31.432Z"
      },
      {
        "duration": 14,
        "start_time": "2022-08-31T19:05:31.698Z"
      },
      {
        "duration": 46,
        "start_time": "2022-08-31T19:05:31.714Z"
      },
      {
        "duration": 22,
        "start_time": "2022-08-31T19:05:31.762Z"
      },
      {
        "duration": 38,
        "start_time": "2022-08-31T19:05:31.786Z"
      },
      {
        "duration": 25,
        "start_time": "2022-08-31T19:05:31.827Z"
      },
      {
        "duration": 19,
        "start_time": "2022-08-31T19:05:31.854Z"
      },
      {
        "duration": 62,
        "start_time": "2022-08-31T19:05:31.875Z"
      },
      {
        "duration": 17,
        "start_time": "2022-08-31T19:05:31.939Z"
      },
      {
        "duration": 37,
        "start_time": "2022-08-31T19:05:31.958Z"
      },
      {
        "duration": 4,
        "start_time": "2022-08-31T19:05:31.997Z"
      },
      {
        "duration": 28,
        "start_time": "2022-08-31T19:05:32.002Z"
      },
      {
        "duration": 1684,
        "start_time": "2022-08-31T19:05:32.032Z"
      },
      {
        "duration": 27,
        "start_time": "2022-08-31T19:05:33.717Z"
      },
      {
        "duration": 19,
        "start_time": "2022-08-31T19:05:33.746Z"
      },
      {
        "duration": 37,
        "start_time": "2022-08-31T19:05:33.766Z"
      },
      {
        "duration": 20,
        "start_time": "2022-08-31T19:05:33.806Z"
      },
      {
        "duration": 16,
        "start_time": "2022-08-31T19:05:33.828Z"
      },
      {
        "duration": 27,
        "start_time": "2022-08-31T19:05:33.846Z"
      },
      {
        "duration": 32,
        "start_time": "2022-08-31T19:05:33.875Z"
      },
      {
        "duration": 50,
        "start_time": "2022-08-31T19:05:33.909Z"
      },
      {
        "duration": 33,
        "start_time": "2022-08-31T19:05:33.961Z"
      },
      {
        "duration": 35,
        "start_time": "2022-08-31T19:05:33.996Z"
      },
      {
        "duration": 229,
        "start_time": "2022-08-31T19:05:34.033Z"
      },
      {
        "duration": 11,
        "start_time": "2022-08-31T19:05:34.264Z"
      },
      {
        "duration": 39,
        "start_time": "2022-08-31T19:05:34.278Z"
      },
      {
        "duration": 27,
        "start_time": "2022-08-31T19:05:34.319Z"
      },
      {
        "duration": 30,
        "start_time": "2022-08-31T19:05:34.348Z"
      },
      {
        "duration": 30,
        "start_time": "2022-08-31T19:05:34.381Z"
      },
      {
        "duration": 85,
        "start_time": "2022-08-31T19:05:34.413Z"
      },
      {
        "duration": 30,
        "start_time": "2022-08-31T19:05:34.499Z"
      },
      {
        "duration": 19,
        "start_time": "2022-08-31T19:05:34.530Z"
      },
      {
        "duration": 14,
        "start_time": "2022-08-31T19:05:34.551Z"
      },
      {
        "duration": 396,
        "start_time": "2022-08-31T19:05:34.567Z"
      },
      {
        "duration": 51,
        "start_time": "2022-08-31T19:05:34.965Z"
      },
      {
        "duration": 4,
        "start_time": "2022-08-31T19:05:35.018Z"
      },
      {
        "duration": 405,
        "start_time": "2022-08-31T19:05:35.024Z"
      },
      {
        "duration": 267,
        "start_time": "2022-08-31T19:05:35.432Z"
      },
      {
        "duration": 217,
        "start_time": "2022-08-31T19:05:35.702Z"
      },
      {
        "duration": 190,
        "start_time": "2022-08-31T19:05:35.921Z"
      },
      {
        "duration": 205,
        "start_time": "2022-08-31T19:05:36.113Z"
      },
      {
        "duration": 979,
        "start_time": "2022-08-31T19:05:36.320Z"
      },
      {
        "duration": 7,
        "start_time": "2022-08-31T19:05:37.301Z"
      },
      {
        "duration": 16,
        "start_time": "2022-08-31T19:05:37.309Z"
      },
      {
        "duration": 38,
        "start_time": "2022-08-31T19:05:37.327Z"
      },
      {
        "duration": 319,
        "start_time": "2022-08-31T19:05:37.366Z"
      },
      {
        "duration": 250,
        "start_time": "2022-08-31T19:05:37.687Z"
      },
      {
        "duration": 4,
        "start_time": "2022-08-31T19:05:37.939Z"
      },
      {
        "duration": 943,
        "start_time": "2022-08-31T19:05:37.945Z"
      },
      {
        "duration": 506,
        "start_time": "2022-08-31T19:05:38.890Z"
      },
      {
        "duration": 52,
        "start_time": "2022-08-31T19:05:39.397Z"
      },
      {
        "duration": 382,
        "start_time": "2022-08-31T19:05:39.451Z"
      },
      {
        "duration": 339,
        "start_time": "2022-08-31T19:05:39.835Z"
      },
      {
        "duration": 9,
        "start_time": "2022-08-31T19:05:40.177Z"
      },
      {
        "duration": 190,
        "start_time": "2022-08-31T19:05:40.187Z"
      },
      {
        "duration": 168,
        "start_time": "2022-08-31T19:05:40.379Z"
      },
      {
        "duration": 7,
        "start_time": "2022-08-31T19:05:40.549Z"
      },
      {
        "duration": 11,
        "start_time": "2022-08-31T19:05:40.558Z"
      },
      {
        "duration": 10,
        "start_time": "2022-08-31T19:05:40.570Z"
      },
      {
        "duration": 23,
        "start_time": "2022-08-31T19:05:49.497Z"
      },
      {
        "duration": 27,
        "start_time": "2022-08-31T19:06:06.394Z"
      },
      {
        "duration": 98,
        "start_time": "2022-08-31T19:07:49.198Z"
      },
      {
        "duration": 28,
        "start_time": "2022-08-31T19:07:53.157Z"
      },
      {
        "duration": 29,
        "start_time": "2022-08-31T19:09:29.976Z"
      },
      {
        "duration": 28,
        "start_time": "2022-08-31T19:09:35.495Z"
      },
      {
        "duration": 159,
        "start_time": "2022-08-31T19:12:19.756Z"
      },
      {
        "duration": 172,
        "start_time": "2022-08-31T19:12:53.135Z"
      },
      {
        "duration": 437,
        "start_time": "2022-08-31T19:13:24.085Z"
      },
      {
        "duration": 71,
        "start_time": "2022-08-31T19:14:35.132Z"
      },
      {
        "duration": 67,
        "start_time": "2022-08-31T19:14:40.646Z"
      },
      {
        "duration": 452,
        "start_time": "2022-08-31T19:14:50.674Z"
      },
      {
        "duration": 1244,
        "start_time": "2022-08-31T19:16:08.203Z"
      },
      {
        "duration": 55,
        "start_time": "2022-08-31T19:16:09.449Z"
      },
      {
        "duration": 5,
        "start_time": "2022-08-31T19:16:09.505Z"
      },
      {
        "duration": 21,
        "start_time": "2022-08-31T19:16:09.513Z"
      },
      {
        "duration": 16,
        "start_time": "2022-08-31T19:16:09.535Z"
      },
      {
        "duration": 16,
        "start_time": "2022-08-31T19:16:09.553Z"
      },
      {
        "duration": 41,
        "start_time": "2022-08-31T19:16:09.571Z"
      },
      {
        "duration": 30,
        "start_time": "2022-08-31T19:16:09.614Z"
      },
      {
        "duration": 8,
        "start_time": "2022-08-31T19:16:09.646Z"
      },
      {
        "duration": 12,
        "start_time": "2022-08-31T19:16:09.657Z"
      },
      {
        "duration": 68,
        "start_time": "2022-08-31T19:16:09.671Z"
      },
      {
        "duration": 41,
        "start_time": "2022-08-31T19:16:09.740Z"
      },
      {
        "duration": 51,
        "start_time": "2022-08-31T19:16:09.783Z"
      },
      {
        "duration": 34,
        "start_time": "2022-08-31T19:16:09.836Z"
      },
      {
        "duration": 60,
        "start_time": "2022-08-31T19:16:09.872Z"
      },
      {
        "duration": 5,
        "start_time": "2022-08-31T19:16:09.933Z"
      },
      {
        "duration": 8,
        "start_time": "2022-08-31T19:16:09.939Z"
      },
      {
        "duration": 6,
        "start_time": "2022-08-31T19:16:09.949Z"
      },
      {
        "duration": 19,
        "start_time": "2022-08-31T19:16:09.956Z"
      },
      {
        "duration": 45,
        "start_time": "2022-08-31T19:16:09.977Z"
      },
      {
        "duration": 23,
        "start_time": "2022-08-31T19:16:10.024Z"
      },
      {
        "duration": 13,
        "start_time": "2022-08-31T19:16:10.048Z"
      },
      {
        "duration": 8,
        "start_time": "2022-08-31T19:16:10.063Z"
      },
      {
        "duration": 31,
        "start_time": "2022-08-31T19:16:10.073Z"
      },
      {
        "duration": 7,
        "start_time": "2022-08-31T19:16:10.106Z"
      },
      {
        "duration": 23,
        "start_time": "2022-08-31T19:16:10.115Z"
      },
      {
        "duration": 3,
        "start_time": "2022-08-31T19:16:10.140Z"
      },
      {
        "duration": 15,
        "start_time": "2022-08-31T19:16:10.148Z"
      },
      {
        "duration": 209,
        "start_time": "2022-08-31T19:16:10.165Z"
      },
      {
        "duration": 13,
        "start_time": "2022-08-31T19:16:10.376Z"
      },
      {
        "duration": 16,
        "start_time": "2022-08-31T19:16:10.391Z"
      },
      {
        "duration": 19,
        "start_time": "2022-08-31T19:16:10.408Z"
      },
      {
        "duration": 10,
        "start_time": "2022-08-31T19:16:10.429Z"
      },
      {
        "duration": 12,
        "start_time": "2022-08-31T19:16:10.441Z"
      },
      {
        "duration": 12,
        "start_time": "2022-08-31T19:16:10.455Z"
      },
      {
        "duration": 35,
        "start_time": "2022-08-31T19:16:10.468Z"
      },
      {
        "duration": 15,
        "start_time": "2022-08-31T19:16:10.505Z"
      },
      {
        "duration": 4,
        "start_time": "2022-08-31T19:16:10.521Z"
      },
      {
        "duration": 9,
        "start_time": "2022-08-31T19:16:10.526Z"
      },
      {
        "duration": 257,
        "start_time": "2022-08-31T19:16:10.537Z"
      },
      {
        "duration": 15,
        "start_time": "2022-08-31T19:16:10.795Z"
      },
      {
        "duration": 15,
        "start_time": "2022-08-31T19:16:10.812Z"
      },
      {
        "duration": 7,
        "start_time": "2022-08-31T19:16:10.828Z"
      },
      {
        "duration": 15,
        "start_time": "2022-08-31T19:16:10.837Z"
      },
      {
        "duration": 6,
        "start_time": "2022-08-31T19:16:10.853Z"
      },
      {
        "duration": 15,
        "start_time": "2022-08-31T19:16:10.861Z"
      },
      {
        "duration": 10,
        "start_time": "2022-08-31T19:16:10.903Z"
      },
      {
        "duration": 7,
        "start_time": "2022-08-31T19:16:10.914Z"
      },
      {
        "duration": 22,
        "start_time": "2022-08-31T19:16:10.922Z"
      },
      {
        "duration": 3,
        "start_time": "2022-08-31T19:16:10.946Z"
      },
      {
        "duration": 8,
        "start_time": "2022-08-31T19:16:10.951Z"
      },
      {
        "duration": 1716,
        "start_time": "2022-08-31T19:16:10.960Z"
      },
      {
        "duration": 28,
        "start_time": "2022-08-31T19:16:12.677Z"
      },
      {
        "duration": 19,
        "start_time": "2022-08-31T19:16:12.707Z"
      },
      {
        "duration": 14,
        "start_time": "2022-08-31T19:16:12.728Z"
      },
      {
        "duration": 15,
        "start_time": "2022-08-31T19:16:12.743Z"
      },
      {
        "duration": 7,
        "start_time": "2022-08-31T19:16:12.759Z"
      },
      {
        "duration": 44,
        "start_time": "2022-08-31T19:16:12.768Z"
      },
      {
        "duration": 9,
        "start_time": "2022-08-31T19:16:12.814Z"
      },
      {
        "duration": 20,
        "start_time": "2022-08-31T19:16:12.825Z"
      },
      {
        "duration": 3,
        "start_time": "2022-08-31T19:16:12.847Z"
      },
      {
        "duration": 8,
        "start_time": "2022-08-31T19:16:12.852Z"
      },
      {
        "duration": 245,
        "start_time": "2022-08-31T19:16:12.862Z"
      },
      {
        "duration": 11,
        "start_time": "2022-08-31T19:16:13.109Z"
      },
      {
        "duration": 19,
        "start_time": "2022-08-31T19:16:13.121Z"
      },
      {
        "duration": 12,
        "start_time": "2022-08-31T19:16:13.141Z"
      },
      {
        "duration": 19,
        "start_time": "2022-08-31T19:16:13.155Z"
      },
      {
        "duration": 27,
        "start_time": "2022-08-31T19:16:13.175Z"
      },
      {
        "duration": 16,
        "start_time": "2022-08-31T19:16:13.204Z"
      },
      {
        "duration": 16,
        "start_time": "2022-08-31T19:16:13.221Z"
      },
      {
        "duration": 16,
        "start_time": "2022-08-31T19:16:13.239Z"
      },
      {
        "duration": 14,
        "start_time": "2022-08-31T19:16:13.257Z"
      },
      {
        "duration": 418,
        "start_time": "2022-08-31T19:16:13.273Z"
      },
      {
        "duration": 19,
        "start_time": "2022-08-31T19:16:13.693Z"
      },
      {
        "duration": 8,
        "start_time": "2022-08-31T19:16:13.714Z"
      },
      {
        "duration": 203,
        "start_time": "2022-08-31T19:16:13.724Z"
      },
      {
        "duration": 218,
        "start_time": "2022-08-31T19:16:13.928Z"
      },
      {
        "duration": 211,
        "start_time": "2022-08-31T19:16:14.148Z"
      },
      {
        "duration": 195,
        "start_time": "2022-08-31T19:16:14.361Z"
      },
      {
        "duration": 204,
        "start_time": "2022-08-31T19:16:14.558Z"
      },
      {
        "duration": 1035,
        "start_time": "2022-08-31T19:16:14.764Z"
      },
      {
        "duration": 7,
        "start_time": "2022-08-31T19:16:15.805Z"
      },
      {
        "duration": 29,
        "start_time": "2022-08-31T19:16:15.813Z"
      },
      {
        "duration": 41,
        "start_time": "2022-08-31T19:16:15.844Z"
      },
      {
        "duration": 310,
        "start_time": "2022-08-31T19:16:15.887Z"
      },
      {
        "duration": 264,
        "start_time": "2022-08-31T19:16:16.200Z"
      },
      {
        "duration": 5,
        "start_time": "2022-08-31T19:16:16.466Z"
      },
      {
        "duration": 926,
        "start_time": "2022-08-31T19:16:16.473Z"
      },
      {
        "duration": 430,
        "start_time": "2022-08-31T19:16:17.403Z"
      },
      {
        "duration": 50,
        "start_time": "2022-08-31T19:16:17.835Z"
      },
      {
        "duration": 371,
        "start_time": "2022-08-31T19:16:17.887Z"
      },
      {
        "duration": 334,
        "start_time": "2022-08-31T19:16:18.259Z"
      },
      {
        "duration": 10,
        "start_time": "2022-08-31T19:16:18.594Z"
      },
      {
        "duration": 171,
        "start_time": "2022-08-31T19:16:18.606Z"
      },
      {
        "duration": 205,
        "start_time": "2022-08-31T19:16:18.779Z"
      },
      {
        "duration": 18,
        "start_time": "2022-08-31T19:16:18.986Z"
      },
      {
        "duration": 11,
        "start_time": "2022-08-31T19:16:19.006Z"
      },
      {
        "duration": 21,
        "start_time": "2022-08-31T19:16:19.020Z"
      },
      {
        "duration": 48,
        "start_time": "2022-08-31T19:16:32.540Z"
      },
      {
        "duration": 40,
        "start_time": "2022-08-31T19:16:36.737Z"
      },
      {
        "duration": 41,
        "start_time": "2022-08-31T19:17:55.102Z"
      },
      {
        "duration": 40,
        "start_time": "2022-08-31T19:18:02.495Z"
      },
      {
        "duration": 62,
        "start_time": "2022-08-31T19:18:41.803Z"
      },
      {
        "duration": 416,
        "start_time": "2022-08-31T19:18:46.735Z"
      },
      {
        "duration": 70,
        "start_time": "2022-08-31T19:19:32.607Z"
      },
      {
        "duration": 124,
        "start_time": "2022-08-31T19:19:38.170Z"
      },
      {
        "duration": 29,
        "start_time": "2022-08-31T19:19:51.854Z"
      },
      {
        "duration": 20,
        "start_time": "2022-08-31T19:20:26.010Z"
      },
      {
        "duration": 22,
        "start_time": "2022-08-31T19:20:33.937Z"
      },
      {
        "duration": 22,
        "start_time": "2022-08-31T19:20:46.102Z"
      },
      {
        "duration": 24,
        "start_time": "2022-08-31T19:21:26.029Z"
      },
      {
        "duration": 1248,
        "start_time": "2022-08-31T19:21:33.451Z"
      },
      {
        "duration": 57,
        "start_time": "2022-08-31T19:21:34.702Z"
      },
      {
        "duration": 5,
        "start_time": "2022-08-31T19:21:34.761Z"
      },
      {
        "duration": 56,
        "start_time": "2022-08-31T19:21:34.767Z"
      },
      {
        "duration": 27,
        "start_time": "2022-08-31T19:21:34.826Z"
      },
      {
        "duration": 61,
        "start_time": "2022-08-31T19:21:34.855Z"
      },
      {
        "duration": 31,
        "start_time": "2022-08-31T19:21:34.918Z"
      },
      {
        "duration": 80,
        "start_time": "2022-08-31T19:21:34.951Z"
      },
      {
        "duration": 14,
        "start_time": "2022-08-31T19:21:35.033Z"
      },
      {
        "duration": 46,
        "start_time": "2022-08-31T19:21:35.049Z"
      },
      {
        "duration": 65,
        "start_time": "2022-08-31T19:21:35.097Z"
      },
      {
        "duration": 57,
        "start_time": "2022-08-31T19:21:35.164Z"
      },
      {
        "duration": 91,
        "start_time": "2022-08-31T19:21:35.223Z"
      },
      {
        "duration": 37,
        "start_time": "2022-08-31T19:21:35.317Z"
      },
      {
        "duration": 65,
        "start_time": "2022-08-31T19:21:35.356Z"
      },
      {
        "duration": 5,
        "start_time": "2022-08-31T19:21:35.422Z"
      },
      {
        "duration": 9,
        "start_time": "2022-08-31T19:21:35.429Z"
      },
      {
        "duration": 19,
        "start_time": "2022-08-31T19:21:35.440Z"
      },
      {
        "duration": 48,
        "start_time": "2022-08-31T19:21:35.461Z"
      },
      {
        "duration": 33,
        "start_time": "2022-08-31T19:21:35.511Z"
      },
      {
        "duration": 32,
        "start_time": "2022-08-31T19:21:35.546Z"
      },
      {
        "duration": 19,
        "start_time": "2022-08-31T19:21:35.579Z"
      },
      {
        "duration": 22,
        "start_time": "2022-08-31T19:21:35.600Z"
      },
      {
        "duration": 29,
        "start_time": "2022-08-31T19:21:35.624Z"
      },
      {
        "duration": 28,
        "start_time": "2022-08-31T19:21:35.655Z"
      },
      {
        "duration": 37,
        "start_time": "2022-08-31T19:21:35.685Z"
      },
      {
        "duration": 3,
        "start_time": "2022-08-31T19:21:35.724Z"
      },
      {
        "duration": 33,
        "start_time": "2022-08-31T19:21:35.729Z"
      },
      {
        "duration": 182,
        "start_time": "2022-08-31T19:21:35.764Z"
      },
      {
        "duration": 12,
        "start_time": "2022-08-31T19:21:35.948Z"
      },
      {
        "duration": 11,
        "start_time": "2022-08-31T19:21:35.961Z"
      },
      {
        "duration": 25,
        "start_time": "2022-08-31T19:21:35.974Z"
      },
      {
        "duration": 7,
        "start_time": "2022-08-31T19:21:36.002Z"
      },
      {
        "duration": 16,
        "start_time": "2022-08-31T19:21:36.011Z"
      },
      {
        "duration": 16,
        "start_time": "2022-08-31T19:21:36.028Z"
      },
      {
        "duration": 18,
        "start_time": "2022-08-31T19:21:36.046Z"
      },
      {
        "duration": 40,
        "start_time": "2022-08-31T19:21:36.065Z"
      },
      {
        "duration": 24,
        "start_time": "2022-08-31T19:21:36.106Z"
      },
      {
        "duration": 8,
        "start_time": "2022-08-31T19:21:36.131Z"
      },
      {
        "duration": 257,
        "start_time": "2022-08-31T19:21:36.141Z"
      },
      {
        "duration": 12,
        "start_time": "2022-08-31T19:21:36.403Z"
      },
      {
        "duration": 28,
        "start_time": "2022-08-31T19:21:36.417Z"
      },
      {
        "duration": 12,
        "start_time": "2022-08-31T19:21:36.447Z"
      },
      {
        "duration": 30,
        "start_time": "2022-08-31T19:21:36.461Z"
      },
      {
        "duration": 8,
        "start_time": "2022-08-31T19:21:36.492Z"
      },
      {
        "duration": 27,
        "start_time": "2022-08-31T19:21:36.502Z"
      },
      {
        "duration": 23,
        "start_time": "2022-08-31T19:21:36.530Z"
      },
      {
        "duration": 7,
        "start_time": "2022-08-31T19:21:36.555Z"
      },
      {
        "duration": 28,
        "start_time": "2022-08-31T19:21:36.564Z"
      },
      {
        "duration": 3,
        "start_time": "2022-08-31T19:21:36.594Z"
      },
      {
        "duration": 29,
        "start_time": "2022-08-31T19:21:36.599Z"
      },
      {
        "duration": 1629,
        "start_time": "2022-08-31T19:21:36.630Z"
      },
      {
        "duration": 28,
        "start_time": "2022-08-31T19:21:38.261Z"
      },
      {
        "duration": 20,
        "start_time": "2022-08-31T19:21:38.302Z"
      },
      {
        "duration": 17,
        "start_time": "2022-08-31T19:21:38.324Z"
      },
      {
        "duration": 14,
        "start_time": "2022-08-31T19:21:38.342Z"
      },
      {
        "duration": 8,
        "start_time": "2022-08-31T19:21:38.358Z"
      },
      {
        "duration": 38,
        "start_time": "2022-08-31T19:21:38.369Z"
      },
      {
        "duration": 9,
        "start_time": "2022-08-31T19:21:38.409Z"
      },
      {
        "duration": 21,
        "start_time": "2022-08-31T19:21:38.420Z"
      },
      {
        "duration": 4,
        "start_time": "2022-08-31T19:21:38.443Z"
      },
      {
        "duration": 10,
        "start_time": "2022-08-31T19:21:38.448Z"
      },
      {
        "duration": 241,
        "start_time": "2022-08-31T19:21:38.460Z"
      },
      {
        "duration": 11,
        "start_time": "2022-08-31T19:21:38.703Z"
      },
      {
        "duration": 18,
        "start_time": "2022-08-31T19:21:38.715Z"
      },
      {
        "duration": 15,
        "start_time": "2022-08-31T19:21:38.735Z"
      },
      {
        "duration": 15,
        "start_time": "2022-08-31T19:21:38.751Z"
      },
      {
        "duration": 4,
        "start_time": "2022-08-31T19:21:38.768Z"
      },
      {
        "duration": 43,
        "start_time": "2022-08-31T19:21:38.774Z"
      },
      {
        "duration": 17,
        "start_time": "2022-08-31T19:21:38.819Z"
      },
      {
        "duration": 21,
        "start_time": "2022-08-31T19:21:38.837Z"
      },
      {
        "duration": 44,
        "start_time": "2022-08-31T19:21:38.860Z"
      },
      {
        "duration": 443,
        "start_time": "2022-08-31T19:21:38.906Z"
      },
      {
        "duration": 16,
        "start_time": "2022-08-31T19:21:39.351Z"
      },
      {
        "duration": 4,
        "start_time": "2022-08-31T19:21:39.369Z"
      },
      {
        "duration": 216,
        "start_time": "2022-08-31T19:21:39.375Z"
      },
      {
        "duration": 227,
        "start_time": "2022-08-31T19:21:39.593Z"
      },
      {
        "duration": 228,
        "start_time": "2022-08-31T19:21:39.822Z"
      },
      {
        "duration": 208,
        "start_time": "2022-08-31T19:21:40.052Z"
      },
      {
        "duration": 220,
        "start_time": "2022-08-31T19:21:40.262Z"
      },
      {
        "duration": 1024,
        "start_time": "2022-08-31T19:21:40.484Z"
      },
      {
        "duration": 6,
        "start_time": "2022-08-31T19:21:41.510Z"
      },
      {
        "duration": 16,
        "start_time": "2022-08-31T19:21:41.518Z"
      },
      {
        "duration": 36,
        "start_time": "2022-08-31T19:21:41.536Z"
      },
      {
        "duration": 305,
        "start_time": "2022-08-31T19:21:41.574Z"
      },
      {
        "duration": 245,
        "start_time": "2022-08-31T19:21:41.881Z"
      },
      {
        "duration": 4,
        "start_time": "2022-08-31T19:21:42.128Z"
      },
      {
        "duration": 919,
        "start_time": "2022-08-31T19:21:42.133Z"
      },
      {
        "duration": 435,
        "start_time": "2022-08-31T19:21:43.054Z"
      },
      {
        "duration": 59,
        "start_time": "2022-08-31T19:21:43.491Z"
      },
      {
        "duration": 368,
        "start_time": "2022-08-31T19:21:43.552Z"
      },
      {
        "duration": 314,
        "start_time": "2022-08-31T19:21:43.921Z"
      },
      {
        "duration": 9,
        "start_time": "2022-08-31T19:21:44.237Z"
      },
      {
        "duration": 178,
        "start_time": "2022-08-31T19:21:44.248Z"
      },
      {
        "duration": 172,
        "start_time": "2022-08-31T19:21:44.428Z"
      },
      {
        "duration": 7,
        "start_time": "2022-08-31T19:21:44.602Z"
      },
      {
        "duration": 9,
        "start_time": "2022-08-31T19:21:44.611Z"
      },
      {
        "duration": 8,
        "start_time": "2022-08-31T19:21:44.622Z"
      },
      {
        "duration": 134,
        "start_time": "2022-08-31T19:21:44.632Z"
      },
      {
        "duration": 23,
        "start_time": "2022-08-31T19:21:52.665Z"
      },
      {
        "duration": 19,
        "start_time": "2022-08-31T19:22:14.244Z"
      },
      {
        "duration": 41,
        "start_time": "2022-08-31T19:22:20.713Z"
      },
      {
        "duration": 22,
        "start_time": "2022-08-31T19:22:23.265Z"
      },
      {
        "duration": 89,
        "start_time": "2022-08-31T19:28:31.458Z"
      },
      {
        "duration": 25,
        "start_time": "2022-08-31T19:28:37.488Z"
      },
      {
        "duration": 4,
        "start_time": "2022-08-31T19:29:02.010Z"
      },
      {
        "duration": 12,
        "start_time": "2022-08-31T19:29:04.893Z"
      },
      {
        "duration": 9,
        "start_time": "2022-08-31T19:29:38.472Z"
      },
      {
        "duration": 0,
        "start_time": "2022-08-31T19:29:49.468Z"
      },
      {
        "duration": 1714,
        "start_time": "2022-08-31T19:29:55.103Z"
      },
      {
        "duration": 53,
        "start_time": "2022-08-31T19:29:56.820Z"
      },
      {
        "duration": 6,
        "start_time": "2022-08-31T19:29:56.875Z"
      },
      {
        "duration": 27,
        "start_time": "2022-08-31T19:29:56.883Z"
      },
      {
        "duration": 18,
        "start_time": "2022-08-31T19:29:56.911Z"
      },
      {
        "duration": 23,
        "start_time": "2022-08-31T19:29:56.930Z"
      },
      {
        "duration": 16,
        "start_time": "2022-08-31T19:29:56.955Z"
      },
      {
        "duration": 53,
        "start_time": "2022-08-31T19:29:56.973Z"
      },
      {
        "duration": 9,
        "start_time": "2022-08-31T19:29:57.027Z"
      },
      {
        "duration": 13,
        "start_time": "2022-08-31T19:29:57.039Z"
      },
      {
        "duration": 54,
        "start_time": "2022-08-31T19:29:57.053Z"
      },
      {
        "duration": 41,
        "start_time": "2022-08-31T19:29:57.108Z"
      },
      {
        "duration": 34,
        "start_time": "2022-08-31T19:29:57.151Z"
      },
      {
        "duration": 35,
        "start_time": "2022-08-31T19:29:57.204Z"
      },
      {
        "duration": 61,
        "start_time": "2022-08-31T19:29:57.241Z"
      },
      {
        "duration": 4,
        "start_time": "2022-08-31T19:29:57.305Z"
      },
      {
        "duration": 5,
        "start_time": "2022-08-31T19:29:57.311Z"
      },
      {
        "duration": 7,
        "start_time": "2022-08-31T19:29:57.318Z"
      },
      {
        "duration": 19,
        "start_time": "2022-08-31T19:29:57.326Z"
      },
      {
        "duration": 21,
        "start_time": "2022-08-31T19:29:57.347Z"
      },
      {
        "duration": 47,
        "start_time": "2022-08-31T19:29:57.370Z"
      },
      {
        "duration": 13,
        "start_time": "2022-08-31T19:29:57.419Z"
      },
      {
        "duration": 11,
        "start_time": "2022-08-31T19:29:57.433Z"
      },
      {
        "duration": 11,
        "start_time": "2022-08-31T19:29:57.445Z"
      },
      {
        "duration": 7,
        "start_time": "2022-08-31T19:29:57.458Z"
      },
      {
        "duration": 48,
        "start_time": "2022-08-31T19:29:57.467Z"
      },
      {
        "duration": 3,
        "start_time": "2022-08-31T19:29:57.517Z"
      },
      {
        "duration": 10,
        "start_time": "2022-08-31T19:29:57.526Z"
      },
      {
        "duration": 187,
        "start_time": "2022-08-31T19:29:57.538Z"
      },
      {
        "duration": 11,
        "start_time": "2022-08-31T19:29:57.727Z"
      },
      {
        "duration": 5,
        "start_time": "2022-08-31T19:29:57.740Z"
      },
      {
        "duration": 15,
        "start_time": "2022-08-31T19:29:57.747Z"
      },
      {
        "duration": 6,
        "start_time": "2022-08-31T19:29:57.764Z"
      },
      {
        "duration": 8,
        "start_time": "2022-08-31T19:29:57.772Z"
      },
      {
        "duration": 30,
        "start_time": "2022-08-31T19:29:57.782Z"
      },
      {
        "duration": 6,
        "start_time": "2022-08-31T19:29:57.814Z"
      },
      {
        "duration": 14,
        "start_time": "2022-08-31T19:29:57.822Z"
      },
      {
        "duration": 3,
        "start_time": "2022-08-31T19:29:57.838Z"
      },
      {
        "duration": 9,
        "start_time": "2022-08-31T19:29:57.843Z"
      },
      {
        "duration": 247,
        "start_time": "2022-08-31T19:29:57.854Z"
      },
      {
        "duration": 11,
        "start_time": "2022-08-31T19:29:58.103Z"
      },
      {
        "duration": 14,
        "start_time": "2022-08-31T19:29:58.116Z"
      },
      {
        "duration": 7,
        "start_time": "2022-08-31T19:29:58.131Z"
      },
      {
        "duration": 13,
        "start_time": "2022-08-31T19:29:58.140Z"
      },
      {
        "duration": 6,
        "start_time": "2022-08-31T19:29:58.154Z"
      },
      {
        "duration": 41,
        "start_time": "2022-08-31T19:29:58.162Z"
      },
      {
        "duration": 10,
        "start_time": "2022-08-31T19:29:58.205Z"
      },
      {
        "duration": 7,
        "start_time": "2022-08-31T19:29:58.216Z"
      },
      {
        "duration": 20,
        "start_time": "2022-08-31T19:29:58.225Z"
      },
      {
        "duration": 4,
        "start_time": "2022-08-31T19:29:58.246Z"
      },
      {
        "duration": 9,
        "start_time": "2022-08-31T19:29:58.251Z"
      },
      {
        "duration": 1733,
        "start_time": "2022-08-31T19:29:58.261Z"
      },
      {
        "duration": 35,
        "start_time": "2022-08-31T19:29:59.997Z"
      },
      {
        "duration": 19,
        "start_time": "2022-08-31T19:30:00.034Z"
      },
      {
        "duration": 32,
        "start_time": "2022-08-31T19:30:00.054Z"
      },
      {
        "duration": 26,
        "start_time": "2022-08-31T19:30:00.088Z"
      },
      {
        "duration": 7,
        "start_time": "2022-08-31T19:30:00.117Z"
      },
      {
        "duration": 21,
        "start_time": "2022-08-31T19:30:00.126Z"
      },
      {
        "duration": 14,
        "start_time": "2022-08-31T19:30:00.149Z"
      },
      {
        "duration": 29,
        "start_time": "2022-08-31T19:30:00.165Z"
      },
      {
        "duration": 9,
        "start_time": "2022-08-31T19:30:00.196Z"
      },
      {
        "duration": 23,
        "start_time": "2022-08-31T19:30:00.207Z"
      },
      {
        "duration": 251,
        "start_time": "2022-08-31T19:30:00.232Z"
      },
      {
        "duration": 17,
        "start_time": "2022-08-31T19:30:00.485Z"
      },
      {
        "duration": 36,
        "start_time": "2022-08-31T19:30:00.504Z"
      },
      {
        "duration": 62,
        "start_time": "2022-08-31T19:30:00.543Z"
      },
      {
        "duration": 44,
        "start_time": "2022-08-31T19:30:00.606Z"
      },
      {
        "duration": 18,
        "start_time": "2022-08-31T19:30:00.652Z"
      },
      {
        "duration": 57,
        "start_time": "2022-08-31T19:30:00.673Z"
      },
      {
        "duration": 33,
        "start_time": "2022-08-31T19:30:00.732Z"
      },
      {
        "duration": 48,
        "start_time": "2022-08-31T19:30:00.767Z"
      },
      {
        "duration": 37,
        "start_time": "2022-08-31T19:30:00.817Z"
      },
      {
        "duration": 393,
        "start_time": "2022-08-31T19:30:00.855Z"
      },
      {
        "duration": 17,
        "start_time": "2022-08-31T19:30:01.250Z"
      },
      {
        "duration": 4,
        "start_time": "2022-08-31T19:30:01.269Z"
      },
      {
        "duration": 221,
        "start_time": "2022-08-31T19:30:01.275Z"
      },
      {
        "duration": 205,
        "start_time": "2022-08-31T19:30:01.498Z"
      },
      {
        "duration": 210,
        "start_time": "2022-08-31T19:30:01.704Z"
      },
      {
        "duration": 191,
        "start_time": "2022-08-31T19:30:01.916Z"
      },
      {
        "duration": 202,
        "start_time": "2022-08-31T19:30:02.109Z"
      },
      {
        "duration": 985,
        "start_time": "2022-08-31T19:30:02.312Z"
      },
      {
        "duration": 7,
        "start_time": "2022-08-31T19:30:03.304Z"
      },
      {
        "duration": 17,
        "start_time": "2022-08-31T19:30:03.313Z"
      },
      {
        "duration": 40,
        "start_time": "2022-08-31T19:30:03.332Z"
      },
      {
        "duration": 286,
        "start_time": "2022-08-31T19:30:03.375Z"
      },
      {
        "duration": 247,
        "start_time": "2022-08-31T19:30:03.663Z"
      },
      {
        "duration": 4,
        "start_time": "2022-08-31T19:30:03.912Z"
      },
      {
        "duration": 903,
        "start_time": "2022-08-31T19:30:03.918Z"
      },
      {
        "duration": 422,
        "start_time": "2022-08-31T19:30:04.823Z"
      },
      {
        "duration": 57,
        "start_time": "2022-08-31T19:30:05.247Z"
      },
      {
        "duration": 364,
        "start_time": "2022-08-31T19:30:05.305Z"
      },
      {
        "duration": 308,
        "start_time": "2022-08-31T19:30:05.670Z"
      },
      {
        "duration": 7,
        "start_time": "2022-08-31T19:30:05.980Z"
      },
      {
        "duration": 172,
        "start_time": "2022-08-31T19:30:05.989Z"
      },
      {
        "duration": 172,
        "start_time": "2022-08-31T19:30:06.163Z"
      },
      {
        "duration": 7,
        "start_time": "2022-08-31T19:30:06.337Z"
      },
      {
        "duration": 10,
        "start_time": "2022-08-31T19:30:06.345Z"
      },
      {
        "duration": 4,
        "start_time": "2022-08-31T19:30:06.357Z"
      },
      {
        "duration": 14,
        "start_time": "2022-08-31T19:30:06.362Z"
      },
      {
        "duration": 10112,
        "start_time": "2022-08-31T19:30:06.378Z"
      },
      {
        "duration": 31,
        "start_time": "2022-08-31T19:30:43.658Z"
      },
      {
        "duration": 111,
        "start_time": "2022-08-31T19:31:05.757Z"
      },
      {
        "duration": 14,
        "start_time": "2022-08-31T19:31:15.960Z"
      },
      {
        "duration": 16,
        "start_time": "2022-08-31T19:32:34.868Z"
      },
      {
        "duration": 180,
        "start_time": "2022-08-31T19:32:45.700Z"
      },
      {
        "duration": 180,
        "start_time": "2022-08-31T19:32:54.055Z"
      },
      {
        "duration": 155,
        "start_time": "2022-08-31T19:38:39.758Z"
      },
      {
        "duration": 166,
        "start_time": "2022-08-31T19:38:47.294Z"
      },
      {
        "duration": 166,
        "start_time": "2022-08-31T19:39:09.336Z"
      },
      {
        "duration": 161,
        "start_time": "2022-08-31T19:39:22.652Z"
      },
      {
        "duration": 167,
        "start_time": "2022-08-31T19:40:55.895Z"
      },
      {
        "duration": 309,
        "start_time": "2022-08-31T19:41:00.192Z"
      },
      {
        "duration": 295,
        "start_time": "2022-08-31T19:42:41.718Z"
      },
      {
        "duration": 11,
        "start_time": "2022-08-31T19:43:13.997Z"
      },
      {
        "duration": 16,
        "start_time": "2022-08-31T19:43:27.988Z"
      },
      {
        "duration": 47,
        "start_time": "2022-08-31T19:43:31.048Z"
      },
      {
        "duration": 39,
        "start_time": "2022-08-31T19:43:42.836Z"
      },
      {
        "duration": 319,
        "start_time": "2022-08-31T19:43:45.317Z"
      },
      {
        "duration": 314,
        "start_time": "2022-08-31T19:43:53.277Z"
      },
      {
        "duration": 330,
        "start_time": "2022-08-31T19:45:46.918Z"
      },
      {
        "duration": 320,
        "start_time": "2022-08-31T19:45:59.783Z"
      },
      {
        "duration": 324,
        "start_time": "2022-08-31T19:46:12.606Z"
      },
      {
        "duration": 318,
        "start_time": "2022-08-31T19:47:44.418Z"
      },
      {
        "duration": 342,
        "start_time": "2022-08-31T19:48:11.909Z"
      },
      {
        "duration": 479,
        "start_time": "2022-08-31T19:48:20.214Z"
      },
      {
        "duration": 339,
        "start_time": "2022-08-31T19:50:50.702Z"
      },
      {
        "duration": 333,
        "start_time": "2022-08-31T19:51:05.186Z"
      },
      {
        "duration": 6465,
        "start_time": "2022-08-31T19:52:18.674Z"
      },
      {
        "duration": 40,
        "start_time": "2022-08-31T19:52:39.691Z"
      },
      {
        "duration": 28,
        "start_time": "2022-08-31T19:52:53.649Z"
      },
      {
        "duration": 463,
        "start_time": "2022-08-31T19:54:55.431Z"
      },
      {
        "duration": 438,
        "start_time": "2022-08-31T19:55:03.910Z"
      },
      {
        "duration": 418,
        "start_time": "2022-08-31T19:55:23.376Z"
      },
      {
        "duration": 438,
        "start_time": "2022-08-31T19:56:11.964Z"
      },
      {
        "duration": 51,
        "start_time": "2022-08-31T19:56:41.381Z"
      },
      {
        "duration": 400,
        "start_time": "2022-08-31T19:56:46.541Z"
      },
      {
        "duration": 168,
        "start_time": "2022-08-31T19:59:07.136Z"
      },
      {
        "duration": 162,
        "start_time": "2022-08-31T19:59:19.477Z"
      },
      {
        "duration": 174,
        "start_time": "2022-08-31T19:59:25.430Z"
      },
      {
        "duration": 167,
        "start_time": "2022-08-31T19:59:35.361Z"
      },
      {
        "duration": 171,
        "start_time": "2022-08-31T19:59:52.118Z"
      },
      {
        "duration": 165,
        "start_time": "2022-08-31T20:00:07.820Z"
      },
      {
        "duration": 168,
        "start_time": "2022-08-31T20:00:15.252Z"
      },
      {
        "duration": 248,
        "start_time": "2022-08-31T20:02:29.852Z"
      },
      {
        "duration": 449,
        "start_time": "2022-08-31T20:02:47.224Z"
      },
      {
        "duration": 249,
        "start_time": "2022-08-31T20:03:16.520Z"
      },
      {
        "duration": 137,
        "start_time": "2022-08-31T20:03:26.652Z"
      },
      {
        "duration": 237,
        "start_time": "2022-08-31T20:03:29.254Z"
      },
      {
        "duration": 241,
        "start_time": "2022-08-31T20:03:59.555Z"
      },
      {
        "duration": 226,
        "start_time": "2022-08-31T20:04:10.624Z"
      },
      {
        "duration": 10,
        "start_time": "2022-08-31T20:07:51.371Z"
      },
      {
        "duration": 10,
        "start_time": "2022-08-31T20:08:05.769Z"
      },
      {
        "duration": 15,
        "start_time": "2022-08-31T20:08:19.185Z"
      },
      {
        "duration": 12,
        "start_time": "2022-08-31T20:08:33.567Z"
      },
      {
        "duration": 11,
        "start_time": "2022-08-31T20:08:49.694Z"
      },
      {
        "duration": 182,
        "start_time": "2022-08-31T20:08:52.700Z"
      },
      {
        "duration": 17,
        "start_time": "2022-08-31T20:13:40.378Z"
      },
      {
        "duration": 14,
        "start_time": "2022-08-31T20:13:48.263Z"
      },
      {
        "duration": 17,
        "start_time": "2022-08-31T20:13:52.687Z"
      },
      {
        "duration": 174,
        "start_time": "2022-08-31T20:14:21.858Z"
      },
      {
        "duration": 184,
        "start_time": "2022-08-31T20:14:30.157Z"
      },
      {
        "duration": 51,
        "start_time": "2022-08-31T20:15:12.568Z"
      },
      {
        "duration": 226,
        "start_time": "2022-08-31T20:15:18.399Z"
      },
      {
        "duration": 203,
        "start_time": "2022-08-31T20:18:11.984Z"
      },
      {
        "duration": 205,
        "start_time": "2022-08-31T20:18:17.513Z"
      },
      {
        "duration": 202,
        "start_time": "2022-08-31T20:18:27.814Z"
      },
      {
        "duration": 205,
        "start_time": "2022-08-31T20:18:52.036Z"
      },
      {
        "duration": 241,
        "start_time": "2022-08-31T20:19:50.233Z"
      },
      {
        "duration": 21844,
        "start_time": "2022-08-31T20:27:30.838Z"
      },
      {
        "duration": 455,
        "start_time": "2022-08-31T20:28:05.043Z"
      },
      {
        "duration": 1264,
        "start_time": "2022-08-31T20:28:31.383Z"
      },
      {
        "duration": 54,
        "start_time": "2022-08-31T20:28:32.649Z"
      },
      {
        "duration": 6,
        "start_time": "2022-08-31T20:28:32.704Z"
      },
      {
        "duration": 33,
        "start_time": "2022-08-31T20:28:32.711Z"
      },
      {
        "duration": 23,
        "start_time": "2022-08-31T20:28:32.746Z"
      },
      {
        "duration": 36,
        "start_time": "2022-08-31T20:28:32.770Z"
      },
      {
        "duration": 33,
        "start_time": "2022-08-31T20:28:32.809Z"
      },
      {
        "duration": 65,
        "start_time": "2022-08-31T20:28:32.843Z"
      },
      {
        "duration": 13,
        "start_time": "2022-08-31T20:28:32.909Z"
      },
      {
        "duration": 34,
        "start_time": "2022-08-31T20:28:32.924Z"
      },
      {
        "duration": 43,
        "start_time": "2022-08-31T20:28:32.959Z"
      },
      {
        "duration": 44,
        "start_time": "2022-08-31T20:28:33.004Z"
      },
      {
        "duration": 54,
        "start_time": "2022-08-31T20:28:33.050Z"
      },
      {
        "duration": 38,
        "start_time": "2022-08-31T20:28:33.105Z"
      },
      {
        "duration": 58,
        "start_time": "2022-08-31T20:28:33.145Z"
      },
      {
        "duration": 4,
        "start_time": "2022-08-31T20:28:33.205Z"
      },
      {
        "duration": 8,
        "start_time": "2022-08-31T20:28:33.211Z"
      },
      {
        "duration": 7,
        "start_time": "2022-08-31T20:28:33.220Z"
      },
      {
        "duration": 22,
        "start_time": "2022-08-31T20:28:33.229Z"
      },
      {
        "duration": 25,
        "start_time": "2022-08-31T20:28:33.253Z"
      },
      {
        "duration": 42,
        "start_time": "2022-08-31T20:28:33.280Z"
      },
      {
        "duration": 15,
        "start_time": "2022-08-31T20:28:33.323Z"
      },
      {
        "duration": 36,
        "start_time": "2022-08-31T20:28:33.341Z"
      },
      {
        "duration": 26,
        "start_time": "2022-08-31T20:28:33.379Z"
      },
      {
        "duration": 13,
        "start_time": "2022-08-31T20:28:33.407Z"
      },
      {
        "duration": 25,
        "start_time": "2022-08-31T20:28:33.422Z"
      },
      {
        "duration": 3,
        "start_time": "2022-08-31T20:28:33.449Z"
      },
      {
        "duration": 6,
        "start_time": "2022-08-31T20:28:33.458Z"
      },
      {
        "duration": 196,
        "start_time": "2022-08-31T20:28:33.465Z"
      },
      {
        "duration": 13,
        "start_time": "2022-08-31T20:28:33.663Z"
      },
      {
        "duration": 13,
        "start_time": "2022-08-31T20:28:33.679Z"
      },
      {
        "duration": 29,
        "start_time": "2022-08-31T20:28:33.694Z"
      },
      {
        "duration": 11,
        "start_time": "2022-08-31T20:28:33.725Z"
      },
      {
        "duration": 10,
        "start_time": "2022-08-31T20:28:33.737Z"
      },
      {
        "duration": 12,
        "start_time": "2022-08-31T20:28:33.749Z"
      },
      {
        "duration": 5,
        "start_time": "2022-08-31T20:28:33.763Z"
      },
      {
        "duration": 35,
        "start_time": "2022-08-31T20:28:33.770Z"
      },
      {
        "duration": 4,
        "start_time": "2022-08-31T20:28:33.806Z"
      },
      {
        "duration": 9,
        "start_time": "2022-08-31T20:28:33.811Z"
      },
      {
        "duration": 242,
        "start_time": "2022-08-31T20:28:33.822Z"
      },
      {
        "duration": 10,
        "start_time": "2022-08-31T20:28:34.066Z"
      },
      {
        "duration": 25,
        "start_time": "2022-08-31T20:28:34.078Z"
      },
      {
        "duration": 7,
        "start_time": "2022-08-31T20:28:34.105Z"
      },
      {
        "duration": 21,
        "start_time": "2022-08-31T20:28:34.114Z"
      },
      {
        "duration": 6,
        "start_time": "2022-08-31T20:28:34.137Z"
      },
      {
        "duration": 11,
        "start_time": "2022-08-31T20:28:34.145Z"
      },
      {
        "duration": 10,
        "start_time": "2022-08-31T20:28:34.157Z"
      },
      {
        "duration": 7,
        "start_time": "2022-08-31T20:28:34.169Z"
      },
      {
        "duration": 43,
        "start_time": "2022-08-31T20:28:34.178Z"
      },
      {
        "duration": 4,
        "start_time": "2022-08-31T20:28:34.222Z"
      },
      {
        "duration": 10,
        "start_time": "2022-08-31T20:28:34.228Z"
      },
      {
        "duration": 1676,
        "start_time": "2022-08-31T20:28:34.239Z"
      },
      {
        "duration": 28,
        "start_time": "2022-08-31T20:28:35.917Z"
      },
      {
        "duration": 18,
        "start_time": "2022-08-31T20:28:35.947Z"
      },
      {
        "duration": 17,
        "start_time": "2022-08-31T20:28:35.967Z"
      },
      {
        "duration": 15,
        "start_time": "2022-08-31T20:28:36.002Z"
      },
      {
        "duration": 8,
        "start_time": "2022-08-31T20:28:36.019Z"
      },
      {
        "duration": 12,
        "start_time": "2022-08-31T20:28:36.029Z"
      },
      {
        "duration": 8,
        "start_time": "2022-08-31T20:28:36.042Z"
      },
      {
        "duration": 18,
        "start_time": "2022-08-31T20:28:36.051Z"
      },
      {
        "duration": 3,
        "start_time": "2022-08-31T20:28:36.104Z"
      },
      {
        "duration": 12,
        "start_time": "2022-08-31T20:28:36.109Z"
      },
      {
        "duration": 216,
        "start_time": "2022-08-31T20:28:36.123Z"
      },
      {
        "duration": 11,
        "start_time": "2022-08-31T20:28:36.341Z"
      },
      {
        "duration": 17,
        "start_time": "2022-08-31T20:28:36.353Z"
      },
      {
        "duration": 11,
        "start_time": "2022-08-31T20:28:36.372Z"
      },
      {
        "duration": 32,
        "start_time": "2022-08-31T20:28:36.384Z"
      },
      {
        "duration": 6,
        "start_time": "2022-08-31T20:28:36.418Z"
      },
      {
        "duration": 18,
        "start_time": "2022-08-31T20:28:36.426Z"
      },
      {
        "duration": 20,
        "start_time": "2022-08-31T20:28:36.446Z"
      },
      {
        "duration": 34,
        "start_time": "2022-08-31T20:28:36.468Z"
      },
      {
        "duration": 15,
        "start_time": "2022-08-31T20:28:36.504Z"
      },
      {
        "duration": 386,
        "start_time": "2022-08-31T20:28:36.520Z"
      },
      {
        "duration": 17,
        "start_time": "2022-08-31T20:28:36.908Z"
      },
      {
        "duration": 352,
        "start_time": "2022-08-31T20:28:36.926Z"
      },
      {
        "duration": 4,
        "start_time": "2022-08-31T20:28:37.279Z"
      },
      {
        "duration": 221,
        "start_time": "2022-08-31T20:28:37.285Z"
      },
      {
        "duration": 219,
        "start_time": "2022-08-31T20:28:37.508Z"
      },
      {
        "duration": 205,
        "start_time": "2022-08-31T20:28:37.730Z"
      },
      {
        "duration": 197,
        "start_time": "2022-08-31T20:28:37.937Z"
      },
      {
        "duration": 290,
        "start_time": "2022-08-31T20:28:38.136Z"
      },
      {
        "duration": 956,
        "start_time": "2022-08-31T20:28:38.434Z"
      },
      {
        "duration": 14,
        "start_time": "2022-08-31T20:28:39.391Z"
      },
      {
        "duration": 15,
        "start_time": "2022-08-31T20:28:39.407Z"
      },
      {
        "duration": 35,
        "start_time": "2022-08-31T20:28:39.423Z"
      },
      {
        "duration": 270,
        "start_time": "2022-08-31T20:28:39.461Z"
      },
      {
        "duration": 262,
        "start_time": "2022-08-31T20:28:39.733Z"
      },
      {
        "duration": 7,
        "start_time": "2022-08-31T20:28:39.997Z"
      },
      {
        "duration": 956,
        "start_time": "2022-08-31T20:28:40.006Z"
      },
      {
        "duration": 432,
        "start_time": "2022-08-31T20:28:40.964Z"
      },
      {
        "duration": 51,
        "start_time": "2022-08-31T20:28:41.398Z"
      },
      {
        "duration": 462,
        "start_time": "2022-08-31T20:28:41.450Z"
      },
      {
        "duration": 218,
        "start_time": "2022-08-31T20:28:41.913Z"
      },
      {
        "duration": 8,
        "start_time": "2022-08-31T20:28:42.133Z"
      },
      {
        "duration": 174,
        "start_time": "2022-08-31T20:28:42.142Z"
      },
      {
        "duration": 176,
        "start_time": "2022-08-31T20:28:42.318Z"
      },
      {
        "duration": 8,
        "start_time": "2022-08-31T20:28:42.502Z"
      },
      {
        "duration": 13,
        "start_time": "2022-08-31T20:28:42.512Z"
      },
      {
        "duration": 7,
        "start_time": "2022-08-31T20:28:42.527Z"
      },
      {
        "duration": 438,
        "start_time": "2022-08-31T20:28:42.536Z"
      },
      {
        "duration": 27,
        "start_time": "2022-08-31T20:28:42.976Z"
      },
      {
        "duration": 253,
        "start_time": "2022-08-31T20:28:43.005Z"
      },
      {
        "duration": 696,
        "start_time": "2022-08-31T20:29:08.987Z"
      },
      {
        "duration": 831,
        "start_time": "2022-08-31T20:29:43.558Z"
      },
      {
        "duration": 767,
        "start_time": "2022-08-31T20:29:52.307Z"
      },
      {
        "duration": 15,
        "start_time": "2022-08-31T20:30:58.633Z"
      },
      {
        "duration": 29,
        "start_time": "2022-08-31T20:31:04.547Z"
      },
      {
        "duration": 20,
        "start_time": "2022-08-31T20:31:30.761Z"
      },
      {
        "duration": 21,
        "start_time": "2022-08-31T20:31:37.159Z"
      },
      {
        "duration": 21,
        "start_time": "2022-08-31T20:31:56.659Z"
      },
      {
        "duration": 23,
        "start_time": "2022-08-31T20:32:05.458Z"
      },
      {
        "duration": 428,
        "start_time": "2022-08-31T20:33:27.063Z"
      },
      {
        "duration": 448,
        "start_time": "2022-08-31T20:33:35.306Z"
      },
      {
        "duration": 234,
        "start_time": "2022-08-31T20:33:44.599Z"
      },
      {
        "duration": 1230,
        "start_time": "2022-08-31T20:33:52.787Z"
      },
      {
        "duration": 55,
        "start_time": "2022-08-31T20:33:54.019Z"
      },
      {
        "duration": 6,
        "start_time": "2022-08-31T20:33:54.075Z"
      },
      {
        "duration": 25,
        "start_time": "2022-08-31T20:33:54.083Z"
      },
      {
        "duration": 17,
        "start_time": "2022-08-31T20:33:54.110Z"
      },
      {
        "duration": 16,
        "start_time": "2022-08-31T20:33:54.129Z"
      },
      {
        "duration": 17,
        "start_time": "2022-08-31T20:33:54.147Z"
      },
      {
        "duration": 61,
        "start_time": "2022-08-31T20:33:54.165Z"
      },
      {
        "duration": 8,
        "start_time": "2022-08-31T20:33:54.228Z"
      },
      {
        "duration": 11,
        "start_time": "2022-08-31T20:33:54.239Z"
      },
      {
        "duration": 64,
        "start_time": "2022-08-31T20:33:54.251Z"
      },
      {
        "duration": 41,
        "start_time": "2022-08-31T20:33:54.316Z"
      },
      {
        "duration": 57,
        "start_time": "2022-08-31T20:33:54.359Z"
      },
      {
        "duration": 36,
        "start_time": "2022-08-31T20:33:54.418Z"
      },
      {
        "duration": 57,
        "start_time": "2022-08-31T20:33:54.455Z"
      },
      {
        "duration": 4,
        "start_time": "2022-08-31T20:33:54.514Z"
      },
      {
        "duration": 5,
        "start_time": "2022-08-31T20:33:54.520Z"
      },
      {
        "duration": 8,
        "start_time": "2022-08-31T20:33:54.527Z"
      },
      {
        "duration": 19,
        "start_time": "2022-08-31T20:33:54.537Z"
      },
      {
        "duration": 22,
        "start_time": "2022-08-31T20:33:54.557Z"
      },
      {
        "duration": 39,
        "start_time": "2022-08-31T20:33:54.580Z"
      },
      {
        "duration": 13,
        "start_time": "2022-08-31T20:33:54.621Z"
      },
      {
        "duration": 8,
        "start_time": "2022-08-31T20:33:54.636Z"
      },
      {
        "duration": 8,
        "start_time": "2022-08-31T20:33:54.645Z"
      },
      {
        "duration": 10,
        "start_time": "2022-08-31T20:33:54.654Z"
      },
      {
        "duration": 52,
        "start_time": "2022-08-31T20:33:54.666Z"
      },
      {
        "duration": 3,
        "start_time": "2022-08-31T20:33:54.720Z"
      },
      {
        "duration": 5,
        "start_time": "2022-08-31T20:33:54.728Z"
      },
      {
        "duration": 185,
        "start_time": "2022-08-31T20:33:54.734Z"
      },
      {
        "duration": 11,
        "start_time": "2022-08-31T20:33:54.921Z"
      },
      {
        "duration": 6,
        "start_time": "2022-08-31T20:33:54.933Z"
      },
      {
        "duration": 17,
        "start_time": "2022-08-31T20:33:54.941Z"
      },
      {
        "duration": 8,
        "start_time": "2022-08-31T20:33:54.960Z"
      },
      {
        "duration": 10,
        "start_time": "2022-08-31T20:33:54.970Z"
      },
      {
        "duration": 28,
        "start_time": "2022-08-31T20:33:54.982Z"
      },
      {
        "duration": 7,
        "start_time": "2022-08-31T20:33:55.011Z"
      },
      {
        "duration": 14,
        "start_time": "2022-08-31T20:33:55.019Z"
      },
      {
        "duration": 3,
        "start_time": "2022-08-31T20:33:55.035Z"
      },
      {
        "duration": 10,
        "start_time": "2022-08-31T20:33:55.040Z"
      },
      {
        "duration": 262,
        "start_time": "2022-08-31T20:33:55.051Z"
      },
      {
        "duration": 11,
        "start_time": "2022-08-31T20:33:55.314Z"
      },
      {
        "duration": 14,
        "start_time": "2022-08-31T20:33:55.327Z"
      },
      {
        "duration": 7,
        "start_time": "2022-08-31T20:33:55.342Z"
      },
      {
        "duration": 11,
        "start_time": "2022-08-31T20:33:55.350Z"
      },
      {
        "duration": 5,
        "start_time": "2022-08-31T20:33:55.363Z"
      },
      {
        "duration": 40,
        "start_time": "2022-08-31T20:33:55.370Z"
      },
      {
        "duration": 12,
        "start_time": "2022-08-31T20:33:55.411Z"
      },
      {
        "duration": 8,
        "start_time": "2022-08-31T20:33:55.425Z"
      },
      {
        "duration": 21,
        "start_time": "2022-08-31T20:33:55.434Z"
      },
      {
        "duration": 4,
        "start_time": "2022-08-31T20:33:55.457Z"
      },
      {
        "duration": 40,
        "start_time": "2022-08-31T20:33:55.463Z"
      },
      {
        "duration": 1556,
        "start_time": "2022-08-31T20:33:55.505Z"
      },
      {
        "duration": 23,
        "start_time": "2022-08-31T20:33:57.063Z"
      },
      {
        "duration": 29,
        "start_time": "2022-08-31T20:33:57.088Z"
      },
      {
        "duration": 12,
        "start_time": "2022-08-31T20:33:57.119Z"
      },
      {
        "duration": 13,
        "start_time": "2022-08-31T20:33:57.133Z"
      },
      {
        "duration": 7,
        "start_time": "2022-08-31T20:33:57.148Z"
      },
      {
        "duration": 10,
        "start_time": "2022-08-31T20:33:57.156Z"
      },
      {
        "duration": 8,
        "start_time": "2022-08-31T20:33:57.202Z"
      },
      {
        "duration": 25,
        "start_time": "2022-08-31T20:33:57.211Z"
      },
      {
        "duration": 3,
        "start_time": "2022-08-31T20:33:57.238Z"
      },
      {
        "duration": 8,
        "start_time": "2022-08-31T20:33:57.242Z"
      },
      {
        "duration": 237,
        "start_time": "2022-08-31T20:33:57.251Z"
      },
      {
        "duration": 17,
        "start_time": "2022-08-31T20:33:57.490Z"
      },
      {
        "duration": 16,
        "start_time": "2022-08-31T20:33:57.509Z"
      },
      {
        "duration": 17,
        "start_time": "2022-08-31T20:33:57.528Z"
      },
      {
        "duration": 21,
        "start_time": "2022-08-31T20:33:57.547Z"
      },
      {
        "duration": 4,
        "start_time": "2022-08-31T20:33:57.569Z"
      },
      {
        "duration": 39,
        "start_time": "2022-08-31T20:33:57.575Z"
      },
      {
        "duration": 15,
        "start_time": "2022-08-31T20:33:57.616Z"
      },
      {
        "duration": 15,
        "start_time": "2022-08-31T20:33:57.633Z"
      },
      {
        "duration": 15,
        "start_time": "2022-08-31T20:33:57.649Z"
      },
      {
        "duration": 388,
        "start_time": "2022-08-31T20:33:57.665Z"
      },
      {
        "duration": 17,
        "start_time": "2022-08-31T20:33:58.055Z"
      },
      {
        "duration": 360,
        "start_time": "2022-08-31T20:33:58.074Z"
      },
      {
        "duration": 5,
        "start_time": "2022-08-31T20:33:58.436Z"
      },
      {
        "duration": 199,
        "start_time": "2022-08-31T20:33:58.443Z"
      },
      {
        "duration": 209,
        "start_time": "2022-08-31T20:33:58.644Z"
      },
      {
        "duration": 250,
        "start_time": "2022-08-31T20:33:58.855Z"
      },
      {
        "duration": 204,
        "start_time": "2022-08-31T20:33:59.106Z"
      },
      {
        "duration": 283,
        "start_time": "2022-08-31T20:33:59.312Z"
      },
      {
        "duration": 907,
        "start_time": "2022-08-31T20:33:59.603Z"
      },
      {
        "duration": 7,
        "start_time": "2022-08-31T20:34:00.511Z"
      },
      {
        "duration": 28,
        "start_time": "2022-08-31T20:34:00.520Z"
      },
      {
        "duration": 61,
        "start_time": "2022-08-31T20:34:00.550Z"
      },
      {
        "duration": 258,
        "start_time": "2022-08-31T20:34:00.612Z"
      },
      {
        "duration": 246,
        "start_time": "2022-08-31T20:34:00.872Z"
      },
      {
        "duration": 4,
        "start_time": "2022-08-31T20:34:01.120Z"
      },
      {
        "duration": 957,
        "start_time": "2022-08-31T20:34:01.125Z"
      },
      {
        "duration": 444,
        "start_time": "2022-08-31T20:34:02.084Z"
      },
      {
        "duration": 53,
        "start_time": "2022-08-31T20:34:02.530Z"
      },
      {
        "duration": 455,
        "start_time": "2022-08-31T20:34:02.585Z"
      },
      {
        "duration": 222,
        "start_time": "2022-08-31T20:34:03.042Z"
      },
      {
        "duration": 8,
        "start_time": "2022-08-31T20:34:03.266Z"
      },
      {
        "duration": 197,
        "start_time": "2022-08-31T20:34:03.276Z"
      },
      {
        "duration": 192,
        "start_time": "2022-08-31T20:34:03.475Z"
      },
      {
        "duration": 8,
        "start_time": "2022-08-31T20:34:03.669Z"
      },
      {
        "duration": 25,
        "start_time": "2022-08-31T20:34:03.678Z"
      },
      {
        "duration": 7,
        "start_time": "2022-08-31T20:34:03.705Z"
      },
      {
        "duration": 21,
        "start_time": "2022-08-31T20:34:03.714Z"
      },
      {
        "duration": 15,
        "start_time": "2022-08-31T20:34:03.737Z"
      },
      {
        "duration": 260,
        "start_time": "2022-08-31T20:34:03.754Z"
      },
      {
        "duration": 210,
        "start_time": "2022-08-31T20:36:28.671Z"
      },
      {
        "duration": 1209,
        "start_time": "2022-08-31T20:36:45.523Z"
      },
      {
        "duration": 58,
        "start_time": "2022-08-31T20:36:46.734Z"
      },
      {
        "duration": 5,
        "start_time": "2022-08-31T20:36:46.794Z"
      },
      {
        "duration": 24,
        "start_time": "2022-08-31T20:36:46.801Z"
      },
      {
        "duration": 16,
        "start_time": "2022-08-31T20:36:46.827Z"
      },
      {
        "duration": 17,
        "start_time": "2022-08-31T20:36:46.845Z"
      },
      {
        "duration": 17,
        "start_time": "2022-08-31T20:36:46.864Z"
      },
      {
        "duration": 32,
        "start_time": "2022-08-31T20:36:46.903Z"
      },
      {
        "duration": 10,
        "start_time": "2022-08-31T20:36:46.937Z"
      },
      {
        "duration": 13,
        "start_time": "2022-08-31T20:36:46.950Z"
      },
      {
        "duration": 58,
        "start_time": "2022-08-31T20:36:46.964Z"
      },
      {
        "duration": 40,
        "start_time": "2022-08-31T20:36:47.024Z"
      },
      {
        "duration": 52,
        "start_time": "2022-08-31T20:36:47.066Z"
      },
      {
        "duration": 35,
        "start_time": "2022-08-31T20:36:47.120Z"
      },
      {
        "duration": 59,
        "start_time": "2022-08-31T20:36:47.157Z"
      },
      {
        "duration": 4,
        "start_time": "2022-08-31T20:36:47.218Z"
      },
      {
        "duration": 14,
        "start_time": "2022-08-31T20:36:47.223Z"
      },
      {
        "duration": 13,
        "start_time": "2022-08-31T20:36:47.239Z"
      },
      {
        "duration": 24,
        "start_time": "2022-08-31T20:36:47.254Z"
      },
      {
        "duration": 18,
        "start_time": "2022-08-31T20:36:47.280Z"
      },
      {
        "duration": 24,
        "start_time": "2022-08-31T20:36:47.303Z"
      },
      {
        "duration": 14,
        "start_time": "2022-08-31T20:36:47.328Z"
      },
      {
        "duration": 8,
        "start_time": "2022-08-31T20:36:47.343Z"
      },
      {
        "duration": 7,
        "start_time": "2022-08-31T20:36:47.353Z"
      },
      {
        "duration": 9,
        "start_time": "2022-08-31T20:36:47.361Z"
      },
      {
        "duration": 46,
        "start_time": "2022-08-31T20:36:47.372Z"
      },
      {
        "duration": 4,
        "start_time": "2022-08-31T20:36:47.419Z"
      },
      {
        "duration": 8,
        "start_time": "2022-08-31T20:36:47.429Z"
      },
      {
        "duration": 200,
        "start_time": "2022-08-31T20:36:47.439Z"
      },
      {
        "duration": 12,
        "start_time": "2022-08-31T20:36:47.641Z"
      },
      {
        "duration": 9,
        "start_time": "2022-08-31T20:36:47.655Z"
      },
      {
        "duration": 16,
        "start_time": "2022-08-31T20:36:47.666Z"
      },
      {
        "duration": 20,
        "start_time": "2022-08-31T20:36:47.684Z"
      },
      {
        "duration": 8,
        "start_time": "2022-08-31T20:36:47.706Z"
      },
      {
        "duration": 11,
        "start_time": "2022-08-31T20:36:47.716Z"
      },
      {
        "duration": 6,
        "start_time": "2022-08-31T20:36:47.728Z"
      },
      {
        "duration": 18,
        "start_time": "2022-08-31T20:36:47.735Z"
      },
      {
        "duration": 3,
        "start_time": "2022-08-31T20:36:47.754Z"
      },
      {
        "duration": 9,
        "start_time": "2022-08-31T20:36:47.759Z"
      },
      {
        "duration": 255,
        "start_time": "2022-08-31T20:36:47.769Z"
      },
      {
        "duration": 11,
        "start_time": "2022-08-31T20:36:48.026Z"
      },
      {
        "duration": 25,
        "start_time": "2022-08-31T20:36:48.039Z"
      },
      {
        "duration": 8,
        "start_time": "2022-08-31T20:36:48.065Z"
      },
      {
        "duration": 28,
        "start_time": "2022-08-31T20:36:48.075Z"
      },
      {
        "duration": 7,
        "start_time": "2022-08-31T20:36:48.104Z"
      },
      {
        "duration": 10,
        "start_time": "2022-08-31T20:36:48.113Z"
      },
      {
        "duration": 11,
        "start_time": "2022-08-31T20:36:48.125Z"
      },
      {
        "duration": 6,
        "start_time": "2022-08-31T20:36:48.138Z"
      },
      {
        "duration": 19,
        "start_time": "2022-08-31T20:36:48.145Z"
      },
      {
        "duration": 37,
        "start_time": "2022-08-31T20:36:48.166Z"
      },
      {
        "duration": 11,
        "start_time": "2022-08-31T20:36:48.205Z"
      },
      {
        "duration": 1680,
        "start_time": "2022-08-31T20:36:48.218Z"
      },
      {
        "duration": 28,
        "start_time": "2022-08-31T20:36:49.899Z"
      },
      {
        "duration": 18,
        "start_time": "2022-08-31T20:36:49.929Z"
      },
      {
        "duration": 11,
        "start_time": "2022-08-31T20:36:49.949Z"
      },
      {
        "duration": 12,
        "start_time": "2022-08-31T20:36:49.962Z"
      },
      {
        "duration": 8,
        "start_time": "2022-08-31T20:36:50.003Z"
      },
      {
        "duration": 21,
        "start_time": "2022-08-31T20:36:50.012Z"
      },
      {
        "duration": 8,
        "start_time": "2022-08-31T20:36:50.035Z"
      },
      {
        "duration": 17,
        "start_time": "2022-08-31T20:36:50.045Z"
      },
      {
        "duration": 4,
        "start_time": "2022-08-31T20:36:50.064Z"
      },
      {
        "duration": 32,
        "start_time": "2022-08-31T20:36:50.071Z"
      },
      {
        "duration": 218,
        "start_time": "2022-08-31T20:36:50.105Z"
      },
      {
        "duration": 11,
        "start_time": "2022-08-31T20:36:50.325Z"
      },
      {
        "duration": 16,
        "start_time": "2022-08-31T20:36:50.338Z"
      },
      {
        "duration": 12,
        "start_time": "2022-08-31T20:36:50.355Z"
      },
      {
        "duration": 34,
        "start_time": "2022-08-31T20:36:50.368Z"
      },
      {
        "duration": 6,
        "start_time": "2022-08-31T20:36:50.404Z"
      },
      {
        "duration": 24,
        "start_time": "2022-08-31T20:36:50.412Z"
      },
      {
        "duration": 16,
        "start_time": "2022-08-31T20:36:50.438Z"
      },
      {
        "duration": 21,
        "start_time": "2022-08-31T20:36:50.455Z"
      },
      {
        "duration": 35,
        "start_time": "2022-08-31T20:36:50.477Z"
      },
      {
        "duration": 380,
        "start_time": "2022-08-31T20:36:50.513Z"
      },
      {
        "duration": 20,
        "start_time": "2022-08-31T20:36:50.905Z"
      },
      {
        "duration": 353,
        "start_time": "2022-08-31T20:36:50.927Z"
      },
      {
        "duration": 3,
        "start_time": "2022-08-31T20:36:51.282Z"
      },
      {
        "duration": 206,
        "start_time": "2022-08-31T20:36:51.287Z"
      },
      {
        "duration": 213,
        "start_time": "2022-08-31T20:36:51.494Z"
      },
      {
        "duration": 211,
        "start_time": "2022-08-31T20:36:51.709Z"
      },
      {
        "duration": 204,
        "start_time": "2022-08-31T20:36:51.922Z"
      },
      {
        "duration": 284,
        "start_time": "2022-08-31T20:36:52.128Z"
      },
      {
        "duration": 904,
        "start_time": "2022-08-31T20:36:52.418Z"
      },
      {
        "duration": 7,
        "start_time": "2022-08-31T20:36:53.324Z"
      },
      {
        "duration": 15,
        "start_time": "2022-08-31T20:36:53.332Z"
      },
      {
        "duration": 33,
        "start_time": "2022-08-31T20:36:53.349Z"
      },
      {
        "duration": 267,
        "start_time": "2022-08-31T20:36:53.384Z"
      },
      {
        "duration": 235,
        "start_time": "2022-08-31T20:36:53.653Z"
      },
      {
        "duration": 3,
        "start_time": "2022-08-31T20:36:53.890Z"
      },
      {
        "duration": 879,
        "start_time": "2022-08-31T20:36:53.903Z"
      },
      {
        "duration": 405,
        "start_time": "2022-08-31T20:36:54.784Z"
      },
      {
        "duration": 55,
        "start_time": "2022-08-31T20:36:55.191Z"
      },
      {
        "duration": 461,
        "start_time": "2022-08-31T20:36:55.248Z"
      },
      {
        "duration": 198,
        "start_time": "2022-08-31T20:36:55.711Z"
      },
      {
        "duration": 8,
        "start_time": "2022-08-31T20:36:55.911Z"
      },
      {
        "duration": 196,
        "start_time": "2022-08-31T20:36:55.921Z"
      },
      {
        "duration": 166,
        "start_time": "2022-08-31T20:36:56.119Z"
      },
      {
        "duration": 20,
        "start_time": "2022-08-31T20:36:56.287Z"
      },
      {
        "duration": 22,
        "start_time": "2022-08-31T20:36:56.309Z"
      },
      {
        "duration": 9,
        "start_time": "2022-08-31T20:36:56.333Z"
      },
      {
        "duration": 28,
        "start_time": "2022-08-31T20:36:56.343Z"
      },
      {
        "duration": 17,
        "start_time": "2022-08-31T20:36:56.373Z"
      },
      {
        "duration": 235,
        "start_time": "2022-08-31T20:36:56.392Z"
      },
      {
        "duration": 119,
        "start_time": "2022-08-31T20:39:57.790Z"
      },
      {
        "duration": 18,
        "start_time": "2022-08-31T20:40:08.506Z"
      },
      {
        "duration": 22,
        "start_time": "2022-08-31T20:40:16.749Z"
      },
      {
        "duration": 28,
        "start_time": "2022-08-31T20:40:34.859Z"
      },
      {
        "duration": 22,
        "start_time": "2022-08-31T20:46:47.202Z"
      },
      {
        "duration": 1003,
        "start_time": "2022-08-31T20:47:12.858Z"
      },
      {
        "duration": 796,
        "start_time": "2022-08-31T20:47:24.323Z"
      },
      {
        "duration": 26,
        "start_time": "2022-08-31T20:47:36.042Z"
      },
      {
        "duration": 17,
        "start_time": "2022-08-31T20:48:09.910Z"
      },
      {
        "duration": 17,
        "start_time": "2022-08-31T20:48:13.458Z"
      },
      {
        "duration": 17,
        "start_time": "2022-08-31T20:48:21.470Z"
      },
      {
        "duration": 242,
        "start_time": "2022-08-31T20:48:52.487Z"
      },
      {
        "duration": 233,
        "start_time": "2022-08-31T20:49:21.621Z"
      },
      {
        "duration": 21,
        "start_time": "2022-08-31T20:49:27.441Z"
      },
      {
        "duration": 12,
        "start_time": "2022-08-31T21:03:49.615Z"
      },
      {
        "duration": 15,
        "start_time": "2022-08-31T21:04:57.571Z"
      },
      {
        "duration": 14,
        "start_time": "2022-08-31T21:05:10.739Z"
      },
      {
        "duration": 80,
        "start_time": "2022-08-31T21:05:11.385Z"
      },
      {
        "duration": 80,
        "start_time": "2022-08-31T21:05:15.977Z"
      },
      {
        "duration": 404,
        "start_time": "2022-08-31T21:05:25.709Z"
      },
      {
        "duration": 533,
        "start_time": "2022-08-31T21:05:55.033Z"
      },
      {
        "duration": 443,
        "start_time": "2022-08-31T21:07:23.846Z"
      },
      {
        "duration": 21,
        "start_time": "2022-08-31T21:08:07.343Z"
      },
      {
        "duration": 453,
        "start_time": "2022-08-31T21:08:48.206Z"
      },
      {
        "duration": 467,
        "start_time": "2022-08-31T21:09:24.623Z"
      },
      {
        "duration": 456,
        "start_time": "2022-08-31T21:09:37.240Z"
      },
      {
        "duration": 562,
        "start_time": "2022-08-31T21:17:35.163Z"
      },
      {
        "duration": 19,
        "start_time": "2022-08-31T21:18:37.692Z"
      },
      {
        "duration": 528,
        "start_time": "2022-08-31T21:18:41.103Z"
      },
      {
        "duration": 496,
        "start_time": "2022-08-31T21:18:52.803Z"
      },
      {
        "duration": 545,
        "start_time": "2022-08-31T21:20:17.227Z"
      },
      {
        "duration": 19,
        "start_time": "2022-08-31T21:29:24.523Z"
      },
      {
        "duration": 273,
        "start_time": "2022-08-31T21:30:23.133Z"
      },
      {
        "duration": 20,
        "start_time": "2022-08-31T21:30:38.458Z"
      },
      {
        "duration": 226,
        "start_time": "2022-08-31T21:30:41.109Z"
      },
      {
        "duration": 489,
        "start_time": "2022-08-31T21:30:59.382Z"
      },
      {
        "duration": 24,
        "start_time": "2022-08-31T21:35:05.346Z"
      },
      {
        "duration": 28,
        "start_time": "2022-08-31T21:35:17.964Z"
      },
      {
        "duration": 18,
        "start_time": "2022-08-31T21:35:42.216Z"
      },
      {
        "duration": 256,
        "start_time": "2022-08-31T21:35:45.364Z"
      },
      {
        "duration": 20,
        "start_time": "2022-08-31T21:35:59.862Z"
      },
      {
        "duration": 505,
        "start_time": "2022-08-31T21:36:01.836Z"
      },
      {
        "duration": 11,
        "start_time": "2022-08-31T21:41:02.060Z"
      },
      {
        "duration": 16,
        "start_time": "2022-08-31T21:41:07.301Z"
      },
      {
        "duration": 11,
        "start_time": "2022-08-31T21:41:30.408Z"
      },
      {
        "duration": 15,
        "start_time": "2022-08-31T21:41:48.282Z"
      },
      {
        "duration": 4,
        "start_time": "2022-08-31T21:42:25.109Z"
      },
      {
        "duration": 11,
        "start_time": "2022-08-31T21:42:37.062Z"
      },
      {
        "duration": 16,
        "start_time": "2022-08-31T21:42:43.802Z"
      },
      {
        "duration": 138,
        "start_time": "2022-08-31T21:43:01.669Z"
      },
      {
        "duration": 10,
        "start_time": "2022-08-31T21:43:06.570Z"
      },
      {
        "duration": 182,
        "start_time": "2022-08-31T21:43:42.286Z"
      },
      {
        "duration": 218,
        "start_time": "2022-08-31T21:43:55.070Z"
      },
      {
        "duration": 191,
        "start_time": "2022-08-31T21:44:01.717Z"
      },
      {
        "duration": 196,
        "start_time": "2022-08-31T21:54:33.962Z"
      },
      {
        "duration": 1316,
        "start_time": "2022-08-31T22:04:11.036Z"
      },
      {
        "duration": 192,
        "start_time": "2022-08-31T22:04:12.354Z"
      },
      {
        "duration": 5,
        "start_time": "2022-08-31T22:04:12.548Z"
      },
      {
        "duration": 26,
        "start_time": "2022-08-31T22:04:12.555Z"
      },
      {
        "duration": 22,
        "start_time": "2022-08-31T22:04:12.583Z"
      },
      {
        "duration": 29,
        "start_time": "2022-08-31T22:04:12.607Z"
      },
      {
        "duration": 15,
        "start_time": "2022-08-31T22:04:12.638Z"
      },
      {
        "duration": 40,
        "start_time": "2022-08-31T22:04:12.671Z"
      },
      {
        "duration": 11,
        "start_time": "2022-08-31T22:04:12.713Z"
      },
      {
        "duration": 11,
        "start_time": "2022-08-31T22:04:12.728Z"
      },
      {
        "duration": 55,
        "start_time": "2022-08-31T22:04:12.741Z"
      },
      {
        "duration": 40,
        "start_time": "2022-08-31T22:04:12.797Z"
      },
      {
        "duration": 48,
        "start_time": "2022-08-31T22:04:12.838Z"
      },
      {
        "duration": 31,
        "start_time": "2022-08-31T22:04:12.888Z"
      },
      {
        "duration": 59,
        "start_time": "2022-08-31T22:04:12.920Z"
      },
      {
        "duration": 4,
        "start_time": "2022-08-31T22:04:12.981Z"
      },
      {
        "duration": 5,
        "start_time": "2022-08-31T22:04:12.986Z"
      },
      {
        "duration": 6,
        "start_time": "2022-08-31T22:04:12.993Z"
      },
      {
        "duration": 16,
        "start_time": "2022-08-31T22:04:13.001Z"
      },
      {
        "duration": 16,
        "start_time": "2022-08-31T22:04:13.019Z"
      },
      {
        "duration": 46,
        "start_time": "2022-08-31T22:04:13.036Z"
      },
      {
        "duration": 11,
        "start_time": "2022-08-31T22:04:13.084Z"
      },
      {
        "duration": 7,
        "start_time": "2022-08-31T22:04:13.097Z"
      },
      {
        "duration": 5,
        "start_time": "2022-08-31T22:04:13.105Z"
      },
      {
        "duration": 6,
        "start_time": "2022-08-31T22:04:13.111Z"
      },
      {
        "duration": 22,
        "start_time": "2022-08-31T22:04:13.118Z"
      },
      {
        "duration": 39,
        "start_time": "2022-08-31T22:04:13.141Z"
      },
      {
        "duration": 6,
        "start_time": "2022-08-31T22:04:13.185Z"
      },
      {
        "duration": 152,
        "start_time": "2022-08-31T22:04:13.192Z"
      },
      {
        "duration": 10,
        "start_time": "2022-08-31T22:04:13.346Z"
      },
      {
        "duration": 6,
        "start_time": "2022-08-31T22:04:13.375Z"
      },
      {
        "duration": 17,
        "start_time": "2022-08-31T22:04:13.382Z"
      },
      {
        "duration": 8,
        "start_time": "2022-08-31T22:04:13.401Z"
      },
      {
        "duration": 7,
        "start_time": "2022-08-31T22:04:13.410Z"
      },
      {
        "duration": 9,
        "start_time": "2022-08-31T22:04:13.419Z"
      },
      {
        "duration": 6,
        "start_time": "2022-08-31T22:04:13.429Z"
      },
      {
        "duration": 36,
        "start_time": "2022-08-31T22:04:13.437Z"
      },
      {
        "duration": 3,
        "start_time": "2022-08-31T22:04:13.482Z"
      },
      {
        "duration": 8,
        "start_time": "2022-08-31T22:04:13.486Z"
      },
      {
        "duration": 231,
        "start_time": "2022-08-31T22:04:13.495Z"
      },
      {
        "duration": 11,
        "start_time": "2022-08-31T22:04:13.727Z"
      },
      {
        "duration": 14,
        "start_time": "2022-08-31T22:04:13.740Z"
      },
      {
        "duration": 22,
        "start_time": "2022-08-31T22:04:13.756Z"
      },
      {
        "duration": 15,
        "start_time": "2022-08-31T22:04:13.779Z"
      },
      {
        "duration": 5,
        "start_time": "2022-08-31T22:04:13.795Z"
      },
      {
        "duration": 11,
        "start_time": "2022-08-31T22:04:13.802Z"
      },
      {
        "duration": 8,
        "start_time": "2022-08-31T22:04:13.815Z"
      },
      {
        "duration": 10,
        "start_time": "2022-08-31T22:04:13.824Z"
      },
      {
        "duration": 43,
        "start_time": "2022-08-31T22:04:13.836Z"
      },
      {
        "duration": 3,
        "start_time": "2022-08-31T22:04:13.881Z"
      },
      {
        "duration": 7,
        "start_time": "2022-08-31T22:04:13.886Z"
      },
      {
        "duration": 1506,
        "start_time": "2022-08-31T22:04:13.894Z"
      },
      {
        "duration": 27,
        "start_time": "2022-08-31T22:04:15.402Z"
      },
      {
        "duration": 16,
        "start_time": "2022-08-31T22:04:15.431Z"
      },
      {
        "duration": 28,
        "start_time": "2022-08-31T22:04:15.448Z"
      },
      {
        "duration": 21,
        "start_time": "2022-08-31T22:04:15.478Z"
      },
      {
        "duration": 7,
        "start_time": "2022-08-31T22:04:15.501Z"
      },
      {
        "duration": 14,
        "start_time": "2022-08-31T22:04:15.509Z"
      },
      {
        "duration": 7,
        "start_time": "2022-08-31T22:04:15.525Z"
      },
      {
        "duration": 50,
        "start_time": "2022-08-31T22:04:15.533Z"
      },
      {
        "duration": 3,
        "start_time": "2022-08-31T22:04:15.585Z"
      },
      {
        "duration": 8,
        "start_time": "2022-08-31T22:04:15.589Z"
      },
      {
        "duration": 209,
        "start_time": "2022-08-31T22:04:15.599Z"
      },
      {
        "duration": 9,
        "start_time": "2022-08-31T22:04:15.810Z"
      },
      {
        "duration": 14,
        "start_time": "2022-08-31T22:04:15.821Z"
      },
      {
        "duration": 9,
        "start_time": "2022-08-31T22:04:15.837Z"
      },
      {
        "duration": 35,
        "start_time": "2022-08-31T22:04:15.848Z"
      },
      {
        "duration": 5,
        "start_time": "2022-08-31T22:04:15.885Z"
      },
      {
        "duration": 21,
        "start_time": "2022-08-31T22:04:15.892Z"
      },
      {
        "duration": 26,
        "start_time": "2022-08-31T22:04:15.915Z"
      },
      {
        "duration": 13,
        "start_time": "2022-08-31T22:04:15.942Z"
      },
      {
        "duration": 25,
        "start_time": "2022-08-31T22:04:15.956Z"
      },
      {
        "duration": 367,
        "start_time": "2022-08-31T22:04:15.983Z"
      },
      {
        "duration": 28,
        "start_time": "2022-08-31T22:04:16.352Z"
      },
      {
        "duration": 365,
        "start_time": "2022-08-31T22:04:16.382Z"
      },
      {
        "duration": 4,
        "start_time": "2022-08-31T22:04:16.750Z"
      },
      {
        "duration": 238,
        "start_time": "2022-08-31T22:04:16.755Z"
      },
      {
        "duration": 227,
        "start_time": "2022-08-31T22:04:16.996Z"
      },
      {
        "duration": 213,
        "start_time": "2022-08-31T22:04:17.225Z"
      },
      {
        "duration": 195,
        "start_time": "2022-08-31T22:04:17.440Z"
      },
      {
        "duration": 278,
        "start_time": "2022-08-31T22:04:17.636Z"
      },
      {
        "duration": 910,
        "start_time": "2022-08-31T22:04:17.919Z"
      },
      {
        "duration": 5,
        "start_time": "2022-08-31T22:04:18.831Z"
      },
      {
        "duration": 14,
        "start_time": "2022-08-31T22:04:18.838Z"
      },
      {
        "duration": 45,
        "start_time": "2022-08-31T22:04:18.854Z"
      },
      {
        "duration": 250,
        "start_time": "2022-08-31T22:04:18.901Z"
      },
      {
        "duration": 247,
        "start_time": "2022-08-31T22:04:19.152Z"
      },
      {
        "duration": 6,
        "start_time": "2022-08-31T22:04:19.401Z"
      },
      {
        "duration": 882,
        "start_time": "2022-08-31T22:04:19.409Z"
      },
      {
        "duration": 393,
        "start_time": "2022-08-31T22:04:20.293Z"
      },
      {
        "duration": 44,
        "start_time": "2022-08-31T22:04:20.688Z"
      },
      {
        "duration": 430,
        "start_time": "2022-08-31T22:04:20.734Z"
      },
      {
        "duration": 192,
        "start_time": "2022-08-31T22:04:21.166Z"
      },
      {
        "duration": 15,
        "start_time": "2022-08-31T22:04:21.360Z"
      },
      {
        "duration": 179,
        "start_time": "2022-08-31T22:04:21.384Z"
      },
      {
        "duration": 184,
        "start_time": "2022-08-31T22:04:21.568Z"
      },
      {
        "duration": 15,
        "start_time": "2022-08-31T22:04:21.754Z"
      },
      {
        "duration": 7,
        "start_time": "2022-08-31T22:04:21.780Z"
      },
      {
        "duration": 6,
        "start_time": "2022-08-31T22:04:21.789Z"
      },
      {
        "duration": 19,
        "start_time": "2022-08-31T22:04:21.796Z"
      },
      {
        "duration": 484,
        "start_time": "2022-08-31T22:04:21.817Z"
      },
      {
        "duration": 17,
        "start_time": "2022-08-31T22:04:22.302Z"
      },
      {
        "duration": 233,
        "start_time": "2022-08-31T22:04:22.321Z"
      },
      {
        "duration": 27,
        "start_time": "2022-08-31T22:04:22.555Z"
      },
      {
        "duration": 209,
        "start_time": "2022-08-31T22:04:22.583Z"
      },
      {
        "duration": 16,
        "start_time": "2022-08-31T22:06:01.711Z"
      },
      {
        "duration": 187,
        "start_time": "2022-08-31T22:06:11.531Z"
      },
      {
        "duration": 198,
        "start_time": "2022-08-31T22:06:16.799Z"
      },
      {
        "duration": 190,
        "start_time": "2022-08-31T22:07:14.677Z"
      },
      {
        "duration": 91,
        "start_time": "2022-08-31T22:09:26.988Z"
      },
      {
        "duration": 18,
        "start_time": "2022-08-31T22:09:31.792Z"
      },
      {
        "duration": 270,
        "start_time": "2022-08-31T22:09:33.189Z"
      },
      {
        "duration": 197,
        "start_time": "2022-08-31T22:09:43.121Z"
      },
      {
        "duration": 15,
        "start_time": "2022-08-31T22:11:10.710Z"
      },
      {
        "duration": 188,
        "start_time": "2022-08-31T22:12:09.099Z"
      },
      {
        "duration": 143,
        "start_time": "2022-08-31T22:13:26.268Z"
      },
      {
        "duration": 13,
        "start_time": "2022-08-31T22:13:39.868Z"
      },
      {
        "duration": 76,
        "start_time": "2022-08-31T22:13:44.396Z"
      },
      {
        "duration": 126,
        "start_time": "2022-08-31T22:13:48.048Z"
      },
      {
        "duration": 147,
        "start_time": "2022-08-31T22:13:58.532Z"
      },
      {
        "duration": 126,
        "start_time": "2022-08-31T22:14:46.745Z"
      },
      {
        "duration": 1289,
        "start_time": "2022-09-01T18:53:56.038Z"
      },
      {
        "duration": 92,
        "start_time": "2022-09-01T18:55:25.121Z"
      },
      {
        "duration": 5,
        "start_time": "2022-09-01T18:55:28.131Z"
      },
      {
        "duration": 21,
        "start_time": "2022-09-01T18:55:29.006Z"
      },
      {
        "duration": 14,
        "start_time": "2022-09-01T18:55:30.494Z"
      },
      {
        "duration": 14,
        "start_time": "2022-09-01T18:55:33.735Z"
      },
      {
        "duration": 17,
        "start_time": "2022-09-01T18:55:40.552Z"
      },
      {
        "duration": 29,
        "start_time": "2022-09-01T18:55:47.486Z"
      },
      {
        "duration": 8,
        "start_time": "2022-09-01T18:55:50.045Z"
      },
      {
        "duration": 11,
        "start_time": "2022-09-01T18:55:52.117Z"
      },
      {
        "duration": 35,
        "start_time": "2022-09-01T18:55:54.537Z"
      },
      {
        "duration": 38,
        "start_time": "2022-09-01T18:55:57.024Z"
      },
      {
        "duration": 30,
        "start_time": "2022-09-01T18:55:59.377Z"
      },
      {
        "duration": 32,
        "start_time": "2022-09-01T18:56:01.932Z"
      },
      {
        "duration": 30,
        "start_time": "2022-09-01T18:56:05.209Z"
      },
      {
        "duration": 4,
        "start_time": "2022-09-01T18:57:07.829Z"
      },
      {
        "duration": 3,
        "start_time": "2022-09-01T18:57:12.121Z"
      },
      {
        "duration": 4,
        "start_time": "2022-09-01T18:57:14.587Z"
      },
      {
        "duration": 15,
        "start_time": "2022-09-01T18:57:21.541Z"
      },
      {
        "duration": 18,
        "start_time": "2022-09-01T18:57:37.942Z"
      },
      {
        "duration": 16,
        "start_time": "2022-09-01T18:57:47.258Z"
      },
      {
        "duration": 12,
        "start_time": "2022-09-01T18:57:51.339Z"
      },
      {
        "duration": 8,
        "start_time": "2022-09-01T18:57:54.516Z"
      },
      {
        "duration": 5,
        "start_time": "2022-09-01T18:57:57.848Z"
      },
      {
        "duration": 6,
        "start_time": "2022-09-01T18:58:05.156Z"
      },
      {
        "duration": 19,
        "start_time": "2022-09-01T18:58:31.283Z"
      },
      {
        "duration": 3,
        "start_time": "2022-09-01T18:58:37.937Z"
      },
      {
        "duration": 5,
        "start_time": "2022-09-01T18:58:40.325Z"
      },
      {
        "duration": 146,
        "start_time": "2022-09-01T18:58:42.805Z"
      },
      {
        "duration": 10,
        "start_time": "2022-09-01T18:58:44.545Z"
      },
      {
        "duration": 4,
        "start_time": "2022-09-01T18:58:47.721Z"
      },
      {
        "duration": 13,
        "start_time": "2022-09-01T18:58:49.372Z"
      },
      {
        "duration": 7,
        "start_time": "2022-09-01T18:59:00.064Z"
      },
      {
        "duration": 5,
        "start_time": "2022-09-01T18:59:02.121Z"
      },
      {
        "duration": 8,
        "start_time": "2022-09-01T19:03:10.525Z"
      },
      {
        "duration": 12,
        "start_time": "2022-09-01T19:03:33.901Z"
      },
      {
        "duration": 5,
        "start_time": "2022-09-01T19:03:43.045Z"
      },
      {
        "duration": 8,
        "start_time": "2022-09-01T19:04:00.070Z"
      },
      {
        "duration": 7,
        "start_time": "2022-09-01T19:07:00.801Z"
      },
      {
        "duration": 7,
        "start_time": "2022-09-01T19:07:29.470Z"
      },
      {
        "duration": 16,
        "start_time": "2022-09-01T19:07:30.493Z"
      },
      {
        "duration": 3,
        "start_time": "2022-09-01T19:07:35.315Z"
      },
      {
        "duration": 5,
        "start_time": "2022-09-01T19:07:36.614Z"
      },
      {
        "duration": 182,
        "start_time": "2022-09-01T19:07:38.188Z"
      },
      {
        "duration": 9,
        "start_time": "2022-09-01T19:07:39.880Z"
      },
      {
        "duration": 13,
        "start_time": "2022-09-01T19:07:41.982Z"
      },
      {
        "duration": 8,
        "start_time": "2022-09-01T19:08:50.907Z"
      },
      {
        "duration": 8,
        "start_time": "2022-09-01T19:09:09.232Z"
      },
      {
        "duration": 16,
        "start_time": "2022-09-01T19:09:10.184Z"
      },
      {
        "duration": 4,
        "start_time": "2022-09-01T19:09:14.198Z"
      },
      {
        "duration": 5,
        "start_time": "2022-09-01T19:09:14.729Z"
      },
      {
        "duration": 137,
        "start_time": "2022-09-01T19:09:25.749Z"
      },
      {
        "duration": 10,
        "start_time": "2022-09-01T19:09:26.732Z"
      },
      {
        "duration": 13,
        "start_time": "2022-09-01T19:09:30.929Z"
      },
      {
        "duration": 12,
        "start_time": "2022-09-01T19:09:55.956Z"
      },
      {
        "duration": 14,
        "start_time": "2022-09-01T19:10:04.317Z"
      },
      {
        "duration": 5,
        "start_time": "2022-09-01T19:10:12.501Z"
      },
      {
        "duration": 13,
        "start_time": "2022-09-01T19:10:14.022Z"
      },
      {
        "duration": 13,
        "start_time": "2022-09-01T19:15:58.486Z"
      },
      {
        "duration": 14,
        "start_time": "2022-09-01T19:16:10.035Z"
      },
      {
        "duration": 13,
        "start_time": "2022-09-01T19:16:14.453Z"
      },
      {
        "duration": 14,
        "start_time": "2022-09-01T19:16:19.820Z"
      },
      {
        "duration": 317,
        "start_time": "2022-09-01T19:16:23.310Z"
      },
      {
        "duration": 14,
        "start_time": "2022-09-01T19:19:50.377Z"
      },
      {
        "duration": 308,
        "start_time": "2022-09-01T19:19:54.695Z"
      },
      {
        "duration": 3,
        "start_time": "2022-09-01T19:21:48.477Z"
      },
      {
        "duration": 155,
        "start_time": "2022-09-01T19:21:51.361Z"
      },
      {
        "duration": 167,
        "start_time": "2022-09-01T19:21:55.542Z"
      },
      {
        "duration": 195,
        "start_time": "2022-09-01T19:21:58.919Z"
      },
      {
        "duration": 155,
        "start_time": "2022-09-01T19:22:02.370Z"
      },
      {
        "duration": 158,
        "start_time": "2022-09-01T19:22:16.595Z"
      },
      {
        "duration": 951,
        "start_time": "2022-09-01T19:22:19.611Z"
      },
      {
        "duration": 798,
        "start_time": "2022-09-01T19:25:49.426Z"
      },
      {
        "duration": 743,
        "start_time": "2022-09-01T19:27:01.969Z"
      },
      {
        "duration": 234,
        "start_time": "2022-09-01T19:31:06.091Z"
      },
      {
        "duration": 777,
        "start_time": "2022-09-01T19:31:26.087Z"
      },
      {
        "duration": 789,
        "start_time": "2022-09-01T19:31:41.320Z"
      },
      {
        "duration": 888,
        "start_time": "2022-09-01T19:32:08.021Z"
      },
      {
        "duration": 795,
        "start_time": "2022-09-01T19:32:44.099Z"
      },
      {
        "duration": 800,
        "start_time": "2022-09-01T19:33:10.691Z"
      },
      {
        "duration": 796,
        "start_time": "2022-09-01T19:33:57.209Z"
      },
      {
        "duration": 745,
        "start_time": "2022-09-01T19:34:31.865Z"
      },
      {
        "duration": 857,
        "start_time": "2022-09-01T19:34:55.737Z"
      },
      {
        "duration": 835,
        "start_time": "2022-09-01T19:35:18.494Z"
      },
      {
        "duration": 758,
        "start_time": "2022-09-01T19:35:55.554Z"
      },
      {
        "duration": 777,
        "start_time": "2022-09-01T19:36:01.725Z"
      },
      {
        "duration": 736,
        "start_time": "2022-09-01T19:36:23.468Z"
      },
      {
        "duration": 846,
        "start_time": "2022-09-01T19:36:58.314Z"
      },
      {
        "duration": 818,
        "start_time": "2022-09-01T19:38:44.987Z"
      },
      {
        "duration": 788,
        "start_time": "2022-09-01T19:40:31.585Z"
      },
      {
        "duration": 819,
        "start_time": "2022-09-01T19:43:59.201Z"
      },
      {
        "duration": 800,
        "start_time": "2022-09-01T19:46:25.639Z"
      },
      {
        "duration": 758,
        "start_time": "2022-09-01T19:46:41.943Z"
      },
      {
        "duration": 909,
        "start_time": "2022-09-01T19:54:12.795Z"
      },
      {
        "duration": 41,
        "start_time": "2022-09-01T19:54:33.055Z"
      },
      {
        "duration": 742,
        "start_time": "2022-09-01T19:54:36.555Z"
      },
      {
        "duration": 798,
        "start_time": "2022-09-01T19:55:16.312Z"
      },
      {
        "duration": 6,
        "start_time": "2022-09-01T20:05:16.960Z"
      },
      {
        "duration": 13,
        "start_time": "2022-09-01T20:05:17.693Z"
      },
      {
        "duration": 29,
        "start_time": "2022-09-01T20:05:21.326Z"
      },
      {
        "duration": 209,
        "start_time": "2022-09-01T20:05:24.830Z"
      },
      {
        "duration": 244,
        "start_time": "2022-09-01T20:05:38.880Z"
      },
      {
        "duration": 7,
        "start_time": "2022-09-01T20:09:49.398Z"
      },
      {
        "duration": 13,
        "start_time": "2022-09-01T20:09:50.347Z"
      },
      {
        "duration": 204,
        "start_time": "2022-09-01T20:09:57.784Z"
      },
      {
        "duration": 190,
        "start_time": "2022-09-01T20:10:12.366Z"
      },
      {
        "duration": 5,
        "start_time": "2022-09-01T20:11:55.081Z"
      },
      {
        "duration": 877,
        "start_time": "2022-09-01T20:11:57.231Z"
      },
      {
        "duration": 348,
        "start_time": "2022-09-01T20:13:00.905Z"
      },
      {
        "duration": 7,
        "start_time": "2022-09-01T20:13:34.478Z"
      },
      {
        "duration": 12,
        "start_time": "2022-09-01T20:13:35.184Z"
      },
      {
        "duration": 31,
        "start_time": "2022-09-01T20:13:40.139Z"
      },
      {
        "duration": 13,
        "start_time": "2022-09-01T20:13:43.904Z"
      },
      {
        "duration": 12,
        "start_time": "2022-09-01T20:14:04.847Z"
      },
      {
        "duration": 6,
        "start_time": "2022-09-01T20:29:13.739Z"
      },
      {
        "duration": 13,
        "start_time": "2022-09-01T20:29:14.756Z"
      },
      {
        "duration": 1058,
        "start_time": "2022-09-01T20:29:22.764Z"
      },
      {
        "duration": 50,
        "start_time": "2022-09-01T20:29:23.824Z"
      },
      {
        "duration": 4,
        "start_time": "2022-09-01T20:29:23.876Z"
      },
      {
        "duration": 18,
        "start_time": "2022-09-01T20:29:23.882Z"
      },
      {
        "duration": 13,
        "start_time": "2022-09-01T20:29:23.902Z"
      },
      {
        "duration": 15,
        "start_time": "2022-09-01T20:29:23.916Z"
      },
      {
        "duration": 15,
        "start_time": "2022-09-01T20:29:23.937Z"
      },
      {
        "duration": 25,
        "start_time": "2022-09-01T20:29:23.953Z"
      },
      {
        "duration": 7,
        "start_time": "2022-09-01T20:29:23.979Z"
      },
      {
        "duration": 9,
        "start_time": "2022-09-01T20:29:23.988Z"
      },
      {
        "duration": 51,
        "start_time": "2022-09-01T20:29:23.999Z"
      },
      {
        "duration": 32,
        "start_time": "2022-09-01T20:29:24.052Z"
      },
      {
        "duration": 27,
        "start_time": "2022-09-01T20:29:24.086Z"
      },
      {
        "duration": 50,
        "start_time": "2022-09-01T20:29:24.114Z"
      },
      {
        "duration": 29,
        "start_time": "2022-09-01T20:29:24.166Z"
      },
      {
        "duration": 4,
        "start_time": "2022-09-01T20:29:24.196Z"
      },
      {
        "duration": 6,
        "start_time": "2022-09-01T20:29:24.201Z"
      },
      {
        "duration": 6,
        "start_time": "2022-09-01T20:29:24.208Z"
      },
      {
        "duration": 14,
        "start_time": "2022-09-01T20:29:24.238Z"
      },
      {
        "duration": 18,
        "start_time": "2022-09-01T20:29:24.253Z"
      },
      {
        "duration": 23,
        "start_time": "2022-09-01T20:29:24.272Z"
      },
      {
        "duration": 12,
        "start_time": "2022-09-01T20:29:24.296Z"
      },
      {
        "duration": 33,
        "start_time": "2022-09-01T20:29:24.310Z"
      },
      {
        "duration": 5,
        "start_time": "2022-09-01T20:29:24.345Z"
      },
      {
        "duration": 8,
        "start_time": "2022-09-01T20:29:24.352Z"
      },
      {
        "duration": 20,
        "start_time": "2022-09-01T20:29:24.362Z"
      },
      {
        "duration": 3,
        "start_time": "2022-09-01T20:29:24.383Z"
      },
      {
        "duration": 5,
        "start_time": "2022-09-01T20:29:24.391Z"
      },
      {
        "duration": 168,
        "start_time": "2022-09-01T20:29:24.397Z"
      },
      {
        "duration": 10,
        "start_time": "2022-09-01T20:29:24.566Z"
      },
      {
        "duration": 12,
        "start_time": "2022-09-01T20:29:24.577Z"
      },
      {
        "duration": 15,
        "start_time": "2022-09-01T20:29:24.590Z"
      },
      {
        "duration": 6,
        "start_time": "2022-09-01T20:29:24.606Z"
      },
      {
        "duration": 7,
        "start_time": "2022-09-01T20:29:24.613Z"
      },
      {
        "duration": 20,
        "start_time": "2022-09-01T20:29:24.622Z"
      },
      {
        "duration": 14,
        "start_time": "2022-09-01T20:29:24.644Z"
      },
      {
        "duration": 5,
        "start_time": "2022-09-01T20:29:24.659Z"
      },
      {
        "duration": 8,
        "start_time": "2022-09-01T20:29:24.665Z"
      },
      {
        "duration": 12,
        "start_time": "2022-09-01T20:29:24.675Z"
      },
      {
        "duration": 9,
        "start_time": "2022-09-01T20:29:24.688Z"
      },
      {
        "duration": 7,
        "start_time": "2022-09-01T20:29:24.698Z"
      },
      {
        "duration": 37,
        "start_time": "2022-09-01T20:29:24.706Z"
      },
      {
        "duration": 3,
        "start_time": "2022-09-01T20:29:24.744Z"
      },
      {
        "duration": 6,
        "start_time": "2022-09-01T20:29:24.749Z"
      },
      {
        "duration": 190,
        "start_time": "2022-09-01T20:29:24.756Z"
      },
      {
        "duration": 10,
        "start_time": "2022-09-01T20:29:24.948Z"
      },
      {
        "duration": 19,
        "start_time": "2022-09-01T20:29:24.960Z"
      },
      {
        "duration": 11,
        "start_time": "2022-09-01T20:29:24.980Z"
      },
      {
        "duration": 11,
        "start_time": "2022-09-01T20:29:24.993Z"
      },
      {
        "duration": 5,
        "start_time": "2022-09-01T20:29:25.006Z"
      },
      {
        "duration": 14,
        "start_time": "2022-09-01T20:29:25.038Z"
      },
      {
        "duration": 16,
        "start_time": "2022-09-01T20:29:25.053Z"
      },
      {
        "duration": 15,
        "start_time": "2022-09-01T20:29:25.070Z"
      },
      {
        "duration": 13,
        "start_time": "2022-09-01T20:29:25.087Z"
      },
      {
        "duration": 353,
        "start_time": "2022-09-01T20:29:25.101Z"
      },
      {
        "duration": 15,
        "start_time": "2022-09-01T20:29:25.456Z"
      },
      {
        "duration": 308,
        "start_time": "2022-09-01T20:29:25.473Z"
      },
      {
        "duration": 3,
        "start_time": "2022-09-01T20:29:25.783Z"
      },
      {
        "duration": 163,
        "start_time": "2022-09-01T20:29:25.787Z"
      },
      {
        "duration": 176,
        "start_time": "2022-09-01T20:29:25.951Z"
      },
      {
        "duration": 178,
        "start_time": "2022-09-01T20:29:26.129Z"
      },
      {
        "duration": 160,
        "start_time": "2022-09-01T20:29:26.308Z"
      },
      {
        "duration": 230,
        "start_time": "2022-09-01T20:29:26.470Z"
      },
      {
        "duration": 818,
        "start_time": "2022-09-01T20:29:26.702Z"
      },
      {
        "duration": 6,
        "start_time": "2022-09-01T20:29:27.521Z"
      },
      {
        "duration": 19,
        "start_time": "2022-09-01T20:29:27.528Z"
      },
      {
        "duration": 29,
        "start_time": "2022-09-01T20:29:27.548Z"
      },
      {
        "duration": 237,
        "start_time": "2022-09-01T20:29:27.578Z"
      },
      {
        "duration": 206,
        "start_time": "2022-09-01T20:29:27.817Z"
      },
      {
        "duration": 3,
        "start_time": "2022-09-01T20:29:28.025Z"
      },
      {
        "duration": 733,
        "start_time": "2022-09-01T20:29:28.030Z"
      },
      {
        "duration": 390,
        "start_time": "2022-09-01T20:29:28.765Z"
      },
      {
        "duration": 43,
        "start_time": "2022-09-01T20:29:29.157Z"
      },
      {
        "duration": 379,
        "start_time": "2022-09-01T20:29:29.202Z"
      },
      {
        "duration": 166,
        "start_time": "2022-09-01T20:29:29.582Z"
      },
      {
        "duration": 7,
        "start_time": "2022-09-01T20:29:29.749Z"
      },
      {
        "duration": 150,
        "start_time": "2022-09-01T20:29:29.757Z"
      },
      {
        "duration": 148,
        "start_time": "2022-09-01T20:29:29.909Z"
      },
      {
        "duration": 7,
        "start_time": "2022-09-01T20:29:30.058Z"
      },
      {
        "duration": 11,
        "start_time": "2022-09-01T20:29:30.066Z"
      },
      {
        "duration": 8,
        "start_time": "2022-09-01T20:29:30.078Z"
      },
      {
        "duration": 27,
        "start_time": "2022-09-01T20:29:30.090Z"
      },
      {
        "duration": 433,
        "start_time": "2022-09-01T20:29:30.119Z"
      },
      {
        "duration": 17,
        "start_time": "2022-09-01T20:29:30.553Z"
      },
      {
        "duration": 190,
        "start_time": "2022-09-01T20:29:30.571Z"
      },
      {
        "duration": 14,
        "start_time": "2022-09-01T20:29:30.762Z"
      },
      {
        "duration": 202,
        "start_time": "2022-09-01T20:29:30.777Z"
      },
      {
        "duration": 13,
        "start_time": "2022-09-01T20:29:30.980Z"
      },
      {
        "duration": 188,
        "start_time": "2022-09-01T20:29:30.994Z"
      },
      {
        "duration": 12,
        "start_time": "2022-09-01T20:29:31.184Z"
      },
      {
        "duration": 103,
        "start_time": "2022-09-01T20:29:31.198Z"
      },
      {
        "duration": 51,
        "start_time": "2022-09-01T20:36:58.828Z"
      },
      {
        "duration": 8,
        "start_time": "2022-09-01T20:37:07.506Z"
      },
      {
        "duration": 7,
        "start_time": "2022-09-01T20:37:11.092Z"
      },
      {
        "duration": 24,
        "start_time": "2022-09-01T20:37:19.717Z"
      },
      {
        "duration": 16,
        "start_time": "2022-09-01T20:37:34.055Z"
      },
      {
        "duration": 24,
        "start_time": "2022-09-01T20:38:06.045Z"
      },
      {
        "duration": 16,
        "start_time": "2022-09-01T20:38:16.128Z"
      },
      {
        "duration": 10,
        "start_time": "2022-09-01T20:38:35.829Z"
      },
      {
        "duration": 14,
        "start_time": "2022-09-01T20:39:02.260Z"
      },
      {
        "duration": 8,
        "start_time": "2022-09-01T20:40:43.017Z"
      },
      {
        "duration": 8,
        "start_time": "2022-09-01T20:40:46.647Z"
      },
      {
        "duration": 16,
        "start_time": "2022-09-01T20:40:51.598Z"
      },
      {
        "duration": 14,
        "start_time": "2022-09-01T20:40:58.734Z"
      },
      {
        "duration": 43,
        "start_time": "2022-09-01T20:41:10.241Z"
      },
      {
        "duration": 14,
        "start_time": "2022-09-01T20:41:16.984Z"
      },
      {
        "duration": 41,
        "start_time": "2022-09-01T20:41:20.731Z"
      },
      {
        "duration": 14,
        "start_time": "2022-09-01T20:41:39.185Z"
      },
      {
        "duration": 24,
        "start_time": "2022-09-01T20:41:42.355Z"
      },
      {
        "duration": 183,
        "start_time": "2022-09-01T20:41:45.771Z"
      },
      {
        "duration": 184,
        "start_time": "2022-09-01T20:43:13.695Z"
      },
      {
        "duration": 7,
        "start_time": "2022-09-01T20:43:30.039Z"
      },
      {
        "duration": 237,
        "start_time": "2022-09-01T20:43:32.040Z"
      },
      {
        "duration": 139,
        "start_time": "2022-09-01T20:43:35.537Z"
      },
      {
        "duration": 7,
        "start_time": "2022-09-01T20:44:43.504Z"
      },
      {
        "duration": 13,
        "start_time": "2022-09-01T20:44:44.149Z"
      },
      {
        "duration": 1114,
        "start_time": "2022-09-01T20:44:50.528Z"
      },
      {
        "duration": 53,
        "start_time": "2022-09-01T20:44:51.644Z"
      },
      {
        "duration": 5,
        "start_time": "2022-09-01T20:44:51.699Z"
      },
      {
        "duration": 25,
        "start_time": "2022-09-01T20:44:51.706Z"
      },
      {
        "duration": 15,
        "start_time": "2022-09-01T20:44:51.733Z"
      },
      {
        "duration": 16,
        "start_time": "2022-09-01T20:44:51.750Z"
      },
      {
        "duration": 17,
        "start_time": "2022-09-01T20:44:51.768Z"
      },
      {
        "duration": 29,
        "start_time": "2022-09-01T20:44:51.787Z"
      },
      {
        "duration": 9,
        "start_time": "2022-09-01T20:44:51.837Z"
      },
      {
        "duration": 14,
        "start_time": "2022-09-01T20:44:51.848Z"
      },
      {
        "duration": 39,
        "start_time": "2022-09-01T20:44:51.863Z"
      },
      {
        "duration": 50,
        "start_time": "2022-09-01T20:44:51.903Z"
      },
      {
        "duration": 31,
        "start_time": "2022-09-01T20:44:51.955Z"
      },
      {
        "duration": 53,
        "start_time": "2022-09-01T20:44:51.989Z"
      },
      {
        "duration": 31,
        "start_time": "2022-09-01T20:44:52.044Z"
      },
      {
        "duration": 3,
        "start_time": "2022-09-01T20:44:52.077Z"
      },
      {
        "duration": 12,
        "start_time": "2022-09-01T20:44:52.082Z"
      },
      {
        "duration": 15,
        "start_time": "2022-09-01T20:44:52.096Z"
      },
      {
        "duration": 34,
        "start_time": "2022-09-01T20:44:52.113Z"
      },
      {
        "duration": 28,
        "start_time": "2022-09-01T20:44:52.149Z"
      },
      {
        "duration": 18,
        "start_time": "2022-09-01T20:44:52.178Z"
      },
      {
        "duration": 12,
        "start_time": "2022-09-01T20:44:52.197Z"
      },
      {
        "duration": 12,
        "start_time": "2022-09-01T20:44:52.210Z"
      },
      {
        "duration": 16,
        "start_time": "2022-09-01T20:44:52.223Z"
      },
      {
        "duration": 6,
        "start_time": "2022-09-01T20:44:52.240Z"
      },
      {
        "duration": 28,
        "start_time": "2022-09-01T20:44:52.248Z"
      },
      {
        "duration": 3,
        "start_time": "2022-09-01T20:44:52.277Z"
      },
      {
        "duration": 8,
        "start_time": "2022-09-01T20:44:52.282Z"
      },
      {
        "duration": 164,
        "start_time": "2022-09-01T20:44:52.291Z"
      },
      {
        "duration": 10,
        "start_time": "2022-09-01T20:44:52.457Z"
      },
      {
        "duration": 23,
        "start_time": "2022-09-01T20:44:52.469Z"
      },
      {
        "duration": 25,
        "start_time": "2022-09-01T20:44:52.494Z"
      },
      {
        "duration": 9,
        "start_time": "2022-09-01T20:44:52.521Z"
      },
      {
        "duration": 20,
        "start_time": "2022-09-01T20:44:52.531Z"
      },
      {
        "duration": 8,
        "start_time": "2022-09-01T20:44:52.552Z"
      },
      {
        "duration": 11,
        "start_time": "2022-09-01T20:44:52.562Z"
      },
      {
        "duration": 6,
        "start_time": "2022-09-01T20:44:52.575Z"
      },
      {
        "duration": 8,
        "start_time": "2022-09-01T20:44:52.583Z"
      },
      {
        "duration": 8,
        "start_time": "2022-09-01T20:44:52.593Z"
      },
      {
        "duration": 16,
        "start_time": "2022-09-01T20:44:52.602Z"
      },
      {
        "duration": 13,
        "start_time": "2022-09-01T20:44:52.625Z"
      },
      {
        "duration": 29,
        "start_time": "2022-09-01T20:44:52.640Z"
      },
      {
        "duration": 4,
        "start_time": "2022-09-01T20:44:52.671Z"
      },
      {
        "duration": 14,
        "start_time": "2022-09-01T20:44:52.677Z"
      },
      {
        "duration": 185,
        "start_time": "2022-09-01T20:44:52.693Z"
      },
      {
        "duration": 10,
        "start_time": "2022-09-01T20:44:52.880Z"
      },
      {
        "duration": 26,
        "start_time": "2022-09-01T20:44:52.891Z"
      },
      {
        "duration": 20,
        "start_time": "2022-09-01T20:44:52.919Z"
      },
      {
        "duration": 18,
        "start_time": "2022-09-01T20:44:52.941Z"
      },
      {
        "duration": 13,
        "start_time": "2022-09-01T20:44:52.961Z"
      },
      {
        "duration": 22,
        "start_time": "2022-09-01T20:44:52.976Z"
      },
      {
        "duration": 26,
        "start_time": "2022-09-01T20:44:53.000Z"
      },
      {
        "duration": 16,
        "start_time": "2022-09-01T20:44:53.028Z"
      },
      {
        "duration": 11,
        "start_time": "2022-09-01T20:44:53.046Z"
      },
      {
        "duration": 347,
        "start_time": "2022-09-01T20:44:53.059Z"
      },
      {
        "duration": 14,
        "start_time": "2022-09-01T20:44:53.408Z"
      },
      {
        "duration": 319,
        "start_time": "2022-09-01T20:44:53.424Z"
      },
      {
        "duration": 3,
        "start_time": "2022-09-01T20:44:53.744Z"
      },
      {
        "duration": 180,
        "start_time": "2022-09-01T20:44:53.749Z"
      },
      {
        "duration": 180,
        "start_time": "2022-09-01T20:44:53.931Z"
      },
      {
        "duration": 189,
        "start_time": "2022-09-01T20:44:54.113Z"
      },
      {
        "duration": 174,
        "start_time": "2022-09-01T20:44:54.303Z"
      },
      {
        "duration": 170,
        "start_time": "2022-09-01T20:44:54.478Z"
      },
      {
        "duration": 856,
        "start_time": "2022-09-01T20:44:54.650Z"
      },
      {
        "duration": 7,
        "start_time": "2022-09-01T20:44:55.507Z"
      },
      {
        "duration": 26,
        "start_time": "2022-09-01T20:44:55.516Z"
      },
      {
        "duration": 29,
        "start_time": "2022-09-01T20:44:55.544Z"
      },
      {
        "duration": 233,
        "start_time": "2022-09-01T20:44:55.574Z"
      },
      {
        "duration": 202,
        "start_time": "2022-09-01T20:44:55.808Z"
      },
      {
        "duration": 3,
        "start_time": "2022-09-01T20:44:56.012Z"
      },
      {
        "duration": 767,
        "start_time": "2022-09-01T20:44:56.017Z"
      },
      {
        "duration": 368,
        "start_time": "2022-09-01T20:44:56.785Z"
      },
      {
        "duration": 15,
        "start_time": "2022-09-01T20:44:57.155Z"
      },
      {
        "duration": 26,
        "start_time": "2022-09-01T20:44:57.171Z"
      },
      {
        "duration": 216,
        "start_time": "2022-09-01T20:44:57.198Z"
      },
      {
        "duration": 7,
        "start_time": "2022-09-01T20:44:57.415Z"
      },
      {
        "duration": 151,
        "start_time": "2022-09-01T20:44:57.424Z"
      },
      {
        "duration": 226,
        "start_time": "2022-09-01T20:44:57.577Z"
      },
      {
        "duration": 5,
        "start_time": "2022-09-01T20:44:57.805Z"
      },
      {
        "duration": 9,
        "start_time": "2022-09-01T20:44:57.812Z"
      },
      {
        "duration": 17,
        "start_time": "2022-09-01T20:44:57.822Z"
      },
      {
        "duration": 16,
        "start_time": "2022-09-01T20:44:57.840Z"
      },
      {
        "duration": 412,
        "start_time": "2022-09-01T20:44:57.857Z"
      },
      {
        "duration": 14,
        "start_time": "2022-09-01T20:44:58.271Z"
      },
      {
        "duration": 180,
        "start_time": "2022-09-01T20:44:58.286Z"
      },
      {
        "duration": 14,
        "start_time": "2022-09-01T20:44:58.467Z"
      },
      {
        "duration": 183,
        "start_time": "2022-09-01T20:44:58.482Z"
      },
      {
        "duration": 13,
        "start_time": "2022-09-01T20:44:58.666Z"
      },
      {
        "duration": 219,
        "start_time": "2022-09-01T20:44:58.681Z"
      },
      {
        "duration": 16,
        "start_time": "2022-09-01T20:44:58.902Z"
      },
      {
        "duration": 129,
        "start_time": "2022-09-01T20:44:58.921Z"
      },
      {
        "duration": 22,
        "start_time": "2022-09-01T21:14:38.192Z"
      },
      {
        "duration": 12,
        "start_time": "2022-09-01T21:15:36.331Z"
      },
      {
        "duration": 15,
        "start_time": "2022-09-01T21:31:09.574Z"
      },
      {
        "duration": 15,
        "start_time": "2022-09-01T21:31:43.544Z"
      },
      {
        "duration": 17,
        "start_time": "2022-09-01T21:31:49.740Z"
      },
      {
        "duration": 10,
        "start_time": "2022-09-01T21:32:11.145Z"
      },
      {
        "duration": 17,
        "start_time": "2022-09-01T21:32:17.203Z"
      },
      {
        "duration": 17,
        "start_time": "2022-09-01T21:32:53.726Z"
      },
      {
        "duration": 12,
        "start_time": "2022-09-01T21:35:02.447Z"
      },
      {
        "duration": 22,
        "start_time": "2022-09-01T21:35:13.085Z"
      },
      {
        "duration": 26,
        "start_time": "2022-09-01T21:35:29.486Z"
      },
      {
        "duration": 8,
        "start_time": "2022-09-01T21:38:15.728Z"
      },
      {
        "duration": 23,
        "start_time": "2022-09-01T21:38:26.688Z"
      },
      {
        "duration": 24,
        "start_time": "2022-09-01T21:38:46.487Z"
      },
      {
        "duration": 24,
        "start_time": "2022-09-01T21:39:25.235Z"
      },
      {
        "duration": 15,
        "start_time": "2022-09-01T21:39:54.587Z"
      },
      {
        "duration": 25,
        "start_time": "2022-09-01T21:40:05.976Z"
      },
      {
        "duration": 23,
        "start_time": "2022-09-01T21:41:30.192Z"
      },
      {
        "duration": 24,
        "start_time": "2022-09-01T21:42:24.855Z"
      },
      {
        "duration": 27,
        "start_time": "2022-09-01T21:42:32.905Z"
      },
      {
        "duration": 27,
        "start_time": "2022-09-01T21:42:47.053Z"
      },
      {
        "duration": 12,
        "start_time": "2022-09-01T21:43:21.188Z"
      },
      {
        "duration": 24,
        "start_time": "2022-09-01T21:43:42.390Z"
      },
      {
        "duration": 123,
        "start_time": "2022-09-01T21:43:55.094Z"
      },
      {
        "duration": 25,
        "start_time": "2022-09-01T21:44:27.442Z"
      },
      {
        "duration": 109,
        "start_time": "2022-09-01T21:44:29.414Z"
      },
      {
        "duration": 12,
        "start_time": "2022-09-01T21:50:40.325Z"
      },
      {
        "duration": 15,
        "start_time": "2022-09-01T21:50:46.414Z"
      },
      {
        "duration": 56,
        "start_time": "2022-09-01T21:51:47.716Z"
      },
      {
        "duration": 17,
        "start_time": "2022-09-01T21:51:55.212Z"
      },
      {
        "duration": 48,
        "start_time": "2022-09-01T21:52:10.627Z"
      },
      {
        "duration": 15,
        "start_time": "2022-09-01T21:52:13.952Z"
      },
      {
        "duration": 27,
        "start_time": "2022-09-01T21:53:07.646Z"
      },
      {
        "duration": 24,
        "start_time": "2022-09-01T21:53:24.843Z"
      },
      {
        "duration": 7,
        "start_time": "2022-09-01T21:54:14.090Z"
      },
      {
        "duration": 6,
        "start_time": "2022-09-01T21:54:24.456Z"
      },
      {
        "duration": 17,
        "start_time": "2022-09-01T21:54:35.138Z"
      },
      {
        "duration": 13,
        "start_time": "2022-09-01T22:00:01.678Z"
      },
      {
        "duration": 16,
        "start_time": "2022-09-01T22:00:06.573Z"
      },
      {
        "duration": 15,
        "start_time": "2022-09-01T22:00:41.171Z"
      },
      {
        "duration": 15,
        "start_time": "2022-09-01T22:00:49.722Z"
      },
      {
        "duration": 253,
        "start_time": "2022-09-01T22:00:50.942Z"
      },
      {
        "duration": 341,
        "start_time": "2022-09-01T22:01:21.718Z"
      },
      {
        "duration": 265,
        "start_time": "2022-09-01T22:01:41.006Z"
      },
      {
        "duration": 254,
        "start_time": "2022-09-01T22:02:09.974Z"
      },
      {
        "duration": 277,
        "start_time": "2022-09-01T22:02:38.486Z"
      },
      {
        "duration": 283,
        "start_time": "2022-09-01T22:03:05.292Z"
      },
      {
        "duration": 305,
        "start_time": "2022-09-01T22:03:09.940Z"
      },
      {
        "duration": 406,
        "start_time": "2022-09-01T22:03:18.589Z"
      },
      {
        "duration": 362,
        "start_time": "2022-09-01T22:03:58.704Z"
      },
      {
        "duration": 816,
        "start_time": "2022-09-01T22:10:30.259Z"
      },
      {
        "duration": 282,
        "start_time": "2022-09-01T22:10:34.427Z"
      },
      {
        "duration": 22,
        "start_time": "2022-09-01T22:28:24.706Z"
      },
      {
        "duration": 19,
        "start_time": "2022-09-01T22:28:55.366Z"
      },
      {
        "duration": 14,
        "start_time": "2022-09-01T22:29:08.174Z"
      },
      {
        "duration": 179,
        "start_time": "2022-09-01T22:29:16.462Z"
      },
      {
        "duration": 188,
        "start_time": "2022-09-01T22:29:32.231Z"
      },
      {
        "duration": 629,
        "start_time": "2022-09-01T22:43:38.251Z"
      },
      {
        "duration": 6,
        "start_time": "2022-09-01T22:55:15.678Z"
      },
      {
        "duration": 538,
        "start_time": "2022-09-01T22:55:46.193Z"
      },
      {
        "duration": 544,
        "start_time": "2022-09-01T22:56:03.408Z"
      },
      {
        "duration": 570,
        "start_time": "2022-09-01T22:56:30.524Z"
      },
      {
        "duration": 5,
        "start_time": "2022-09-01T22:58:17.461Z"
      },
      {
        "duration": 176,
        "start_time": "2022-09-01T22:58:18.025Z"
      },
      {
        "duration": 5,
        "start_time": "2022-09-01T22:58:27.578Z"
      },
      {
        "duration": 601,
        "start_time": "2022-09-01T22:58:28.096Z"
      },
      {
        "duration": 5,
        "start_time": "2022-09-01T22:59:30.146Z"
      },
      {
        "duration": 526,
        "start_time": "2022-09-01T22:59:32.755Z"
      },
      {
        "duration": 510,
        "start_time": "2022-09-01T22:59:37.147Z"
      },
      {
        "duration": 6,
        "start_time": "2022-09-01T22:59:40.690Z"
      },
      {
        "duration": 528,
        "start_time": "2022-09-01T22:59:41.328Z"
      },
      {
        "duration": 6,
        "start_time": "2022-09-01T23:06:49.529Z"
      },
      {
        "duration": 14,
        "start_time": "2022-09-01T23:06:51.654Z"
      },
      {
        "duration": 5,
        "start_time": "2022-09-01T23:07:06.014Z"
      },
      {
        "duration": 520,
        "start_time": "2022-09-01T23:07:08.269Z"
      },
      {
        "duration": 103,
        "start_time": "2022-09-01T23:07:44.388Z"
      },
      {
        "duration": 594,
        "start_time": "2022-09-01T23:07:45.935Z"
      },
      {
        "duration": 524,
        "start_time": "2022-09-01T23:08:20.448Z"
      },
      {
        "duration": 563,
        "start_time": "2022-09-01T23:08:26.101Z"
      },
      {
        "duration": 6,
        "start_time": "2022-09-01T23:14:36.716Z"
      },
      {
        "duration": 537,
        "start_time": "2022-09-01T23:14:38.234Z"
      },
      {
        "duration": 6,
        "start_time": "2022-09-01T23:14:49.880Z"
      },
      {
        "duration": 621,
        "start_time": "2022-09-01T23:14:50.956Z"
      },
      {
        "duration": 6,
        "start_time": "2022-09-01T23:24:52.158Z"
      },
      {
        "duration": 643,
        "start_time": "2022-09-01T23:24:53.382Z"
      },
      {
        "duration": 8,
        "start_time": "2022-09-01T23:28:25.039Z"
      },
      {
        "duration": 13,
        "start_time": "2022-09-01T23:28:27.996Z"
      },
      {
        "duration": 15,
        "start_time": "2022-09-01T23:28:38.852Z"
      },
      {
        "duration": 14,
        "start_time": "2022-09-01T23:28:52.631Z"
      },
      {
        "duration": 5,
        "start_time": "2022-09-01T23:29:22.720Z"
      },
      {
        "duration": 11,
        "start_time": "2022-09-01T23:36:32.932Z"
      },
      {
        "duration": 24,
        "start_time": "2022-09-01T23:36:39.377Z"
      },
      {
        "duration": 23,
        "start_time": "2022-09-01T23:37:15.801Z"
      },
      {
        "duration": 28,
        "start_time": "2022-09-01T23:37:28.407Z"
      },
      {
        "duration": 20,
        "start_time": "2022-09-01T23:37:44.947Z"
      },
      {
        "duration": 6,
        "start_time": "2022-09-01T23:39:55.197Z"
      },
      {
        "duration": 17,
        "start_time": "2022-09-01T23:39:59.989Z"
      },
      {
        "duration": 26,
        "start_time": "2022-09-02T00:02:51.372Z"
      },
      {
        "duration": 10,
        "start_time": "2022-09-02T00:03:23.086Z"
      },
      {
        "duration": 19,
        "start_time": "2022-09-02T00:03:31.803Z"
      },
      {
        "duration": 11,
        "start_time": "2022-09-02T00:06:40.038Z"
      },
      {
        "duration": 18,
        "start_time": "2022-09-02T00:06:44.296Z"
      },
      {
        "duration": 17,
        "start_time": "2022-09-02T00:07:04.828Z"
      },
      {
        "duration": 11,
        "start_time": "2022-09-02T00:38:54.357Z"
      },
      {
        "duration": 17,
        "start_time": "2022-09-02T00:38:58.244Z"
      },
      {
        "duration": 5,
        "start_time": "2022-09-02T00:42:40.410Z"
      },
      {
        "duration": 21,
        "start_time": "2022-09-02T00:42:45.909Z"
      },
      {
        "duration": 22,
        "start_time": "2022-09-02T00:42:51.164Z"
      },
      {
        "duration": 12,
        "start_time": "2022-09-02T00:42:57.863Z"
      },
      {
        "duration": 12,
        "start_time": "2022-09-02T00:43:12.231Z"
      },
      {
        "duration": 10,
        "start_time": "2022-09-02T00:50:11.612Z"
      },
      {
        "duration": 5,
        "start_time": "2022-09-02T00:51:06.557Z"
      },
      {
        "duration": 125,
        "start_time": "2022-09-02T00:52:30.086Z"
      },
      {
        "duration": 121,
        "start_time": "2022-09-02T00:52:43.292Z"
      },
      {
        "duration": 6,
        "start_time": "2022-09-02T00:53:24.660Z"
      },
      {
        "duration": 4,
        "start_time": "2022-09-02T00:53:33.012Z"
      },
      {
        "duration": 39,
        "start_time": "2022-09-02T00:57:22.164Z"
      },
      {
        "duration": 5,
        "start_time": "2022-09-02T00:57:55.014Z"
      },
      {
        "duration": 3,
        "start_time": "2022-09-02T01:04:26.660Z"
      },
      {
        "duration": 1391,
        "start_time": "2022-09-02T01:04:36.203Z"
      },
      {
        "duration": 51,
        "start_time": "2022-09-02T01:04:37.596Z"
      },
      {
        "duration": 5,
        "start_time": "2022-09-02T01:04:37.648Z"
      },
      {
        "duration": 35,
        "start_time": "2022-09-02T01:04:37.655Z"
      },
      {
        "duration": 38,
        "start_time": "2022-09-02T01:04:37.691Z"
      },
      {
        "duration": 23,
        "start_time": "2022-09-02T01:04:37.731Z"
      },
      {
        "duration": 40,
        "start_time": "2022-09-02T01:04:37.756Z"
      },
      {
        "duration": 39,
        "start_time": "2022-09-02T01:04:37.797Z"
      },
      {
        "duration": 21,
        "start_time": "2022-09-02T01:04:37.838Z"
      },
      {
        "duration": 42,
        "start_time": "2022-09-02T01:04:37.861Z"
      },
      {
        "duration": 63,
        "start_time": "2022-09-02T01:04:37.904Z"
      },
      {
        "duration": 41,
        "start_time": "2022-09-02T01:04:37.968Z"
      },
      {
        "duration": 41,
        "start_time": "2022-09-02T01:04:38.010Z"
      },
      {
        "duration": 28,
        "start_time": "2022-09-02T01:04:38.053Z"
      },
      {
        "duration": 29,
        "start_time": "2022-09-02T01:04:38.082Z"
      },
      {
        "duration": 3,
        "start_time": "2022-09-02T01:04:38.113Z"
      },
      {
        "duration": 3,
        "start_time": "2022-09-02T01:04:38.138Z"
      },
      {
        "duration": 24,
        "start_time": "2022-09-02T01:04:38.142Z"
      },
      {
        "duration": 66,
        "start_time": "2022-09-02T01:04:38.167Z"
      },
      {
        "duration": 54,
        "start_time": "2022-09-02T01:04:38.235Z"
      },
      {
        "duration": 38,
        "start_time": "2022-09-02T01:04:38.291Z"
      },
      {
        "duration": 27,
        "start_time": "2022-09-02T01:04:38.330Z"
      },
      {
        "duration": 23,
        "start_time": "2022-09-02T01:04:38.359Z"
      },
      {
        "duration": 31,
        "start_time": "2022-09-02T01:04:38.383Z"
      },
      {
        "duration": 11,
        "start_time": "2022-09-02T01:04:38.416Z"
      },
      {
        "duration": 38,
        "start_time": "2022-09-02T01:04:38.429Z"
      },
      {
        "duration": 9,
        "start_time": "2022-09-02T01:04:38.469Z"
      },
      {
        "duration": 11,
        "start_time": "2022-09-02T01:04:38.482Z"
      },
      {
        "duration": 175,
        "start_time": "2022-09-02T01:04:38.494Z"
      },
      {
        "duration": 10,
        "start_time": "2022-09-02T01:04:38.670Z"
      },
      {
        "duration": 17,
        "start_time": "2022-09-02T01:04:38.682Z"
      },
      {
        "duration": 37,
        "start_time": "2022-09-02T01:04:38.701Z"
      },
      {
        "duration": 19,
        "start_time": "2022-09-02T01:04:38.739Z"
      },
      {
        "duration": 21,
        "start_time": "2022-09-02T01:04:38.759Z"
      },
      {
        "duration": 39,
        "start_time": "2022-09-02T01:04:38.781Z"
      },
      {
        "duration": 27,
        "start_time": "2022-09-02T01:04:38.822Z"
      },
      {
        "duration": 33,
        "start_time": "2022-09-02T01:04:38.851Z"
      },
      {
        "duration": 38,
        "start_time": "2022-09-02T01:04:38.887Z"
      },
      {
        "duration": 25,
        "start_time": "2022-09-02T01:04:38.926Z"
      },
      {
        "duration": 31,
        "start_time": "2022-09-02T01:04:38.953Z"
      },
      {
        "duration": 29,
        "start_time": "2022-09-02T01:04:38.986Z"
      },
      {
        "duration": 26,
        "start_time": "2022-09-02T01:04:39.017Z"
      },
      {
        "duration": 18,
        "start_time": "2022-09-02T01:04:39.044Z"
      },
      {
        "duration": 15,
        "start_time": "2022-09-02T01:04:39.063Z"
      },
      {
        "duration": 199,
        "start_time": "2022-09-02T01:04:39.080Z"
      },
      {
        "duration": 9,
        "start_time": "2022-09-02T01:04:39.280Z"
      },
      {
        "duration": 28,
        "start_time": "2022-09-02T01:04:39.291Z"
      },
      {
        "duration": 10,
        "start_time": "2022-09-02T01:04:39.321Z"
      },
      {
        "duration": 45,
        "start_time": "2022-09-02T01:04:39.332Z"
      },
      {
        "duration": 15,
        "start_time": "2022-09-02T01:04:39.379Z"
      },
      {
        "duration": 20,
        "start_time": "2022-09-02T01:04:39.395Z"
      },
      {
        "duration": 46,
        "start_time": "2022-09-02T01:04:39.417Z"
      },
      {
        "duration": 24,
        "start_time": "2022-09-02T01:04:39.464Z"
      },
      {
        "duration": 14,
        "start_time": "2022-09-02T01:04:39.489Z"
      },
      {
        "duration": 322,
        "start_time": "2022-09-02T01:04:39.504Z"
      },
      {
        "duration": 21,
        "start_time": "2022-09-02T01:04:39.828Z"
      },
      {
        "duration": 286,
        "start_time": "2022-09-02T01:04:39.850Z"
      },
      {
        "duration": 3,
        "start_time": "2022-09-02T01:04:40.138Z"
      },
      {
        "duration": 195,
        "start_time": "2022-09-02T01:04:40.143Z"
      },
      {
        "duration": 168,
        "start_time": "2022-09-02T01:04:40.340Z"
      },
      {
        "duration": 169,
        "start_time": "2022-09-02T01:04:40.510Z"
      },
      {
        "duration": 164,
        "start_time": "2022-09-02T01:04:40.680Z"
      },
      {
        "duration": 232,
        "start_time": "2022-09-02T01:04:40.846Z"
      },
      {
        "duration": 804,
        "start_time": "2022-09-02T01:04:41.080Z"
      },
      {
        "duration": 5,
        "start_time": "2022-09-02T01:04:41.886Z"
      },
      {
        "duration": 18,
        "start_time": "2022-09-02T01:04:41.892Z"
      },
      {
        "duration": 36,
        "start_time": "2022-09-02T01:04:41.911Z"
      },
      {
        "duration": 204,
        "start_time": "2022-09-02T01:04:41.948Z"
      },
      {
        "duration": 208,
        "start_time": "2022-09-02T01:04:42.153Z"
      },
      {
        "duration": 3,
        "start_time": "2022-09-02T01:04:42.362Z"
      },
      {
        "duration": 755,
        "start_time": "2022-09-02T01:04:42.366Z"
      },
      {
        "duration": 338,
        "start_time": "2022-09-02T01:04:43.122Z"
      },
      {
        "duration": 16,
        "start_time": "2022-09-02T01:04:43.462Z"
      },
      {
        "duration": 23,
        "start_time": "2022-09-02T01:04:43.479Z"
      },
      {
        "duration": 220,
        "start_time": "2022-09-02T01:04:43.503Z"
      },
      {
        "duration": 19,
        "start_time": "2022-09-02T01:04:43.724Z"
      },
      {
        "duration": 218,
        "start_time": "2022-09-02T01:04:43.745Z"
      },
      {
        "duration": 139,
        "start_time": "2022-09-02T01:04:43.965Z"
      },
      {
        "duration": 15,
        "start_time": "2022-09-02T01:04:44.106Z"
      },
      {
        "duration": 36,
        "start_time": "2022-09-02T01:04:44.122Z"
      },
      {
        "duration": 21,
        "start_time": "2022-09-02T01:04:44.159Z"
      },
      {
        "duration": 305,
        "start_time": "2022-09-02T01:04:44.185Z"
      },
      {
        "duration": 19,
        "start_time": "2022-09-02T01:04:44.491Z"
      },
      {
        "duration": 186,
        "start_time": "2022-09-02T01:04:44.512Z"
      },
      {
        "duration": 183,
        "start_time": "2022-09-02T01:04:44.700Z"
      },
      {
        "duration": 6,
        "start_time": "2022-09-02T01:04:44.884Z"
      },
      {
        "duration": 537,
        "start_time": "2022-09-02T01:04:44.891Z"
      },
      {
        "duration": 23,
        "start_time": "2022-09-02T01:04:45.429Z"
      },
      {
        "duration": 628,
        "start_time": "2022-09-02T01:04:45.454Z"
      },
      {
        "duration": 19,
        "start_time": "2022-09-02T01:04:46.083Z"
      },
      {
        "duration": 548,
        "start_time": "2022-09-02T01:04:46.103Z"
      },
      {
        "duration": 16,
        "start_time": "2022-09-02T01:04:46.653Z"
      },
      {
        "duration": 15,
        "start_time": "2022-09-02T01:04:46.671Z"
      },
      {
        "duration": 18,
        "start_time": "2022-09-02T01:04:46.688Z"
      },
      {
        "duration": 7,
        "start_time": "2022-09-02T01:04:46.707Z"
      },
      {
        "duration": 29,
        "start_time": "2022-09-02T01:04:46.715Z"
      },
      {
        "duration": 5,
        "start_time": "2022-09-02T01:05:05.550Z"
      },
      {
        "duration": 4,
        "start_time": "2022-09-02T01:05:23.533Z"
      },
      {
        "duration": 5,
        "start_time": "2022-09-02T01:07:36.250Z"
      },
      {
        "duration": 6,
        "start_time": "2022-09-02T01:07:45.058Z"
      },
      {
        "duration": 16,
        "start_time": "2022-09-02T01:08:03.317Z"
      },
      {
        "duration": 14,
        "start_time": "2022-09-02T01:08:09.105Z"
      },
      {
        "duration": 97,
        "start_time": "2022-09-02T01:08:36.464Z"
      },
      {
        "duration": 15,
        "start_time": "2022-09-02T01:08:47.302Z"
      },
      {
        "duration": 13,
        "start_time": "2022-09-02T01:09:03.802Z"
      },
      {
        "duration": 5,
        "start_time": "2022-09-02T01:09:29.214Z"
      },
      {
        "duration": 9,
        "start_time": "2022-09-02T01:09:45.468Z"
      },
      {
        "duration": 6,
        "start_time": "2022-09-02T01:10:37.182Z"
      },
      {
        "duration": 10,
        "start_time": "2022-09-02T01:11:47.498Z"
      },
      {
        "duration": 1027,
        "start_time": "2022-09-02T01:12:29.199Z"
      },
      {
        "duration": 51,
        "start_time": "2022-09-02T01:12:30.227Z"
      },
      {
        "duration": 4,
        "start_time": "2022-09-02T01:12:30.280Z"
      },
      {
        "duration": 25,
        "start_time": "2022-09-02T01:12:30.286Z"
      },
      {
        "duration": 14,
        "start_time": "2022-09-02T01:12:30.312Z"
      },
      {
        "duration": 17,
        "start_time": "2022-09-02T01:12:30.327Z"
      },
      {
        "duration": 23,
        "start_time": "2022-09-02T01:12:30.346Z"
      },
      {
        "duration": 25,
        "start_time": "2022-09-02T01:12:30.371Z"
      },
      {
        "duration": 8,
        "start_time": "2022-09-02T01:12:30.397Z"
      },
      {
        "duration": 30,
        "start_time": "2022-09-02T01:12:30.407Z"
      },
      {
        "duration": 36,
        "start_time": "2022-09-02T01:12:30.438Z"
      },
      {
        "duration": 35,
        "start_time": "2022-09-02T01:12:30.476Z"
      },
      {
        "duration": 42,
        "start_time": "2022-09-02T01:12:30.513Z"
      },
      {
        "duration": 29,
        "start_time": "2022-09-02T01:12:30.557Z"
      },
      {
        "duration": 29,
        "start_time": "2022-09-02T01:12:30.587Z"
      },
      {
        "duration": 4,
        "start_time": "2022-09-02T01:12:30.639Z"
      },
      {
        "duration": 29,
        "start_time": "2022-09-02T01:12:30.645Z"
      },
      {
        "duration": 24,
        "start_time": "2022-09-02T01:12:30.676Z"
      },
      {
        "duration": 36,
        "start_time": "2022-09-02T01:12:30.701Z"
      },
      {
        "duration": 31,
        "start_time": "2022-09-02T01:12:30.739Z"
      },
      {
        "duration": 32,
        "start_time": "2022-09-02T01:12:30.772Z"
      },
      {
        "duration": 20,
        "start_time": "2022-09-02T01:12:30.805Z"
      },
      {
        "duration": 40,
        "start_time": "2022-09-02T01:12:30.827Z"
      },
      {
        "duration": 75,
        "start_time": "2022-09-02T01:12:30.869Z"
      },
      {
        "duration": 110,
        "start_time": "2022-09-02T01:12:30.945Z"
      },
      {
        "duration": 39,
        "start_time": "2022-09-02T01:12:31.057Z"
      },
      {
        "duration": 5,
        "start_time": "2022-09-02T01:12:31.098Z"
      },
      {
        "duration": 22,
        "start_time": "2022-09-02T01:12:31.108Z"
      },
      {
        "duration": 152,
        "start_time": "2022-09-02T01:12:31.132Z"
      },
      {
        "duration": 10,
        "start_time": "2022-09-02T01:12:31.286Z"
      },
      {
        "duration": 26,
        "start_time": "2022-09-02T01:12:31.298Z"
      },
      {
        "duration": 58,
        "start_time": "2022-09-02T01:12:31.325Z"
      },
      {
        "duration": 20,
        "start_time": "2022-09-02T01:12:31.385Z"
      },
      {
        "duration": 27,
        "start_time": "2022-09-02T01:12:31.407Z"
      },
      {
        "duration": 12,
        "start_time": "2022-09-02T01:12:31.436Z"
      },
      {
        "duration": 22,
        "start_time": "2022-09-02T01:12:31.449Z"
      },
      {
        "duration": 19,
        "start_time": "2022-09-02T01:12:31.473Z"
      },
      {
        "duration": 39,
        "start_time": "2022-09-02T01:12:31.494Z"
      },
      {
        "duration": 29,
        "start_time": "2022-09-02T01:12:31.534Z"
      },
      {
        "duration": 23,
        "start_time": "2022-09-02T01:12:31.564Z"
      },
      {
        "duration": 25,
        "start_time": "2022-09-02T01:12:31.588Z"
      },
      {
        "duration": 20,
        "start_time": "2022-09-02T01:12:31.614Z"
      },
      {
        "duration": 15,
        "start_time": "2022-09-02T01:12:31.636Z"
      },
      {
        "duration": 39,
        "start_time": "2022-09-02T01:12:31.653Z"
      },
      {
        "duration": 209,
        "start_time": "2022-09-02T01:12:31.694Z"
      },
      {
        "duration": 9,
        "start_time": "2022-09-02T01:12:31.905Z"
      },
      {
        "duration": 24,
        "start_time": "2022-09-02T01:12:31.916Z"
      },
      {
        "duration": 26,
        "start_time": "2022-09-02T01:12:31.942Z"
      },
      {
        "duration": 22,
        "start_time": "2022-09-02T01:12:31.970Z"
      },
      {
        "duration": 8,
        "start_time": "2022-09-02T01:12:31.994Z"
      },
      {
        "duration": 35,
        "start_time": "2022-09-02T01:12:32.004Z"
      },
      {
        "duration": 20,
        "start_time": "2022-09-02T01:12:32.040Z"
      },
      {
        "duration": 37,
        "start_time": "2022-09-02T01:12:32.062Z"
      },
      {
        "duration": 13,
        "start_time": "2022-09-02T01:12:32.101Z"
      },
      {
        "duration": 338,
        "start_time": "2022-09-02T01:12:32.116Z"
      },
      {
        "duration": 15,
        "start_time": "2022-09-02T01:12:32.456Z"
      },
      {
        "duration": 293,
        "start_time": "2022-09-02T01:12:32.473Z"
      },
      {
        "duration": 4,
        "start_time": "2022-09-02T01:12:32.768Z"
      },
      {
        "duration": 170,
        "start_time": "2022-09-02T01:12:32.774Z"
      },
      {
        "duration": 176,
        "start_time": "2022-09-02T01:12:32.946Z"
      },
      {
        "duration": 172,
        "start_time": "2022-09-02T01:12:33.124Z"
      },
      {
        "duration": 159,
        "start_time": "2022-09-02T01:12:33.298Z"
      },
      {
        "duration": 252,
        "start_time": "2022-09-02T01:12:33.459Z"
      },
      {
        "duration": 814,
        "start_time": "2022-09-02T01:12:33.713Z"
      },
      {
        "duration": 13,
        "start_time": "2022-09-02T01:12:34.528Z"
      },
      {
        "duration": 11,
        "start_time": "2022-09-02T01:12:34.543Z"
      },
      {
        "duration": 31,
        "start_time": "2022-09-02T01:12:34.555Z"
      },
      {
        "duration": 227,
        "start_time": "2022-09-02T01:12:34.587Z"
      },
      {
        "duration": 204,
        "start_time": "2022-09-02T01:12:34.816Z"
      },
      {
        "duration": 3,
        "start_time": "2022-09-02T01:12:35.022Z"
      },
      {
        "duration": 819,
        "start_time": "2022-09-02T01:12:35.026Z"
      },
      {
        "duration": 411,
        "start_time": "2022-09-02T01:12:35.847Z"
      },
      {
        "duration": 16,
        "start_time": "2022-09-02T01:12:36.260Z"
      },
      {
        "duration": 24,
        "start_time": "2022-09-02T01:12:36.277Z"
      },
      {
        "duration": 202,
        "start_time": "2022-09-02T01:12:36.303Z"
      },
      {
        "duration": 12,
        "start_time": "2022-09-02T01:12:36.507Z"
      },
      {
        "duration": 226,
        "start_time": "2022-09-02T01:12:36.520Z"
      },
      {
        "duration": 139,
        "start_time": "2022-09-02T01:12:36.747Z"
      },
      {
        "duration": 15,
        "start_time": "2022-09-02T01:12:36.887Z"
      },
      {
        "duration": 42,
        "start_time": "2022-09-02T01:12:36.904Z"
      },
      {
        "duration": 14,
        "start_time": "2022-09-02T01:12:36.947Z"
      },
      {
        "duration": 302,
        "start_time": "2022-09-02T01:12:36.965Z"
      },
      {
        "duration": 22,
        "start_time": "2022-09-02T01:12:37.268Z"
      },
      {
        "duration": 191,
        "start_time": "2022-09-02T01:12:37.291Z"
      },
      {
        "duration": 200,
        "start_time": "2022-09-02T01:12:37.484Z"
      },
      {
        "duration": 7,
        "start_time": "2022-09-02T01:12:37.686Z"
      },
      {
        "duration": 570,
        "start_time": "2022-09-02T01:12:37.696Z"
      },
      {
        "duration": 18,
        "start_time": "2022-09-02T01:12:38.267Z"
      },
      {
        "duration": 616,
        "start_time": "2022-09-02T01:12:38.286Z"
      },
      {
        "duration": 22,
        "start_time": "2022-09-02T01:12:38.904Z"
      },
      {
        "duration": 600,
        "start_time": "2022-09-02T01:12:38.927Z"
      },
      {
        "duration": 17,
        "start_time": "2022-09-02T01:12:39.539Z"
      },
      {
        "duration": 16,
        "start_time": "2022-09-02T01:12:39.557Z"
      },
      {
        "duration": 14,
        "start_time": "2022-09-02T01:12:39.574Z"
      },
      {
        "duration": 13,
        "start_time": "2022-09-02T01:12:39.589Z"
      },
      {
        "duration": 8,
        "start_time": "2022-09-02T01:12:39.604Z"
      },
      {
        "duration": 5,
        "start_time": "2022-09-02T01:12:39.613Z"
      },
      {
        "duration": 5,
        "start_time": "2022-09-02T01:14:53.504Z"
      },
      {
        "duration": 6,
        "start_time": "2022-09-02T01:15:08.000Z"
      },
      {
        "duration": 5,
        "start_time": "2022-09-02T01:15:17.789Z"
      },
      {
        "duration": 6,
        "start_time": "2022-09-02T01:19:55.307Z"
      },
      {
        "duration": 6,
        "start_time": "2022-09-02T01:26:58.621Z"
      },
      {
        "duration": 50,
        "start_time": "2022-09-02T01:27:38.703Z"
      },
      {
        "duration": 99,
        "start_time": "2022-09-02T01:27:43.719Z"
      },
      {
        "duration": 124,
        "start_time": "2022-09-02T01:27:57.723Z"
      },
      {
        "duration": 110,
        "start_time": "2022-09-02T01:28:03.864Z"
      },
      {
        "duration": 88,
        "start_time": "2022-09-02T01:28:26.563Z"
      },
      {
        "duration": 7,
        "start_time": "2022-09-02T01:28:40.585Z"
      },
      {
        "duration": 5,
        "start_time": "2022-09-02T01:29:00.565Z"
      },
      {
        "duration": 7,
        "start_time": "2022-09-02T01:29:05.390Z"
      },
      {
        "duration": 7,
        "start_time": "2022-09-02T01:31:11.490Z"
      },
      {
        "duration": 90,
        "start_time": "2022-09-02T01:31:54.593Z"
      },
      {
        "duration": 5,
        "start_time": "2022-09-02T01:32:05.379Z"
      },
      {
        "duration": 5,
        "start_time": "2022-09-02T01:32:17.290Z"
      },
      {
        "duration": 4,
        "start_time": "2022-09-02T01:40:13.999Z"
      },
      {
        "duration": 4,
        "start_time": "2022-09-02T01:40:22.378Z"
      },
      {
        "duration": 3,
        "start_time": "2022-09-02T01:40:27.094Z"
      },
      {
        "duration": 5,
        "start_time": "2022-09-02T01:40:38.927Z"
      },
      {
        "duration": 4,
        "start_time": "2022-09-02T01:41:12.902Z"
      },
      {
        "duration": 50,
        "start_time": "2022-09-02T01:42:09.187Z"
      },
      {
        "duration": 68,
        "start_time": "2022-09-02T01:42:13.818Z"
      },
      {
        "duration": 5,
        "start_time": "2022-09-02T01:42:31.881Z"
      },
      {
        "duration": 5,
        "start_time": "2022-09-02T01:44:53.776Z"
      },
      {
        "duration": 5,
        "start_time": "2022-09-02T01:45:07.622Z"
      },
      {
        "duration": 5,
        "start_time": "2022-09-02T01:54:17.000Z"
      },
      {
        "duration": 6,
        "start_time": "2022-09-02T01:54:29.275Z"
      },
      {
        "duration": 23,
        "start_time": "2022-09-02T02:01:03.876Z"
      },
      {
        "duration": 14,
        "start_time": "2022-09-02T02:01:12.178Z"
      },
      {
        "duration": 13,
        "start_time": "2022-09-02T02:01:29.429Z"
      },
      {
        "duration": 10,
        "start_time": "2022-09-02T02:07:23.350Z"
      },
      {
        "duration": 8,
        "start_time": "2022-09-02T02:07:28.945Z"
      },
      {
        "duration": 5,
        "start_time": "2022-09-02T02:10:11.056Z"
      },
      {
        "duration": 4,
        "start_time": "2022-09-02T02:10:17.734Z"
      },
      {
        "duration": 5,
        "start_time": "2022-09-02T02:14:46.957Z"
      },
      {
        "duration": 6,
        "start_time": "2022-09-02T02:15:20.614Z"
      },
      {
        "duration": 5,
        "start_time": "2022-09-02T02:28:01.662Z"
      },
      {
        "duration": 7,
        "start_time": "2022-09-02T02:28:20.835Z"
      },
      {
        "duration": 1151,
        "start_time": "2022-09-02T21:36:02.583Z"
      },
      {
        "duration": 94,
        "start_time": "2022-09-02T21:36:03.736Z"
      },
      {
        "duration": 5,
        "start_time": "2022-09-02T21:36:03.831Z"
      },
      {
        "duration": 28,
        "start_time": "2022-09-02T21:36:03.838Z"
      },
      {
        "duration": 26,
        "start_time": "2022-09-02T21:36:03.868Z"
      },
      {
        "duration": 38,
        "start_time": "2022-09-02T21:36:03.896Z"
      },
      {
        "duration": 28,
        "start_time": "2022-09-02T21:36:03.936Z"
      },
      {
        "duration": 35,
        "start_time": "2022-09-02T21:36:03.965Z"
      },
      {
        "duration": 8,
        "start_time": "2022-09-02T21:36:04.001Z"
      },
      {
        "duration": 21,
        "start_time": "2022-09-02T21:36:04.011Z"
      },
      {
        "duration": 41,
        "start_time": "2022-09-02T21:36:04.034Z"
      },
      {
        "duration": 34,
        "start_time": "2022-09-02T21:36:04.076Z"
      },
      {
        "duration": 39,
        "start_time": "2022-09-02T21:36:04.111Z"
      },
      {
        "duration": 30,
        "start_time": "2022-09-02T21:36:04.153Z"
      },
      {
        "duration": 29,
        "start_time": "2022-09-02T21:36:04.184Z"
      },
      {
        "duration": 24,
        "start_time": "2022-09-02T21:36:04.215Z"
      },
      {
        "duration": 3,
        "start_time": "2022-09-02T21:36:04.241Z"
      },
      {
        "duration": 40,
        "start_time": "2022-09-02T21:36:04.246Z"
      },
      {
        "duration": 29,
        "start_time": "2022-09-02T21:36:04.288Z"
      },
      {
        "duration": 40,
        "start_time": "2022-09-02T21:36:04.319Z"
      },
      {
        "duration": 43,
        "start_time": "2022-09-02T21:36:04.360Z"
      },
      {
        "duration": 13,
        "start_time": "2022-09-02T21:36:04.404Z"
      },
      {
        "duration": 12,
        "start_time": "2022-09-02T21:36:04.418Z"
      },
      {
        "duration": 21,
        "start_time": "2022-09-02T21:36:04.432Z"
      },
      {
        "duration": 9,
        "start_time": "2022-09-02T21:36:04.454Z"
      },
      {
        "duration": 30,
        "start_time": "2022-09-02T21:36:04.464Z"
      },
      {
        "duration": 4,
        "start_time": "2022-09-02T21:36:04.495Z"
      },
      {
        "duration": 20,
        "start_time": "2022-09-02T21:36:04.501Z"
      },
      {
        "duration": 172,
        "start_time": "2022-09-02T21:36:04.522Z"
      },
      {
        "duration": 10,
        "start_time": "2022-09-02T21:36:04.696Z"
      },
      {
        "duration": 26,
        "start_time": "2022-09-02T21:36:04.708Z"
      },
      {
        "duration": 28,
        "start_time": "2022-09-02T21:36:04.735Z"
      },
      {
        "duration": 23,
        "start_time": "2022-09-02T21:36:04.765Z"
      },
      {
        "duration": 27,
        "start_time": "2022-09-02T21:36:04.790Z"
      },
      {
        "duration": 26,
        "start_time": "2022-09-02T21:36:04.819Z"
      },
      {
        "duration": 36,
        "start_time": "2022-09-02T21:36:04.846Z"
      },
      {
        "duration": 14,
        "start_time": "2022-09-02T21:36:04.884Z"
      },
      {
        "duration": 17,
        "start_time": "2022-09-02T21:36:04.900Z"
      },
      {
        "duration": 17,
        "start_time": "2022-09-02T21:36:04.919Z"
      },
      {
        "duration": 20,
        "start_time": "2022-09-02T21:36:04.938Z"
      },
      {
        "duration": 22,
        "start_time": "2022-09-02T21:36:04.963Z"
      },
      {
        "duration": 19,
        "start_time": "2022-09-02T21:36:04.987Z"
      },
      {
        "duration": 26,
        "start_time": "2022-09-02T21:36:05.008Z"
      },
      {
        "duration": 21,
        "start_time": "2022-09-02T21:36:05.035Z"
      },
      {
        "duration": 209,
        "start_time": "2022-09-02T21:36:05.057Z"
      },
      {
        "duration": 9,
        "start_time": "2022-09-02T21:36:05.268Z"
      },
      {
        "duration": 15,
        "start_time": "2022-09-02T21:36:05.278Z"
      },
      {
        "duration": 12,
        "start_time": "2022-09-02T21:36:05.294Z"
      },
      {
        "duration": 35,
        "start_time": "2022-09-02T21:36:05.307Z"
      },
      {
        "duration": 5,
        "start_time": "2022-09-02T21:36:05.343Z"
      },
      {
        "duration": 15,
        "start_time": "2022-09-02T21:36:05.349Z"
      },
      {
        "duration": 20,
        "start_time": "2022-09-02T21:36:05.366Z"
      },
      {
        "duration": 20,
        "start_time": "2022-09-02T21:36:05.388Z"
      },
      {
        "duration": 13,
        "start_time": "2022-09-02T21:36:05.409Z"
      },
      {
        "duration": 341,
        "start_time": "2022-09-02T21:36:05.438Z"
      },
      {
        "duration": 15,
        "start_time": "2022-09-02T21:36:05.780Z"
      },
      {
        "duration": 306,
        "start_time": "2022-09-02T21:36:05.796Z"
      },
      {
        "duration": 3,
        "start_time": "2022-09-02T21:36:06.104Z"
      },
      {
        "duration": 177,
        "start_time": "2022-09-02T21:36:06.109Z"
      },
      {
        "duration": 180,
        "start_time": "2022-09-02T21:36:06.288Z"
      },
      {
        "duration": 182,
        "start_time": "2022-09-02T21:36:06.469Z"
      },
      {
        "duration": 167,
        "start_time": "2022-09-02T21:36:06.653Z"
      },
      {
        "duration": 244,
        "start_time": "2022-09-02T21:36:06.821Z"
      },
      {
        "duration": 785,
        "start_time": "2022-09-02T21:36:07.066Z"
      },
      {
        "duration": 6,
        "start_time": "2022-09-02T21:36:07.853Z"
      },
      {
        "duration": 23,
        "start_time": "2022-09-02T21:36:07.860Z"
      },
      {
        "duration": 30,
        "start_time": "2022-09-02T21:36:07.884Z"
      },
      {
        "duration": 219,
        "start_time": "2022-09-02T21:36:07.915Z"
      },
      {
        "duration": 202,
        "start_time": "2022-09-02T21:36:08.136Z"
      },
      {
        "duration": 4,
        "start_time": "2022-09-02T21:36:08.339Z"
      },
      {
        "duration": 794,
        "start_time": "2022-09-02T21:36:08.344Z"
      },
      {
        "duration": 339,
        "start_time": "2022-09-02T21:36:09.140Z"
      },
      {
        "duration": 15,
        "start_time": "2022-09-02T21:36:09.480Z"
      },
      {
        "duration": 23,
        "start_time": "2022-09-02T21:36:09.496Z"
      },
      {
        "duration": 213,
        "start_time": "2022-09-02T21:36:09.520Z"
      },
      {
        "duration": 12,
        "start_time": "2022-09-02T21:36:09.738Z"
      },
      {
        "duration": 228,
        "start_time": "2022-09-02T21:36:09.751Z"
      },
      {
        "duration": 142,
        "start_time": "2022-09-02T21:36:09.980Z"
      },
      {
        "duration": 21,
        "start_time": "2022-09-02T21:36:10.124Z"
      },
      {
        "duration": 26,
        "start_time": "2022-09-02T21:36:10.147Z"
      },
      {
        "duration": 16,
        "start_time": "2022-09-02T21:36:10.175Z"
      },
      {
        "duration": 309,
        "start_time": "2022-09-02T21:36:10.192Z"
      },
      {
        "duration": 19,
        "start_time": "2022-09-02T21:36:10.503Z"
      },
      {
        "duration": 183,
        "start_time": "2022-09-02T21:36:10.524Z"
      },
      {
        "duration": 198,
        "start_time": "2022-09-02T21:36:10.709Z"
      },
      {
        "duration": 5,
        "start_time": "2022-09-02T21:36:10.909Z"
      },
      {
        "duration": 543,
        "start_time": "2022-09-02T21:36:10.915Z"
      },
      {
        "duration": 17,
        "start_time": "2022-09-02T21:36:11.459Z"
      },
      {
        "duration": 641,
        "start_time": "2022-09-02T21:36:11.478Z"
      },
      {
        "duration": 24,
        "start_time": "2022-09-02T21:36:12.120Z"
      },
      {
        "duration": 560,
        "start_time": "2022-09-02T21:36:12.145Z"
      },
      {
        "duration": 17,
        "start_time": "2022-09-02T21:36:12.707Z"
      },
      {
        "duration": 21,
        "start_time": "2022-09-02T21:36:12.725Z"
      },
      {
        "duration": 14,
        "start_time": "2022-09-02T21:36:12.747Z"
      },
      {
        "duration": 5,
        "start_time": "2022-09-02T21:36:12.763Z"
      },
      {
        "duration": 24,
        "start_time": "2022-09-02T21:36:12.770Z"
      },
      {
        "duration": 8,
        "start_time": "2022-09-02T21:36:12.796Z"
      },
      {
        "duration": 8,
        "start_time": "2022-09-02T21:36:12.805Z"
      },
      {
        "duration": 9,
        "start_time": "2022-09-02T21:36:12.814Z"
      },
      {
        "duration": 8,
        "start_time": "2022-09-02T21:36:12.824Z"
      },
      {
        "duration": 16,
        "start_time": "2022-09-02T21:36:12.833Z"
      },
      {
        "duration": 16,
        "start_time": "2022-09-02T21:36:12.850Z"
      },
      {
        "duration": 11,
        "start_time": "2022-09-02T21:36:12.867Z"
      },
      {
        "duration": 5,
        "start_time": "2022-09-02T21:36:12.879Z"
      },
      {
        "duration": 5,
        "start_time": "2022-09-02T21:36:12.885Z"
      },
      {
        "duration": 6,
        "start_time": "2022-09-02T21:36:12.892Z"
      },
      {
        "duration": 6,
        "start_time": "2022-09-02T21:36:12.900Z"
      },
      {
        "duration": 6,
        "start_time": "2022-09-02T21:36:12.908Z"
      },
      {
        "duration": 7,
        "start_time": "2022-09-02T21:36:12.915Z"
      },
      {
        "duration": 18,
        "start_time": "2022-09-02T21:36:12.923Z"
      },
      {
        "duration": 1309,
        "start_time": "2022-09-03T19:17:57.783Z"
      },
      {
        "duration": 90,
        "start_time": "2022-09-03T19:17:59.094Z"
      },
      {
        "duration": 6,
        "start_time": "2022-09-03T19:17:59.186Z"
      },
      {
        "duration": 22,
        "start_time": "2022-09-03T19:17:59.193Z"
      },
      {
        "duration": 13,
        "start_time": "2022-09-03T19:17:59.217Z"
      },
      {
        "duration": 14,
        "start_time": "2022-09-03T19:17:59.231Z"
      },
      {
        "duration": 15,
        "start_time": "2022-09-03T19:17:59.246Z"
      },
      {
        "duration": 41,
        "start_time": "2022-09-03T19:17:59.263Z"
      },
      {
        "duration": 8,
        "start_time": "2022-09-03T19:17:59.305Z"
      },
      {
        "duration": 9,
        "start_time": "2022-09-03T19:17:59.314Z"
      },
      {
        "duration": 28,
        "start_time": "2022-09-03T19:17:59.324Z"
      },
      {
        "duration": 52,
        "start_time": "2022-09-03T19:17:59.354Z"
      },
      {
        "duration": 25,
        "start_time": "2022-09-03T19:17:59.408Z"
      },
      {
        "duration": 27,
        "start_time": "2022-09-03T19:17:59.435Z"
      },
      {
        "duration": 49,
        "start_time": "2022-09-03T19:17:59.463Z"
      },
      {
        "duration": 3,
        "start_time": "2022-09-03T19:17:59.514Z"
      },
      {
        "duration": 3,
        "start_time": "2022-09-03T19:17:59.518Z"
      },
      {
        "duration": 5,
        "start_time": "2022-09-03T19:17:59.523Z"
      },
      {
        "duration": 15,
        "start_time": "2022-09-03T19:17:59.529Z"
      },
      {
        "duration": 14,
        "start_time": "2022-09-03T19:17:59.545Z"
      },
      {
        "duration": 41,
        "start_time": "2022-09-03T19:17:59.560Z"
      },
      {
        "duration": 11,
        "start_time": "2022-09-03T19:17:59.602Z"
      },
      {
        "duration": 7,
        "start_time": "2022-09-03T19:17:59.614Z"
      },
      {
        "duration": 9,
        "start_time": "2022-09-03T19:17:59.622Z"
      },
      {
        "duration": 6,
        "start_time": "2022-09-03T19:17:59.632Z"
      },
      {
        "duration": 20,
        "start_time": "2022-09-03T19:17:59.639Z"
      },
      {
        "duration": 3,
        "start_time": "2022-09-03T19:17:59.660Z"
      },
      {
        "duration": 34,
        "start_time": "2022-09-03T19:17:59.664Z"
      },
      {
        "duration": 158,
        "start_time": "2022-09-03T19:17:59.699Z"
      },
      {
        "duration": 9,
        "start_time": "2022-09-03T19:17:59.859Z"
      },
      {
        "duration": 4,
        "start_time": "2022-09-03T19:17:59.870Z"
      },
      {
        "duration": 23,
        "start_time": "2022-09-03T19:17:59.875Z"
      },
      {
        "duration": 6,
        "start_time": "2022-09-03T19:17:59.899Z"
      },
      {
        "duration": 6,
        "start_time": "2022-09-03T19:17:59.907Z"
      },
      {
        "duration": 8,
        "start_time": "2022-09-03T19:17:59.914Z"
      },
      {
        "duration": 14,
        "start_time": "2022-09-03T19:17:59.923Z"
      },
      {
        "duration": 10,
        "start_time": "2022-09-03T19:17:59.938Z"
      },
      {
        "duration": 9,
        "start_time": "2022-09-03T19:17:59.949Z"
      },
      {
        "duration": 9,
        "start_time": "2022-09-03T19:17:59.959Z"
      },
      {
        "duration": 30,
        "start_time": "2022-09-03T19:17:59.969Z"
      },
      {
        "duration": 7,
        "start_time": "2022-09-03T19:18:00.004Z"
      },
      {
        "duration": 18,
        "start_time": "2022-09-03T19:18:00.012Z"
      },
      {
        "duration": 3,
        "start_time": "2022-09-03T19:18:00.032Z"
      },
      {
        "duration": 21,
        "start_time": "2022-09-03T19:18:00.037Z"
      },
      {
        "duration": 221,
        "start_time": "2022-09-03T19:18:00.060Z"
      },
      {
        "duration": 16,
        "start_time": "2022-09-03T19:18:00.282Z"
      },
      {
        "duration": 16,
        "start_time": "2022-09-03T19:18:00.299Z"
      },
      {
        "duration": 18,
        "start_time": "2022-09-03T19:18:00.317Z"
      },
      {
        "duration": 16,
        "start_time": "2022-09-03T19:18:00.337Z"
      },
      {
        "duration": 9,
        "start_time": "2022-09-03T19:18:00.354Z"
      },
      {
        "duration": 22,
        "start_time": "2022-09-03T19:18:00.364Z"
      },
      {
        "duration": 20,
        "start_time": "2022-09-03T19:18:00.387Z"
      },
      {
        "duration": 22,
        "start_time": "2022-09-03T19:18:00.408Z"
      },
      {
        "duration": 13,
        "start_time": "2022-09-03T19:18:00.431Z"
      },
      {
        "duration": 345,
        "start_time": "2022-09-03T19:18:00.445Z"
      },
      {
        "duration": 15,
        "start_time": "2022-09-03T19:18:00.791Z"
      },
      {
        "duration": 308,
        "start_time": "2022-09-03T19:18:00.807Z"
      },
      {
        "duration": 3,
        "start_time": "2022-09-03T19:18:01.117Z"
      },
      {
        "duration": 168,
        "start_time": "2022-09-03T19:18:01.122Z"
      },
      {
        "duration": 185,
        "start_time": "2022-09-03T19:18:01.291Z"
      },
      {
        "duration": 171,
        "start_time": "2022-09-03T19:18:01.478Z"
      },
      {
        "duration": 160,
        "start_time": "2022-09-03T19:18:01.651Z"
      },
      {
        "duration": 240,
        "start_time": "2022-09-03T19:18:01.812Z"
      },
      {
        "duration": 831,
        "start_time": "2022-09-03T19:18:02.054Z"
      },
      {
        "duration": 5,
        "start_time": "2022-09-03T19:18:02.886Z"
      },
      {
        "duration": 11,
        "start_time": "2022-09-03T19:18:02.898Z"
      },
      {
        "duration": 27,
        "start_time": "2022-09-03T19:18:02.910Z"
      },
      {
        "duration": 222,
        "start_time": "2022-09-03T19:18:02.938Z"
      },
      {
        "duration": 240,
        "start_time": "2022-09-03T19:18:03.161Z"
      },
      {
        "duration": 3,
        "start_time": "2022-09-03T19:18:03.403Z"
      },
      {
        "duration": 1049,
        "start_time": "2022-09-03T19:18:03.409Z"
      },
      {
        "duration": 373,
        "start_time": "2022-09-03T19:18:04.460Z"
      },
      {
        "duration": 15,
        "start_time": "2022-09-03T19:18:04.834Z"
      },
      {
        "duration": 23,
        "start_time": "2022-09-03T19:18:04.850Z"
      },
      {
        "duration": 224,
        "start_time": "2022-09-03T19:18:04.874Z"
      },
      {
        "duration": 13,
        "start_time": "2022-09-03T19:18:05.100Z"
      },
      {
        "duration": 242,
        "start_time": "2022-09-03T19:18:05.114Z"
      },
      {
        "duration": 136,
        "start_time": "2022-09-03T19:18:05.358Z"
      },
      {
        "duration": 16,
        "start_time": "2022-09-03T19:18:05.497Z"
      },
      {
        "duration": 25,
        "start_time": "2022-09-03T19:18:05.515Z"
      },
      {
        "duration": 15,
        "start_time": "2022-09-03T19:18:05.541Z"
      },
      {
        "duration": 318,
        "start_time": "2022-09-03T19:18:05.558Z"
      },
      {
        "duration": 24,
        "start_time": "2022-09-03T19:18:05.877Z"
      },
      {
        "duration": 183,
        "start_time": "2022-09-03T19:18:05.902Z"
      },
      {
        "duration": 191,
        "start_time": "2022-09-03T19:18:06.087Z"
      },
      {
        "duration": 5,
        "start_time": "2022-09-03T19:18:06.280Z"
      },
      {
        "duration": 568,
        "start_time": "2022-09-03T19:18:06.297Z"
      },
      {
        "duration": 16,
        "start_time": "2022-09-03T19:18:06.867Z"
      },
      {
        "duration": 594,
        "start_time": "2022-09-03T19:18:06.885Z"
      },
      {
        "duration": 23,
        "start_time": "2022-09-03T19:18:07.480Z"
      },
      {
        "duration": 548,
        "start_time": "2022-09-03T19:18:07.504Z"
      },
      {
        "duration": 15,
        "start_time": "2022-09-03T19:18:08.054Z"
      },
      {
        "duration": 13,
        "start_time": "2022-09-03T19:18:08.071Z"
      },
      {
        "duration": 22,
        "start_time": "2022-09-03T19:18:08.085Z"
      },
      {
        "duration": 6,
        "start_time": "2022-09-03T19:18:08.108Z"
      },
      {
        "duration": 6,
        "start_time": "2022-09-03T19:18:08.115Z"
      },
      {
        "duration": 6,
        "start_time": "2022-09-03T19:18:08.122Z"
      },
      {
        "duration": 12,
        "start_time": "2022-09-03T19:18:08.130Z"
      },
      {
        "duration": 10,
        "start_time": "2022-09-03T19:18:08.143Z"
      },
      {
        "duration": 6,
        "start_time": "2022-09-03T19:18:08.154Z"
      },
      {
        "duration": 10,
        "start_time": "2022-09-03T19:18:08.161Z"
      },
      {
        "duration": 29,
        "start_time": "2022-09-03T19:18:08.172Z"
      },
      {
        "duration": 17,
        "start_time": "2022-09-03T19:18:08.203Z"
      },
      {
        "duration": 5,
        "start_time": "2022-09-03T19:18:08.221Z"
      },
      {
        "duration": 5,
        "start_time": "2022-09-03T19:18:08.227Z"
      },
      {
        "duration": 6,
        "start_time": "2022-09-03T19:18:08.234Z"
      },
      {
        "duration": 15,
        "start_time": "2022-09-03T19:18:08.241Z"
      },
      {
        "duration": 9,
        "start_time": "2022-09-03T19:18:08.258Z"
      },
      {
        "duration": 4,
        "start_time": "2022-09-03T19:18:08.268Z"
      },
      {
        "duration": 7,
        "start_time": "2022-09-03T19:18:08.273Z"
      },
      {
        "duration": 6,
        "start_time": "2022-09-03T19:26:43.805Z"
      },
      {
        "duration": 5,
        "start_time": "2022-09-03T19:27:26.162Z"
      },
      {
        "duration": 6,
        "start_time": "2022-09-03T19:27:32.542Z"
      },
      {
        "duration": 5,
        "start_time": "2022-09-03T19:27:54.407Z"
      },
      {
        "duration": 7,
        "start_time": "2022-09-03T19:27:55.313Z"
      },
      {
        "duration": 1062,
        "start_time": "2022-09-03T19:28:02.707Z"
      },
      {
        "duration": 50,
        "start_time": "2022-09-03T19:28:03.771Z"
      },
      {
        "duration": 5,
        "start_time": "2022-09-03T19:28:03.822Z"
      },
      {
        "duration": 16,
        "start_time": "2022-09-03T19:28:03.828Z"
      },
      {
        "duration": 12,
        "start_time": "2022-09-03T19:28:03.846Z"
      },
      {
        "duration": 13,
        "start_time": "2022-09-03T19:28:03.860Z"
      },
      {
        "duration": 31,
        "start_time": "2022-09-03T19:28:03.874Z"
      },
      {
        "duration": 26,
        "start_time": "2022-09-03T19:28:03.906Z"
      },
      {
        "duration": 8,
        "start_time": "2022-09-03T19:28:03.935Z"
      },
      {
        "duration": 23,
        "start_time": "2022-09-03T19:28:03.946Z"
      },
      {
        "duration": 52,
        "start_time": "2022-09-03T19:28:03.971Z"
      },
      {
        "duration": 34,
        "start_time": "2022-09-03T19:28:04.025Z"
      },
      {
        "duration": 49,
        "start_time": "2022-09-03T19:28:04.061Z"
      },
      {
        "duration": 27,
        "start_time": "2022-09-03T19:28:04.112Z"
      },
      {
        "duration": 27,
        "start_time": "2022-09-03T19:28:04.141Z"
      },
      {
        "duration": 30,
        "start_time": "2022-09-03T19:28:04.169Z"
      },
      {
        "duration": 5,
        "start_time": "2022-09-03T19:28:04.200Z"
      },
      {
        "duration": 12,
        "start_time": "2022-09-03T19:28:04.206Z"
      },
      {
        "duration": 19,
        "start_time": "2022-09-03T19:28:04.219Z"
      },
      {
        "duration": 15,
        "start_time": "2022-09-03T19:28:04.239Z"
      },
      {
        "duration": 17,
        "start_time": "2022-09-03T19:28:04.256Z"
      },
      {
        "duration": 25,
        "start_time": "2022-09-03T19:28:04.274Z"
      },
      {
        "duration": 16,
        "start_time": "2022-09-03T19:28:04.301Z"
      },
      {
        "duration": 6,
        "start_time": "2022-09-03T19:28:04.319Z"
      },
      {
        "duration": 10,
        "start_time": "2022-09-03T19:28:04.326Z"
      },
      {
        "duration": 20,
        "start_time": "2022-09-03T19:28:04.337Z"
      },
      {
        "duration": 3,
        "start_time": "2022-09-03T19:28:04.358Z"
      },
      {
        "duration": 5,
        "start_time": "2022-09-03T19:28:04.365Z"
      },
      {
        "duration": 225,
        "start_time": "2022-09-03T19:28:04.371Z"
      },
      {
        "duration": 13,
        "start_time": "2022-09-03T19:28:04.598Z"
      },
      {
        "duration": 7,
        "start_time": "2022-09-03T19:28:04.613Z"
      },
      {
        "duration": 28,
        "start_time": "2022-09-03T19:28:04.622Z"
      },
      {
        "duration": 10,
        "start_time": "2022-09-03T19:28:04.652Z"
      },
      {
        "duration": 18,
        "start_time": "2022-09-03T19:28:04.664Z"
      },
      {
        "duration": 15,
        "start_time": "2022-09-03T19:28:04.684Z"
      },
      {
        "duration": 20,
        "start_time": "2022-09-03T19:28:04.701Z"
      },
      {
        "duration": 5,
        "start_time": "2022-09-03T19:28:04.722Z"
      },
      {
        "duration": 9,
        "start_time": "2022-09-03T19:28:04.728Z"
      },
      {
        "duration": 17,
        "start_time": "2022-09-03T19:28:04.738Z"
      },
      {
        "duration": 11,
        "start_time": "2022-09-03T19:28:04.756Z"
      },
      {
        "duration": 4,
        "start_time": "2022-09-03T19:28:04.768Z"
      },
      {
        "duration": 8,
        "start_time": "2022-09-03T19:28:04.773Z"
      },
      {
        "duration": 21,
        "start_time": "2022-09-03T19:28:04.782Z"
      },
      {
        "duration": 20,
        "start_time": "2022-09-03T19:28:04.804Z"
      },
      {
        "duration": 4,
        "start_time": "2022-09-03T19:28:04.825Z"
      },
      {
        "duration": 15,
        "start_time": "2022-09-03T19:28:04.830Z"
      },
      {
        "duration": 12,
        "start_time": "2022-09-03T19:28:04.846Z"
      },
      {
        "duration": 41,
        "start_time": "2022-09-03T19:28:04.859Z"
      },
      {
        "duration": 14,
        "start_time": "2022-09-03T19:28:04.902Z"
      },
      {
        "duration": 347,
        "start_time": "2022-09-03T19:28:04.918Z"
      },
      {
        "duration": 15,
        "start_time": "2022-09-03T19:28:05.267Z"
      },
      {
        "duration": 304,
        "start_time": "2022-09-03T19:28:05.283Z"
      },
      {
        "duration": 10,
        "start_time": "2022-09-03T19:28:05.589Z"
      },
      {
        "duration": 198,
        "start_time": "2022-09-03T19:28:05.600Z"
      },
      {
        "duration": 186,
        "start_time": "2022-09-03T19:28:05.799Z"
      },
      {
        "duration": 202,
        "start_time": "2022-09-03T19:28:05.987Z"
      },
      {
        "duration": 160,
        "start_time": "2022-09-03T19:28:06.191Z"
      },
      {
        "duration": 237,
        "start_time": "2022-09-03T19:28:06.353Z"
      },
      {
        "duration": 760,
        "start_time": "2022-09-03T19:28:06.592Z"
      },
      {
        "duration": 6,
        "start_time": "2022-09-03T19:28:07.353Z"
      },
      {
        "duration": 14,
        "start_time": "2022-09-03T19:28:07.360Z"
      },
      {
        "duration": 41,
        "start_time": "2022-09-03T19:28:07.376Z"
      },
      {
        "duration": 209,
        "start_time": "2022-09-03T19:28:07.418Z"
      },
      {
        "duration": 206,
        "start_time": "2022-09-03T19:28:07.628Z"
      },
      {
        "duration": 5,
        "start_time": "2022-09-03T19:28:07.836Z"
      },
      {
        "duration": 782,
        "start_time": "2022-09-03T19:28:07.842Z"
      },
      {
        "duration": 347,
        "start_time": "2022-09-03T19:28:08.626Z"
      },
      {
        "duration": 24,
        "start_time": "2022-09-03T19:28:08.975Z"
      },
      {
        "duration": 23,
        "start_time": "2022-09-03T19:28:09.001Z"
      },
      {
        "duration": 203,
        "start_time": "2022-09-03T19:28:09.026Z"
      },
      {
        "duration": 12,
        "start_time": "2022-09-03T19:28:09.231Z"
      },
      {
        "duration": 215,
        "start_time": "2022-09-03T19:28:09.244Z"
      },
      {
        "duration": 143,
        "start_time": "2022-09-03T19:28:09.460Z"
      },
      {
        "duration": 14,
        "start_time": "2022-09-03T19:28:09.604Z"
      },
      {
        "duration": 23,
        "start_time": "2022-09-03T19:28:09.619Z"
      },
      {
        "duration": 16,
        "start_time": "2022-09-03T19:28:09.643Z"
      },
      {
        "duration": 324,
        "start_time": "2022-09-03T19:28:09.660Z"
      },
      {
        "duration": 29,
        "start_time": "2022-09-03T19:28:09.985Z"
      },
      {
        "duration": 206,
        "start_time": "2022-09-03T19:28:10.016Z"
      },
      {
        "duration": 222,
        "start_time": "2022-09-03T19:28:10.224Z"
      },
      {
        "duration": 6,
        "start_time": "2022-09-03T19:28:10.448Z"
      },
      {
        "duration": 542,
        "start_time": "2022-09-03T19:28:10.459Z"
      },
      {
        "duration": 18,
        "start_time": "2022-09-03T19:28:11.002Z"
      },
      {
        "duration": 632,
        "start_time": "2022-09-03T19:28:11.022Z"
      },
      {
        "duration": 16,
        "start_time": "2022-09-03T19:28:11.656Z"
      },
      {
        "duration": 561,
        "start_time": "2022-09-03T19:28:11.673Z"
      },
      {
        "duration": 15,
        "start_time": "2022-09-03T19:28:12.236Z"
      },
      {
        "duration": 13,
        "start_time": "2022-09-03T19:28:12.253Z"
      },
      {
        "duration": 30,
        "start_time": "2022-09-03T19:28:12.268Z"
      },
      {
        "duration": 9,
        "start_time": "2022-09-03T19:28:12.299Z"
      },
      {
        "duration": 29,
        "start_time": "2022-09-03T19:28:12.309Z"
      },
      {
        "duration": 18,
        "start_time": "2022-09-03T19:28:12.340Z"
      },
      {
        "duration": 11,
        "start_time": "2022-09-03T19:28:12.360Z"
      },
      {
        "duration": 19,
        "start_time": "2022-09-03T19:28:12.373Z"
      },
      {
        "duration": 11,
        "start_time": "2022-09-03T19:28:12.393Z"
      },
      {
        "duration": 23,
        "start_time": "2022-09-03T19:28:12.406Z"
      },
      {
        "duration": 29,
        "start_time": "2022-09-03T19:28:12.430Z"
      },
      {
        "duration": 14,
        "start_time": "2022-09-03T19:28:12.460Z"
      },
      {
        "duration": 20,
        "start_time": "2022-09-03T19:28:12.475Z"
      },
      {
        "duration": 6,
        "start_time": "2022-09-03T19:28:12.496Z"
      },
      {
        "duration": 17,
        "start_time": "2022-09-03T19:28:12.503Z"
      },
      {
        "duration": 22,
        "start_time": "2022-09-03T19:28:12.522Z"
      },
      {
        "duration": 19,
        "start_time": "2022-09-03T19:28:12.545Z"
      },
      {
        "duration": 22,
        "start_time": "2022-09-03T19:28:12.565Z"
      },
      {
        "duration": 28,
        "start_time": "2022-09-03T19:28:12.588Z"
      },
      {
        "duration": 105,
        "start_time": "2022-09-03T19:30:16.451Z"
      },
      {
        "duration": 12,
        "start_time": "2022-09-03T19:30:20.259Z"
      },
      {
        "duration": 13,
        "start_time": "2022-09-03T19:30:29.436Z"
      },
      {
        "duration": 1139,
        "start_time": "2022-09-03T20:05:03.433Z"
      },
      {
        "duration": 68,
        "start_time": "2022-09-03T20:05:04.574Z"
      },
      {
        "duration": 6,
        "start_time": "2022-09-03T20:05:04.643Z"
      },
      {
        "duration": 24,
        "start_time": "2022-09-03T20:05:04.651Z"
      },
      {
        "duration": 20,
        "start_time": "2022-09-03T20:05:04.677Z"
      },
      {
        "duration": 16,
        "start_time": "2022-09-03T20:05:04.699Z"
      },
      {
        "duration": 17,
        "start_time": "2022-09-03T20:05:04.717Z"
      },
      {
        "duration": 34,
        "start_time": "2022-09-03T20:05:04.735Z"
      },
      {
        "duration": 8,
        "start_time": "2022-09-03T20:05:04.770Z"
      },
      {
        "duration": 10,
        "start_time": "2022-09-03T20:05:06.835Z"
      },
      {
        "duration": 32,
        "start_time": "2022-09-03T20:05:06.847Z"
      },
      {
        "duration": 39,
        "start_time": "2022-09-03T20:05:06.880Z"
      },
      {
        "duration": 29,
        "start_time": "2022-09-03T20:05:07.503Z"
      },
      {
        "duration": 30,
        "start_time": "2022-09-03T20:05:07.534Z"
      },
      {
        "duration": 50,
        "start_time": "2022-09-03T20:05:07.566Z"
      },
      {
        "duration": 4,
        "start_time": "2022-09-03T20:05:07.617Z"
      },
      {
        "duration": 9,
        "start_time": "2022-09-03T20:05:07.624Z"
      },
      {
        "duration": 13,
        "start_time": "2022-09-03T20:05:07.635Z"
      },
      {
        "duration": 22,
        "start_time": "2022-09-03T20:05:07.650Z"
      },
      {
        "duration": 30,
        "start_time": "2022-09-03T20:05:07.673Z"
      },
      {
        "duration": 19,
        "start_time": "2022-09-03T20:05:07.705Z"
      },
      {
        "duration": 15,
        "start_time": "2022-09-03T20:05:07.940Z"
      },
      {
        "duration": 11,
        "start_time": "2022-09-03T20:05:07.958Z"
      },
      {
        "duration": 6,
        "start_time": "2022-09-03T20:05:07.971Z"
      },
      {
        "duration": 20,
        "start_time": "2022-09-03T20:05:07.979Z"
      },
      {
        "duration": 32,
        "start_time": "2022-09-03T20:05:08.023Z"
      },
      {
        "duration": 3,
        "start_time": "2022-09-03T20:05:08.057Z"
      },
      {
        "duration": 9,
        "start_time": "2022-09-03T20:05:08.062Z"
      },
      {
        "duration": 169,
        "start_time": "2022-09-03T20:05:08.073Z"
      },
      {
        "duration": 12,
        "start_time": "2022-09-03T20:05:08.244Z"
      },
      {
        "duration": 17,
        "start_time": "2022-09-03T20:05:08.257Z"
      },
      {
        "duration": 25,
        "start_time": "2022-09-03T20:05:08.276Z"
      },
      {
        "duration": 11,
        "start_time": "2022-09-03T20:05:08.302Z"
      },
      {
        "duration": 12,
        "start_time": "2022-09-03T20:05:08.314Z"
      },
      {
        "duration": 15,
        "start_time": "2022-09-03T20:05:08.327Z"
      },
      {
        "duration": 14,
        "start_time": "2022-09-03T20:05:08.344Z"
      },
      {
        "duration": 7,
        "start_time": "2022-09-03T20:05:08.359Z"
      },
      {
        "duration": 13,
        "start_time": "2022-09-03T20:05:08.367Z"
      },
      {
        "duration": 20,
        "start_time": "2022-09-03T20:05:08.382Z"
      },
      {
        "duration": 30,
        "start_time": "2022-09-03T20:05:08.404Z"
      },
      {
        "duration": 9,
        "start_time": "2022-09-03T20:05:08.435Z"
      },
      {
        "duration": 12,
        "start_time": "2022-09-03T20:05:08.445Z"
      },
      {
        "duration": 17,
        "start_time": "2022-09-03T20:05:08.459Z"
      },
      {
        "duration": 14,
        "start_time": "2022-09-03T20:05:08.477Z"
      },
      {
        "duration": 31,
        "start_time": "2022-09-03T20:05:08.493Z"
      },
      {
        "duration": 5,
        "start_time": "2022-09-03T20:05:08.525Z"
      },
      {
        "duration": 19,
        "start_time": "2022-09-03T20:05:08.531Z"
      },
      {
        "duration": 23,
        "start_time": "2022-09-03T20:05:08.551Z"
      },
      {
        "duration": 25,
        "start_time": "2022-09-03T20:05:08.576Z"
      },
      {
        "duration": 13,
        "start_time": "2022-09-03T20:05:08.602Z"
      },
      {
        "duration": 353,
        "start_time": "2022-09-03T20:05:08.616Z"
      },
      {
        "duration": 16,
        "start_time": "2022-09-03T20:05:08.971Z"
      },
      {
        "duration": 322,
        "start_time": "2022-09-03T20:05:08.988Z"
      },
      {
        "duration": 4,
        "start_time": "2022-09-03T20:05:09.312Z"
      },
      {
        "duration": 180,
        "start_time": "2022-09-03T20:05:09.320Z"
      },
      {
        "duration": 235,
        "start_time": "2022-09-03T20:05:09.502Z"
      },
      {
        "duration": 188,
        "start_time": "2022-09-03T20:05:09.739Z"
      },
      {
        "duration": 181,
        "start_time": "2022-09-03T20:05:09.928Z"
      },
      {
        "duration": 264,
        "start_time": "2022-09-03T20:05:10.110Z"
      },
      {
        "duration": 822,
        "start_time": "2022-09-03T20:05:10.376Z"
      },
      {
        "duration": 7,
        "start_time": "2022-09-03T20:05:11.200Z"
      },
      {
        "duration": 24,
        "start_time": "2022-09-03T20:05:11.208Z"
      },
      {
        "duration": 28,
        "start_time": "2022-09-03T20:05:11.234Z"
      },
      {
        "duration": 256,
        "start_time": "2022-09-03T20:05:11.263Z"
      },
      {
        "duration": 228,
        "start_time": "2022-09-03T20:05:11.520Z"
      },
      {
        "duration": 4,
        "start_time": "2022-09-03T20:05:11.750Z"
      },
      {
        "duration": 819,
        "start_time": "2022-09-03T20:05:11.755Z"
      },
      {
        "duration": 352,
        "start_time": "2022-09-03T20:05:12.575Z"
      },
      {
        "duration": 15,
        "start_time": "2022-09-03T20:05:12.929Z"
      },
      {
        "duration": 21,
        "start_time": "2022-09-03T20:05:12.946Z"
      },
      {
        "duration": 214,
        "start_time": "2022-09-03T20:05:12.969Z"
      },
      {
        "duration": 19,
        "start_time": "2022-09-03T20:05:13.185Z"
      },
      {
        "duration": 219,
        "start_time": "2022-09-03T20:05:13.205Z"
      },
      {
        "duration": 163,
        "start_time": "2022-09-03T20:05:13.426Z"
      },
      {
        "duration": 22,
        "start_time": "2022-09-03T20:05:13.590Z"
      },
      {
        "duration": 41,
        "start_time": "2022-09-03T20:05:13.614Z"
      },
      {
        "duration": 20,
        "start_time": "2022-09-03T20:05:13.657Z"
      },
      {
        "duration": 312,
        "start_time": "2022-09-03T20:05:13.698Z"
      },
      {
        "duration": 20,
        "start_time": "2022-09-03T20:05:14.012Z"
      },
      {
        "duration": 198,
        "start_time": "2022-09-03T20:05:14.034Z"
      },
      {
        "duration": 226,
        "start_time": "2022-09-03T20:05:14.233Z"
      },
      {
        "duration": 7,
        "start_time": "2022-09-03T20:05:14.461Z"
      },
      {
        "duration": 597,
        "start_time": "2022-09-03T20:05:14.470Z"
      },
      {
        "duration": 17,
        "start_time": "2022-09-03T20:05:15.068Z"
      },
      {
        "duration": 636,
        "start_time": "2022-09-03T20:05:15.086Z"
      },
      {
        "duration": 18,
        "start_time": "2022-09-03T20:05:15.723Z"
      },
      {
        "duration": 572,
        "start_time": "2022-09-03T20:05:15.742Z"
      },
      {
        "duration": 16,
        "start_time": "2022-09-03T20:05:16.316Z"
      },
      {
        "duration": 19,
        "start_time": "2022-09-03T20:05:16.333Z"
      },
      {
        "duration": 15,
        "start_time": "2022-09-03T20:05:16.354Z"
      },
      {
        "duration": 5,
        "start_time": "2022-09-03T20:05:16.370Z"
      },
      {
        "duration": 23,
        "start_time": "2022-09-03T20:05:16.377Z"
      },
      {
        "duration": 8,
        "start_time": "2022-09-03T20:05:16.402Z"
      },
      {
        "duration": 9,
        "start_time": "2022-09-03T20:05:16.411Z"
      },
      {
        "duration": 7,
        "start_time": "2022-09-03T20:05:16.421Z"
      },
      {
        "duration": 6,
        "start_time": "2022-09-03T20:05:16.430Z"
      },
      {
        "duration": 7,
        "start_time": "2022-09-03T20:05:16.438Z"
      },
      {
        "duration": 16,
        "start_time": "2022-09-03T20:05:16.446Z"
      },
      {
        "duration": 43,
        "start_time": "2022-09-03T20:05:16.463Z"
      },
      {
        "duration": 5,
        "start_time": "2022-09-03T20:05:16.508Z"
      },
      {
        "duration": 12,
        "start_time": "2022-09-03T20:05:16.515Z"
      },
      {
        "duration": 7,
        "start_time": "2022-09-03T20:05:16.528Z"
      },
      {
        "duration": 8,
        "start_time": "2022-09-03T20:05:16.536Z"
      },
      {
        "duration": 9,
        "start_time": "2022-09-03T20:05:16.545Z"
      },
      {
        "duration": 6,
        "start_time": "2022-09-03T20:05:16.555Z"
      },
      {
        "duration": 7,
        "start_time": "2022-09-03T20:05:16.562Z"
      },
      {
        "duration": 1189,
        "start_time": "2022-09-03T20:46:49.473Z"
      },
      {
        "duration": 52,
        "start_time": "2022-09-03T20:46:50.664Z"
      },
      {
        "duration": 5,
        "start_time": "2022-09-03T20:46:50.718Z"
      },
      {
        "duration": 25,
        "start_time": "2022-09-03T20:46:50.724Z"
      },
      {
        "duration": 19,
        "start_time": "2022-09-03T20:46:50.751Z"
      },
      {
        "duration": 1328,
        "start_time": "2022-09-03T21:05:31.982Z"
      },
      {
        "duration": 178,
        "start_time": "2022-09-03T21:05:33.313Z"
      },
      {
        "duration": 6,
        "start_time": "2022-09-03T21:05:33.493Z"
      },
      {
        "duration": 25,
        "start_time": "2022-09-03T21:05:33.501Z"
      },
      {
        "duration": 13,
        "start_time": "2022-09-03T21:05:33.528Z"
      },
      {
        "duration": 15,
        "start_time": "2022-09-03T21:05:33.543Z"
      },
      {
        "duration": 15,
        "start_time": "2022-09-03T21:05:33.560Z"
      },
      {
        "duration": 27,
        "start_time": "2022-09-03T21:05:33.577Z"
      },
      {
        "duration": 8,
        "start_time": "2022-09-03T21:05:33.606Z"
      },
      {
        "duration": 10,
        "start_time": "2022-09-03T21:05:33.616Z"
      },
      {
        "duration": 58,
        "start_time": "2022-09-03T21:05:33.628Z"
      },
      {
        "duration": 38,
        "start_time": "2022-09-03T21:05:33.688Z"
      },
      {
        "duration": 52,
        "start_time": "2022-09-03T21:05:33.727Z"
      },
      {
        "duration": 28,
        "start_time": "2022-09-03T21:05:33.782Z"
      },
      {
        "duration": 51,
        "start_time": "2022-09-03T21:05:33.811Z"
      },
      {
        "duration": 3,
        "start_time": "2022-09-03T21:05:33.864Z"
      },
      {
        "duration": 4,
        "start_time": "2022-09-03T21:05:33.869Z"
      },
      {
        "duration": 6,
        "start_time": "2022-09-03T21:05:33.874Z"
      },
      {
        "duration": 17,
        "start_time": "2022-09-03T21:05:33.881Z"
      },
      {
        "duration": 18,
        "start_time": "2022-09-03T21:05:33.899Z"
      },
      {
        "duration": 43,
        "start_time": "2022-09-03T21:05:33.918Z"
      },
      {
        "duration": 13,
        "start_time": "2022-09-03T21:05:33.963Z"
      },
      {
        "duration": 7,
        "start_time": "2022-09-03T21:05:33.978Z"
      },
      {
        "duration": 8,
        "start_time": "2022-09-03T21:05:33.987Z"
      },
      {
        "duration": 8,
        "start_time": "2022-09-03T21:05:33.996Z"
      },
      {
        "duration": 23,
        "start_time": "2022-09-03T21:05:34.005Z"
      },
      {
        "duration": 3,
        "start_time": "2022-09-03T21:05:34.054Z"
      },
      {
        "duration": 7,
        "start_time": "2022-09-03T21:05:34.059Z"
      },
      {
        "duration": 148,
        "start_time": "2022-09-03T21:05:34.068Z"
      },
      {
        "duration": 10,
        "start_time": "2022-09-03T21:05:34.217Z"
      },
      {
        "duration": 7,
        "start_time": "2022-09-03T21:05:34.229Z"
      },
      {
        "duration": 25,
        "start_time": "2022-09-03T21:05:34.237Z"
      },
      {
        "duration": 7,
        "start_time": "2022-09-03T21:05:34.263Z"
      },
      {
        "duration": 8,
        "start_time": "2022-09-03T21:05:34.271Z"
      },
      {
        "duration": 7,
        "start_time": "2022-09-03T21:05:34.280Z"
      },
      {
        "duration": 11,
        "start_time": "2022-09-03T21:05:34.288Z"
      },
      {
        "duration": 7,
        "start_time": "2022-09-03T21:05:34.300Z"
      },
      {
        "duration": 7,
        "start_time": "2022-09-03T21:05:34.308Z"
      },
      {
        "duration": 9,
        "start_time": "2022-09-03T21:05:34.317Z"
      },
      {
        "duration": 8,
        "start_time": "2022-09-03T21:05:34.355Z"
      },
      {
        "duration": 4,
        "start_time": "2022-09-03T21:05:34.368Z"
      },
      {
        "duration": 12,
        "start_time": "2022-09-03T21:05:34.374Z"
      },
      {
        "duration": 12,
        "start_time": "2022-09-03T21:05:34.388Z"
      },
      {
        "duration": 11,
        "start_time": "2022-09-03T21:05:34.402Z"
      },
      {
        "duration": 41,
        "start_time": "2022-09-03T21:05:34.415Z"
      },
      {
        "duration": 5,
        "start_time": "2022-09-03T21:05:34.457Z"
      },
      {
        "duration": 19,
        "start_time": "2022-09-03T21:05:34.464Z"
      },
      {
        "duration": 14,
        "start_time": "2022-09-03T21:05:34.485Z"
      },
      {
        "duration": 13,
        "start_time": "2022-09-03T21:05:34.501Z"
      },
      {
        "duration": 13,
        "start_time": "2022-09-03T21:05:34.516Z"
      },
      {
        "duration": 357,
        "start_time": "2022-09-03T21:05:34.531Z"
      },
      {
        "duration": 15,
        "start_time": "2022-09-03T21:05:34.890Z"
      },
      {
        "duration": 305,
        "start_time": "2022-09-03T21:05:34.907Z"
      },
      {
        "duration": 4,
        "start_time": "2022-09-03T21:05:35.214Z"
      },
      {
        "duration": 171,
        "start_time": "2022-09-03T21:05:35.220Z"
      },
      {
        "duration": 186,
        "start_time": "2022-09-03T21:05:35.392Z"
      },
      {
        "duration": 180,
        "start_time": "2022-09-03T21:05:35.579Z"
      },
      {
        "duration": 157,
        "start_time": "2022-09-03T21:05:35.761Z"
      },
      {
        "duration": 248,
        "start_time": "2022-09-03T21:05:35.919Z"
      },
      {
        "duration": 867,
        "start_time": "2022-09-03T21:05:36.168Z"
      },
      {
        "duration": 6,
        "start_time": "2022-09-03T21:05:37.038Z"
      },
      {
        "duration": 26,
        "start_time": "2022-09-03T21:05:37.045Z"
      },
      {
        "duration": 32,
        "start_time": "2022-09-03T21:05:37.073Z"
      },
      {
        "duration": 239,
        "start_time": "2022-09-03T21:05:37.107Z"
      },
      {
        "duration": 263,
        "start_time": "2022-09-03T21:05:37.348Z"
      },
      {
        "duration": 4,
        "start_time": "2022-09-03T21:05:37.613Z"
      },
      {
        "duration": 787,
        "start_time": "2022-09-03T21:05:37.618Z"
      },
      {
        "duration": 360,
        "start_time": "2022-09-03T21:05:38.407Z"
      },
      {
        "duration": 14,
        "start_time": "2022-09-03T21:05:38.768Z"
      },
      {
        "duration": 29,
        "start_time": "2022-09-03T21:05:38.784Z"
      },
      {
        "duration": 210,
        "start_time": "2022-09-03T21:05:38.814Z"
      },
      {
        "duration": 12,
        "start_time": "2022-09-03T21:05:39.026Z"
      },
      {
        "duration": 237,
        "start_time": "2022-09-03T21:05:39.039Z"
      },
      {
        "duration": 153,
        "start_time": "2022-09-03T21:05:39.277Z"
      },
      {
        "duration": 26,
        "start_time": "2022-09-03T21:05:39.431Z"
      },
      {
        "duration": 33,
        "start_time": "2022-09-03T21:05:39.459Z"
      },
      {
        "duration": 15,
        "start_time": "2022-09-03T21:05:39.494Z"
      },
      {
        "duration": 307,
        "start_time": "2022-09-03T21:05:39.510Z"
      },
      {
        "duration": 19,
        "start_time": "2022-09-03T21:05:39.819Z"
      },
      {
        "duration": 199,
        "start_time": "2022-09-03T21:05:39.839Z"
      },
      {
        "duration": 202,
        "start_time": "2022-09-03T21:05:40.040Z"
      },
      {
        "duration": 12,
        "start_time": "2022-09-03T21:05:40.243Z"
      },
      {
        "duration": 585,
        "start_time": "2022-09-03T21:05:40.257Z"
      },
      {
        "duration": 21,
        "start_time": "2022-09-03T21:05:40.844Z"
      },
      {
        "duration": 656,
        "start_time": "2022-09-03T21:05:40.867Z"
      },
      {
        "duration": 17,
        "start_time": "2022-09-03T21:05:41.525Z"
      },
      {
        "duration": 578,
        "start_time": "2022-09-03T21:05:41.543Z"
      },
      {
        "duration": 32,
        "start_time": "2022-09-03T21:05:42.123Z"
      },
      {
        "duration": 17,
        "start_time": "2022-09-03T21:05:42.156Z"
      },
      {
        "duration": 13,
        "start_time": "2022-09-03T21:05:42.174Z"
      },
      {
        "duration": 4,
        "start_time": "2022-09-03T21:05:42.189Z"
      },
      {
        "duration": 11,
        "start_time": "2022-09-03T21:05:42.194Z"
      },
      {
        "duration": 7,
        "start_time": "2022-09-03T21:05:42.207Z"
      },
      {
        "duration": 8,
        "start_time": "2022-09-03T21:05:42.216Z"
      },
      {
        "duration": 11,
        "start_time": "2022-09-03T21:05:42.226Z"
      },
      {
        "duration": 20,
        "start_time": "2022-09-03T21:05:42.238Z"
      },
      {
        "duration": 7,
        "start_time": "2022-09-03T21:05:42.259Z"
      },
      {
        "duration": 19,
        "start_time": "2022-09-03T21:05:42.268Z"
      },
      {
        "duration": 17,
        "start_time": "2022-09-03T21:05:42.289Z"
      },
      {
        "duration": 10,
        "start_time": "2022-09-03T21:05:42.308Z"
      },
      {
        "duration": 8,
        "start_time": "2022-09-03T21:05:42.320Z"
      },
      {
        "duration": 4,
        "start_time": "2022-09-03T21:05:42.356Z"
      },
      {
        "duration": 9,
        "start_time": "2022-09-03T21:05:42.362Z"
      },
      {
        "duration": 24,
        "start_time": "2022-09-03T21:05:42.372Z"
      },
      {
        "duration": 12,
        "start_time": "2022-09-03T21:05:42.398Z"
      },
      {
        "duration": 10,
        "start_time": "2022-09-03T21:05:42.411Z"
      }
    ],
    "colab": {
      "provenance": [],
      "include_colab_link": true
    },
    "kernelspec": {
      "display_name": "Python 3 (ipykernel)",
      "language": "python",
      "name": "python3"
    },
    "language_info": {
      "codemirror_mode": {
        "name": "ipython",
        "version": 3
      },
      "file_extension": ".py",
      "mimetype": "text/x-python",
      "name": "python",
      "nbconvert_exporter": "python",
      "pygments_lexer": "ipython3",
      "version": "3.9.5"
    },
    "toc": {
      "base_numbering": 1,
      "nav_menu": {},
      "number_sections": true,
      "sideBar": true,
      "skip_h1_title": true,
      "title_cell": "Tabla de Contenidos",
      "title_sidebar": "Contents",
      "toc_cell": true,
      "toc_position": {
        "height": "381px",
        "left": "22px",
        "top": "210px",
        "width": "348.224px"
      },
      "toc_section_display": true,
      "toc_window_display": true
    }
  },
  "nbformat": 4,
  "nbformat_minor": 0
}